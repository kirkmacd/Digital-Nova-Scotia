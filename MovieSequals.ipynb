{
 "cells": [
  {
   "cell_type": "code",
   "execution_count": 1,
   "id": "a2903a17-8279-4d23-9d4b-03228dbdd091",
   "metadata": {
    "tags": []
   },
   "outputs": [],
   "source": [
    "# pip install pandas"
   ]
  },
  {
   "cell_type": "code",
   "execution_count": 2,
   "id": "5dcd17f8-0064-487a-b1a4-dcab74640851",
   "metadata": {
    "tags": []
   },
   "outputs": [],
   "source": [
    "# pip install plotly"
   ]
  },
  {
   "cell_type": "code",
   "execution_count": 3,
   "id": "f24a1635-0f87-4ae8-8507-6cb2cae9f199",
   "metadata": {},
   "outputs": [],
   "source": [
    "# pip install dash"
   ]
  },
  {
   "cell_type": "code",
   "execution_count": 97,
   "id": "91b7e44d-ddd2-466d-9804-bac9c340e037",
   "metadata": {
    "tags": []
   },
   "outputs": [],
   "source": [
    "import dash\n",
    "from dash import dcc, html\n",
    "from dash.dependencies import Input, Output\n",
    "import plotly.express as px\n",
    "import plotly.graph_objects as go\n",
    "from plotly.subplots import make_subplots\n",
    "import pandas as pd"
   ]
  },
  {
   "cell_type": "code",
   "execution_count": 5,
   "id": "f676fcc8-8be5-4ecd-9958-c73f2094bad1",
   "metadata": {
    "tags": []
   },
   "outputs": [],
   "source": [
    "movies = pd.read_csv('Movies.csv', index_col='index')"
   ]
  },
  {
   "cell_type": "code",
   "execution_count": 6,
   "id": "fa0cb788-683c-461c-92fa-67cd0ce217b8",
   "metadata": {
    "tags": []
   },
   "outputs": [
    {
     "data": {
      "text/html": [
       "<div>\n",
       "<style scoped>\n",
       "    .dataframe tbody tr th:only-of-type {\n",
       "        vertical-align: middle;\n",
       "    }\n",
       "\n",
       "    .dataframe tbody tr th {\n",
       "        vertical-align: top;\n",
       "    }\n",
       "\n",
       "    .dataframe thead th {\n",
       "        text-align: right;\n",
       "    }\n",
       "</style>\n",
       "<table border=\"1\" class=\"dataframe\">\n",
       "  <thead>\n",
       "    <tr style=\"text-align: right;\">\n",
       "      <th></th>\n",
       "      <th>Title</th>\n",
       "      <th>Release Date</th>\n",
       "      <th>Description</th>\n",
       "      <th>URL</th>\n",
       "      <th>Runtime (mins)</th>\n",
       "      <th>Genres</th>\n",
       "      <th>Directors</th>\n",
       "      <th>Movie Series</th>\n",
       "      <th>Order</th>\n",
       "    </tr>\n",
       "    <tr>\n",
       "      <th>index</th>\n",
       "      <th></th>\n",
       "      <th></th>\n",
       "      <th></th>\n",
       "      <th></th>\n",
       "      <th></th>\n",
       "      <th></th>\n",
       "      <th></th>\n",
       "      <th></th>\n",
       "      <th></th>\n",
       "    </tr>\n",
       "  </thead>\n",
       "  <tbody>\n",
       "    <tr>\n",
       "      <th>0</th>\n",
       "      <td>101 Dalmatians</td>\n",
       "      <td>18-11-1996</td>\n",
       "      <td>NaN</td>\n",
       "      <td>https://www.imdb.com/title/tt0115433/</td>\n",
       "      <td>103.0</td>\n",
       "      <td>Adventure, Comedy, Crime, Family</td>\n",
       "      <td>Stephen Herek</td>\n",
       "      <td>101 Dalmatians</td>\n",
       "      <td>1</td>\n",
       "    </tr>\n",
       "    <tr>\n",
       "      <th>1</th>\n",
       "      <td>102 Dalmatians</td>\n",
       "      <td>22-11-2000</td>\n",
       "      <td>NaN</td>\n",
       "      <td>https://www.imdb.com/title/tt0211181/</td>\n",
       "      <td>100.0</td>\n",
       "      <td>Adventure, Comedy, Family</td>\n",
       "      <td>Kevin Lima</td>\n",
       "      <td>101 Dalmatians</td>\n",
       "      <td>2</td>\n",
       "    </tr>\n",
       "    <tr>\n",
       "      <th>2</th>\n",
       "      <td>12 Rounds</td>\n",
       "      <td>19-03-2009</td>\n",
       "      <td>NaN</td>\n",
       "      <td>https://www.imdb.com/title/tt1160368/</td>\n",
       "      <td>108.0</td>\n",
       "      <td>Action, Crime, Thriller</td>\n",
       "      <td>Renny Harlin</td>\n",
       "      <td>12 Rounds</td>\n",
       "      <td>1</td>\n",
       "    </tr>\n",
       "    <tr>\n",
       "      <th>3</th>\n",
       "      <td>12 Rounds 2: Reloaded</td>\n",
       "      <td>04-06-2013</td>\n",
       "      <td>NaN</td>\n",
       "      <td>https://www.imdb.com/title/tt2317524/</td>\n",
       "      <td>95.0</td>\n",
       "      <td>Action, Adventure, Thriller</td>\n",
       "      <td>Roel Reiné</td>\n",
       "      <td>12 Rounds</td>\n",
       "      <td>2</td>\n",
       "    </tr>\n",
       "    <tr>\n",
       "      <th>4</th>\n",
       "      <td>21 Jump Street</td>\n",
       "      <td>12-03-2012</td>\n",
       "      <td>NaN</td>\n",
       "      <td>https://www.imdb.com/title/tt1232829/</td>\n",
       "      <td>109.0</td>\n",
       "      <td>Action, Comedy, Crime</td>\n",
       "      <td>Christopher Miller, Phil Lord</td>\n",
       "      <td>21 Jump Street</td>\n",
       "      <td>1</td>\n",
       "    </tr>\n",
       "    <tr>\n",
       "      <th>5</th>\n",
       "      <td>22 Jump Street</td>\n",
       "      <td>04-06-2014</td>\n",
       "      <td>NaN</td>\n",
       "      <td>https://www.imdb.com/title/tt2294449/</td>\n",
       "      <td>112.0</td>\n",
       "      <td>Action, Comedy, Crime</td>\n",
       "      <td>Christopher Miller, Phil Lord</td>\n",
       "      <td>21 Jump Street</td>\n",
       "      <td>2</td>\n",
       "    </tr>\n",
       "    <tr>\n",
       "      <th>6</th>\n",
       "      <td>28 Days Later...</td>\n",
       "      <td>01-11-2002</td>\n",
       "      <td>NaN</td>\n",
       "      <td>https://www.imdb.com/title/tt0289043/</td>\n",
       "      <td>113.0</td>\n",
       "      <td>Drama, Horror, Sci-Fi, Thriller</td>\n",
       "      <td>Danny Boyle</td>\n",
       "      <td>28 Days Later...</td>\n",
       "      <td>1</td>\n",
       "    </tr>\n",
       "    <tr>\n",
       "      <th>7</th>\n",
       "      <td>28 Weeks Later</td>\n",
       "      <td>26-04-2007</td>\n",
       "      <td>NaN</td>\n",
       "      <td>https://www.imdb.com/title/tt0463854/</td>\n",
       "      <td>100.0</td>\n",
       "      <td>Horror, Sci-Fi</td>\n",
       "      <td>Juan Carlos Fresnadillo</td>\n",
       "      <td>28 Days Later...</td>\n",
       "      <td>2</td>\n",
       "    </tr>\n",
       "    <tr>\n",
       "      <th>8</th>\n",
       "      <td>30 Days of Night</td>\n",
       "      <td>16-10-2007</td>\n",
       "      <td>NaN</td>\n",
       "      <td>https://www.imdb.com/title/tt0389722/</td>\n",
       "      <td>113.0</td>\n",
       "      <td>Action, Horror, Thriller</td>\n",
       "      <td>David Slade</td>\n",
       "      <td>30 Days of Night</td>\n",
       "      <td>1</td>\n",
       "    </tr>\n",
       "    <tr>\n",
       "      <th>9</th>\n",
       "      <td>48 Hrs.</td>\n",
       "      <td>08-12-1982</td>\n",
       "      <td>NaN</td>\n",
       "      <td>https://www.imdb.com/title/tt0083511/</td>\n",
       "      <td>96.0</td>\n",
       "      <td>Action, Comedy, Crime, Drama, Thriller</td>\n",
       "      <td>Walter Hill</td>\n",
       "      <td>48 Hrs.</td>\n",
       "      <td>1</td>\n",
       "    </tr>\n",
       "  </tbody>\n",
       "</table>\n",
       "</div>"
      ],
      "text/plain": [
       "                       Title Release Date  Description  \\\n",
       "index                                                    \n",
       "0             101 Dalmatians   18-11-1996          NaN   \n",
       "1             102 Dalmatians   22-11-2000          NaN   \n",
       "2                  12 Rounds   19-03-2009          NaN   \n",
       "3      12 Rounds 2: Reloaded   04-06-2013          NaN   \n",
       "4             21 Jump Street   12-03-2012          NaN   \n",
       "5             22 Jump Street   04-06-2014          NaN   \n",
       "6           28 Days Later...   01-11-2002          NaN   \n",
       "7             28 Weeks Later   26-04-2007          NaN   \n",
       "8           30 Days of Night   16-10-2007          NaN   \n",
       "9                    48 Hrs.   08-12-1982          NaN   \n",
       "\n",
       "                                         URL  Runtime (mins)  \\\n",
       "index                                                          \n",
       "0      https://www.imdb.com/title/tt0115433/           103.0   \n",
       "1      https://www.imdb.com/title/tt0211181/           100.0   \n",
       "2      https://www.imdb.com/title/tt1160368/           108.0   \n",
       "3      https://www.imdb.com/title/tt2317524/            95.0   \n",
       "4      https://www.imdb.com/title/tt1232829/           109.0   \n",
       "5      https://www.imdb.com/title/tt2294449/           112.0   \n",
       "6      https://www.imdb.com/title/tt0289043/           113.0   \n",
       "7      https://www.imdb.com/title/tt0463854/           100.0   \n",
       "8      https://www.imdb.com/title/tt0389722/           113.0   \n",
       "9      https://www.imdb.com/title/tt0083511/            96.0   \n",
       "\n",
       "                                       Genres                      Directors  \\\n",
       "index                                                                          \n",
       "0            Adventure, Comedy, Crime, Family                  Stephen Herek   \n",
       "1                   Adventure, Comedy, Family                     Kevin Lima   \n",
       "2                     Action, Crime, Thriller                   Renny Harlin   \n",
       "3                 Action, Adventure, Thriller                     Roel Reiné   \n",
       "4                       Action, Comedy, Crime  Christopher Miller, Phil Lord   \n",
       "5                       Action, Comedy, Crime  Christopher Miller, Phil Lord   \n",
       "6             Drama, Horror, Sci-Fi, Thriller                    Danny Boyle   \n",
       "7                              Horror, Sci-Fi        Juan Carlos Fresnadillo   \n",
       "8                    Action, Horror, Thriller                    David Slade   \n",
       "9      Action, Comedy, Crime, Drama, Thriller                    Walter Hill   \n",
       "\n",
       "           Movie Series  Order  \n",
       "index                           \n",
       "0        101 Dalmatians      1  \n",
       "1        101 Dalmatians      2  \n",
       "2             12 Rounds      1  \n",
       "3             12 Rounds      2  \n",
       "4        21 Jump Street      1  \n",
       "5        21 Jump Street      2  \n",
       "6      28 Days Later...      1  \n",
       "7      28 Days Later...      2  \n",
       "8      30 Days of Night      1  \n",
       "9               48 Hrs.      1  "
      ]
     },
     "execution_count": 6,
     "metadata": {},
     "output_type": "execute_result"
    }
   ],
   "source": [
    "movies.head(10)"
   ]
  },
  {
   "cell_type": "code",
   "execution_count": 7,
   "id": "b8a73344-3d94-4d84-ba26-e09fee3b641b",
   "metadata": {
    "tags": []
   },
   "outputs": [
    {
     "data": {
      "text/plain": [
       "(847, 9)"
      ]
     },
     "execution_count": 7,
     "metadata": {},
     "output_type": "execute_result"
    }
   ],
   "source": [
    "movies.shape"
   ]
  },
  {
   "cell_type": "code",
   "execution_count": 8,
   "id": "3be61da3-9cf5-4b44-9177-4bcd88316fc1",
   "metadata": {
    "tags": []
   },
   "outputs": [
    {
     "data": {
      "text/plain": [
       "Index(['Title', 'Release Date', 'Description', 'URL', 'Runtime (mins)',\n",
       "       'Genres', 'Directors', 'Movie Series', 'Order'],\n",
       "      dtype='object')"
      ]
     },
     "execution_count": 8,
     "metadata": {},
     "output_type": "execute_result"
    }
   ],
   "source": [
    "movies.columns"
   ]
  },
  {
   "cell_type": "code",
   "execution_count": 9,
   "id": "56b7c6ba-4976-4d29-9e65-6cb29bcd28e8",
   "metadata": {
    "tags": []
   },
   "outputs": [
    {
     "name": "stdout",
     "output_type": "stream",
     "text": [
      "<class 'pandas.core.frame.DataFrame'>\n",
      "Index: 847 entries, 0 to 865\n",
      "Data columns (total 9 columns):\n",
      " #   Column          Non-Null Count  Dtype  \n",
      "---  ------          --------------  -----  \n",
      " 0   Title           847 non-null    object \n",
      " 1   Release Date    847 non-null    object \n",
      " 2   Description     0 non-null      float64\n",
      " 3   URL             847 non-null    object \n",
      " 4   Runtime (mins)  843 non-null    float64\n",
      " 5   Genres          847 non-null    object \n",
      " 6   Directors       847 non-null    object \n",
      " 7   Movie Series    847 non-null    object \n",
      " 8   Order           847 non-null    int64  \n",
      "dtypes: float64(2), int64(1), object(6)\n",
      "memory usage: 66.2+ KB\n"
     ]
    }
   ],
   "source": [
    "movies.info()"
   ]
  },
  {
   "cell_type": "code",
   "execution_count": 10,
   "id": "38c255a1-fc31-4640-a33e-4a732222e267",
   "metadata": {
    "tags": []
   },
   "outputs": [],
   "source": [
    "moviesRatings = pd.read_csv('MoviesRatings.csv', index_col='index')"
   ]
  },
  {
   "cell_type": "code",
   "execution_count": 11,
   "id": "c3fd035b-e81b-41ba-baae-9782420d1b81",
   "metadata": {
    "tags": []
   },
   "outputs": [
    {
     "data": {
      "text/html": [
       "<div>\n",
       "<style scoped>\n",
       "    .dataframe tbody tr th:only-of-type {\n",
       "        vertical-align: middle;\n",
       "    }\n",
       "\n",
       "    .dataframe tbody tr th {\n",
       "        vertical-align: top;\n",
       "    }\n",
       "\n",
       "    .dataframe thead th {\n",
       "        text-align: right;\n",
       "    }\n",
       "</style>\n",
       "<table border=\"1\" class=\"dataframe\">\n",
       "  <thead>\n",
       "    <tr style=\"text-align: right;\">\n",
       "      <th></th>\n",
       "      <th>IMDb_ID</th>\n",
       "      <th>IMDb Rating</th>\n",
       "      <th>Num Votes</th>\n",
       "    </tr>\n",
       "    <tr>\n",
       "      <th>index</th>\n",
       "      <th></th>\n",
       "      <th></th>\n",
       "      <th></th>\n",
       "    </tr>\n",
       "  </thead>\n",
       "  <tbody>\n",
       "    <tr>\n",
       "      <th>1069</th>\n",
       "      <td>tt1560220</td>\n",
       "      <td>6.7</td>\n",
       "      <td>113335.0</td>\n",
       "    </tr>\n",
       "    <tr>\n",
       "      <th>1070</th>\n",
       "      <td>tt0081505</td>\n",
       "      <td>8.4</td>\n",
       "      <td>857784.0</td>\n",
       "    </tr>\n",
       "    <tr>\n",
       "      <th>1071</th>\n",
       "      <td>tt5606664</td>\n",
       "      <td>7.4</td>\n",
       "      <td>106753.0</td>\n",
       "    </tr>\n",
       "    <tr>\n",
       "      <th>1072</th>\n",
       "      <td>tt0276919</td>\n",
       "      <td>8.0</td>\n",
       "      <td>133780.0</td>\n",
       "    </tr>\n",
       "    <tr>\n",
       "      <th>1073</th>\n",
       "      <td>tt0342735</td>\n",
       "      <td>7.3</td>\n",
       "      <td>21954.0</td>\n",
       "    </tr>\n",
       "  </tbody>\n",
       "</table>\n",
       "</div>"
      ],
      "text/plain": [
       "         IMDb_ID  IMDb Rating  Num Votes\n",
       "index                                   \n",
       "1069   tt1560220          6.7   113335.0\n",
       "1070   tt0081505          8.4   857784.0\n",
       "1071   tt5606664          7.4   106753.0\n",
       "1072   tt0276919          8.0   133780.0\n",
       "1073   tt0342735          7.3    21954.0"
      ]
     },
     "execution_count": 11,
     "metadata": {},
     "output_type": "execute_result"
    }
   ],
   "source": [
    "moviesRatings.tail()"
   ]
  },
  {
   "cell_type": "code",
   "execution_count": 12,
   "id": "07aa4963-f0d9-410f-9822-1c1d8d29710a",
   "metadata": {
    "tags": []
   },
   "outputs": [
    {
     "name": "stdout",
     "output_type": "stream",
     "text": [
      "<class 'pandas.core.frame.DataFrame'>\n",
      "Index: 1074 entries, 0 to 1073\n",
      "Data columns (total 3 columns):\n",
      " #   Column       Non-Null Count  Dtype  \n",
      "---  ------       --------------  -----  \n",
      " 0   IMDb_ID      1074 non-null   object \n",
      " 1   IMDb Rating  1059 non-null   float64\n",
      " 2   Num Votes    1053 non-null   float64\n",
      "dtypes: float64(2), object(1)\n",
      "memory usage: 33.6+ KB\n"
     ]
    }
   ],
   "source": [
    "moviesRatings.info()"
   ]
  },
  {
   "cell_type": "code",
   "execution_count": 13,
   "id": "2dd3a30a-013d-4919-b6ee-ff5ecadd2652",
   "metadata": {
    "tags": []
   },
   "outputs": [],
   "source": [
    "movies['IMDb_ID'] = movies['URL'].str.extract(r'/title/(tt\\d+)/')"
   ]
  },
  {
   "cell_type": "code",
   "execution_count": 14,
   "id": "567010e4-8558-4083-bdc2-0bdb00701d11",
   "metadata": {
    "tags": []
   },
   "outputs": [],
   "source": [
    "movies['Release Date'] = pd.to_datetime(movies['Release Date'], format='%d-%m-%Y')\n",
    "movies['Year'] = movies['Release Date'].dt.year"
   ]
  },
  {
   "cell_type": "code",
   "execution_count": 15,
   "id": "a21463c9-558d-45f8-a4ab-b3738cfba885",
   "metadata": {
    "tags": []
   },
   "outputs": [
    {
     "data": {
      "text/html": [
       "<div>\n",
       "<style scoped>\n",
       "    .dataframe tbody tr th:only-of-type {\n",
       "        vertical-align: middle;\n",
       "    }\n",
       "\n",
       "    .dataframe tbody tr th {\n",
       "        vertical-align: top;\n",
       "    }\n",
       "\n",
       "    .dataframe thead th {\n",
       "        text-align: right;\n",
       "    }\n",
       "</style>\n",
       "<table border=\"1\" class=\"dataframe\">\n",
       "  <thead>\n",
       "    <tr style=\"text-align: right;\">\n",
       "      <th></th>\n",
       "      <th>Title</th>\n",
       "      <th>URL</th>\n",
       "      <th>IMDb_ID</th>\n",
       "      <th>Release Date</th>\n",
       "      <th>Year</th>\n",
       "    </tr>\n",
       "    <tr>\n",
       "      <th>index</th>\n",
       "      <th></th>\n",
       "      <th></th>\n",
       "      <th></th>\n",
       "      <th></th>\n",
       "      <th></th>\n",
       "    </tr>\n",
       "  </thead>\n",
       "  <tbody>\n",
       "    <tr>\n",
       "      <th>0</th>\n",
       "      <td>101 Dalmatians</td>\n",
       "      <td>https://www.imdb.com/title/tt0115433/</td>\n",
       "      <td>tt0115433</td>\n",
       "      <td>1996-11-18</td>\n",
       "      <td>1996</td>\n",
       "    </tr>\n",
       "    <tr>\n",
       "      <th>1</th>\n",
       "      <td>102 Dalmatians</td>\n",
       "      <td>https://www.imdb.com/title/tt0211181/</td>\n",
       "      <td>tt0211181</td>\n",
       "      <td>2000-11-22</td>\n",
       "      <td>2000</td>\n",
       "    </tr>\n",
       "    <tr>\n",
       "      <th>2</th>\n",
       "      <td>12 Rounds</td>\n",
       "      <td>https://www.imdb.com/title/tt1160368/</td>\n",
       "      <td>tt1160368</td>\n",
       "      <td>2009-03-19</td>\n",
       "      <td>2009</td>\n",
       "    </tr>\n",
       "    <tr>\n",
       "      <th>3</th>\n",
       "      <td>12 Rounds 2: Reloaded</td>\n",
       "      <td>https://www.imdb.com/title/tt2317524/</td>\n",
       "      <td>tt2317524</td>\n",
       "      <td>2013-06-04</td>\n",
       "      <td>2013</td>\n",
       "    </tr>\n",
       "    <tr>\n",
       "      <th>4</th>\n",
       "      <td>21 Jump Street</td>\n",
       "      <td>https://www.imdb.com/title/tt1232829/</td>\n",
       "      <td>tt1232829</td>\n",
       "      <td>2012-03-12</td>\n",
       "      <td>2012</td>\n",
       "    </tr>\n",
       "  </tbody>\n",
       "</table>\n",
       "</div>"
      ],
      "text/plain": [
       "                       Title                                    URL  \\\n",
       "index                                                                 \n",
       "0             101 Dalmatians  https://www.imdb.com/title/tt0115433/   \n",
       "1             102 Dalmatians  https://www.imdb.com/title/tt0211181/   \n",
       "2                  12 Rounds  https://www.imdb.com/title/tt1160368/   \n",
       "3      12 Rounds 2: Reloaded  https://www.imdb.com/title/tt2317524/   \n",
       "4             21 Jump Street  https://www.imdb.com/title/tt1232829/   \n",
       "\n",
       "         IMDb_ID Release Date  Year  \n",
       "index                                \n",
       "0      tt0115433   1996-11-18  1996  \n",
       "1      tt0211181   2000-11-22  2000  \n",
       "2      tt1160368   2009-03-19  2009  \n",
       "3      tt2317524   2013-06-04  2013  \n",
       "4      tt1232829   2012-03-12  2012  "
      ]
     },
     "execution_count": 15,
     "metadata": {},
     "output_type": "execute_result"
    }
   ],
   "source": [
    "movies[['Title','URL','IMDb_ID','Release Date','Year']].head()"
   ]
  },
  {
   "cell_type": "code",
   "execution_count": 16,
   "id": "e5e9832c-de9d-49b5-a915-18dc8b5583a7",
   "metadata": {
    "tags": []
   },
   "outputs": [
    {
     "data": {
      "text/html": [
       "<div>\n",
       "<style scoped>\n",
       "    .dataframe tbody tr th:only-of-type {\n",
       "        vertical-align: middle;\n",
       "    }\n",
       "\n",
       "    .dataframe tbody tr th {\n",
       "        vertical-align: top;\n",
       "    }\n",
       "\n",
       "    .dataframe thead th {\n",
       "        text-align: right;\n",
       "    }\n",
       "</style>\n",
       "<table border=\"1\" class=\"dataframe\">\n",
       "  <thead>\n",
       "    <tr style=\"text-align: right;\">\n",
       "      <th></th>\n",
       "      <th>IMDb_ID</th>\n",
       "      <th>Title</th>\n",
       "      <th>Movie Series</th>\n",
       "      <th>Order</th>\n",
       "      <th>Genres</th>\n",
       "      <th>Year</th>\n",
       "    </tr>\n",
       "    <tr>\n",
       "      <th>index</th>\n",
       "      <th></th>\n",
       "      <th></th>\n",
       "      <th></th>\n",
       "      <th></th>\n",
       "      <th></th>\n",
       "      <th></th>\n",
       "    </tr>\n",
       "  </thead>\n",
       "  <tbody>\n",
       "    <tr>\n",
       "      <th>0</th>\n",
       "      <td>tt0115433</td>\n",
       "      <td>101 Dalmatians</td>\n",
       "      <td>101 Dalmatians</td>\n",
       "      <td>1</td>\n",
       "      <td>Adventure, Comedy, Crime, Family</td>\n",
       "      <td>1996</td>\n",
       "    </tr>\n",
       "    <tr>\n",
       "      <th>1</th>\n",
       "      <td>tt0211181</td>\n",
       "      <td>102 Dalmatians</td>\n",
       "      <td>101 Dalmatians</td>\n",
       "      <td>2</td>\n",
       "      <td>Adventure, Comedy, Family</td>\n",
       "      <td>2000</td>\n",
       "    </tr>\n",
       "    <tr>\n",
       "      <th>2</th>\n",
       "      <td>tt1160368</td>\n",
       "      <td>12 Rounds</td>\n",
       "      <td>12 Rounds</td>\n",
       "      <td>1</td>\n",
       "      <td>Action, Crime, Thriller</td>\n",
       "      <td>2009</td>\n",
       "    </tr>\n",
       "    <tr>\n",
       "      <th>3</th>\n",
       "      <td>tt2317524</td>\n",
       "      <td>12 Rounds 2: Reloaded</td>\n",
       "      <td>12 Rounds</td>\n",
       "      <td>2</td>\n",
       "      <td>Action, Adventure, Thriller</td>\n",
       "      <td>2013</td>\n",
       "    </tr>\n",
       "    <tr>\n",
       "      <th>4</th>\n",
       "      <td>tt1232829</td>\n",
       "      <td>21 Jump Street</td>\n",
       "      <td>21 Jump Street</td>\n",
       "      <td>1</td>\n",
       "      <td>Action, Comedy, Crime</td>\n",
       "      <td>2012</td>\n",
       "    </tr>\n",
       "  </tbody>\n",
       "</table>\n",
       "</div>"
      ],
      "text/plain": [
       "         IMDb_ID                  Title    Movie Series  Order  \\\n",
       "index                                                            \n",
       "0      tt0115433         101 Dalmatians  101 Dalmatians      1   \n",
       "1      tt0211181         102 Dalmatians  101 Dalmatians      2   \n",
       "2      tt1160368              12 Rounds       12 Rounds      1   \n",
       "3      tt2317524  12 Rounds 2: Reloaded       12 Rounds      2   \n",
       "4      tt1232829         21 Jump Street  21 Jump Street      1   \n",
       "\n",
       "                                 Genres  Year  \n",
       "index                                          \n",
       "0      Adventure, Comedy, Crime, Family  1996  \n",
       "1             Adventure, Comedy, Family  2000  \n",
       "2               Action, Crime, Thriller  2009  \n",
       "3           Action, Adventure, Thriller  2013  \n",
       "4                 Action, Comedy, Crime  2012  "
      ]
     },
     "execution_count": 16,
     "metadata": {},
     "output_type": "execute_result"
    }
   ],
   "source": [
    "cols = ['IMDb_ID', 'Title', 'Movie Series', 'Order', 'Genres', 'Year']\n",
    "movies = movies[cols]\n",
    "movies.head()"
   ]
  },
  {
   "cell_type": "code",
   "execution_count": 17,
   "id": "fbfa46b6-a8ba-4d89-9d5f-914b631d82dd",
   "metadata": {
    "tags": []
   },
   "outputs": [
    {
     "name": "stdout",
     "output_type": "stream",
     "text": [
      "<class 'pandas.core.frame.DataFrame'>\n",
      "Index: 847 entries, 0 to 865\n",
      "Data columns (total 6 columns):\n",
      " #   Column        Non-Null Count  Dtype \n",
      "---  ------        --------------  ----- \n",
      " 0   IMDb_ID       847 non-null    object\n",
      " 1   Title         847 non-null    object\n",
      " 2   Movie Series  847 non-null    object\n",
      " 3   Order         847 non-null    int64 \n",
      " 4   Genres        847 non-null    object\n",
      " 5   Year          847 non-null    int32 \n",
      "dtypes: int32(1), int64(1), object(4)\n",
      "memory usage: 43.0+ KB\n"
     ]
    }
   ],
   "source": [
    "movies.info()"
   ]
  },
  {
   "cell_type": "code",
   "execution_count": 18,
   "id": "877386e4-25c4-40ab-bfaf-6f3869eef33d",
   "metadata": {
    "tags": []
   },
   "outputs": [
    {
     "name": "stdout",
     "output_type": "stream",
     "text": [
      "<class 'pandas.core.frame.DataFrame'>\n",
      "RangeIndex: 847 entries, 0 to 846\n",
      "Data columns (total 8 columns):\n",
      " #   Column        Non-Null Count  Dtype  \n",
      "---  ------        --------------  -----  \n",
      " 0   IMDb_ID       847 non-null    object \n",
      " 1   Title         847 non-null    object \n",
      " 2   Movie Series  847 non-null    object \n",
      " 3   Order         847 non-null    int64  \n",
      " 4   Genres        847 non-null    object \n",
      " 5   Year          847 non-null    int32  \n",
      " 6   IMDb Rating   847 non-null    float64\n",
      " 7   Num Votes     843 non-null    float64\n",
      "dtypes: float64(2), int32(1), int64(1), object(4)\n",
      "memory usage: 49.8+ KB\n"
     ]
    }
   ],
   "source": [
    "moviesJoined = pd.merge(movies, moviesRatings, on='IMDb_ID', how='left')\n",
    "moviesJoined.info()"
   ]
  },
  {
   "cell_type": "code",
   "execution_count": 19,
   "id": "b2cbbdda-2bd3-452b-96e1-7bb5171dee2c",
   "metadata": {
    "tags": []
   },
   "outputs": [
    {
     "data": {
      "text/html": [
       "<div>\n",
       "<style scoped>\n",
       "    .dataframe tbody tr th:only-of-type {\n",
       "        vertical-align: middle;\n",
       "    }\n",
       "\n",
       "    .dataframe tbody tr th {\n",
       "        vertical-align: top;\n",
       "    }\n",
       "\n",
       "    .dataframe thead th {\n",
       "        text-align: right;\n",
       "    }\n",
       "</style>\n",
       "<table border=\"1\" class=\"dataframe\">\n",
       "  <thead>\n",
       "    <tr style=\"text-align: right;\">\n",
       "      <th></th>\n",
       "      <th>IMDb_ID</th>\n",
       "      <th>Title</th>\n",
       "      <th>Movie Series</th>\n",
       "      <th>Order</th>\n",
       "      <th>Genres</th>\n",
       "      <th>Year</th>\n",
       "      <th>IMDb Rating</th>\n",
       "      <th>Num Votes</th>\n",
       "    </tr>\n",
       "  </thead>\n",
       "  <tbody>\n",
       "    <tr>\n",
       "      <th>8</th>\n",
       "      <td>tt0389722</td>\n",
       "      <td>30 Days of Night</td>\n",
       "      <td>30 Days of Night</td>\n",
       "      <td>1</td>\n",
       "      <td>Action, Horror, Thriller</td>\n",
       "      <td>2007</td>\n",
       "      <td>6.6</td>\n",
       "      <td>160930.0</td>\n",
       "    </tr>\n",
       "    <tr>\n",
       "      <th>11</th>\n",
       "      <td>tt0134273</td>\n",
       "      <td>8MM</td>\n",
       "      <td>8MM</td>\n",
       "      <td>1</td>\n",
       "      <td>Mystery, Thriller</td>\n",
       "      <td>1999</td>\n",
       "      <td>6.5</td>\n",
       "      <td>120511.0</td>\n",
       "    </tr>\n",
       "    <tr>\n",
       "      <th>14</th>\n",
       "      <td>tt1606378</td>\n",
       "      <td>A Good Day to Die Hard</td>\n",
       "      <td>A Good Day to Die Hard</td>\n",
       "      <td>1</td>\n",
       "      <td>Action, Thriller</td>\n",
       "      <td>2013</td>\n",
       "      <td>5.3</td>\n",
       "      <td>194603.0</td>\n",
       "    </tr>\n",
       "    <tr>\n",
       "      <th>27</th>\n",
       "      <td>tt0106220</td>\n",
       "      <td>Addams Family Values</td>\n",
       "      <td>Addams Family alues</td>\n",
       "      <td>1</td>\n",
       "      <td>Comedy, Fantasy</td>\n",
       "      <td>1993</td>\n",
       "      <td>6.7</td>\n",
       "      <td>76150.0</td>\n",
       "    </tr>\n",
       "    <tr>\n",
       "      <th>37</th>\n",
       "      <td>tt0369226</td>\n",
       "      <td>Alone in the Dark</td>\n",
       "      <td>Alone in the Dark</td>\n",
       "      <td>1</td>\n",
       "      <td>Action, Horror, Sci-Fi</td>\n",
       "      <td>2005</td>\n",
       "      <td>2.4</td>\n",
       "      <td>41244.0</td>\n",
       "    </tr>\n",
       "    <tr>\n",
       "      <th>...</th>\n",
       "      <td>...</td>\n",
       "      <td>...</td>\n",
       "      <td>...</td>\n",
       "      <td>...</td>\n",
       "      <td>...</td>\n",
       "      <td>...</td>\n",
       "      <td>...</td>\n",
       "      <td>...</td>\n",
       "    </tr>\n",
       "    <tr>\n",
       "      <th>819</th>\n",
       "      <td>tt0111686</td>\n",
       "      <td>Wes Craven's New Nightmare</td>\n",
       "      <td>Wes Craven's New Nightmare</td>\n",
       "      <td>1</td>\n",
       "      <td>Fantasy, Horror, Mystery, Thriller</td>\n",
       "      <td>1994</td>\n",
       "      <td>6.4</td>\n",
       "      <td>49287.0</td>\n",
       "    </tr>\n",
       "    <tr>\n",
       "      <th>822</th>\n",
       "      <td>tt0120890</td>\n",
       "      <td>Wild Things</td>\n",
       "      <td>Wild Things</td>\n",
       "      <td>1</td>\n",
       "      <td>Crime, Drama, Mystery, Thriller</td>\n",
       "      <td>1998</td>\n",
       "      <td>6.5</td>\n",
       "      <td>105272.0</td>\n",
       "    </tr>\n",
       "    <tr>\n",
       "      <th>823</th>\n",
       "      <td>tt0120524</td>\n",
       "      <td>Wishmaster</td>\n",
       "      <td>Wishmaster</td>\n",
       "      <td>1</td>\n",
       "      <td>Fantasy, Horror</td>\n",
       "      <td>1997</td>\n",
       "      <td>5.8</td>\n",
       "      <td>19251.0</td>\n",
       "    </tr>\n",
       "    <tr>\n",
       "      <th>824</th>\n",
       "      <td>tt1646987</td>\n",
       "      <td>Wrath of the Titans</td>\n",
       "      <td>Wrath of the Titans</td>\n",
       "      <td>1</td>\n",
       "      <td>Action, Adventure, Fantasy</td>\n",
       "      <td>2012</td>\n",
       "      <td>5.7</td>\n",
       "      <td>178430.0</td>\n",
       "    </tr>\n",
       "    <tr>\n",
       "      <th>827</th>\n",
       "      <td>tt0295700</td>\n",
       "      <td>Wrong Turn</td>\n",
       "      <td>Wrong Turn</td>\n",
       "      <td>1</td>\n",
       "      <td>Horror</td>\n",
       "      <td>2003</td>\n",
       "      <td>6.1</td>\n",
       "      <td>105875.0</td>\n",
       "    </tr>\n",
       "  </tbody>\n",
       "</table>\n",
       "<p>114 rows × 8 columns</p>\n",
       "</div>"
      ],
      "text/plain": [
       "       IMDb_ID                       Title                Movie Series  Order  \\\n",
       "8    tt0389722            30 Days of Night            30 Days of Night      1   \n",
       "11   tt0134273                         8MM                         8MM      1   \n",
       "14   tt1606378      A Good Day to Die Hard      A Good Day to Die Hard      1   \n",
       "27   tt0106220        Addams Family Values         Addams Family alues      1   \n",
       "37   tt0369226           Alone in the Dark           Alone in the Dark      1   \n",
       "..         ...                         ...                         ...    ...   \n",
       "819  tt0111686  Wes Craven's New Nightmare  Wes Craven's New Nightmare      1   \n",
       "822  tt0120890                 Wild Things                 Wild Things      1   \n",
       "823  tt0120524                  Wishmaster                  Wishmaster      1   \n",
       "824  tt1646987         Wrath of the Titans         Wrath of the Titans      1   \n",
       "827  tt0295700                  Wrong Turn                  Wrong Turn      1   \n",
       "\n",
       "                                 Genres  Year  IMDb Rating  Num Votes  \n",
       "8              Action, Horror, Thriller  2007          6.6   160930.0  \n",
       "11                    Mystery, Thriller  1999          6.5   120511.0  \n",
       "14                     Action, Thriller  2013          5.3   194603.0  \n",
       "27                      Comedy, Fantasy  1993          6.7    76150.0  \n",
       "37               Action, Horror, Sci-Fi  2005          2.4    41244.0  \n",
       "..                                  ...   ...          ...        ...  \n",
       "819  Fantasy, Horror, Mystery, Thriller  1994          6.4    49287.0  \n",
       "822     Crime, Drama, Mystery, Thriller  1998          6.5   105272.0  \n",
       "823                     Fantasy, Horror  1997          5.8    19251.0  \n",
       "824          Action, Adventure, Fantasy  2012          5.7   178430.0  \n",
       "827                              Horror  2003          6.1   105875.0  \n",
       "\n",
       "[114 rows x 8 columns]"
      ]
     },
     "execution_count": 19,
     "metadata": {},
     "output_type": "execute_result"
    }
   ],
   "source": [
    "# Remove any films with no sequals\n",
    "moviesJoined.groupby('Movie Series').filter(lambda x: len(x) == 1)"
   ]
  },
  {
   "cell_type": "code",
   "execution_count": 20,
   "id": "e3b530f3-6097-4cab-a663-ce499764afc6",
   "metadata": {
    "tags": []
   },
   "outputs": [],
   "source": [
    "sequals = moviesJoined.groupby('Movie Series').filter(lambda x: len(x) > 1)"
   ]
  },
  {
   "cell_type": "code",
   "execution_count": 21,
   "id": "009c113d-28b4-45a2-8103-352ac6a26af4",
   "metadata": {
    "tags": []
   },
   "outputs": [
    {
     "name": "stdout",
     "output_type": "stream",
     "text": [
      "<class 'pandas.core.frame.DataFrame'>\n",
      "Index: 733 entries, 0 to 846\n",
      "Data columns (total 8 columns):\n",
      " #   Column        Non-Null Count  Dtype  \n",
      "---  ------        --------------  -----  \n",
      " 0   IMDb_ID       733 non-null    object \n",
      " 1   Title         733 non-null    object \n",
      " 2   Movie Series  733 non-null    object \n",
      " 3   Order         733 non-null    int64  \n",
      " 4   Genres        733 non-null    object \n",
      " 5   Year          733 non-null    int32  \n",
      " 6   IMDb Rating   733 non-null    float64\n",
      " 7   Num Votes     730 non-null    float64\n",
      "dtypes: float64(2), int32(1), int64(1), object(4)\n",
      "memory usage: 48.7+ KB\n"
     ]
    }
   ],
   "source": [
    "sequals.info()"
   ]
  },
  {
   "cell_type": "code",
   "execution_count": 22,
   "id": "e3de053e-046f-40f0-abe3-af2b6e3a96d1",
   "metadata": {
    "tags": []
   },
   "outputs": [
    {
     "data": {
      "text/html": [
       "<div>\n",
       "<style scoped>\n",
       "    .dataframe tbody tr th:only-of-type {\n",
       "        vertical-align: middle;\n",
       "    }\n",
       "\n",
       "    .dataframe tbody tr th {\n",
       "        vertical-align: top;\n",
       "    }\n",
       "\n",
       "    .dataframe thead th {\n",
       "        text-align: right;\n",
       "    }\n",
       "</style>\n",
       "<table border=\"1\" class=\"dataframe\">\n",
       "  <thead>\n",
       "    <tr style=\"text-align: right;\">\n",
       "      <th></th>\n",
       "      <th>IMDb_ID</th>\n",
       "      <th>Title</th>\n",
       "      <th>Movie Series</th>\n",
       "      <th>Order</th>\n",
       "      <th>Genres</th>\n",
       "      <th>Year</th>\n",
       "      <th>IMDb Rating</th>\n",
       "      <th>Num Votes</th>\n",
       "    </tr>\n",
       "  </thead>\n",
       "  <tbody>\n",
       "    <tr>\n",
       "      <th>0</th>\n",
       "      <td>tt0115433</td>\n",
       "      <td>101 Dalmatians</td>\n",
       "      <td>101 Dalmatians</td>\n",
       "      <td>1</td>\n",
       "      <td>Adventure, Comedy, Crime, Family</td>\n",
       "      <td>1996</td>\n",
       "      <td>5.7</td>\n",
       "      <td>98439.0</td>\n",
       "    </tr>\n",
       "    <tr>\n",
       "      <th>1</th>\n",
       "      <td>tt0211181</td>\n",
       "      <td>102 Dalmatians</td>\n",
       "      <td>101 Dalmatians</td>\n",
       "      <td>2</td>\n",
       "      <td>Adventure, Comedy, Family</td>\n",
       "      <td>2000</td>\n",
       "      <td>4.9</td>\n",
       "      <td>33823.0</td>\n",
       "    </tr>\n",
       "    <tr>\n",
       "      <th>2</th>\n",
       "      <td>tt1160368</td>\n",
       "      <td>12 Rounds</td>\n",
       "      <td>12 Rounds</td>\n",
       "      <td>1</td>\n",
       "      <td>Action, Crime, Thriller</td>\n",
       "      <td>2009</td>\n",
       "      <td>5.6</td>\n",
       "      <td>26828.0</td>\n",
       "    </tr>\n",
       "    <tr>\n",
       "      <th>3</th>\n",
       "      <td>tt2317524</td>\n",
       "      <td>12 Rounds 2: Reloaded</td>\n",
       "      <td>12 Rounds</td>\n",
       "      <td>2</td>\n",
       "      <td>Action, Adventure, Thriller</td>\n",
       "      <td>2013</td>\n",
       "      <td>5.3</td>\n",
       "      <td>5141.0</td>\n",
       "    </tr>\n",
       "    <tr>\n",
       "      <th>4</th>\n",
       "      <td>tt1232829</td>\n",
       "      <td>21 Jump Street</td>\n",
       "      <td>21 Jump Street</td>\n",
       "      <td>1</td>\n",
       "      <td>Action, Comedy, Crime</td>\n",
       "      <td>2012</td>\n",
       "      <td>7.2</td>\n",
       "      <td>498876.0</td>\n",
       "    </tr>\n",
       "  </tbody>\n",
       "</table>\n",
       "</div>"
      ],
      "text/plain": [
       "     IMDb_ID                  Title    Movie Series  Order  \\\n",
       "0  tt0115433         101 Dalmatians  101 Dalmatians      1   \n",
       "1  tt0211181         102 Dalmatians  101 Dalmatians      2   \n",
       "2  tt1160368              12 Rounds       12 Rounds      1   \n",
       "3  tt2317524  12 Rounds 2: Reloaded       12 Rounds      2   \n",
       "4  tt1232829         21 Jump Street  21 Jump Street      1   \n",
       "\n",
       "                             Genres  Year  IMDb Rating  Num Votes  \n",
       "0  Adventure, Comedy, Crime, Family  1996          5.7    98439.0  \n",
       "1         Adventure, Comedy, Family  2000          4.9    33823.0  \n",
       "2           Action, Crime, Thriller  2009          5.6    26828.0  \n",
       "3       Action, Adventure, Thriller  2013          5.3     5141.0  \n",
       "4             Action, Comedy, Crime  2012          7.2   498876.0  "
      ]
     },
     "execution_count": 22,
     "metadata": {},
     "output_type": "execute_result"
    }
   ],
   "source": [
    "sequals.head()"
   ]
  },
  {
   "cell_type": "code",
   "execution_count": 23,
   "id": "df91d6e9-a89c-431d-94c1-da206a1a5280",
   "metadata": {
    "tags": []
   },
   "outputs": [
    {
     "data": {
      "text/html": [
       "<div>\n",
       "<style scoped>\n",
       "    .dataframe tbody tr th:only-of-type {\n",
       "        vertical-align: middle;\n",
       "    }\n",
       "\n",
       "    .dataframe tbody tr th {\n",
       "        vertical-align: top;\n",
       "    }\n",
       "\n",
       "    .dataframe thead th {\n",
       "        text-align: right;\n",
       "    }\n",
       "</style>\n",
       "<table border=\"1\" class=\"dataframe\">\n",
       "  <thead>\n",
       "    <tr style=\"text-align: right;\">\n",
       "      <th></th>\n",
       "      <th>Movie Series</th>\n",
       "      <th>IMDb Rating</th>\n",
       "    </tr>\n",
       "  </thead>\n",
       "  <tbody>\n",
       "    <tr>\n",
       "      <th>212</th>\n",
       "      <td>The Lord of the Rings</td>\n",
       "      <td>8.800</td>\n",
       "    </tr>\n",
       "    <tr>\n",
       "      <th>202</th>\n",
       "      <td>The Godfather</td>\n",
       "      <td>8.600</td>\n",
       "    </tr>\n",
       "    <tr>\n",
       "      <th>237</th>\n",
       "      <td>Toy Story</td>\n",
       "      <td>8.075</td>\n",
       "    </tr>\n",
       "    <tr>\n",
       "      <th>112</th>\n",
       "      <td>Kill Bill</td>\n",
       "      <td>8.050</td>\n",
       "    </tr>\n",
       "    <tr>\n",
       "      <th>241</th>\n",
       "      <td>Tropa de Elite</td>\n",
       "      <td>8.050</td>\n",
       "    </tr>\n",
       "    <tr>\n",
       "      <th>34</th>\n",
       "      <td>Blade Runner</td>\n",
       "      <td>8.050</td>\n",
       "    </tr>\n",
       "    <tr>\n",
       "      <th>183</th>\n",
       "      <td>The Avengers</td>\n",
       "      <td>8.050</td>\n",
       "    </tr>\n",
       "    <tr>\n",
       "      <th>29</th>\n",
       "      <td>Before Sunrise</td>\n",
       "      <td>8.000</td>\n",
       "    </tr>\n",
       "    <tr>\n",
       "      <th>37</th>\n",
       "      <td>Brat</td>\n",
       "      <td>7.900</td>\n",
       "    </tr>\n",
       "    <tr>\n",
       "      <th>46</th>\n",
       "      <td>Cidade de Deus</td>\n",
       "      <td>7.900</td>\n",
       "    </tr>\n",
       "  </tbody>\n",
       "</table>\n",
       "</div>"
      ],
      "text/plain": [
       "              Movie Series  IMDb Rating\n",
       "212  The Lord of the Rings        8.800\n",
       "202          The Godfather        8.600\n",
       "237              Toy Story        8.075\n",
       "112              Kill Bill        8.050\n",
       "241         Tropa de Elite        8.050\n",
       "34            Blade Runner        8.050\n",
       "183           The Avengers        8.050\n",
       "29          Before Sunrise        8.000\n",
       "37                    Brat        7.900\n",
       "46          Cidade de Deus        7.900"
      ]
     },
     "execution_count": 23,
     "metadata": {},
     "output_type": "execute_result"
    }
   ],
   "source": [
    "seriesAverage = sequals.groupby('Movie Series')['IMDb Rating'].mean().reset_index()\n",
    "seriesAverage = seriesAverage.sort_values(by='IMDb Rating', ascending=False)\n",
    "seriesAverage.head(10)"
   ]
  },
  {
   "cell_type": "code",
   "execution_count": 24,
   "id": "5c76d398-c823-4e96-9ea0-4a1f0da97f26",
   "metadata": {
    "tags": []
   },
   "outputs": [
    {
     "data": {
      "text/html": [
       "<div>\n",
       "<style scoped>\n",
       "    .dataframe tbody tr th:only-of-type {\n",
       "        vertical-align: middle;\n",
       "    }\n",
       "\n",
       "    .dataframe tbody tr th {\n",
       "        vertical-align: top;\n",
       "    }\n",
       "\n",
       "    .dataframe thead th {\n",
       "        text-align: right;\n",
       "    }\n",
       "</style>\n",
       "<table border=\"1\" class=\"dataframe\">\n",
       "  <thead>\n",
       "    <tr style=\"text-align: right;\">\n",
       "      <th></th>\n",
       "      <th>Movie Series</th>\n",
       "      <th>IMDb Rating</th>\n",
       "    </tr>\n",
       "  </thead>\n",
       "  <tbody>\n",
       "    <tr>\n",
       "      <th>213</th>\n",
       "      <td>The Mask</td>\n",
       "      <td>4.550000</td>\n",
       "    </tr>\n",
       "    <tr>\n",
       "      <th>116</th>\n",
       "      <td>Lawnmower Man</td>\n",
       "      <td>4.000000</td>\n",
       "    </tr>\n",
       "    <tr>\n",
       "      <th>36</th>\n",
       "      <td>Boogeyman</td>\n",
       "      <td>3.950000</td>\n",
       "    </tr>\n",
       "    <tr>\n",
       "      <th>101</th>\n",
       "      <td>In the Name of the King</td>\n",
       "      <td>3.333333</td>\n",
       "    </tr>\n",
       "    <tr>\n",
       "      <th>35</th>\n",
       "      <td>BloodRayne</td>\n",
       "      <td>2.950000</td>\n",
       "    </tr>\n",
       "  </tbody>\n",
       "</table>\n",
       "</div>"
      ],
      "text/plain": [
       "                Movie Series  IMDb Rating\n",
       "213                 The Mask     4.550000\n",
       "116            Lawnmower Man     4.000000\n",
       "36                 Boogeyman     3.950000\n",
       "101  In the Name of the King     3.333333\n",
       "35                BloodRayne     2.950000"
      ]
     },
     "execution_count": 24,
     "metadata": {},
     "output_type": "execute_result"
    }
   ],
   "source": [
    "seriesAverage.tail(5)"
   ]
  },
  {
   "cell_type": "code",
   "execution_count": 25,
   "id": "2ceb88a9-8297-4d4d-bea2-7fdcc8279fa0",
   "metadata": {
    "tags": []
   },
   "outputs": [
    {
     "data": {
      "text/plain": [
       "Movie Series\n",
       "Star Trek          13\n",
       "Halloween          11\n",
       "Friday the 13th     9\n",
       "Harry Potter        8\n",
       "Saw                 7\n",
       "                   ..\n",
       "It                  2\n",
       "Kick-Ass            2\n",
       "Kill Bill           2\n",
       "Kingsman            2\n",
       "xXx                 2\n",
       "Length: 259, dtype: int64"
      ]
     },
     "execution_count": 25,
     "metadata": {},
     "output_type": "execute_result"
    }
   ],
   "source": [
    "longestSeries = sequals.groupby('Movie Series').size()\n",
    "longestSeries.sort_values(ascending=False)"
   ]
  },
  {
   "cell_type": "code",
   "execution_count": 30,
   "id": "ff2d0b48-cd29-4778-96bf-85a2c2a3f870",
   "metadata": {
    "tags": []
   },
   "outputs": [
    {
     "data": {
      "application/vnd.plotly.v1+json": {
       "config": {
        "plotlyServerURL": "https://plot.ly"
       },
       "data": [
        {
         "customdata": [
          [
           "101 Dalmatians",
           "101 Dalmatians"
          ],
          [
           "102 Dalmatians",
           "101 Dalmatians"
          ]
         ],
         "hovertemplate": "Movie Series=%{customdata[1]}<br>Release Year=%{x}<br>Rating=%{y}<br>Title=%{customdata[0]}<extra></extra>",
         "legendgroup": "101 Dalmatians",
         "line": {
          "color": "#636efa",
          "dash": "solid",
          "shape": "linear"
         },
         "marker": {
          "symbol": "circle"
         },
         "mode": "lines+markers",
         "name": "101 Dalmatians",
         "orientation": "v",
         "showlegend": true,
         "type": "scatter",
         "x": [
          1996,
          2000
         ],
         "xaxis": "x",
         "y": [
          5.7,
          4.9
         ],
         "yaxis": "y"
        },
        {
         "customdata": [
          [
           "12 Rounds",
           "12 Rounds"
          ],
          [
           "12 Rounds 2: Reloaded",
           "12 Rounds"
          ]
         ],
         "hovertemplate": "Movie Series=%{customdata[1]}<br>Release Year=%{x}<br>Rating=%{y}<br>Title=%{customdata[0]}<extra></extra>",
         "legendgroup": "12 Rounds",
         "line": {
          "color": "#EF553B",
          "dash": "solid",
          "shape": "linear"
         },
         "marker": {
          "symbol": "circle"
         },
         "mode": "lines+markers",
         "name": "12 Rounds",
         "orientation": "v",
         "showlegend": true,
         "type": "scatter",
         "x": [
          2009,
          2013
         ],
         "xaxis": "x",
         "y": [
          5.6,
          5.3
         ],
         "yaxis": "y"
        },
        {
         "customdata": [
          [
           "21 Jump Street",
           "21 Jump Street"
          ],
          [
           "22 Jump Street",
           "21 Jump Street"
          ]
         ],
         "hovertemplate": "Movie Series=%{customdata[1]}<br>Release Year=%{x}<br>Rating=%{y}<br>Title=%{customdata[0]}<extra></extra>",
         "legendgroup": "21 Jump Street",
         "line": {
          "color": "#00cc96",
          "dash": "solid",
          "shape": "linear"
         },
         "marker": {
          "symbol": "circle"
         },
         "mode": "lines+markers",
         "name": "21 Jump Street",
         "orientation": "v",
         "showlegend": true,
         "type": "scatter",
         "x": [
          2012,
          2014
         ],
         "xaxis": "x",
         "y": [
          7.2,
          7
         ],
         "yaxis": "y"
        },
        {
         "customdata": [
          [
           "28 Days Later...",
           "28 Days Later..."
          ],
          [
           "28 Weeks Later",
           "28 Days Later..."
          ]
         ],
         "hovertemplate": "Movie Series=%{customdata[1]}<br>Release Year=%{x}<br>Rating=%{y}<br>Title=%{customdata[0]}<extra></extra>",
         "legendgroup": "28 Days Later...",
         "line": {
          "color": "#ab63fa",
          "dash": "solid",
          "shape": "linear"
         },
         "marker": {
          "symbol": "circle"
         },
         "mode": "lines+markers",
         "name": "28 Days Later...",
         "orientation": "v",
         "showlegend": true,
         "type": "scatter",
         "x": [
          2002,
          2007
         ],
         "xaxis": "x",
         "y": [
          7.6,
          7
         ],
         "yaxis": "y"
        },
        {
         "customdata": [
          [
           "48 Hrs.",
           "48 Hrs."
          ],
          [
           "Another 48 Hrs.",
           "48 Hrs."
          ]
         ],
         "hovertemplate": "Movie Series=%{customdata[1]}<br>Release Year=%{x}<br>Rating=%{y}<br>Title=%{customdata[0]}<extra></extra>",
         "legendgroup": "48 Hrs.",
         "line": {
          "color": "#FFA15A",
          "dash": "solid",
          "shape": "linear"
         },
         "marker": {
          "symbol": "circle"
         },
         "mode": "lines+markers",
         "name": "48 Hrs.",
         "orientation": "v",
         "showlegend": true,
         "type": "scatter",
         "x": [
          1982,
          1990
         ],
         "xaxis": "x",
         "y": [
          6.9,
          5.9
         ],
         "yaxis": "y"
        },
        {
         "customdata": [
          [
           "A Dog's Purpose",
           "A Dog's Purpose"
          ],
          [
           "A Dog's Journey",
           "A Dog's Purpose"
          ]
         ],
         "hovertemplate": "Movie Series=%{customdata[1]}<br>Release Year=%{x}<br>Rating=%{y}<br>Title=%{customdata[0]}<extra></extra>",
         "legendgroup": "A Dog's Purpose",
         "line": {
          "color": "#19d3f3",
          "dash": "solid",
          "shape": "linear"
         },
         "marker": {
          "symbol": "circle"
         },
         "mode": "lines+markers",
         "name": "A Dog's Purpose",
         "orientation": "v",
         "showlegend": true,
         "type": "scatter",
         "x": [
          2017,
          2019
         ],
         "xaxis": "x",
         "y": [
          7.2,
          7.5
         ],
         "yaxis": "y"
        },
        {
         "customdata": [
          [
           "A Haunted House",
           "A Haunted House"
          ],
          [
           "A Haunted House 2",
           "A Haunted House"
          ]
         ],
         "hovertemplate": "Movie Series=%{customdata[1]}<br>Release Year=%{x}<br>Rating=%{y}<br>Title=%{customdata[0]}<extra></extra>",
         "legendgroup": "A Haunted House",
         "line": {
          "color": "#FF6692",
          "dash": "solid",
          "shape": "linear"
         },
         "marker": {
          "symbol": "circle"
         },
         "mode": "lines+markers",
         "name": "A Haunted House",
         "orientation": "v",
         "showlegend": true,
         "type": "scatter",
         "visible": true,
         "x": [
          2013,
          2014
         ],
         "xaxis": "x",
         "y": [
          5,
          4.7
         ],
         "yaxis": "y"
        },
        {
         "customdata": [
          [
           "A Nightmare on Elm Street",
           "A Nightmare on Elm Street"
          ],
          [
           "A Nightmare on Elm Street Part 2: Freddy's Revenge",
           "A Nightmare on Elm Street"
          ],
          [
           "A Nightmare on Elm Street 3: Dream Warriors",
           "A Nightmare on Elm Street"
          ],
          [
           "A Nightmare on Elm Street 4: The Dream Master",
           "A Nightmare on Elm Street"
          ],
          [
           "A Nightmare on Elm Street: The Dream Child",
           "A Nightmare on Elm Street"
          ],
          [
           "A Nightmare on Elm Street",
           "A Nightmare on Elm Street"
          ]
         ],
         "hovertemplate": "Movie Series=%{customdata[1]}<br>Release Year=%{x}<br>Rating=%{y}<br>Title=%{customdata[0]}<extra></extra>",
         "legendgroup": "A Nightmare on Elm Street",
         "line": {
          "color": "#B6E880",
          "dash": "solid",
          "shape": "linear"
         },
         "marker": {
          "symbol": "circle"
         },
         "mode": "lines+markers",
         "name": "A Nightmare on Elm Street",
         "orientation": "v",
         "showlegend": true,
         "type": "scatter",
         "x": [
          1984,
          1985,
          1987,
          1988,
          1989,
          2010
         ],
         "xaxis": "x",
         "y": [
          7.5,
          5.5,
          6.6,
          5.7,
          5.2,
          5.2
         ],
         "yaxis": "y"
        },
        {
         "customdata": [
          [
           "AVP: Alien vs. Predator",
           "AVP"
          ],
          [
           "AVPR: Aliens vs Predator - Requiem",
           "AVP"
          ]
         ],
         "hovertemplate": "Movie Series=%{customdata[1]}<br>Release Year=%{x}<br>Rating=%{y}<br>Title=%{customdata[0]}<extra></extra>",
         "legendgroup": "AVP",
         "line": {
          "color": "#FF97FF",
          "dash": "solid",
          "shape": "linear"
         },
         "marker": {
          "symbol": "circle"
         },
         "mode": "lines+markers",
         "name": "AVP",
         "orientation": "v",
         "showlegend": true,
         "type": "scatter",
         "x": [
          2004,
          2007
         ],
         "xaxis": "x",
         "y": [
          5.6,
          4.7
         ],
         "yaxis": "y"
        },
        {
         "customdata": [
          [
           "Ace Ventura: Pet Detective",
           "Ace Ventura"
          ],
          [
           "Ace Ventura: When Nature Calls",
           "Ace Ventura"
          ]
         ],
         "hovertemplate": "Movie Series=%{customdata[1]}<br>Release Year=%{x}<br>Rating=%{y}<br>Title=%{customdata[0]}<extra></extra>",
         "legendgroup": "Ace Ventura",
         "line": {
          "color": "#FECB52",
          "dash": "solid",
          "shape": "linear"
         },
         "marker": {
          "symbol": "circle"
         },
         "mode": "lines+markers",
         "name": "Ace Ventura",
         "orientation": "v",
         "showlegend": true,
         "type": "scatter",
         "x": [
          1994,
          1995
         ],
         "xaxis": "x",
         "y": [
          6.9,
          6.4
         ],
         "yaxis": "y"
        },
        {
         "customdata": [
          [
           "Agent Cody Banks",
           "Agent Cody Banks"
          ],
          [
           "Agent Cody Banks 2: Destination London",
           "Agent Cody Banks"
          ]
         ],
         "hovertemplate": "Movie Series=%{customdata[1]}<br>Release Year=%{x}<br>Rating=%{y}<br>Title=%{customdata[0]}<extra></extra>",
         "legendgroup": "Agent Cody Banks",
         "line": {
          "color": "#636efa",
          "dash": "solid",
          "shape": "linear"
         },
         "marker": {
          "symbol": "circle"
         },
         "mode": "lines+markers",
         "name": "Agent Cody Banks",
         "orientation": "v",
         "showlegend": true,
         "type": "scatter",
         "x": [
          2003,
          2004
         ],
         "xaxis": "x",
         "y": [
          5,
          4.6
         ],
         "yaxis": "y"
        },
        {
         "customdata": [
          [
           "Alice in Wonderland",
           "Alice in Wonderland"
          ],
          [
           "Alice Through the Looking Glass",
           "Alice in Wonderland"
          ]
         ],
         "hovertemplate": "Movie Series=%{customdata[1]}<br>Release Year=%{x}<br>Rating=%{y}<br>Title=%{customdata[0]}<extra></extra>",
         "legendgroup": "Alice in Wonderland",
         "line": {
          "color": "#EF553B",
          "dash": "solid",
          "shape": "linear"
         },
         "marker": {
          "symbol": "circle"
         },
         "mode": "lines+markers",
         "name": "Alice in Wonderland",
         "orientation": "v",
         "showlegend": true,
         "type": "scatter",
         "x": [
          2010,
          2016
         ],
         "xaxis": "x",
         "y": [
          6.4,
          6.2
         ],
         "yaxis": "y"
        },
        {
         "customdata": [
          [
           "Alien",
           "Alien"
          ],
          [
           "Aliens",
           "Alien"
          ],
          [
           "Alien³",
           "Alien"
          ],
          [
           "Alien: Resurrection",
           "Alien"
          ],
          [
           "Alien: Covenant",
           "Alien"
          ]
         ],
         "hovertemplate": "Movie Series=%{customdata[1]}<br>Release Year=%{x}<br>Rating=%{y}<br>Title=%{customdata[0]}<extra></extra>",
         "legendgroup": "Alien",
         "line": {
          "color": "#00cc96",
          "dash": "solid",
          "shape": "linear"
         },
         "marker": {
          "symbol": "circle"
         },
         "mode": "lines+markers",
         "name": "Alien",
         "orientation": "v",
         "showlegend": true,
         "type": "scatter",
         "x": [
          1979,
          1986,
          1992,
          1997,
          2017
         ],
         "xaxis": "x",
         "y": [
          8.4,
          8.3,
          6.5,
          6.2,
          6.4
         ],
         "yaxis": "y"
        },
        {
         "customdata": [
          [
           "Alvin and the Chipmunks",
           "Alvin and the Chipmunks"
          ],
          [
           "Alvin and the Chipmunks: The Squeakquel",
           "Alvin and the Chipmunks"
          ],
          [
           "Alvin and the Chipmunks: Chipwrecked",
           "Alvin and the Chipmunks"
          ]
         ],
         "hovertemplate": "Movie Series=%{customdata[1]}<br>Release Year=%{x}<br>Rating=%{y}<br>Title=%{customdata[0]}<extra></extra>",
         "legendgroup": "Alvin and the Chipmunks",
         "line": {
          "color": "#ab63fa",
          "dash": "solid",
          "shape": "linear"
         },
         "marker": {
          "symbol": "circle"
         },
         "mode": "lines+markers",
         "name": "Alvin and the Chipmunks",
         "orientation": "v",
         "showlegend": true,
         "type": "scatter",
         "x": [
          2007,
          2009,
          2011
         ],
         "xaxis": "x",
         "y": [
          5.2,
          4.5,
          4.3
         ],
         "yaxis": "y"
        },
        {
         "customdata": [
          [
           "American Pie",
           "American Pie"
          ],
          [
           "American Pie 2",
           "American Pie"
          ]
         ],
         "hovertemplate": "Movie Series=%{customdata[1]}<br>Release Year=%{x}<br>Rating=%{y}<br>Title=%{customdata[0]}<extra></extra>",
         "legendgroup": "American Pie",
         "line": {
          "color": "#FFA15A",
          "dash": "solid",
          "shape": "linear"
         },
         "marker": {
          "symbol": "circle"
         },
         "mode": "lines+markers",
         "name": "American Pie",
         "orientation": "v",
         "showlegend": true,
         "type": "scatter",
         "x": [
          1999,
          2001
         ],
         "xaxis": "x",
         "y": [
          7,
          6.4
         ],
         "yaxis": "y"
        },
        {
         "customdata": [
          [
           "Anaconda",
           "Anaconda"
          ],
          [
           "Anacondas: The Hunt for the Blood Orchid",
           "Anaconda"
          ]
         ],
         "hovertemplate": "Movie Series=%{customdata[1]}<br>Release Year=%{x}<br>Rating=%{y}<br>Title=%{customdata[0]}<extra></extra>",
         "legendgroup": "Anaconda",
         "line": {
          "color": "#19d3f3",
          "dash": "solid",
          "shape": "linear"
         },
         "marker": {
          "symbol": "circle"
         },
         "mode": "lines+markers",
         "name": "Anaconda",
         "orientation": "v",
         "showlegend": true,
         "type": "scatter",
         "x": [
          1997,
          2004
         ],
         "xaxis": "x",
         "y": [
          4.8,
          4.7
         ],
         "yaxis": "y"
        },
        {
         "customdata": [
          [
           "Analyze This",
           "Analyze This"
          ],
          [
           "Analyze That",
           "Analyze This"
          ]
         ],
         "hovertemplate": "Movie Series=%{customdata[1]}<br>Release Year=%{x}<br>Rating=%{y}<br>Title=%{customdata[0]}<extra></extra>",
         "legendgroup": "Analyze This",
         "line": {
          "color": "#FF6692",
          "dash": "solid",
          "shape": "linear"
         },
         "marker": {
          "symbol": "circle"
         },
         "mode": "lines+markers",
         "name": "Analyze This",
         "orientation": "v",
         "showlegend": true,
         "type": "scatter",
         "x": [
          1999,
          2002
         ],
         "xaxis": "x",
         "y": [
          6.7,
          5.9
         ],
         "yaxis": "y"
        },
        {
         "customdata": [
          [
           "Anchorman: The Legend of Ron Burgundy",
           "Anchorman"
          ],
          [
           "Anchorman 2: The Legend Continues",
           "Anchorman"
          ]
         ],
         "hovertemplate": "Movie Series=%{customdata[1]}<br>Release Year=%{x}<br>Rating=%{y}<br>Title=%{customdata[0]}<extra></extra>",
         "legendgroup": "Anchorman",
         "line": {
          "color": "#B6E880",
          "dash": "solid",
          "shape": "linear"
         },
         "marker": {
          "symbol": "circle"
         },
         "mode": "lines+markers",
         "name": "Anchorman",
         "orientation": "v",
         "showlegend": true,
         "type": "scatter",
         "x": [
          2004,
          2013
         ],
         "xaxis": "x",
         "y": [
          7.2,
          6.3
         ],
         "yaxis": "y"
        },
        {
         "customdata": [
          [
           "Angry Birds",
           "Angry Birds"
          ],
          [
           "The Angry Birds Movie 2",
           "Angry Birds"
          ]
         ],
         "hovertemplate": "Movie Series=%{customdata[1]}<br>Release Year=%{x}<br>Rating=%{y}<br>Title=%{customdata[0]}<extra></extra>",
         "legendgroup": "Angry Birds",
         "line": {
          "color": "#FF97FF",
          "dash": "solid",
          "shape": "linear"
         },
         "marker": {
          "symbol": "circle"
         },
         "mode": "lines+markers",
         "name": "Angry Birds",
         "orientation": "v",
         "showlegend": true,
         "type": "scatter",
         "x": [
          2016,
          2019
         ],
         "xaxis": "x",
         "y": [
          6.3,
          6.4
         ],
         "yaxis": "y"
        },
        {
         "customdata": [
          [
           "Annabelle",
           "Annabelle"
          ],
          [
           "Annabelle: Creation",
           "Annabelle"
          ],
          [
           "Annabelle Comes Home",
           "Annabelle"
          ]
         ],
         "hovertemplate": "Movie Series=%{customdata[1]}<br>Release Year=%{x}<br>Rating=%{y}<br>Title=%{customdata[0]}<extra></extra>",
         "legendgroup": "Annabelle",
         "line": {
          "color": "#FECB52",
          "dash": "solid",
          "shape": "linear"
         },
         "marker": {
          "symbol": "circle"
         },
         "mode": "lines+markers",
         "name": "Annabelle",
         "orientation": "v",
         "showlegend": true,
         "type": "scatter",
         "x": [
          2014,
          2017,
          2019
         ],
         "xaxis": "x",
         "y": [
          5.4,
          6.5,
          5.9
         ],
         "yaxis": "y"
        },
        {
         "customdata": [
          [
           "Atlas Shrugged: Part I",
           "Atlas Shrugged"
          ],
          [
           "Atlas Shrugged II: The Strike",
           "Atlas Shrugged"
          ]
         ],
         "hovertemplate": "Movie Series=%{customdata[1]}<br>Release Year=%{x}<br>Rating=%{y}<br>Title=%{customdata[0]}<extra></extra>",
         "legendgroup": "Atlas Shrugged",
         "line": {
          "color": "#636efa",
          "dash": "solid",
          "shape": "linear"
         },
         "marker": {
          "symbol": "circle"
         },
         "mode": "lines+markers",
         "name": "Atlas Shrugged",
         "orientation": "v",
         "showlegend": true,
         "type": "scatter",
         "x": [
          2011,
          2012
         ],
         "xaxis": "x",
         "y": [
          5.6,
          5.4
         ],
         "yaxis": "y"
        },
        {
         "customdata": [
          [
           "Austin Powers: International Man of Mystery",
           "Austin Powers"
          ],
          [
           "Austin Powers: The Spy Who Shagged Me",
           "Austin Powers"
          ],
          [
           "Austin Powers in Goldmember",
           "Austin Powers"
          ]
         ],
         "hovertemplate": "Movie Series=%{customdata[1]}<br>Release Year=%{x}<br>Rating=%{y}<br>Title=%{customdata[0]}<extra></extra>",
         "legendgroup": "Austin Powers",
         "line": {
          "color": "#EF553B",
          "dash": "solid",
          "shape": "linear"
         },
         "marker": {
          "symbol": "circle"
         },
         "mode": "lines+markers",
         "name": "Austin Powers",
         "orientation": "v",
         "showlegend": true,
         "type": "scatter",
         "x": [
          1997,
          1999,
          2002
         ],
         "xaxis": "x",
         "y": [
          7,
          6.6,
          6.2
         ],
         "yaxis": "y"
        },
        {
         "customdata": [
          [
           "Back to the Future",
           "Back to the Future"
          ],
          [
           "Back to the Future Part II",
           "Back to the Future"
          ],
          [
           "Back to the Future Part III",
           "Back to the Future"
          ]
         ],
         "hovertemplate": "Movie Series=%{customdata[1]}<br>Release Year=%{x}<br>Rating=%{y}<br>Title=%{customdata[0]}<extra></extra>",
         "legendgroup": "Back to the Future",
         "line": {
          "color": "#00cc96",
          "dash": "solid",
          "shape": "linear"
         },
         "marker": {
          "symbol": "circle"
         },
         "mode": "lines+markers",
         "name": "Back to the Future",
         "orientation": "v",
         "showlegend": true,
         "type": "scatter",
         "x": [
          1985,
          1989,
          1990
         ],
         "xaxis": "x",
         "y": [
          8.5,
          7.8,
          7.4
         ],
         "yaxis": "y"
        },
        {
         "customdata": [
          [
           "Bad Boys",
           "Bad Boys"
          ],
          [
           "Bad Boys II",
           "Bad Boys"
          ],
          [
           "Bad Boys for Life",
           "Bad Boys"
          ]
         ],
         "hovertemplate": "Movie Series=%{customdata[1]}<br>Release Year=%{x}<br>Rating=%{y}<br>Title=%{customdata[0]}<extra></extra>",
         "legendgroup": "Bad Boys",
         "line": {
          "color": "#ab63fa",
          "dash": "solid",
          "shape": "linear"
         },
         "marker": {
          "symbol": "circle"
         },
         "mode": "lines+markers",
         "name": "Bad Boys",
         "orientation": "v",
         "showlegend": true,
         "type": "scatter",
         "x": [
          1995,
          2003,
          2020
         ],
         "xaxis": "x",
         "y": [
          6.9,
          6.6,
          6.7
         ],
         "yaxis": "y"
        },
        {
         "customdata": [
          [
           "Bad Lieutenant",
           "Bad Lieutenant"
          ],
          [
           "The Bad Lieutenant: Port of Call - New Orleans",
           "Bad Lieutenant"
          ]
         ],
         "hovertemplate": "Movie Series=%{customdata[1]}<br>Release Year=%{x}<br>Rating=%{y}<br>Title=%{customdata[0]}<extra></extra>",
         "legendgroup": "Bad Lieutenant",
         "line": {
          "color": "#FFA15A",
          "dash": "solid",
          "shape": "linear"
         },
         "marker": {
          "symbol": "circle"
         },
         "mode": "lines+markers",
         "name": "Bad Lieutenant",
         "orientation": "v",
         "showlegend": true,
         "type": "scatter",
         "x": [
          1992,
          2009
         ],
         "xaxis": "x",
         "y": [
          7.1,
          6.6
         ],
         "yaxis": "y"
        },
        {
         "customdata": [
          [
           "Bad Santa",
           "Bad Santa"
          ],
          [
           "Bad Santa 2",
           "Bad Santa"
          ]
         ],
         "hovertemplate": "Movie Series=%{customdata[1]}<br>Release Year=%{x}<br>Rating=%{y}<br>Title=%{customdata[0]}<extra></extra>",
         "legendgroup": "Bad Santa",
         "line": {
          "color": "#19d3f3",
          "dash": "solid",
          "shape": "linear"
         },
         "marker": {
          "symbol": "circle"
         },
         "mode": "lines+markers",
         "name": "Bad Santa",
         "orientation": "v",
         "showlegend": true,
         "type": "scatter",
         "x": [
          2003,
          2016
         ],
         "xaxis": "x",
         "y": [
          7,
          5.6
         ],
         "yaxis": "y"
        },
        {
         "customdata": [
          [
           "Banlieue 13",
           "Banlieue"
          ],
          [
           "Banlieue 13: Ultimatum",
           "Banlieue"
          ]
         ],
         "hovertemplate": "Movie Series=%{customdata[1]}<br>Release Year=%{x}<br>Rating=%{y}<br>Title=%{customdata[0]}<extra></extra>",
         "legendgroup": "Banlieue",
         "line": {
          "color": "#FF6692",
          "dash": "solid",
          "shape": "linear"
         },
         "marker": {
          "symbol": "circle"
         },
         "mode": "lines+markers",
         "name": "Banlieue",
         "orientation": "v",
         "showlegend": true,
         "type": "scatter",
         "x": [
          2004,
          2009
         ],
         "xaxis": "x",
         "y": [
          7.2,
          6.5
         ],
         "yaxis": "y"
        },
        {
         "customdata": [
          [
           "Basic Instinct",
           "Basic Instinct"
          ],
          [
           "Basic Instinct 2",
           "Basic Instinct"
          ]
         ],
         "hovertemplate": "Movie Series=%{customdata[1]}<br>Release Year=%{x}<br>Rating=%{y}<br>Title=%{customdata[0]}<extra></extra>",
         "legendgroup": "Basic Instinct",
         "line": {
          "color": "#B6E880",
          "dash": "solid",
          "shape": "linear"
         },
         "marker": {
          "symbol": "circle"
         },
         "mode": "lines+markers",
         "name": "Basic Instinct",
         "orientation": "v",
         "showlegend": true,
         "type": "scatter",
         "x": [
          1992,
          2006
         ],
         "xaxis": "x",
         "y": [
          7,
          4.3
         ],
         "yaxis": "y"
        },
        {
         "customdata": [
          [
           "Batman",
           "Batman"
          ],
          [
           "Batman Returns",
           "Batman"
          ],
          [
           "Batman Forever",
           "Batman"
          ],
          [
           "Batman & Robin",
           "Batman"
          ],
          [
           "Batman Begins",
           "Batman"
          ],
          [
           "The Dark Knight",
           "Batman"
          ],
          [
           "The Dark Knight Rises",
           "Batman"
          ]
         ],
         "hovertemplate": "Movie Series=%{customdata[1]}<br>Release Year=%{x}<br>Rating=%{y}<br>Title=%{customdata[0]}<extra></extra>",
         "legendgroup": "Batman",
         "line": {
          "color": "#FF97FF",
          "dash": "solid",
          "shape": "linear"
         },
         "marker": {
          "symbol": "circle"
         },
         "mode": "lines+markers",
         "name": "Batman",
         "orientation": "v",
         "showlegend": true,
         "type": "scatter",
         "x": [
          1989,
          1992,
          1995,
          1997,
          2005,
          2008,
          2012
         ],
         "xaxis": "x",
         "y": [
          7.5,
          7,
          5.4,
          3.7,
          8.2,
          9,
          8.4
         ],
         "yaxis": "y"
        },
        {
         "customdata": [
          [
           "Before Sunrise",
           "Before Sunrise"
          ],
          [
           "Before Sunset",
           "Before Sunrise"
          ],
          [
           "Before Midnight",
           "Before Sunrise"
          ]
         ],
         "hovertemplate": "Movie Series=%{customdata[1]}<br>Release Year=%{x}<br>Rating=%{y}<br>Title=%{customdata[0]}<extra></extra>",
         "legendgroup": "Before Sunrise",
         "line": {
          "color": "#FECB52",
          "dash": "solid",
          "shape": "linear"
         },
         "marker": {
          "symbol": "circle"
         },
         "mode": "lines+markers",
         "name": "Before Sunrise",
         "orientation": "v",
         "showlegend": true,
         "type": "scatter",
         "x": [
          1995,
          2004,
          2013
         ],
         "xaxis": "x",
         "y": [
          8.1,
          8,
          7.9
         ],
         "yaxis": "y"
        },
        {
         "customdata": [
          [
           "Beverly Hills Cop",
           "Beverly Hills Cop"
          ],
          [
           "Beverly Hills Cop II",
           "Beverly Hills Cop"
          ],
          [
           "Beverly Hills Cop III",
           "Beverly Hills Cop"
          ]
         ],
         "hovertemplate": "Movie Series=%{customdata[1]}<br>Release Year=%{x}<br>Rating=%{y}<br>Title=%{customdata[0]}<extra></extra>",
         "legendgroup": "Beverly Hills Cop",
         "line": {
          "color": "#636efa",
          "dash": "solid",
          "shape": "linear"
         },
         "marker": {
          "symbol": "circle"
         },
         "mode": "lines+markers",
         "name": "Beverly Hills Cop",
         "orientation": "v",
         "showlegend": true,
         "type": "scatter",
         "x": [
          1984,
          1987,
          1994
         ],
         "xaxis": "x",
         "y": [
          7.3,
          6.5,
          5.6
         ],
         "yaxis": "y"
        },
        {
         "customdata": [
          [
           "Big Momma's House",
           "Big Mommas"
          ],
          [
           "Big Momma's House 2",
           "Big Mommas"
          ],
          [
           "Big Mommas: Like Father, Like Son",
           "Big Mommas"
          ]
         ],
         "hovertemplate": "Movie Series=%{customdata[1]}<br>Release Year=%{x}<br>Rating=%{y}<br>Title=%{customdata[0]}<extra></extra>",
         "legendgroup": "Big Mommas",
         "line": {
          "color": "#EF553B",
          "dash": "solid",
          "shape": "linear"
         },
         "marker": {
          "symbol": "circle"
         },
         "mode": "lines+markers",
         "name": "Big Mommas",
         "orientation": "v",
         "showlegend": true,
         "type": "scatter",
         "x": [
          2000,
          2006,
          2011
         ],
         "xaxis": "x",
         "y": [
          5.2,
          4.7,
          4.4
         ],
         "yaxis": "y"
        },
        {
         "customdata": [
          [
           "Biohazard Regeneration",
           "Biohazard"
          ],
          [
           "Biohazard: Damnation",
           "Biohazard"
          ]
         ],
         "hovertemplate": "Movie Series=%{customdata[1]}<br>Release Year=%{x}<br>Rating=%{y}<br>Title=%{customdata[0]}<extra></extra>",
         "legendgroup": "Biohazard",
         "line": {
          "color": "#00cc96",
          "dash": "solid",
          "shape": "linear"
         },
         "marker": {
          "symbol": "circle"
         },
         "mode": "lines+markers",
         "name": "Biohazard",
         "orientation": "v",
         "showlegend": true,
         "type": "scatter",
         "x": [
          2008,
          2012
         ],
         "xaxis": "x",
         "y": [
          6.5,
          6.5
         ],
         "yaxis": "y"
        },
        {
         "customdata": [
          [
           "Blade",
           "Blade"
          ],
          [
           "Blade II",
           "Blade"
          ],
          [
           "Blade: Trinity",
           "Blade"
          ]
         ],
         "hovertemplate": "Movie Series=%{customdata[1]}<br>Release Year=%{x}<br>Rating=%{y}<br>Title=%{customdata[0]}<extra></extra>",
         "legendgroup": "Blade",
         "line": {
          "color": "#ab63fa",
          "dash": "solid",
          "shape": "linear"
         },
         "marker": {
          "symbol": "circle"
         },
         "mode": "lines+markers",
         "name": "Blade",
         "orientation": "v",
         "showlegend": true,
         "type": "scatter",
         "x": [
          1998,
          2002,
          2004
         ],
         "xaxis": "x",
         "y": [
          7.1,
          6.7,
          5.9
         ],
         "yaxis": "y"
        },
        {
         "customdata": [
          [
           "Blade Runner",
           "Blade Runner"
          ],
          [
           "Blade Runner 2049",
           "Blade Runner"
          ]
         ],
         "hovertemplate": "Movie Series=%{customdata[1]}<br>Release Year=%{x}<br>Rating=%{y}<br>Title=%{customdata[0]}<extra></extra>",
         "legendgroup": "Blade Runner",
         "line": {
          "color": "#FFA15A",
          "dash": "solid",
          "shape": "linear"
         },
         "marker": {
          "symbol": "circle"
         },
         "mode": "lines+markers",
         "name": "Blade Runner",
         "orientation": "v",
         "showlegend": true,
         "type": "scatter",
         "x": [
          1982,
          2017
         ],
         "xaxis": "x",
         "y": [
          8.1,
          8
         ],
         "yaxis": "y"
        },
        {
         "customdata": [
          [
           "BloodRayne",
           "BloodRayne"
          ],
          [
           "BloodRayne: The Third Reich",
           "BloodRayne"
          ]
         ],
         "hovertemplate": "Movie Series=%{customdata[1]}<br>Release Year=%{x}<br>Rating=%{y}<br>Title=%{customdata[0]}<extra></extra>",
         "legendgroup": "BloodRayne",
         "line": {
          "color": "#19d3f3",
          "dash": "solid",
          "shape": "linear"
         },
         "marker": {
          "symbol": "circle"
         },
         "mode": "lines+markers",
         "name": "BloodRayne",
         "orientation": "v",
         "showlegend": true,
         "type": "scatter",
         "x": [
          2005,
          2011
         ],
         "xaxis": "x",
         "y": [
          2.9,
          3
         ],
         "yaxis": "y"
        },
        {
         "customdata": [
          [
           "The Boogey Man",
           "Boogeyman"
          ],
          [
           "Revenge of the Boogeyman",
           "Boogeyman"
          ],
          [
           "Boogeyman",
           "Boogeyman"
          ],
          [
           "Boogeyman 2",
           "Boogeyman"
          ]
         ],
         "hovertemplate": "Movie Series=%{customdata[1]}<br>Release Year=%{x}<br>Rating=%{y}<br>Title=%{customdata[0]}<extra></extra>",
         "legendgroup": "Boogeyman",
         "line": {
          "color": "#FF6692",
          "dash": "solid",
          "shape": "linear"
         },
         "marker": {
          "symbol": "circle"
         },
         "mode": "lines+markers",
         "name": "Boogeyman",
         "orientation": "v",
         "showlegend": true,
         "type": "scatter",
         "x": [
          1980,
          1983,
          2005,
          2007
         ],
         "xaxis": "x",
         "y": [
          4.6,
          2,
          4.2,
          5
         ],
         "yaxis": "y"
        },
        {
         "customdata": [
          [
           "Brat",
           "Brat"
          ],
          [
           "Brat 2",
           "Brat"
          ]
         ],
         "hovertemplate": "Movie Series=%{customdata[1]}<br>Release Year=%{x}<br>Rating=%{y}<br>Title=%{customdata[0]}<extra></extra>",
         "legendgroup": "Brat",
         "line": {
          "color": "#B6E880",
          "dash": "solid",
          "shape": "linear"
         },
         "marker": {
          "symbol": "circle"
         },
         "mode": "lines+markers",
         "name": "Brat",
         "orientation": "v",
         "showlegend": true,
         "type": "scatter",
         "x": [
          1997,
          2000
         ],
         "xaxis": "x",
         "y": [
          8,
          7.8
         ],
         "yaxis": "y"
        },
        {
         "customdata": [
          [
           "Bridget Jones's Diary",
           "Bridget Jones"
          ],
          [
           "Bridget Jones: The Edge of Reason",
           "Bridget Jones"
          ],
          [
           "Bridget Jones's Baby",
           "Bridget Jones"
          ]
         ],
         "hovertemplate": "Movie Series=%{customdata[1]}<br>Release Year=%{x}<br>Rating=%{y}<br>Title=%{customdata[0]}<extra></extra>",
         "legendgroup": "Bridget Jones",
         "line": {
          "color": "#FF97FF",
          "dash": "solid",
          "shape": "linear"
         },
         "marker": {
          "symbol": "circle"
         },
         "mode": "lines+markers",
         "name": "Bridget Jones",
         "orientation": "v",
         "showlegend": true,
         "type": "scatter",
         "x": [
          2001,
          2004,
          2016
         ],
         "xaxis": "x",
         "y": [
          6.7,
          6,
          6.5
         ],
         "yaxis": "y"
        },
        {
         "customdata": [
          [
           "Candyman",
           "Candyman"
          ],
          [
           "Candyman: Farewell to the Flesh",
           "Candyman"
          ]
         ],
         "hovertemplate": "Movie Series=%{customdata[1]}<br>Release Year=%{x}<br>Rating=%{y}<br>Title=%{customdata[0]}<extra></extra>",
         "legendgroup": "Candyman",
         "line": {
          "color": "#FECB52",
          "dash": "solid",
          "shape": "linear"
         },
         "marker": {
          "symbol": "circle"
         },
         "mode": "lines+markers",
         "name": "Candyman",
         "orientation": "v",
         "showlegend": true,
         "type": "scatter",
         "x": [
          1992,
          1995
         ],
         "xaxis": "x",
         "y": [
          6.6,
          5.3
         ],
         "yaxis": "y"
        },
        {
         "customdata": [
          [
           "Captain America: The First Avenger",
           "Captain America"
          ],
          [
           "Captain America: The Winter Soldier",
           "Captain America"
          ],
          [
           "Captain America: Civil War",
           "Captain America"
          ]
         ],
         "hovertemplate": "Movie Series=%{customdata[1]}<br>Release Year=%{x}<br>Rating=%{y}<br>Title=%{customdata[0]}<extra></extra>",
         "legendgroup": "Captain America",
         "line": {
          "color": "#636efa",
          "dash": "solid",
          "shape": "linear"
         },
         "marker": {
          "symbol": "circle"
         },
         "mode": "lines+markers",
         "name": "Captain America",
         "orientation": "v",
         "showlegend": true,
         "type": "scatter",
         "x": [
          2011,
          2014,
          2016
         ],
         "xaxis": "x",
         "y": [
          6.9,
          7.7,
          7.8
         ],
         "yaxis": "y"
        },
        {
         "customdata": [
          [
           "Cars",
           "Cars"
          ],
          [
           "Cars 2",
           "Cars"
          ],
          [
           "Cars 3",
           "Cars"
          ]
         ],
         "hovertemplate": "Movie Series=%{customdata[1]}<br>Release Year=%{x}<br>Rating=%{y}<br>Title=%{customdata[0]}<extra></extra>",
         "legendgroup": "Cars",
         "line": {
          "color": "#EF553B",
          "dash": "solid",
          "shape": "linear"
         },
         "marker": {
          "symbol": "circle"
         },
         "mode": "lines+markers",
         "name": "Cars",
         "orientation": "v",
         "showlegend": true,
         "type": "scatter",
         "x": [
          2006,
          2011,
          2017
         ],
         "xaxis": "x",
         "y": [
          7.1,
          6.1,
          6.7
         ],
         "yaxis": "y"
        },
        {
         "customdata": [
          [
           "Cat People",
           "Cat People"
          ],
          [
           "The Curse of the Cat People",
           "Cat People"
          ]
         ],
         "hovertemplate": "Movie Series=%{customdata[1]}<br>Release Year=%{x}<br>Rating=%{y}<br>Title=%{customdata[0]}<extra></extra>",
         "legendgroup": "Cat People",
         "line": {
          "color": "#00cc96",
          "dash": "solid",
          "shape": "linear"
         },
         "marker": {
          "symbol": "circle"
         },
         "mode": "lines+markers",
         "name": "Cat People",
         "orientation": "v",
         "showlegend": true,
         "type": "scatter",
         "x": [
          1942,
          1944
         ],
         "xaxis": "x",
         "y": [
          7.3,
          6.9
         ],
         "yaxis": "y"
        },
        {
         "customdata": [
          [
           "Charlie's Angels",
           "Charlie's Angels"
          ],
          [
           "Charlie's Angels: Full Throttle",
           "Charlie's Angels"
          ]
         ],
         "hovertemplate": "Movie Series=%{customdata[1]}<br>Release Year=%{x}<br>Rating=%{y}<br>Title=%{customdata[0]}<extra></extra>",
         "legendgroup": "Charlie's Angels",
         "line": {
          "color": "#ab63fa",
          "dash": "solid",
          "shape": "linear"
         },
         "marker": {
          "symbol": "circle"
         },
         "mode": "lines+markers",
         "name": "Charlie's Angels",
         "orientation": "v",
         "showlegend": true,
         "type": "scatter",
         "x": [
          2000,
          2003
         ],
         "xaxis": "x",
         "y": [
          5.5,
          4.9
         ],
         "yaxis": "y"
        },
        {
         "customdata": [
          [
           "Cheaper by the Dozen",
           "Cheaper by the Dozen"
          ],
          [
           "Cheaper by the Dozen 2",
           "Cheaper by the Dozen"
          ]
         ],
         "hovertemplate": "Movie Series=%{customdata[1]}<br>Release Year=%{x}<br>Rating=%{y}<br>Title=%{customdata[0]}<extra></extra>",
         "legendgroup": "Cheaper by the Dozen",
         "line": {
          "color": "#FFA15A",
          "dash": "solid",
          "shape": "linear"
         },
         "marker": {
          "symbol": "circle"
         },
         "mode": "lines+markers",
         "name": "Cheaper by the Dozen",
         "orientation": "v",
         "showlegend": true,
         "type": "scatter",
         "x": [
          2003,
          2005
         ],
         "xaxis": "x",
         "y": [
          5.9,
          5.5
         ],
         "yaxis": "y"
        },
        {
         "customdata": [
          [
           "Child's Play",
           "Child's Play"
          ],
          [
           "Child's Play 2",
           "Child's Play"
          ],
          [
           "Child's Play 3",
           "Child's Play"
          ]
         ],
         "hovertemplate": "Movie Series=%{customdata[1]}<br>Release Year=%{x}<br>Rating=%{y}<br>Title=%{customdata[0]}<extra></extra>",
         "legendgroup": "Child's Play",
         "line": {
          "color": "#19d3f3",
          "dash": "solid",
          "shape": "linear"
         },
         "marker": {
          "symbol": "circle"
         },
         "mode": "lines+markers",
         "name": "Child's Play",
         "orientation": "v",
         "showlegend": true,
         "type": "scatter",
         "x": [
          1988,
          1990,
          1991
         ],
         "xaxis": "x",
         "y": [
          6.6,
          5.8,
          5.1
         ],
         "yaxis": "y"
        },
        {
         "customdata": [
          [
           "Cidade de Deus",
           "Cidade de Deus"
          ],
          [
           "Cidade dos Homens",
           "Cidade de Deus"
          ]
         ],
         "hovertemplate": "Movie Series=%{customdata[1]}<br>Release Year=%{x}<br>Rating=%{y}<br>Title=%{customdata[0]}<extra></extra>",
         "legendgroup": "Cidade de Deus",
         "line": {
          "color": "#FF6692",
          "dash": "solid",
          "shape": "linear"
         },
         "marker": {
          "symbol": "circle"
         },
         "mode": "lines+markers",
         "name": "Cidade de Deus",
         "orientation": "v",
         "showlegend": true,
         "type": "scatter",
         "x": [
          2002,
          2007
         ],
         "xaxis": "x",
         "y": [
          8.6,
          7.2
         ],
         "yaxis": "y"
        },
        {
         "customdata": [
          [
           "Class of 1999",
           "Class of 1999"
          ],
          [
           "Class of 1999 II: The Substitute",
           "Class of 1999"
          ]
         ],
         "hovertemplate": "Movie Series=%{customdata[1]}<br>Release Year=%{x}<br>Rating=%{y}<br>Title=%{customdata[0]}<extra></extra>",
         "legendgroup": "Class of 1999",
         "line": {
          "color": "#B6E880",
          "dash": "solid",
          "shape": "linear"
         },
         "marker": {
          "symbol": "circle"
         },
         "mode": "lines+markers",
         "name": "Class of 1999",
         "orientation": "v",
         "showlegend": true,
         "type": "scatter",
         "x": [
          1990,
          1994
         ],
         "xaxis": "x",
         "y": [
          5.9,
          4.4
         ],
         "yaxis": "y"
        },
        {
         "customdata": [
          [
           "Clerks",
           "Clerks"
          ],
          [
           "Clerks II",
           "Clerks"
          ]
         ],
         "hovertemplate": "Movie Series=%{customdata[1]}<br>Release Year=%{x}<br>Rating=%{y}<br>Title=%{customdata[0]}<extra></extra>",
         "legendgroup": "Clerks",
         "line": {
          "color": "#FF97FF",
          "dash": "solid",
          "shape": "linear"
         },
         "marker": {
          "symbol": "circle"
         },
         "mode": "lines+markers",
         "name": "Clerks",
         "orientation": "v",
         "showlegend": true,
         "type": "scatter",
         "x": [
          1994,
          2006
         ],
         "xaxis": "x",
         "y": [
          7.7,
          7.3
         ],
         "yaxis": "y"
        },
        {
         "customdata": [
          [
           "Cloverfield",
           "Cloverfield"
          ],
          [
           "10 Cloverfield Lane",
           "Cloverfield"
          ]
         ],
         "hovertemplate": "Movie Series=%{customdata[1]}<br>Release Year=%{x}<br>Rating=%{y}<br>Title=%{customdata[0]}<extra></extra>",
         "legendgroup": "Cloverfield",
         "line": {
          "color": "#FECB52",
          "dash": "solid",
          "shape": "linear"
         },
         "marker": {
          "symbol": "circle"
         },
         "mode": "lines+markers",
         "name": "Cloverfield",
         "orientation": "v",
         "showlegend": true,
         "type": "scatter",
         "x": [
          2008,
          2016
         ],
         "xaxis": "x",
         "y": [
          7,
          7.2
         ],
         "yaxis": "y"
        },
        {
         "customdata": [
          [
           "Cocoon",
           "Cocoon"
          ],
          [
           "Cocoon: The Return",
           "Cocoon"
          ]
         ],
         "hovertemplate": "Movie Series=%{customdata[1]}<br>Release Year=%{x}<br>Rating=%{y}<br>Title=%{customdata[0]}<extra></extra>",
         "legendgroup": "Cocoon",
         "line": {
          "color": "#636efa",
          "dash": "solid",
          "shape": "linear"
         },
         "marker": {
          "symbol": "circle"
         },
         "mode": "lines+markers",
         "name": "Cocoon",
         "orientation": "v",
         "showlegend": true,
         "type": "scatter",
         "x": [
          1985,
          1988
         ],
         "xaxis": "x",
         "y": [
          6.7,
          5.4
         ],
         "yaxis": "y"
        },
        {
         "customdata": [
          [
           "Crank",
           "Crank"
          ],
          [
           "Crank: High Voltage",
           "Crank"
          ]
         ],
         "hovertemplate": "Movie Series=%{customdata[1]}<br>Release Year=%{x}<br>Rating=%{y}<br>Title=%{customdata[0]}<extra></extra>",
         "legendgroup": "Crank",
         "line": {
          "color": "#EF553B",
          "dash": "solid",
          "shape": "linear"
         },
         "marker": {
          "symbol": "circle"
         },
         "mode": "lines+markers",
         "name": "Crank",
         "orientation": "v",
         "showlegend": true,
         "type": "scatter",
         "x": [
          2006,
          2009
         ],
         "xaxis": "x",
         "y": [
          6.9,
          6.2
         ],
         "yaxis": "y"
        },
        {
         "customdata": [
          [
           "Critters",
           "Critters"
          ],
          [
           "Critters 2",
           "Critters"
          ],
          [
           "Critters 3",
           "Critters"
          ],
          [
           "Critters 4",
           "Critters"
          ]
         ],
         "hovertemplate": "Movie Series=%{customdata[1]}<br>Release Year=%{x}<br>Rating=%{y}<br>Title=%{customdata[0]}<extra></extra>",
         "legendgroup": "Critters",
         "line": {
          "color": "#00cc96",
          "dash": "solid",
          "shape": "linear"
         },
         "marker": {
          "symbol": "circle"
         },
         "mode": "lines+markers",
         "name": "Critters",
         "orientation": "v",
         "showlegend": true,
         "type": "scatter",
         "x": [
          1986,
          1988,
          1991,
          1992
         ],
         "xaxis": "x",
         "y": [
          6.1,
          5.5,
          4.4,
          4.1
         ],
         "yaxis": "y"
        },
        {
         "customdata": [
          [
           "Cube",
           "Cube"
          ],
          [
           "Cube 2: Hypercube",
           "Cube"
          ],
          [
           "Cube Zero",
           "Cube"
          ]
         ],
         "hovertemplate": "Movie Series=%{customdata[1]}<br>Release Year=%{x}<br>Rating=%{y}<br>Title=%{customdata[0]}<extra></extra>",
         "legendgroup": "Cube",
         "line": {
          "color": "#ab63fa",
          "dash": "solid",
          "shape": "linear"
         },
         "marker": {
          "symbol": "circle"
         },
         "mode": "lines+markers",
         "name": "Cube",
         "orientation": "v",
         "showlegend": true,
         "type": "scatter",
         "x": [
          1997,
          2002,
          2004
         ],
         "xaxis": "x",
         "y": [
          7.2,
          5.6,
          5.7
         ],
         "yaxis": "y"
        },
        {
         "customdata": [
          [
           "Deadpool",
           "Deadpool"
          ],
          [
           "Deadpool 2",
           "Deadpool"
          ]
         ],
         "hovertemplate": "Movie Series=%{customdata[1]}<br>Release Year=%{x}<br>Rating=%{y}<br>Title=%{customdata[0]}<extra></extra>",
         "legendgroup": "Deadpool",
         "line": {
          "color": "#FFA15A",
          "dash": "solid",
          "shape": "linear"
         },
         "marker": {
          "symbol": "circle"
         },
         "mode": "lines+markers",
         "name": "Deadpool",
         "orientation": "v",
         "showlegend": true,
         "type": "scatter",
         "x": [
          2016,
          2018
         ],
         "xaxis": "x",
         "y": [
          8,
          7.7
         ],
         "yaxis": "y"
        },
        {
         "customdata": [
          [
           "Despicable Me",
           "Despicable Me"
          ],
          [
           "Despicable Me 2",
           "Despicable Me"
          ],
          [
           "Despicable Me 3",
           "Despicable Me"
          ]
         ],
         "hovertemplate": "Movie Series=%{customdata[1]}<br>Release Year=%{x}<br>Rating=%{y}<br>Title=%{customdata[0]}<extra></extra>",
         "legendgroup": "Despicable Me",
         "line": {
          "color": "#19d3f3",
          "dash": "solid",
          "shape": "linear"
         },
         "marker": {
          "symbol": "circle"
         },
         "mode": "lines+markers",
         "name": "Despicable Me",
         "orientation": "v",
         "showlegend": true,
         "type": "scatter",
         "x": [
          2010,
          2013,
          2017
         ],
         "xaxis": "x",
         "y": [
          7.6,
          7.3,
          6.3
         ],
         "yaxis": "y"
        },
        {
         "customdata": [
          [
           "Deuce Bigalow: Male Gigolo",
           "Deuce Bigalow"
          ],
          [
           "Deuce Bigalow: European Gigolo",
           "Deuce Bigalow"
          ]
         ],
         "hovertemplate": "Movie Series=%{customdata[1]}<br>Release Year=%{x}<br>Rating=%{y}<br>Title=%{customdata[0]}<extra></extra>",
         "legendgroup": "Deuce Bigalow",
         "line": {
          "color": "#FF6692",
          "dash": "solid",
          "shape": "linear"
         },
         "marker": {
          "symbol": "circle"
         },
         "mode": "lines+markers",
         "name": "Deuce Bigalow",
         "orientation": "v",
         "showlegend": true,
         "type": "scatter",
         "x": [
          1999,
          2005
         ],
         "xaxis": "x",
         "y": [
          5.7,
          4.7
         ],
         "yaxis": "y"
        },
        {
         "customdata": [
          [
           "Die Hard",
           "Die Hard"
          ],
          [
           "Die Hard 2",
           "Die Hard"
          ],
          [
           "Die Hard: With a Vengeance",
           "Die Hard"
          ]
         ],
         "hovertemplate": "Movie Series=%{customdata[1]}<br>Release Year=%{x}<br>Rating=%{y}<br>Title=%{customdata[0]}<extra></extra>",
         "legendgroup": "Die Hard",
         "line": {
          "color": "#B6E880",
          "dash": "solid",
          "shape": "linear"
         },
         "marker": {
          "symbol": "circle"
         },
         "mode": "lines+markers",
         "name": "Die Hard",
         "orientation": "v",
         "showlegend": true,
         "type": "scatter",
         "x": [
          1988,
          1990,
          1995
         ],
         "xaxis": "x",
         "y": [
          8.2,
          7.2,
          7.6
         ],
         "yaxis": "y"
        },
        {
         "customdata": [
          [
           "Dirty Dancing",
           "Dirty Dancing"
          ],
          [
           "Dirty Dancing: Havana Nights",
           "Dirty Dancing"
          ]
         ],
         "hovertemplate": "Movie Series=%{customdata[1]}<br>Release Year=%{x}<br>Rating=%{y}<br>Title=%{customdata[0]}<extra></extra>",
         "legendgroup": "Dirty Dancing",
         "line": {
          "color": "#FF97FF",
          "dash": "solid",
          "shape": "linear"
         },
         "marker": {
          "symbol": "circle"
         },
         "mode": "lines+markers",
         "name": "Dirty Dancing",
         "orientation": "v",
         "showlegend": true,
         "type": "scatter",
         "x": [
          1987,
          2004
         ],
         "xaxis": "x",
         "y": [
          7,
          6
         ],
         "yaxis": "y"
        },
        {
         "customdata": [
          [
           "Divergent",
           "Divergent"
          ],
          [
           "Insurgent",
           "Divergent"
          ],
          [
           "Allegiant",
           "Divergent"
          ]
         ],
         "hovertemplate": "Movie Series=%{customdata[1]}<br>Release Year=%{x}<br>Rating=%{y}<br>Title=%{customdata[0]}<extra></extra>",
         "legendgroup": "Divergent",
         "line": {
          "color": "#FECB52",
          "dash": "solid",
          "shape": "linear"
         },
         "marker": {
          "symbol": "circle"
         },
         "mode": "lines+markers",
         "name": "Divergent",
         "orientation": "v",
         "showlegend": true,
         "type": "scatter",
         "x": [
          2014,
          2015,
          2016
         ],
         "xaxis": "x",
         "y": [
          6.7,
          6.2,
          5.7
         ],
         "yaxis": "y"
        },
        {
         "customdata": [
          [
           "Doctor Dolittle",
           "Doctor Dolittle"
          ],
          [
           "Dr. Dolittle 2",
           "Doctor Dolittle"
          ]
         ],
         "hovertemplate": "Movie Series=%{customdata[1]}<br>Release Year=%{x}<br>Rating=%{y}<br>Title=%{customdata[0]}<extra></extra>",
         "legendgroup": "Doctor Dolittle",
         "line": {
          "color": "#636efa",
          "dash": "solid",
          "shape": "linear"
         },
         "marker": {
          "symbol": "circle"
         },
         "mode": "lines+markers",
         "name": "Doctor Dolittle",
         "orientation": "v",
         "showlegend": true,
         "type": "scatter",
         "x": [
          1998,
          2001
         ],
         "xaxis": "x",
         "y": [
          5.4,
          4.7
         ],
         "yaxis": "y"
        },
        {
         "customdata": [
          [
           "Dolphin Tale",
           "Dolphin Tale"
          ],
          [
           "Dolphin Tale 2",
           "Dolphin Tale"
          ]
         ],
         "hovertemplate": "Movie Series=%{customdata[1]}<br>Release Year=%{x}<br>Rating=%{y}<br>Title=%{customdata[0]}<extra></extra>",
         "legendgroup": "Dolphin Tale",
         "line": {
          "color": "#EF553B",
          "dash": "solid",
          "shape": "linear"
         },
         "marker": {
          "symbol": "circle"
         },
         "mode": "lines+markers",
         "name": "Dolphin Tale",
         "orientation": "v",
         "showlegend": true,
         "type": "scatter",
         "x": [
          2011,
          2014
         ],
         "xaxis": "x",
         "y": [
          6.9,
          6.4
         ],
         "yaxis": "y"
        },
        {
         "customdata": [
          [
           "Dumb and Dumber",
           "Dumb and Dumber"
          ],
          [
           "Dumb and Dumberer: When Harry Met Lloyd",
           "Dumb and Dumber"
          ],
          [
           "Dumb and Dumber To",
           "Dumb and Dumber"
          ]
         ],
         "hovertemplate": "Movie Series=%{customdata[1]}<br>Release Year=%{x}<br>Rating=%{y}<br>Title=%{customdata[0]}<extra></extra>",
         "legendgroup": "Dumb and Dumber",
         "line": {
          "color": "#00cc96",
          "dash": "solid",
          "shape": "linear"
         },
         "marker": {
          "symbol": "circle"
         },
         "mode": "lines+markers",
         "name": "Dumb and Dumber",
         "orientation": "v",
         "showlegend": true,
         "type": "scatter",
         "x": [
          1994,
          2003,
          2014
         ],
         "xaxis": "x",
         "y": [
          7.3,
          3.4,
          5.6
         ],
         "yaxis": "y"
        },
        {
         "customdata": [
          [
           "Elizabeth",
           "Elizabeth"
          ],
          [
           "Elizabeth: The Golden Age",
           "Elizabeth"
          ]
         ],
         "hovertemplate": "Movie Series=%{customdata[1]}<br>Release Year=%{x}<br>Rating=%{y}<br>Title=%{customdata[0]}<extra></extra>",
         "legendgroup": "Elizabeth",
         "line": {
          "color": "#ab63fa",
          "dash": "solid",
          "shape": "linear"
         },
         "marker": {
          "symbol": "circle"
         },
         "mode": "lines+markers",
         "name": "Elizabeth",
         "orientation": "v",
         "showlegend": true,
         "type": "scatter",
         "x": [
          1998,
          2007
         ],
         "xaxis": "x",
         "y": [
          7.4,
          6.8
         ],
         "yaxis": "y"
        },
        {
         "customdata": [
          [
           "Fantastic Four",
           "Fantastic Four"
          ],
          [
           "Fantastic Four: Rise of the Silver Surfer",
           "Fantastic Four"
          ]
         ],
         "hovertemplate": "Movie Series=%{customdata[1]}<br>Release Year=%{x}<br>Rating=%{y}<br>Title=%{customdata[0]}<extra></extra>",
         "legendgroup": "Fantastic Four",
         "line": {
          "color": "#FFA15A",
          "dash": "solid",
          "shape": "linear"
         },
         "marker": {
          "symbol": "circle"
         },
         "mode": "lines+markers",
         "name": "Fantastic Four",
         "orientation": "v",
         "showlegend": true,
         "type": "scatter",
         "x": [
          2005,
          2007
         ],
         "xaxis": "x",
         "y": [
          5.7,
          5.6
         ],
         "yaxis": "y"
        },
        {
         "customdata": [
          [
           "Furious 6",
           "Fast & Furious"
          ],
          [
           "Fast & Furious 7",
           "Fast & Furious"
          ]
         ],
         "hovertemplate": "Movie Series=%{customdata[1]}<br>Release Year=%{x}<br>Rating=%{y}<br>Title=%{customdata[0]}<extra></extra>",
         "legendgroup": "Fast & Furious",
         "line": {
          "color": "#19d3f3",
          "dash": "solid",
          "shape": "linear"
         },
         "marker": {
          "symbol": "circle"
         },
         "mode": "lines+markers",
         "name": "Fast & Furious",
         "orientation": "v",
         "showlegend": true,
         "type": "scatter",
         "x": [
          2013,
          2015
         ],
         "xaxis": "x",
         "y": [
          7.1,
          7.1
         ],
         "yaxis": "y"
        },
        {
         "customdata": [
          [
           "Father of the Bride",
           "Father of the Bride"
          ],
          [
           "Father of the Bride Part II",
           "Father of the Bride"
          ]
         ],
         "hovertemplate": "Movie Series=%{customdata[1]}<br>Release Year=%{x}<br>Rating=%{y}<br>Title=%{customdata[0]}<extra></extra>",
         "legendgroup": "Father of the Bride",
         "line": {
          "color": "#FF6692",
          "dash": "solid",
          "shape": "linear"
         },
         "marker": {
          "symbol": "circle"
         },
         "mode": "lines+markers",
         "name": "Father of the Bride",
         "orientation": "v",
         "showlegend": true,
         "type": "scatter",
         "x": [
          1991,
          1995
         ],
         "xaxis": "x",
         "y": [
          6.5,
          6
         ],
         "yaxis": "y"
        },
        {
         "customdata": [
          [
           "Final Destination",
           "Final Destination"
          ],
          [
           "Final Destination 2",
           "Final Destination"
          ],
          [
           "Final Destination 3",
           "Final Destination"
          ],
          [
           "The Final Destination",
           "Final Destination"
          ],
          [
           "Final Destination 5",
           "Final Destination"
          ]
         ],
         "hovertemplate": "Movie Series=%{customdata[1]}<br>Release Year=%{x}<br>Rating=%{y}<br>Title=%{customdata[0]}<extra></extra>",
         "legendgroup": "Final Destination",
         "line": {
          "color": "#B6E880",
          "dash": "solid",
          "shape": "linear"
         },
         "marker": {
          "symbol": "circle"
         },
         "mode": "lines+markers",
         "name": "Final Destination",
         "orientation": "v",
         "showlegend": true,
         "type": "scatter",
         "x": [
          2000,
          2003,
          2006,
          2009,
          2011
         ],
         "xaxis": "x",
         "y": [
          6.7,
          6.2,
          5.8,
          5.2,
          5.8
         ],
         "yaxis": "y"
        },
        {
         "customdata": [
          [
           "Finding Nemo",
           "Finding Nemo"
          ],
          [
           "Finding Dory",
           "Finding Nemo"
          ]
         ],
         "hovertemplate": "Movie Series=%{customdata[1]}<br>Release Year=%{x}<br>Rating=%{y}<br>Title=%{customdata[0]}<extra></extra>",
         "legendgroup": "Finding Nemo",
         "line": {
          "color": "#FF97FF",
          "dash": "solid",
          "shape": "linear"
         },
         "marker": {
          "symbol": "circle"
         },
         "mode": "lines+markers",
         "name": "Finding Nemo",
         "orientation": "v",
         "showlegend": true,
         "type": "scatter",
         "x": [
          2003,
          2016
         ],
         "xaxis": "x",
         "y": [
          8.1,
          7.3
         ],
         "yaxis": "y"
        },
        {
         "customdata": [
          [
           "Fletch",
           "Fletch"
          ],
          [
           "Fletch Lives",
           "Fletch"
          ]
         ],
         "hovertemplate": "Movie Series=%{customdata[1]}<br>Release Year=%{x}<br>Rating=%{y}<br>Title=%{customdata[0]}<extra></extra>",
         "legendgroup": "Fletch",
         "line": {
          "color": "#FECB52",
          "dash": "solid",
          "shape": "linear"
         },
         "marker": {
          "symbol": "circle"
         },
         "mode": "lines+markers",
         "name": "Fletch",
         "orientation": "v",
         "showlegend": true,
         "type": "scatter",
         "x": [
          1985,
          1989
         ],
         "xaxis": "x",
         "y": [
          6.9,
          6.1
         ],
         "yaxis": "y"
        },
        {
         "customdata": [
          [
           "Fortress",
           "Fortress"
          ],
          [
           "Fortress 2",
           "Fortress"
          ]
         ],
         "hovertemplate": "Movie Series=%{customdata[1]}<br>Release Year=%{x}<br>Rating=%{y}<br>Title=%{customdata[0]}<extra></extra>",
         "legendgroup": "Fortress",
         "line": {
          "color": "#636efa",
          "dash": "solid",
          "shape": "linear"
         },
         "marker": {
          "symbol": "circle"
         },
         "mode": "lines+markers",
         "name": "Fortress",
         "orientation": "v",
         "showlegend": true,
         "type": "scatter",
         "x": [
          1992,
          2000
         ],
         "xaxis": "x",
         "y": [
          5.9,
          4.6
         ],
         "yaxis": "y"
        },
        {
         "customdata": [
          [
           "Friday the 13th",
           "Friday the 13th"
          ],
          [
           "Friday the 13th Part 2",
           "Friday the 13th"
          ],
          [
           "Friday the 13th Part III",
           "Friday the 13th"
          ],
          [
           "Friday the 13th: The Final Chapter",
           "Friday the 13th"
          ],
          [
           "Friday the 13th: A New Beginning",
           "Friday the 13th"
          ],
          [
           "Friday the 13th Part VI: Jason Lives",
           "Friday the 13th"
          ],
          [
           "Friday the 13th Part VII: The New Blood",
           "Friday the 13th"
          ],
          [
           "Friday the 13th Part VIII: Jason Takes Manhattan",
           "Friday the 13th"
          ],
          [
           "Friday the 13th",
           "Friday the 13th"
          ]
         ],
         "hovertemplate": "Movie Series=%{customdata[1]}<br>Release Year=%{x}<br>Rating=%{y}<br>Title=%{customdata[0]}<extra></extra>",
         "legendgroup": "Friday the 13th",
         "line": {
          "color": "#EF553B",
          "dash": "solid",
          "shape": "linear"
         },
         "marker": {
          "symbol": "circle"
         },
         "mode": "lines+markers",
         "name": "Friday the 13th",
         "orientation": "v",
         "showlegend": true,
         "type": "scatter",
         "x": [
          1980,
          1981,
          1982,
          1984,
          1985,
          1986,
          1988,
          1989,
          2009
         ],
         "xaxis": "x",
         "y": [
          6.5,
          6.1,
          5.7,
          6,
          4.8,
          6,
          5.3,
          4.6,
          5.5
         ],
         "yaxis": "y"
        },
        {
         "customdata": [
          [
           "Fright Night",
           "Fright Night"
          ],
          [
           "Fright Night Part 2",
           "Fright Night"
          ],
          [
           "Fright Night",
           "Fright Night"
          ]
         ],
         "hovertemplate": "Movie Series=%{customdata[1]}<br>Release Year=%{x}<br>Rating=%{y}<br>Title=%{customdata[0]}<extra></extra>",
         "legendgroup": "Fright Night",
         "line": {
          "color": "#00cc96",
          "dash": "solid",
          "shape": "linear"
         },
         "marker": {
          "symbol": "circle"
         },
         "mode": "lines+markers",
         "name": "Fright Night",
         "orientation": "v",
         "showlegend": true,
         "type": "scatter",
         "x": [
          1985,
          1988,
          2011
         ],
         "xaxis": "x",
         "y": [
          7.1,
          5.9,
          6.3
         ],
         "yaxis": "y"
        },
        {
         "customdata": [
          [
           "G.I. Joe: The Rise of Cobra",
           "G.I. Joe"
          ],
          [
           "G.I. Joe: Retaliation",
           "G.I. Joe"
          ]
         ],
         "hovertemplate": "Movie Series=%{customdata[1]}<br>Release Year=%{x}<br>Rating=%{y}<br>Title=%{customdata[0]}<extra></extra>",
         "legendgroup": "G.I. Joe",
         "line": {
          "color": "#ab63fa",
          "dash": "solid",
          "shape": "linear"
         },
         "marker": {
          "symbol": "circle"
         },
         "mode": "lines+markers",
         "name": "G.I. Joe",
         "orientation": "v",
         "showlegend": true,
         "type": "scatter",
         "x": [
          2009,
          2013
         ],
         "xaxis": "x",
         "y": [
          5.8,
          5.8
         ],
         "yaxis": "y"
        },
        {
         "customdata": [
          [
           "Garfield",
           "Garfield"
          ],
          [
           "Garfield: A Tale of Two Kitties",
           "Garfield"
          ]
         ],
         "hovertemplate": "Movie Series=%{customdata[1]}<br>Release Year=%{x}<br>Rating=%{y}<br>Title=%{customdata[0]}<extra></extra>",
         "legendgroup": "Garfield",
         "line": {
          "color": "#FFA15A",
          "dash": "solid",
          "shape": "linear"
         },
         "marker": {
          "symbol": "circle"
         },
         "mode": "lines+markers",
         "name": "Garfield",
         "orientation": "v",
         "showlegend": true,
         "type": "scatter",
         "x": [
          2004,
          2006
         ],
         "xaxis": "x",
         "y": [
          5,
          5
         ],
         "yaxis": "y"
        },
        {
         "customdata": [
          [
           "Ghost Rider",
           "Ghost Rider"
          ],
          [
           "Ghost Rider: Spirit of Vengeance",
           "Ghost Rider"
          ]
         ],
         "hovertemplate": "Movie Series=%{customdata[1]}<br>Release Year=%{x}<br>Rating=%{y}<br>Title=%{customdata[0]}<extra></extra>",
         "legendgroup": "Ghost Rider",
         "line": {
          "color": "#19d3f3",
          "dash": "solid",
          "shape": "linear"
         },
         "marker": {
          "symbol": "circle"
         },
         "mode": "lines+markers",
         "name": "Ghost Rider",
         "orientation": "v",
         "showlegend": true,
         "type": "scatter",
         "x": [
          2007,
          2011
         ],
         "xaxis": "x",
         "y": [
          5.2,
          4.3
         ],
         "yaxis": "y"
        },
        {
         "customdata": [
          [
           "Ghostbusters",
           "Ghostbusters"
          ],
          [
           "Ghostbusters II",
           "Ghostbusters"
          ]
         ],
         "hovertemplate": "Movie Series=%{customdata[1]}<br>Release Year=%{x}<br>Rating=%{y}<br>Title=%{customdata[0]}<extra></extra>",
         "legendgroup": "Ghostbusters",
         "line": {
          "color": "#FF6692",
          "dash": "solid",
          "shape": "linear"
         },
         "marker": {
          "symbol": "circle"
         },
         "mode": "lines+markers",
         "name": "Ghostbusters",
         "orientation": "v",
         "showlegend": true,
         "type": "scatter",
         "x": [
          1984,
          1989
         ],
         "xaxis": "x",
         "y": [
          7.8,
          6.6
         ],
         "yaxis": "y"
        },
        {
         "customdata": [
          [
           "Goon",
           "Goon"
          ],
          [
           "Goon: Last of the Enforcers",
           "Goon"
          ]
         ],
         "hovertemplate": "Movie Series=%{customdata[1]}<br>Release Year=%{x}<br>Rating=%{y}<br>Title=%{customdata[0]}<extra></extra>",
         "legendgroup": "Goon",
         "line": {
          "color": "#B6E880",
          "dash": "solid",
          "shape": "linear"
         },
         "marker": {
          "symbol": "circle"
         },
         "mode": "lines+markers",
         "name": "Goon",
         "orientation": "v",
         "showlegend": true,
         "type": "scatter",
         "x": [
          2011,
          2017
         ],
         "xaxis": "x",
         "y": [
          6.8,
          5.8
         ],
         "yaxis": "y"
        },
        {
         "customdata": [
          [
           "Grave Encounters",
           "Grave Encounters"
          ],
          [
           "Grave Encounters 2",
           "Grave Encounters"
          ]
         ],
         "hovertemplate": "Movie Series=%{customdata[1]}<br>Release Year=%{x}<br>Rating=%{y}<br>Title=%{customdata[0]}<extra></extra>",
         "legendgroup": "Grave Encounters",
         "line": {
          "color": "#FF97FF",
          "dash": "solid",
          "shape": "linear"
         },
         "marker": {
          "symbol": "circle"
         },
         "mode": "lines+markers",
         "name": "Grave Encounters",
         "orientation": "v",
         "showlegend": true,
         "type": "scatter",
         "x": [
          2011,
          2012
         ],
         "xaxis": "x",
         "y": [
          6.1,
          5.1
         ],
         "yaxis": "y"
        },
        {
         "customdata": [
          [
           "Gremlins",
           "Gremlins"
          ],
          [
           "Gremlins 2: The New Batch",
           "Gremlins"
          ]
         ],
         "hovertemplate": "Movie Series=%{customdata[1]}<br>Release Year=%{x}<br>Rating=%{y}<br>Title=%{customdata[0]}<extra></extra>",
         "legendgroup": "Gremlins",
         "line": {
          "color": "#FECB52",
          "dash": "solid",
          "shape": "linear"
         },
         "marker": {
          "symbol": "circle"
         },
         "mode": "lines+markers",
         "name": "Gremlins",
         "orientation": "v",
         "showlegend": true,
         "type": "scatter",
         "x": [
          1984,
          1990
         ],
         "xaxis": "x",
         "y": [
          7.3,
          6.4
         ],
         "yaxis": "y"
        },
        {
         "customdata": [
          [
           "Guardians of the Galaxy",
           "Guardians of the Galaxy"
          ],
          [
           "Guardians of the Galaxy Vol. 2",
           "Guardians of the Galaxy"
          ],
          [
           "Guardians of the Galaxy Vol. 3",
           "Guardians of the Galaxy"
          ]
         ],
         "hovertemplate": "Movie Series=%{customdata[1]}<br>Release Year=%{x}<br>Rating=%{y}<br>Title=%{customdata[0]}<extra></extra>",
         "legendgroup": "Guardians of the Galaxy",
         "line": {
          "color": "#636efa",
          "dash": "solid",
          "shape": "linear"
         },
         "marker": {
          "symbol": "circle"
         },
         "mode": "lines+markers",
         "name": "Guardians of the Galaxy",
         "orientation": "v",
         "showlegend": true,
         "type": "scatter",
         "x": [
          2014,
          2017,
          2023
         ],
         "xaxis": "x",
         "y": [
          8,
          7.6,
          7.9
         ],
         "yaxis": "y"
        },
        {
         "customdata": [
          [
           "Halloween",
           "Halloween"
          ],
          [
           "Halloween II",
           "Halloween"
          ],
          [
           "Halloween III: Season of the Witch",
           "Halloween"
          ],
          [
           "Halloween 4: The Return of Michael Myers",
           "Halloween"
          ],
          [
           "Halloween 5: The Revenge of Michael Myers",
           "Halloween"
          ],
          [
           "Halloween: The Curse of Michael Myers",
           "Halloween"
          ],
          [
           "Halloween H20: 20 Years Later",
           "Halloween"
          ],
          [
           "Halloween: Resurrection",
           "Halloween"
          ],
          [
           "Halloween",
           "Halloween"
          ],
          [
           "Halloween II",
           "Halloween"
          ],
          [
           "Halloween",
           "Halloween"
          ]
         ],
         "hovertemplate": "Movie Series=%{customdata[1]}<br>Release Year=%{x}<br>Rating=%{y}<br>Title=%{customdata[0]}<extra></extra>",
         "legendgroup": "Halloween",
         "line": {
          "color": "#EF553B",
          "dash": "solid",
          "shape": "linear"
         },
         "marker": {
          "symbol": "circle"
         },
         "mode": "lines+markers",
         "name": "Halloween",
         "orientation": "v",
         "showlegend": true,
         "type": "scatter",
         "x": [
          1978,
          1981,
          1982,
          1988,
          1989,
          1995,
          1998,
          2002,
          2007,
          2009,
          2018
         ],
         "xaxis": "x",
         "y": [
          7.8,
          6.5,
          4.9,
          5.9,
          5.2,
          4.9,
          5.8,
          4,
          6.1,
          4.9,
          6.6
         ],
         "yaxis": "y"
        },
        {
         "customdata": [
          [
           "Hannibal",
           "Hannibal"
          ],
          [
           "Hannibal Rising",
           "Hannibal"
          ]
         ],
         "hovertemplate": "Movie Series=%{customdata[1]}<br>Release Year=%{x}<br>Rating=%{y}<br>Title=%{customdata[0]}<extra></extra>",
         "legendgroup": "Hannibal",
         "line": {
          "color": "#00cc96",
          "dash": "solid",
          "shape": "linear"
         },
         "marker": {
          "symbol": "circle"
         },
         "mode": "lines+markers",
         "name": "Hannibal",
         "orientation": "v",
         "showlegend": true,
         "type": "scatter",
         "x": [
          2001,
          2007
         ],
         "xaxis": "x",
         "y": [
          6.8,
          6.2
         ],
         "yaxis": "y"
        },
        {
         "customdata": [
          [
           "Happy Death Day",
           "Happy Death Day"
          ],
          [
           "Happy Death Day 2U",
           "Happy Death Day"
          ]
         ],
         "hovertemplate": "Movie Series=%{customdata[1]}<br>Release Year=%{x}<br>Rating=%{y}<br>Title=%{customdata[0]}<extra></extra>",
         "legendgroup": "Happy Death Day",
         "line": {
          "color": "#ab63fa",
          "dash": "solid",
          "shape": "linear"
         },
         "marker": {
          "symbol": "circle"
         },
         "mode": "lines+markers",
         "name": "Happy Death Day",
         "orientation": "v",
         "showlegend": true,
         "type": "scatter",
         "x": [
          2017,
          2019
         ],
         "xaxis": "x",
         "y": [
          6.5,
          6.2
         ],
         "yaxis": "y"
        },
        {
         "customdata": [
          [
           "Happy Feet",
           "Happy Feet"
          ],
          [
           "Happy Feet Two",
           "Happy Feet"
          ]
         ],
         "hovertemplate": "Movie Series=%{customdata[1]}<br>Release Year=%{x}<br>Rating=%{y}<br>Title=%{customdata[0]}<extra></extra>",
         "legendgroup": "Happy Feet",
         "line": {
          "color": "#FFA15A",
          "dash": "solid",
          "shape": "linear"
         },
         "marker": {
          "symbol": "circle"
         },
         "mode": "lines+markers",
         "name": "Happy Feet",
         "orientation": "v",
         "showlegend": true,
         "type": "scatter",
         "x": [
          2006,
          2011
         ],
         "xaxis": "x",
         "y": [
          6.4,
          5.9
         ],
         "yaxis": "y"
        },
        {
         "customdata": [
          [
           "Harold & Kumar Go to White Castle",
           "Harold & Kumar"
          ],
          [
           "Harold & Kumar Escape from Guantanamo Bay",
           "Harold & Kumar"
          ],
          [
           "A Very Harold & Kumar 3D Christmas",
           "Harold & Kumar"
          ]
         ],
         "hovertemplate": "Movie Series=%{customdata[1]}<br>Release Year=%{x}<br>Rating=%{y}<br>Title=%{customdata[0]}<extra></extra>",
         "legendgroup": "Harold & Kumar",
         "line": {
          "color": "#19d3f3",
          "dash": "solid",
          "shape": "linear"
         },
         "marker": {
          "symbol": "circle"
         },
         "mode": "lines+markers",
         "name": "Harold & Kumar",
         "orientation": "v",
         "showlegend": true,
         "type": "scatter",
         "x": [
          2004,
          2008,
          2011
         ],
         "xaxis": "x",
         "y": [
          7.1,
          6.6,
          6.3
         ],
         "yaxis": "y"
        },
        {
         "customdata": [
          [
           "Harry Potter and the Sorcerer's Stone",
           "Harry Potter"
          ],
          [
           "Harry Potter and the Chamber of Secrets",
           "Harry Potter"
          ],
          [
           "Harry Potter and the Prisoner of Azkaban",
           "Harry Potter"
          ],
          [
           "Harry Potter and the Goblet of Fire",
           "Harry Potter"
          ],
          [
           "Harry Potter and the Order of the Phoenix",
           "Harry Potter"
          ],
          [
           "Harry Potter and the Half-Blood Prince",
           "Harry Potter"
          ],
          [
           "Harry Potter and the Deathly Hallows: Part 1",
           "Harry Potter"
          ],
          [
           "Harry Potter and the Deathly Hallows: Part 2",
           "Harry Potter"
          ]
         ],
         "hovertemplate": "Movie Series=%{customdata[1]}<br>Release Year=%{x}<br>Rating=%{y}<br>Title=%{customdata[0]}<extra></extra>",
         "legendgroup": "Harry Potter",
         "line": {
          "color": "#FF6692",
          "dash": "solid",
          "shape": "linear"
         },
         "marker": {
          "symbol": "circle"
         },
         "mode": "lines+markers",
         "name": "Harry Potter",
         "orientation": "v",
         "showlegend": true,
         "type": "scatter",
         "x": [
          2001,
          2002,
          2004,
          2005,
          2007,
          2009,
          2010,
          2011
         ],
         "xaxis": "x",
         "y": [
          7.6,
          7.4,
          7.9,
          7.7,
          7.5,
          7.6,
          7.7,
          8.1
         ],
         "yaxis": "y"
        },
        {
         "customdata": [
          [
           "Hellboy",
           "Hellboy"
          ],
          [
           "Hellboy II: The Golden Army",
           "Hellboy"
          ]
         ],
         "hovertemplate": "Movie Series=%{customdata[1]}<br>Release Year=%{x}<br>Rating=%{y}<br>Title=%{customdata[0]}<extra></extra>",
         "legendgroup": "Hellboy",
         "line": {
          "color": "#B6E880",
          "dash": "solid",
          "shape": "linear"
         },
         "marker": {
          "symbol": "circle"
         },
         "mode": "lines+markers",
         "name": "Hellboy",
         "orientation": "v",
         "showlegend": true,
         "type": "scatter",
         "x": [
          2004,
          2008
         ],
         "xaxis": "x",
         "y": [
          6.8,
          7
         ],
         "yaxis": "y"
        },
        {
         "customdata": [
          [
           "Hellraiser",
           "Hellraiser"
          ],
          [
           "Hellraiser III: Hell on Earth",
           "Hellraiser"
          ],
          [
           "Hellraiser: Bloodline",
           "Hellraiser"
          ],
          [
           "Hellraiser: Revelations",
           "Hellraiser"
          ]
         ],
         "hovertemplate": "Movie Series=%{customdata[1]}<br>Release Year=%{x}<br>Rating=%{y}<br>Title=%{customdata[0]}<extra></extra>",
         "legendgroup": "Hellraiser",
         "line": {
          "color": "#FF97FF",
          "dash": "solid",
          "shape": "linear"
         },
         "marker": {
          "symbol": "circle"
         },
         "mode": "lines+markers",
         "name": "Hellraiser",
         "orientation": "v",
         "showlegend": true,
         "type": "scatter",
         "x": [
          1987,
          1992,
          1996,
          2011
         ],
         "xaxis": "x",
         "y": [
          7,
          5.5,
          5.2,
          2.7
         ],
         "yaxis": "y"
        },
        {
         "customdata": [
          [
           "Home Alone",
           "Home Alone"
          ],
          [
           "Home Alone 2: Lost in New York",
           "Home Alone"
          ],
          [
           "Home Alone 3",
           "Home Alone"
          ]
         ],
         "hovertemplate": "Movie Series=%{customdata[1]}<br>Release Year=%{x}<br>Rating=%{y}<br>Title=%{customdata[0]}<extra></extra>",
         "legendgroup": "Home Alone",
         "line": {
          "color": "#FECB52",
          "dash": "solid",
          "shape": "linear"
         },
         "marker": {
          "symbol": "circle"
         },
         "mode": "lines+markers",
         "name": "Home Alone",
         "orientation": "v",
         "showlegend": true,
         "type": "scatter",
         "x": [
          1990,
          1992,
          1997
         ],
         "xaxis": "x",
         "y": [
          7.6,
          6.8,
          4.5
         ],
         "yaxis": "y"
        },
        {
         "customdata": [
          [
           "Honey",
           "Honey"
          ],
          [
           "Honey 2",
           "Honey"
          ]
         ],
         "hovertemplate": "Movie Series=%{customdata[1]}<br>Release Year=%{x}<br>Rating=%{y}<br>Title=%{customdata[0]}<extra></extra>",
         "legendgroup": "Honey",
         "line": {
          "color": "#636efa",
          "dash": "solid",
          "shape": "linear"
         },
         "marker": {
          "symbol": "circle"
         },
         "mode": "lines+markers",
         "name": "Honey",
         "orientation": "v",
         "showlegend": true,
         "type": "scatter",
         "x": [
          2003,
          2011
         ],
         "xaxis": "x",
         "y": [
          5.4,
          5.3
         ],
         "yaxis": "y"
        },
        {
         "customdata": [
          [
           "Honey, I Shrunk the Kids",
           "Honey,  Shrunk the Kids"
          ],
          [
           "Honey, I Blew Up the Kid",
           "Honey,  Shrunk the Kids"
          ]
         ],
         "hovertemplate": "Movie Series=%{customdata[1]}<br>Release Year=%{x}<br>Rating=%{y}<br>Title=%{customdata[0]}<extra></extra>",
         "legendgroup": "Honey,  Shrunk the Kids",
         "line": {
          "color": "#EF553B",
          "dash": "solid",
          "shape": "linear"
         },
         "marker": {
          "symbol": "circle"
         },
         "mode": "lines+markers",
         "name": "Honey,  Shrunk the Kids",
         "orientation": "v",
         "showlegend": true,
         "type": "scatter",
         "x": [
          1989,
          1992
         ],
         "xaxis": "x",
         "y": [
          6.3,
          4.8
         ],
         "yaxis": "y"
        },
        {
         "customdata": [
          [
           "Horrible Bosses",
           "Horrible Bosses"
          ],
          [
           "Horrible Bosses 2",
           "Horrible Bosses"
          ]
         ],
         "hovertemplate": "Movie Series=%{customdata[1]}<br>Release Year=%{x}<br>Rating=%{y}<br>Title=%{customdata[0]}<extra></extra>",
         "legendgroup": "Horrible Bosses",
         "line": {
          "color": "#00cc96",
          "dash": "solid",
          "shape": "linear"
         },
         "marker": {
          "symbol": "circle"
         },
         "mode": "lines+markers",
         "name": "Horrible Bosses",
         "orientation": "v",
         "showlegend": true,
         "type": "scatter",
         "x": [
          2011,
          2014
         ],
         "xaxis": "x",
         "y": [
          6.9,
          6.3
         ],
         "yaxis": "y"
        },
        {
         "customdata": [
          [
           "Hostel",
           "Hostel"
          ],
          [
           "Hostel: Part II",
           "Hostel"
          ]
         ],
         "hovertemplate": "Movie Series=%{customdata[1]}<br>Release Year=%{x}<br>Rating=%{y}<br>Title=%{customdata[0]}<extra></extra>",
         "legendgroup": "Hostel",
         "line": {
          "color": "#ab63fa",
          "dash": "solid",
          "shape": "linear"
         },
         "marker": {
          "symbol": "circle"
         },
         "mode": "lines+markers",
         "name": "Hostel",
         "orientation": "v",
         "showlegend": true,
         "type": "scatter",
         "x": [
          2005,
          2007
         ],
         "xaxis": "x",
         "y": [
          5.9,
          5.5
         ],
         "yaxis": "y"
        },
        {
         "customdata": [
          [
           "Hot Shots!",
           "Hot Shots!"
          ],
          [
           "Hot Shots! Part Deux",
           "Hot Shots!"
          ]
         ],
         "hovertemplate": "Movie Series=%{customdata[1]}<br>Release Year=%{x}<br>Rating=%{y}<br>Title=%{customdata[0]}<extra></extra>",
         "legendgroup": "Hot Shots!",
         "line": {
          "color": "#FFA15A",
          "dash": "solid",
          "shape": "linear"
         },
         "marker": {
          "symbol": "circle"
         },
         "mode": "lines+markers",
         "name": "Hot Shots!",
         "orientation": "v",
         "showlegend": true,
         "type": "scatter",
         "x": [
          1991,
          1993
         ],
         "xaxis": "x",
         "y": [
          6.8,
          6.6
         ],
         "yaxis": "y"
        },
        {
         "customdata": [
          [
           "Hot Tub Time Machine",
           "Hot Tub Time Machine"
          ],
          [
           "Hot Tub Time Machine 2",
           "Hot Tub Time Machine"
          ]
         ],
         "hovertemplate": "Movie Series=%{customdata[1]}<br>Release Year=%{x}<br>Rating=%{y}<br>Title=%{customdata[0]}<extra></extra>",
         "legendgroup": "Hot Tub Time Machine",
         "line": {
          "color": "#19d3f3",
          "dash": "solid",
          "shape": "linear"
         },
         "marker": {
          "symbol": "circle"
         },
         "mode": "lines+markers",
         "name": "Hot Tub Time Machine",
         "orientation": "v",
         "showlegend": true,
         "type": "scatter",
         "x": [
          2010,
          2015
         ],
         "xaxis": "x",
         "y": [
          6.4,
          5.1
         ],
         "yaxis": "y"
        },
        {
         "customdata": [
          [
           "Hotel Transylvania",
           "Hotel Transylvania"
          ],
          [
           "Hotel Transylvania 2",
           "Hotel Transylvania"
          ],
          [
           "Hotel Transylvania 3: Summer Vacation",
           "Hotel Transylvania"
          ]
         ],
         "hovertemplate": "Movie Series=%{customdata[1]}<br>Release Year=%{x}<br>Rating=%{y}<br>Title=%{customdata[0]}<extra></extra>",
         "legendgroup": "Hotel Transylvania",
         "line": {
          "color": "#FF6692",
          "dash": "solid",
          "shape": "linear"
         },
         "marker": {
          "symbol": "circle"
         },
         "mode": "lines+markers",
         "name": "Hotel Transylvania",
         "orientation": "v",
         "showlegend": true,
         "type": "scatter",
         "x": [
          2012,
          2015,
          2018
         ],
         "xaxis": "x",
         "y": [
          7.1,
          6.7,
          6.3
         ],
         "yaxis": "y"
        },
        {
         "customdata": [
          [
           "How to Train Your Dragon",
           "How to Train Your Dragon"
          ],
          [
           "How to Train Your Dragon 2",
           "How to Train Your Dragon"
          ],
          [
           "How to Train Your Dragon: The Hidden World",
           "How to Train Your Dragon"
          ]
         ],
         "hovertemplate": "Movie Series=%{customdata[1]}<br>Release Year=%{x}<br>Rating=%{y}<br>Title=%{customdata[0]}<extra></extra>",
         "legendgroup": "How to Train Your Dragon",
         "line": {
          "color": "#B6E880",
          "dash": "solid",
          "shape": "linear"
         },
         "marker": {
          "symbol": "circle"
         },
         "mode": "lines+markers",
         "name": "How to Train Your Dragon",
         "orientation": "v",
         "showlegend": true,
         "type": "scatter",
         "x": [
          2010,
          2014,
          2019
         ],
         "xaxis": "x",
         "y": [
          8.1,
          7.8,
          7.5
         ],
         "yaxis": "y"
        },
        {
         "customdata": [
          [
           "I Know What You Did Last Summer",
           "I Know What You Did Last Summer"
          ],
          [
           "I Still Know What You Did Last Summer",
           "I Know What You Did Last Summer"
          ]
         ],
         "hovertemplate": "Movie Series=%{customdata[1]}<br>Release Year=%{x}<br>Rating=%{y}<br>Title=%{customdata[0]}<extra></extra>",
         "legendgroup": "I Know What You Did Last Summer",
         "line": {
          "color": "#FF97FF",
          "dash": "solid",
          "shape": "linear"
         },
         "marker": {
          "symbol": "circle"
         },
         "mode": "lines+markers",
         "name": "I Know What You Did Last Summer",
         "orientation": "v",
         "showlegend": true,
         "type": "scatter",
         "x": [
          1997,
          1998
         ],
         "xaxis": "x",
         "y": [
          5.7,
          4.7
         ],
         "yaxis": "y"
        },
        {
         "customdata": [
          [
           "I Spit on Your Grave",
           "I Spit on Your Grave"
          ],
          [
           "I Spit on Your Grave 2",
           "I Spit on Your Grave"
          ]
         ],
         "hovertemplate": "Movie Series=%{customdata[1]}<br>Release Year=%{x}<br>Rating=%{y}<br>Title=%{customdata[0]}<extra></extra>",
         "legendgroup": "I Spit on Your Grave",
         "line": {
          "color": "#FECB52",
          "dash": "solid",
          "shape": "linear"
         },
         "marker": {
          "symbol": "circle"
         },
         "mode": "lines+markers",
         "name": "I Spit on Your Grave",
         "orientation": "v",
         "showlegend": true,
         "type": "scatter",
         "x": [
          2010,
          2013
         ],
         "xaxis": "x",
         "y": [
          6.3,
          5.7
         ],
         "yaxis": "y"
        },
        {
         "customdata": [
          [
           "Ice Age",
           "Ice Age"
          ],
          [
           "Ice Age: The Meltdown",
           "Ice Age"
          ],
          [
           "Ice Age: Dawn of the Dinosaurs",
           "Ice Age"
          ],
          [
           "Ice Age: Continental Drift",
           "Ice Age"
          ]
         ],
         "hovertemplate": "Movie Series=%{customdata[1]}<br>Release Year=%{x}<br>Rating=%{y}<br>Title=%{customdata[0]}<extra></extra>",
         "legendgroup": "Ice Age",
         "line": {
          "color": "#636efa",
          "dash": "solid",
          "shape": "linear"
         },
         "marker": {
          "symbol": "circle"
         },
         "mode": "lines+markers",
         "name": "Ice Age",
         "orientation": "v",
         "showlegend": true,
         "type": "scatter",
         "x": [
          2002,
          2006,
          2009,
          2012
         ],
         "xaxis": "x",
         "y": [
          7.5,
          6.8,
          6.9,
          6.6
         ],
         "yaxis": "y"
        },
        {
         "customdata": [
          [
           "In the Name of the King: A Dungeon Siege Tale",
           "In the Name of the King"
          ],
          [
           "In the Name of the King: Two Worlds",
           "In the Name of the King"
          ],
          [
           "In the Name of the King: The Last Mission",
           "In the Name of the King"
          ]
         ],
         "hovertemplate": "Movie Series=%{customdata[1]}<br>Release Year=%{x}<br>Rating=%{y}<br>Title=%{customdata[0]}<extra></extra>",
         "legendgroup": "In the Name of the King",
         "line": {
          "color": "#EF553B",
          "dash": "solid",
          "shape": "linear"
         },
         "marker": {
          "symbol": "circle"
         },
         "mode": "lines+markers",
         "name": "In the Name of the King",
         "orientation": "v",
         "showlegend": true,
         "type": "scatter",
         "x": [
          2007,
          2011,
          2014
         ],
         "xaxis": "x",
         "y": [
          3.8,
          3.1,
          3.1
         ],
         "yaxis": "y"
        },
        {
         "customdata": [
          [
           "Independence Day",
           "Independence Day"
          ],
          [
           "Independence Day: Resurgence",
           "Independence Day"
          ]
         ],
         "hovertemplate": "Movie Series=%{customdata[1]}<br>Release Year=%{x}<br>Rating=%{y}<br>Title=%{customdata[0]}<extra></extra>",
         "legendgroup": "Independence Day",
         "line": {
          "color": "#00cc96",
          "dash": "solid",
          "shape": "linear"
         },
         "marker": {
          "symbol": "circle"
         },
         "mode": "lines+markers",
         "name": "Independence Day",
         "orientation": "v",
         "showlegend": true,
         "type": "scatter",
         "x": [
          1996,
          2016
         ],
         "xaxis": "x",
         "y": [
          7,
          5.2
         ],
         "yaxis": "y"
        },
        {
         "customdata": [
          [
           "Indiana Jones and the Temple of Doom",
           "Indiana Jones"
          ],
          [
           "Indiana Jones and the Last Crusade",
           "Indiana Jones"
          ],
          [
           "Indiana Jones and the Kingdom of the Crystal Skull",
           "Indiana Jones"
          ]
         ],
         "hovertemplate": "Movie Series=%{customdata[1]}<br>Release Year=%{x}<br>Rating=%{y}<br>Title=%{customdata[0]}<extra></extra>",
         "legendgroup": "Indiana Jones",
         "line": {
          "color": "#ab63fa",
          "dash": "solid",
          "shape": "linear"
         },
         "marker": {
          "symbol": "circle"
         },
         "mode": "lines+markers",
         "name": "Indiana Jones",
         "orientation": "v",
         "showlegend": true,
         "type": "scatter",
         "x": [
          1984,
          1989,
          2008
         ],
         "xaxis": "x",
         "y": [
          7.6,
          8.2,
          6.1
         ],
         "yaxis": "y"
        },
        {
         "customdata": [
          [
           "Insidious",
           "Insidious"
          ],
          [
           "Insidious: Chapter 2",
           "Insidious"
          ],
          [
           "Insidious: Chapter 3",
           "Insidious"
          ]
         ],
         "hovertemplate": "Movie Series=%{customdata[1]}<br>Release Year=%{x}<br>Rating=%{y}<br>Title=%{customdata[0]}<extra></extra>",
         "legendgroup": "Insidious",
         "line": {
          "color": "#FFA15A",
          "dash": "solid",
          "shape": "linear"
         },
         "marker": {
          "symbol": "circle"
         },
         "mode": "lines+markers",
         "name": "Insidious",
         "orientation": "v",
         "showlegend": true,
         "type": "scatter",
         "x": [
          2010,
          2013,
          2015
         ],
         "xaxis": "x",
         "y": [
          6.8,
          6.6,
          6.1
         ],
         "yaxis": "y"
        },
        {
         "customdata": [
          [
           "Iron Man",
           "Iron Man"
          ],
          [
           "Iron Man 2",
           "Iron Man"
          ],
          [
           "Iron Man Three",
           "Iron Man"
          ]
         ],
         "hovertemplate": "Movie Series=%{customdata[1]}<br>Release Year=%{x}<br>Rating=%{y}<br>Title=%{customdata[0]}<extra></extra>",
         "legendgroup": "Iron Man",
         "line": {
          "color": "#19d3f3",
          "dash": "solid",
          "shape": "linear"
         },
         "marker": {
          "symbol": "circle"
         },
         "mode": "lines+markers",
         "name": "Iron Man",
         "orientation": "v",
         "showlegend": true,
         "type": "scatter",
         "x": [
          2008,
          2010,
          2013
         ],
         "xaxis": "x",
         "y": [
          7.9,
          7,
          7.2
         ],
         "yaxis": "y"
        },
        {
         "customdata": [
          [
           "It",
           "It"
          ],
          [
           "It Chapter Two",
           "It"
          ]
         ],
         "hovertemplate": "Movie Series=%{customdata[1]}<br>Release Year=%{x}<br>Rating=%{y}<br>Title=%{customdata[0]}<extra></extra>",
         "legendgroup": "It",
         "line": {
          "color": "#FF6692",
          "dash": "solid",
          "shape": "linear"
         },
         "marker": {
          "symbol": "circle"
         },
         "mode": "lines+markers",
         "name": "It",
         "orientation": "v",
         "showlegend": true,
         "type": "scatter",
         "x": [
          2017,
          2019
         ],
         "xaxis": "x",
         "y": [
          7.3,
          6.6
         ],
         "yaxis": "y"
        },
        {
         "customdata": [
          [
           "Jeepers Creepers",
           "Jeepers Creepers"
          ],
          [
           "Jeepers Creepers 2",
           "Jeepers Creepers"
          ],
          [
           "Jeepers Creepers 3",
           "Jeepers Creepers"
          ]
         ],
         "hovertemplate": "Movie Series=%{customdata[1]}<br>Release Year=%{x}<br>Rating=%{y}<br>Title=%{customdata[0]}<extra></extra>",
         "legendgroup": "Jeepers Creepers",
         "line": {
          "color": "#B6E880",
          "dash": "solid",
          "shape": "linear"
         },
         "marker": {
          "symbol": "circle"
         },
         "mode": "lines+markers",
         "name": "Jeepers Creepers",
         "orientation": "v",
         "showlegend": true,
         "type": "scatter",
         "x": [
          2001,
          2003,
          2017
         ],
         "xaxis": "x",
         "y": [
          6.2,
          5.6,
          3.9
         ],
         "yaxis": "y"
        },
        {
         "customdata": [
          [
           "John Wick",
           "John Wick"
          ],
          [
           "John Wick: Chapter 2",
           "John Wick"
          ],
          [
           "John Wick: Chapter 3 - Parabellum",
           "John Wick"
          ],
          [
           "John Wick: Chapter 4",
           "John Wick"
          ]
         ],
         "hovertemplate": "Movie Series=%{customdata[1]}<br>Release Year=%{x}<br>Rating=%{y}<br>Title=%{customdata[0]}<extra></extra>",
         "legendgroup": "John Wick",
         "line": {
          "color": "#FF97FF",
          "dash": "solid",
          "shape": "linear"
         },
         "marker": {
          "symbol": "circle"
         },
         "mode": "lines+markers",
         "name": "John Wick",
         "orientation": "v",
         "showlegend": true,
         "type": "scatter",
         "x": [
          2014,
          2017,
          2019,
          2022
         ],
         "xaxis": "x",
         "y": [
          7.4,
          7.5,
          7.5,
          7.7
         ],
         "yaxis": "y"
        },
        {
         "customdata": [
          [
           "Johnny English",
           "Johnny English"
          ],
          [
           "Johnny English Reborn",
           "Johnny English"
          ],
          [
           "Johnny English Strikes Again",
           "Johnny English"
          ]
         ],
         "hovertemplate": "Movie Series=%{customdata[1]}<br>Release Year=%{x}<br>Rating=%{y}<br>Title=%{customdata[0]}<extra></extra>",
         "legendgroup": "Johnny English",
         "line": {
          "color": "#FECB52",
          "dash": "solid",
          "shape": "linear"
         },
         "marker": {
          "symbol": "circle"
         },
         "mode": "lines+markers",
         "name": "Johnny English",
         "orientation": "v",
         "showlegend": true,
         "type": "scatter",
         "x": [
          2003,
          2011,
          2018
         ],
         "xaxis": "x",
         "y": [
          6.2,
          6.3,
          6.2
         ],
         "yaxis": "y"
        },
        {
         "customdata": [
          [
           "Jurassic Park",
           "Jurassic Park"
          ],
          [
           "The Lost World: Jurassic Park",
           "Jurassic Park"
          ],
          [
           "Jurassic Park III",
           "Jurassic Park"
          ],
          [
           "Jurassic World",
           "Jurassic Park"
          ]
         ],
         "hovertemplate": "Movie Series=%{customdata[1]}<br>Release Year=%{x}<br>Rating=%{y}<br>Title=%{customdata[0]}<extra></extra>",
         "legendgroup": "Jurassic Park",
         "line": {
          "color": "#636efa",
          "dash": "solid",
          "shape": "linear"
         },
         "marker": {
          "symbol": "circle"
         },
         "mode": "lines+markers",
         "name": "Jurassic Park",
         "orientation": "v",
         "showlegend": true,
         "type": "scatter",
         "x": [
          1993,
          1997,
          2001,
          2015
         ],
         "xaxis": "x",
         "y": [
          8.1,
          6.6,
          5.9,
          7
         ],
         "yaxis": "y"
        },
        {
         "customdata": [
          [
           "Kick-Ass",
           "Kick-Ass"
          ],
          [
           "Kick-Ass 2",
           "Kick-Ass"
          ]
         ],
         "hovertemplate": "Movie Series=%{customdata[1]}<br>Release Year=%{x}<br>Rating=%{y}<br>Title=%{customdata[0]}<extra></extra>",
         "legendgroup": "Kick-Ass",
         "line": {
          "color": "#EF553B",
          "dash": "solid",
          "shape": "linear"
         },
         "marker": {
          "symbol": "circle"
         },
         "mode": "lines+markers",
         "name": "Kick-Ass",
         "orientation": "v",
         "showlegend": true,
         "type": "scatter",
         "x": [
          2010,
          2013
         ],
         "xaxis": "x",
         "y": [
          7.6,
          6.5
         ],
         "yaxis": "y"
        },
        {
         "customdata": [
          [
           "Kill Bill: Vol. 1",
           "Kill Bill"
          ],
          [
           "Kill Bill: Vol. 2",
           "Kill Bill"
          ]
         ],
         "hovertemplate": "Movie Series=%{customdata[1]}<br>Release Year=%{x}<br>Rating=%{y}<br>Title=%{customdata[0]}<extra></extra>",
         "legendgroup": "Kill Bill",
         "line": {
          "color": "#00cc96",
          "dash": "solid",
          "shape": "linear"
         },
         "marker": {
          "symbol": "circle"
         },
         "mode": "lines+markers",
         "name": "Kill Bill",
         "orientation": "v",
         "showlegend": true,
         "type": "scatter",
         "x": [
          2003,
          2004
         ],
         "xaxis": "x",
         "y": [
          8.1,
          8
         ],
         "yaxis": "y"
        },
        {
         "customdata": [
          [
           "Kingsman: The Secret Service",
           "Kingsman"
          ],
          [
           "Kingsman: The Golden Circle",
           "Kingsman"
          ]
         ],
         "hovertemplate": "Movie Series=%{customdata[1]}<br>Release Year=%{x}<br>Rating=%{y}<br>Title=%{customdata[0]}<extra></extra>",
         "legendgroup": "Kingsman",
         "line": {
          "color": "#ab63fa",
          "dash": "solid",
          "shape": "linear"
         },
         "marker": {
          "symbol": "circle"
         },
         "mode": "lines+markers",
         "name": "Kingsman",
         "orientation": "v",
         "showlegend": true,
         "type": "scatter",
         "x": [
          2014,
          2017
         ],
         "xaxis": "x",
         "y": [
          7.7,
          6.7
         ],
         "yaxis": "y"
        },
        {
         "customdata": [
          [
           "Kung Fu Panda",
           "Kung Fu Panda"
          ],
          [
           "Kung Fu Panda 2",
           "Kung Fu Panda"
          ]
         ],
         "hovertemplate": "Movie Series=%{customdata[1]}<br>Release Year=%{x}<br>Rating=%{y}<br>Title=%{customdata[0]}<extra></extra>",
         "legendgroup": "Kung Fu Panda",
         "line": {
          "color": "#FFA15A",
          "dash": "solid",
          "shape": "linear"
         },
         "marker": {
          "symbol": "circle"
         },
         "mode": "lines+markers",
         "name": "Kung Fu Panda",
         "orientation": "v",
         "showlegend": true,
         "type": "scatter",
         "x": [
          2008,
          2011
         ],
         "xaxis": "x",
         "y": [
          7.5,
          7.2
         ],
         "yaxis": "y"
        },
        {
         "customdata": [
          [
           "Lara Croft: Tomb Raider",
           "Lara Croft"
          ],
          [
           "Lara Croft Tomb Raider: The Cradle of Life",
           "Lara Croft"
          ]
         ],
         "hovertemplate": "Movie Series=%{customdata[1]}<br>Release Year=%{x}<br>Rating=%{y}<br>Title=%{customdata[0]}<extra></extra>",
         "legendgroup": "Lara Croft",
         "line": {
          "color": "#19d3f3",
          "dash": "solid",
          "shape": "linear"
         },
         "marker": {
          "symbol": "circle"
         },
         "mode": "lines+markers",
         "name": "Lara Croft",
         "orientation": "v",
         "showlegend": true,
         "type": "scatter",
         "x": [
          2001,
          2003
         ],
         "xaxis": "x",
         "y": [
          5.8,
          5.5
         ],
         "yaxis": "y"
        },
        {
         "customdata": [
          [
           "The Lawnmower Man",
           "Lawnmower Man"
          ],
          [
           "Lawnmower Man 2: Beyond Cyberspace",
           "Lawnmower Man"
          ]
         ],
         "hovertemplate": "Movie Series=%{customdata[1]}<br>Release Year=%{x}<br>Rating=%{y}<br>Title=%{customdata[0]}<extra></extra>",
         "legendgroup": "Lawnmower Man",
         "line": {
          "color": "#FF6692",
          "dash": "solid",
          "shape": "linear"
         },
         "marker": {
          "symbol": "circle"
         },
         "mode": "lines+markers",
         "name": "Lawnmower Man",
         "orientation": "v",
         "showlegend": true,
         "type": "scatter",
         "x": [
          1992,
          1996
         ],
         "xaxis": "x",
         "y": [
          5.5,
          2.5
         ],
         "yaxis": "y"
        },
        {
         "customdata": [
          [
           "Legally Blonde",
           "Legally Blonde"
          ],
          [
           "Legally Blonde 2: Red, White & Blonde",
           "Legally Blonde"
          ]
         ],
         "hovertemplate": "Movie Series=%{customdata[1]}<br>Release Year=%{x}<br>Rating=%{y}<br>Title=%{customdata[0]}<extra></extra>",
         "legendgroup": "Legally Blonde",
         "line": {
          "color": "#B6E880",
          "dash": "solid",
          "shape": "linear"
         },
         "marker": {
          "symbol": "circle"
         },
         "mode": "lines+markers",
         "name": "Legally Blonde",
         "orientation": "v",
         "showlegend": true,
         "type": "scatter",
         "x": [
          2001,
          2003
         ],
         "xaxis": "x",
         "y": [
          6.3,
          4.8
         ],
         "yaxis": "y"
        },
        {
         "customdata": [
          [
           "Lethal Weapon",
           "Lethal Weapon"
          ],
          [
           "Lethal Weapon 2",
           "Lethal Weapon"
          ],
          [
           "Lethal Weapon 3",
           "Lethal Weapon"
          ],
          [
           "Lethal Weapon 4",
           "Lethal Weapon"
          ]
         ],
         "hovertemplate": "Movie Series=%{customdata[1]}<br>Release Year=%{x}<br>Rating=%{y}<br>Title=%{customdata[0]}<extra></extra>",
         "legendgroup": "Lethal Weapon",
         "line": {
          "color": "#FF97FF",
          "dash": "solid",
          "shape": "linear"
         },
         "marker": {
          "symbol": "circle"
         },
         "mode": "lines+markers",
         "name": "Lethal Weapon",
         "orientation": "v",
         "showlegend": true,
         "type": "scatter",
         "x": [
          1987,
          1989,
          1992,
          1998
         ],
         "xaxis": "x",
         "y": [
          7.6,
          7.2,
          6.7,
          6.6
         ],
         "yaxis": "y"
        },
        {
         "customdata": [
          [
           "Look Who's Talking",
           "Look Who's Talking"
          ],
          [
           "Look Who's Talking Too",
           "Look Who's Talking"
          ],
          [
           "Look Who's Talking Now",
           "Look Who's Talking"
          ]
         ],
         "hovertemplate": "Movie Series=%{customdata[1]}<br>Release Year=%{x}<br>Rating=%{y}<br>Title=%{customdata[0]}<extra></extra>",
         "legendgroup": "Look Who's Talking",
         "line": {
          "color": "#FECB52",
          "dash": "solid",
          "shape": "linear"
         },
         "marker": {
          "symbol": "circle"
         },
         "mode": "lines+markers",
         "name": "Look Who's Talking",
         "orientation": "v",
         "showlegend": true,
         "type": "scatter",
         "x": [
          1989,
          1990,
          1993
         ],
         "xaxis": "x",
         "y": [
          5.9,
          4.7,
          4.4
         ],
         "yaxis": "y"
        },
        {
         "customdata": [
          [
           "Mad Max",
           "Mad Max"
          ],
          [
           "Mad Max 2",
           "Mad Max"
          ],
          [
           "Mad Max Beyond Thunderdome",
           "Mad Max"
          ]
         ],
         "hovertemplate": "Movie Series=%{customdata[1]}<br>Release Year=%{x}<br>Rating=%{y}<br>Title=%{customdata[0]}<extra></extra>",
         "legendgroup": "Mad Max",
         "line": {
          "color": "#636efa",
          "dash": "solid",
          "shape": "linear"
         },
         "marker": {
          "symbol": "circle"
         },
         "mode": "lines+markers",
         "name": "Mad Max",
         "orientation": "v",
         "showlegend": true,
         "type": "scatter",
         "x": [
          1979,
          1981,
          1985
         ],
         "xaxis": "x",
         "y": [
          6.9,
          7.6,
          6.3
         ],
         "yaxis": "y"
        },
        {
         "customdata": [
          [
           "Madagascar",
           "Madagascar"
          ],
          [
           "Madagascar: Escape 2 Africa",
           "Madagascar"
          ],
          [
           "Madagascar 3: Europe's Most Wanted",
           "Madagascar"
          ]
         ],
         "hovertemplate": "Movie Series=%{customdata[1]}<br>Release Year=%{x}<br>Rating=%{y}<br>Title=%{customdata[0]}<extra></extra>",
         "legendgroup": "Madagascar",
         "line": {
          "color": "#EF553B",
          "dash": "solid",
          "shape": "linear"
         },
         "marker": {
          "symbol": "circle"
         },
         "mode": "lines+markers",
         "name": "Madagascar",
         "orientation": "v",
         "showlegend": true,
         "type": "scatter",
         "x": [
          2005,
          2008,
          2012
         ],
         "xaxis": "x",
         "y": [
          6.9,
          6.6,
          6.8
         ],
         "yaxis": "y"
        },
        {
         "customdata": [
          [
           "Magic Mike",
           "Magic Mike"
          ],
          [
           "Magic Mike XXL",
           "Magic Mike"
          ]
         ],
         "hovertemplate": "Movie Series=%{customdata[1]}<br>Release Year=%{x}<br>Rating=%{y}<br>Title=%{customdata[0]}<extra></extra>",
         "legendgroup": "Magic Mike",
         "line": {
          "color": "#00cc96",
          "dash": "solid",
          "shape": "linear"
         },
         "marker": {
          "symbol": "circle"
         },
         "mode": "lines+markers",
         "name": "Magic Mike",
         "orientation": "v",
         "showlegend": true,
         "type": "scatter",
         "x": [
          2012,
          2015
         ],
         "xaxis": "x",
         "y": [
          6.1,
          5.6
         ],
         "yaxis": "y"
        },
        {
         "customdata": [
          [
           "Major League",
           "Major League"
          ],
          [
           "Major League II",
           "Major League"
          ],
          [
           "Major League: Back to the Minors",
           "Major League"
          ]
         ],
         "hovertemplate": "Movie Series=%{customdata[1]}<br>Release Year=%{x}<br>Rating=%{y}<br>Title=%{customdata[0]}<extra></extra>",
         "legendgroup": "Major League",
         "line": {
          "color": "#ab63fa",
          "dash": "solid",
          "shape": "linear"
         },
         "marker": {
          "symbol": "circle"
         },
         "mode": "lines+markers",
         "name": "Major League",
         "orientation": "v",
         "showlegend": true,
         "type": "scatter",
         "x": [
          1989,
          1994,
          1998
         ],
         "xaxis": "x",
         "y": [
          7.2,
          5.6,
          4.6
         ],
         "yaxis": "y"
        },
        {
         "customdata": [
          [
           "Mamma Mia!",
           "Mamma Mia!"
          ],
          [
           "Mamma Mia! Here We Go Again",
           "Mamma Mia!"
          ]
         ],
         "hovertemplate": "Movie Series=%{customdata[1]}<br>Release Year=%{x}<br>Rating=%{y}<br>Title=%{customdata[0]}<extra></extra>",
         "legendgroup": "Mamma Mia!",
         "line": {
          "color": "#FFA15A",
          "dash": "solid",
          "shape": "linear"
         },
         "marker": {
          "symbol": "circle"
         },
         "mode": "lines+markers",
         "name": "Mamma Mia!",
         "orientation": "v",
         "showlegend": true,
         "type": "scatter",
         "x": [
          2008,
          2018
         ],
         "xaxis": "x",
         "y": [
          6.4,
          6.7
         ],
         "yaxis": "y"
        },
        {
         "customdata": [
          [
           "The Maze Runner",
           "Maze Runner"
          ],
          [
           "Maze Runner: The Scorch Trials",
           "Maze Runner"
          ],
          [
           "Maze Runner: The Death Cure",
           "Maze Runner"
          ]
         ],
         "hovertemplate": "Movie Series=%{customdata[1]}<br>Release Year=%{x}<br>Rating=%{y}<br>Title=%{customdata[0]}<extra></extra>",
         "legendgroup": "Maze Runner",
         "line": {
          "color": "#19d3f3",
          "dash": "solid",
          "shape": "linear"
         },
         "marker": {
          "symbol": "circle"
         },
         "mode": "lines+markers",
         "name": "Maze Runner",
         "orientation": "v",
         "showlegend": true,
         "type": "scatter",
         "x": [
          2014,
          2015,
          2018
         ],
         "xaxis": "x",
         "y": [
          6.8,
          6.3,
          6.2
         ],
         "yaxis": "y"
        },
        {
         "customdata": [
          [
           "Men in Black",
           "Men in Black"
          ],
          [
           "Men in Black II",
           "Men in Black"
          ],
          [
           "Men in Black 3",
           "Men in Black"
          ]
         ],
         "hovertemplate": "Movie Series=%{customdata[1]}<br>Release Year=%{x}<br>Rating=%{y}<br>Title=%{customdata[0]}<extra></extra>",
         "legendgroup": "Men in Black",
         "line": {
          "color": "#FF6692",
          "dash": "solid",
          "shape": "linear"
         },
         "marker": {
          "symbol": "circle"
         },
         "mode": "lines+markers",
         "name": "Men in Black",
         "orientation": "v",
         "showlegend": true,
         "type": "scatter",
         "x": [
          1997,
          2002,
          2012
         ],
         "xaxis": "x",
         "y": [
          7.3,
          6.2,
          6.8
         ],
         "yaxis": "y"
        },
        {
         "customdata": [
          [
           "Miss Congeniality",
           "Miss Congeniality"
          ],
          [
           "Miss Congeniality 2: Armed & Fabulous",
           "Miss Congeniality"
          ]
         ],
         "hovertemplate": "Movie Series=%{customdata[1]}<br>Release Year=%{x}<br>Rating=%{y}<br>Title=%{customdata[0]}<extra></extra>",
         "legendgroup": "Miss Congeniality",
         "line": {
          "color": "#B6E880",
          "dash": "solid",
          "shape": "linear"
         },
         "marker": {
          "symbol": "circle"
         },
         "mode": "lines+markers",
         "name": "Miss Congeniality",
         "orientation": "v",
         "showlegend": true,
         "type": "scatter",
         "x": [
          2000,
          2005
         ],
         "xaxis": "x",
         "y": [
          6.2,
          5.1
         ],
         "yaxis": "y"
        },
        {
         "customdata": [
          [
           "Mission: Impossible",
           "Mission"
          ],
          [
           "Mission: Impossible II",
           "Mission"
          ],
          [
           "Mission: Impossible III",
           "Mission"
          ],
          [
           "Mission: Impossible - Ghost Protocol",
           "Mission"
          ],
          [
           "Mission: Impossible - Rogue Nation",
           "Mission"
          ],
          [
           "Mission: Impossible - Fallout",
           "Mission"
          ]
         ],
         "hovertemplate": "Movie Series=%{customdata[1]}<br>Release Year=%{x}<br>Rating=%{y}<br>Title=%{customdata[0]}<extra></extra>",
         "legendgroup": "Mission",
         "line": {
          "color": "#FF97FF",
          "dash": "solid",
          "shape": "linear"
         },
         "marker": {
          "symbol": "circle"
         },
         "mode": "lines+markers",
         "name": "Mission",
         "orientation": "v",
         "showlegend": true,
         "type": "scatter",
         "x": [
          1996,
          2000,
          2006,
          2011,
          2015,
          2018
         ],
         "xaxis": "x",
         "y": [
          7.1,
          6.1,
          6.9,
          7.4,
          7.4,
          7.7
         ],
         "yaxis": "y"
        },
        {
         "customdata": [
          [
           "Monsters",
           "Monsters"
          ],
          [
           "Monsters: Dark Continent",
           "Monsters"
          ]
         ],
         "hovertemplate": "Movie Series=%{customdata[1]}<br>Release Year=%{x}<br>Rating=%{y}<br>Title=%{customdata[0]}<extra></extra>",
         "legendgroup": "Monsters",
         "line": {
          "color": "#FECB52",
          "dash": "solid",
          "shape": "linear"
         },
         "marker": {
          "symbol": "circle"
         },
         "mode": "lines+markers",
         "name": "Monsters",
         "orientation": "v",
         "showlegend": true,
         "type": "scatter",
         "x": [
          2010,
          2014
         ],
         "xaxis": "x",
         "y": [
          6.4,
          4.3
         ],
         "yaxis": "y"
        },
        {
         "customdata": [
          [
           "My Big Fat Greek Wedding",
           "My Big Fat Greek Wedding"
          ],
          [
           "My Big Fat Greek Wedding 2",
           "My Big Fat Greek Wedding"
          ]
         ],
         "hovertemplate": "Movie Series=%{customdata[1]}<br>Release Year=%{x}<br>Rating=%{y}<br>Title=%{customdata[0]}<extra></extra>",
         "legendgroup": "My Big Fat Greek Wedding",
         "line": {
          "color": "#636efa",
          "dash": "solid",
          "shape": "linear"
         },
         "marker": {
          "symbol": "circle"
         },
         "mode": "lines+markers",
         "name": "My Big Fat Greek Wedding",
         "orientation": "v",
         "showlegend": true,
         "type": "scatter",
         "x": [
          2002,
          2016
         ],
         "xaxis": "x",
         "y": [
          6.5,
          6
         ],
         "yaxis": "y"
        },
        {
         "customdata": [
          [
           "Nanny McPhee",
           "Nanny McPhee"
          ],
          [
           "Nanny McPhee and the Big Bang",
           "Nanny McPhee"
          ]
         ],
         "hovertemplate": "Movie Series=%{customdata[1]}<br>Release Year=%{x}<br>Rating=%{y}<br>Title=%{customdata[0]}<extra></extra>",
         "legendgroup": "Nanny McPhee",
         "line": {
          "color": "#EF553B",
          "dash": "solid",
          "shape": "linear"
         },
         "marker": {
          "symbol": "circle"
         },
         "mode": "lines+markers",
         "name": "Nanny McPhee",
         "orientation": "v",
         "showlegend": true,
         "type": "scatter",
         "x": [
          2005,
          2010
         ],
         "xaxis": "x",
         "y": [
          6.5,
          6.1
         ],
         "yaxis": "y"
        },
        {
         "customdata": [
          [
           "National Treasure",
           "National Treasure"
          ],
          [
           "National Treasure: Book of Secrets",
           "National Treasure"
          ]
         ],
         "hovertemplate": "Movie Series=%{customdata[1]}<br>Release Year=%{x}<br>Rating=%{y}<br>Title=%{customdata[0]}<extra></extra>",
         "legendgroup": "National Treasure",
         "line": {
          "color": "#00cc96",
          "dash": "solid",
          "shape": "linear"
         },
         "marker": {
          "symbol": "circle"
         },
         "mode": "lines+markers",
         "name": "National Treasure",
         "orientation": "v",
         "showlegend": true,
         "type": "scatter",
         "x": [
          2004,
          2007
         ],
         "xaxis": "x",
         "y": [
          6.8,
          6.5
         ],
         "yaxis": "y"
        },
        {
         "customdata": [
          [
           "Night at the Museum",
           "Night at the Museum"
          ],
          [
           "Night at the Museum: Battle of the Smithsonian",
           "Night at the Museum"
          ]
         ],
         "hovertemplate": "Movie Series=%{customdata[1]}<br>Release Year=%{x}<br>Rating=%{y}<br>Title=%{customdata[0]}<extra></extra>",
         "legendgroup": "Night at the Museum",
         "line": {
          "color": "#ab63fa",
          "dash": "solid",
          "shape": "linear"
         },
         "marker": {
          "symbol": "circle"
         },
         "mode": "lines+markers",
         "name": "Night at the Museum",
         "orientation": "v",
         "showlegend": true,
         "type": "scatter",
         "x": [
          2006,
          2009
         ],
         "xaxis": "x",
         "y": [
          6.4,
          6
         ],
         "yaxis": "y"
        },
        {
         "customdata": [
          [
           "Nymphomaniac: Vol. I",
           "Nymphomaniac"
          ],
          [
           "Nymphomaniac: Vol. II",
           "Nymphomaniac"
          ]
         ],
         "hovertemplate": "Movie Series=%{customdata[1]}<br>Release Year=%{x}<br>Rating=%{y}<br>Title=%{customdata[0]}<extra></extra>",
         "legendgroup": "Nymphomaniac",
         "line": {
          "color": "#FFA15A",
          "dash": "solid",
          "shape": "linear"
         },
         "marker": {
          "symbol": "circle"
         },
         "mode": "lines+markers",
         "name": "Nymphomaniac",
         "orientation": "v",
         "showlegend": true,
         "type": "scatter",
         "x": [
          2013,
          2013
         ],
         "xaxis": "x",
         "y": [
          6.9,
          6.7
         ],
         "yaxis": "y"
        },
        {
         "customdata": [
          [
           "Ocean's Eleven",
           "Ocean's Eleven"
          ],
          [
           "Ocean's Twelve",
           "Ocean's Eleven"
          ],
          [
           "Ocean's Thirteen",
           "Ocean's Eleven"
          ]
         ],
         "hovertemplate": "Movie Series=%{customdata[1]}<br>Release Year=%{x}<br>Rating=%{y}<br>Title=%{customdata[0]}<extra></extra>",
         "legendgroup": "Ocean's Eleven",
         "line": {
          "color": "#19d3f3",
          "dash": "solid",
          "shape": "linear"
         },
         "marker": {
          "symbol": "circle"
         },
         "mode": "lines+markers",
         "name": "Ocean's Eleven",
         "orientation": "v",
         "showlegend": true,
         "type": "scatter",
         "x": [
          2001,
          2004,
          2007
         ],
         "xaxis": "x",
         "y": [
          7.7,
          6.5,
          6.9
         ],
         "yaxis": "y"
        },
        {
         "customdata": [
          [
           "Olympus Has Fallen",
           "Olympus Has Fallen"
          ],
          [
           "London Has Fallen",
           "Olympus Has Fallen"
          ]
         ],
         "hovertemplate": "Movie Series=%{customdata[1]}<br>Release Year=%{x}<br>Rating=%{y}<br>Title=%{customdata[0]}<extra></extra>",
         "legendgroup": "Olympus Has Fallen",
         "line": {
          "color": "#FF6692",
          "dash": "solid",
          "shape": "linear"
         },
         "marker": {
          "symbol": "circle"
         },
         "mode": "lines+markers",
         "name": "Olympus Has Fallen",
         "orientation": "v",
         "showlegend": true,
         "type": "scatter",
         "x": [
          2013,
          2016
         ],
         "xaxis": "x",
         "y": [
          6.5,
          5.9
         ],
         "yaxis": "y"
        },
        {
         "customdata": [
          [
           "Open Season",
           "Open Season"
          ],
          [
           "Open Season 3",
           "Open Season"
          ]
         ],
         "hovertemplate": "Movie Series=%{customdata[1]}<br>Release Year=%{x}<br>Rating=%{y}<br>Title=%{customdata[0]}<extra></extra>",
         "legendgroup": "Open Season",
         "line": {
          "color": "#B6E880",
          "dash": "solid",
          "shape": "linear"
         },
         "marker": {
          "symbol": "circle"
         },
         "mode": "lines+markers",
         "name": "Open Season",
         "orientation": "v",
         "showlegend": true,
         "type": "scatter",
         "x": [
          2006,
          2010
         ],
         "xaxis": "x",
         "y": [
          6.1,
          5.1
         ],
         "yaxis": "y"
        },
        {
         "customdata": [
          [
           "Paddington",
           "Paddington"
          ],
          [
           "Paddington 2",
           "Paddington"
          ]
         ],
         "hovertemplate": "Movie Series=%{customdata[1]}<br>Release Year=%{x}<br>Rating=%{y}<br>Title=%{customdata[0]}<extra></extra>",
         "legendgroup": "Paddington",
         "line": {
          "color": "#FF97FF",
          "dash": "solid",
          "shape": "linear"
         },
         "marker": {
          "symbol": "circle"
         },
         "mode": "lines+markers",
         "name": "Paddington",
         "orientation": "v",
         "showlegend": true,
         "type": "scatter",
         "x": [
          2014,
          2017
         ],
         "xaxis": "x",
         "y": [
          7.2,
          7.8
         ],
         "yaxis": "y"
        },
        {
         "customdata": [
          [
           "Paranormal Activity",
           "Paranormal Activity"
          ],
          [
           "Paranormal Activity 2",
           "Paranormal Activity"
          ],
          [
           "Paranormal Activity 3",
           "Paranormal Activity"
          ],
          [
           "Paranormal Activity 4",
           "Paranormal Activity"
          ]
         ],
         "hovertemplate": "Movie Series=%{customdata[1]}<br>Release Year=%{x}<br>Rating=%{y}<br>Title=%{customdata[0]}<extra></extra>",
         "legendgroup": "Paranormal Activity",
         "line": {
          "color": "#FECB52",
          "dash": "solid",
          "shape": "linear"
         },
         "marker": {
          "symbol": "circle"
         },
         "mode": "lines+markers",
         "name": "Paranormal Activity",
         "orientation": "v",
         "showlegend": true,
         "type": "scatter",
         "x": [
          2007,
          2010,
          2011,
          2012
         ],
         "xaxis": "x",
         "y": [
          6.3,
          5.6,
          5.8,
          4.6
         ],
         "yaxis": "y"
        },
        {
         "customdata": [
          [
           "Paul Blart: Mall Cop",
           "Paul Blart"
          ],
          [
           "Paul Blart: Mall Cop 2",
           "Paul Blart"
          ]
         ],
         "hovertemplate": "Movie Series=%{customdata[1]}<br>Release Year=%{x}<br>Rating=%{y}<br>Title=%{customdata[0]}<extra></extra>",
         "legendgroup": "Paul Blart",
         "line": {
          "color": "#636efa",
          "dash": "solid",
          "shape": "linear"
         },
         "marker": {
          "symbol": "circle"
         },
         "mode": "lines+markers",
         "name": "Paul Blart",
         "orientation": "v",
         "showlegend": true,
         "type": "scatter",
         "x": [
          2009,
          2015
         ],
         "xaxis": "x",
         "y": [
          5.2,
          4.4
         ],
         "yaxis": "y"
        },
        {
         "customdata": [
          [
           "Pet Sematary",
           "Pet Sematary"
          ],
          [
           "Pet Sematary II",
           "Pet Sematary"
          ]
         ],
         "hovertemplate": "Movie Series=%{customdata[1]}<br>Release Year=%{x}<br>Rating=%{y}<br>Title=%{customdata[0]}<extra></extra>",
         "legendgroup": "Pet Sematary",
         "line": {
          "color": "#EF553B",
          "dash": "solid",
          "shape": "linear"
         },
         "marker": {
          "symbol": "circle"
         },
         "mode": "lines+markers",
         "name": "Pet Sematary",
         "orientation": "v",
         "showlegend": true,
         "type": "scatter",
         "x": [
          1989,
          1992
         ],
         "xaxis": "x",
         "y": [
          6.6,
          4.9
         ],
         "yaxis": "y"
        },
        {
         "customdata": [
          [
           "Piranha 3D",
           "Piranha 3D"
          ],
          [
           "Piranha 3DD",
           "Piranha 3D"
          ]
         ],
         "hovertemplate": "Movie Series=%{customdata[1]}<br>Release Year=%{x}<br>Rating=%{y}<br>Title=%{customdata[0]}<extra></extra>",
         "legendgroup": "Piranha 3D",
         "line": {
          "color": "#00cc96",
          "dash": "solid",
          "shape": "linear"
         },
         "marker": {
          "symbol": "circle"
         },
         "mode": "lines+markers",
         "name": "Piranha 3D",
         "orientation": "v",
         "showlegend": true,
         "type": "scatter",
         "x": [
          2010,
          2012
         ],
         "xaxis": "x",
         "y": [
          5.4,
          3.7
         ],
         "yaxis": "y"
        },
        {
         "customdata": [
          [
           "Pirates of the Caribbean: The Curse of the Black Pearl",
           "Pirates of the Caribbean"
          ],
          [
           "Pirates of the Caribbean: Dead Man's Chest",
           "Pirates of the Caribbean"
          ],
          [
           "Pirates of the Caribbean: At World's End",
           "Pirates of the Caribbean"
          ],
          [
           "Pirates of the Caribbean: On Stranger Tides",
           "Pirates of the Caribbean"
          ]
         ],
         "hovertemplate": "Movie Series=%{customdata[1]}<br>Release Year=%{x}<br>Rating=%{y}<br>Title=%{customdata[0]}<extra></extra>",
         "legendgroup": "Pirates of the Caribbean",
         "line": {
          "color": "#ab63fa",
          "dash": "solid",
          "shape": "linear"
         },
         "marker": {
          "symbol": "circle"
         },
         "mode": "lines+markers",
         "name": "Pirates of the Caribbean",
         "orientation": "v",
         "showlegend": true,
         "type": "scatter",
         "x": [
          2003,
          2006,
          2007,
          2011
         ],
         "xaxis": "x",
         "y": [
          8,
          7.3,
          7.1,
          6.6
         ],
         "yaxis": "y"
        },
        {
         "customdata": [
          [
           "Police Academy",
           "Police Academy"
          ],
          [
           "Police Academy 2: Their First Assignment",
           "Police Academy"
          ],
          [
           "Police Academy 3: Back in Training",
           "Police Academy"
          ],
          [
           "Police Academy 4: Citizens on Patrol",
           "Police Academy"
          ],
          [
           "Police Academy 5: Assignment: Miami Beach",
           "Police Academy"
          ],
          [
           "Police Academy 6: City Under Siege",
           "Police Academy"
          ],
          [
           "Police Academy: Mission to Moscow",
           "Police Academy"
          ]
         ],
         "hovertemplate": "Movie Series=%{customdata[1]}<br>Release Year=%{x}<br>Rating=%{y}<br>Title=%{customdata[0]}<extra></extra>",
         "legendgroup": "Police Academy",
         "line": {
          "color": "#FFA15A",
          "dash": "solid",
          "shape": "linear"
         },
         "marker": {
          "symbol": "circle"
         },
         "mode": "lines+markers",
         "name": "Police Academy",
         "orientation": "v",
         "showlegend": true,
         "type": "scatter",
         "x": [
          1984,
          1985,
          1986,
          1987,
          1988,
          1989,
          1994
         ],
         "xaxis": "x",
         "y": [
          6.7,
          5.8,
          5.4,
          5,
          4.7,
          4.5,
          3.6
         ],
         "yaxis": "y"
        },
        {
         "customdata": [
          [
           "Poltergeist",
           "Poltergeist"
          ],
          [
           "Poltergeist II: The Other Side",
           "Poltergeist"
          ],
          [
           "Poltergeist III",
           "Poltergeist"
          ]
         ],
         "hovertemplate": "Movie Series=%{customdata[1]}<br>Release Year=%{x}<br>Rating=%{y}<br>Title=%{customdata[0]}<extra></extra>",
         "legendgroup": "Poltergeist",
         "line": {
          "color": "#19d3f3",
          "dash": "solid",
          "shape": "linear"
         },
         "marker": {
          "symbol": "circle"
         },
         "mode": "lines+markers",
         "name": "Poltergeist",
         "orientation": "v",
         "showlegend": true,
         "type": "scatter",
         "x": [
          1982,
          1986,
          1988
         ],
         "xaxis": "x",
         "y": [
          7.3,
          5.7,
          4.7
         ],
         "yaxis": "y"
        },
        {
         "customdata": [
          [
           "Predator",
           "Predator"
          ],
          [
           "Predator 2",
           "Predator"
          ],
          [
           "Predators",
           "Predator"
          ]
         ],
         "hovertemplate": "Movie Series=%{customdata[1]}<br>Release Year=%{x}<br>Rating=%{y}<br>Title=%{customdata[0]}<extra></extra>",
         "legendgroup": "Predator",
         "line": {
          "color": "#FF6692",
          "dash": "solid",
          "shape": "linear"
         },
         "marker": {
          "symbol": "circle"
         },
         "mode": "lines+markers",
         "name": "Predator",
         "orientation": "v",
         "showlegend": true,
         "type": "scatter",
         "x": [
          1987,
          1990,
          2010
         ],
         "xaxis": "x",
         "y": [
          7.8,
          6.3,
          6.4
         ],
         "yaxis": "y"
        },
        {
         "customdata": [
          [
           "Psycho",
           "Psycho"
          ],
          [
           "Psycho II",
           "Psycho"
          ]
         ],
         "hovertemplate": "Movie Series=%{customdata[1]}<br>Release Year=%{x}<br>Rating=%{y}<br>Title=%{customdata[0]}<extra></extra>",
         "legendgroup": "Psycho",
         "line": {
          "color": "#B6E880",
          "dash": "solid",
          "shape": "linear"
         },
         "marker": {
          "symbol": "circle"
         },
         "mode": "lines+markers",
         "name": "Psycho",
         "orientation": "v",
         "showlegend": true,
         "type": "scatter",
         "x": [
          1960,
          1983
         ],
         "xaxis": "x",
         "y": [
          8.5,
          6.5
         ],
         "yaxis": "y"
        },
        {
         "customdata": [
          [
           "Quarantine",
           "Quarantine"
          ],
          [
           "Quarantine 2: Terminal",
           "Quarantine"
          ]
         ],
         "hovertemplate": "Movie Series=%{customdata[1]}<br>Release Year=%{x}<br>Rating=%{y}<br>Title=%{customdata[0]}<extra></extra>",
         "legendgroup": "Quarantine",
         "line": {
          "color": "#FF97FF",
          "dash": "solid",
          "shape": "linear"
         },
         "marker": {
          "symbol": "circle"
         },
         "mode": "lines+markers",
         "name": "Quarantine",
         "orientation": "v",
         "showlegend": true,
         "type": "scatter",
         "x": [
          2008,
          2011
         ],
         "xaxis": "x",
         "y": [
          5.9,
          5.2
         ],
         "yaxis": "y"
        },
        {
         "customdata": [
          [
           "RED",
           "RED"
          ],
          [
           "RED 2",
           "RED"
          ]
         ],
         "hovertemplate": "Movie Series=%{customdata[1]}<br>Release Year=%{x}<br>Rating=%{y}<br>Title=%{customdata[0]}<extra></extra>",
         "legendgroup": "RED",
         "line": {
          "color": "#FECB52",
          "dash": "solid",
          "shape": "linear"
         },
         "marker": {
          "symbol": "circle"
         },
         "mode": "lines+markers",
         "name": "RED",
         "orientation": "v",
         "showlegend": true,
         "type": "scatter",
         "x": [
          2010,
          2013
         ],
         "xaxis": "x",
         "y": [
          7,
          6.6
         ],
         "yaxis": "y"
        },
        {
         "customdata": [
          [
           "Rambo: First Blood Part II",
           "Rambo"
          ],
          [
           "Rambo III",
           "Rambo"
          ],
          [
           "Rambo",
           "Rambo"
          ]
         ],
         "hovertemplate": "Movie Series=%{customdata[1]}<br>Release Year=%{x}<br>Rating=%{y}<br>Title=%{customdata[0]}<extra></extra>",
         "legendgroup": "Rambo",
         "line": {
          "color": "#636efa",
          "dash": "solid",
          "shape": "linear"
         },
         "marker": {
          "symbol": "circle"
         },
         "mode": "lines+markers",
         "name": "Rambo",
         "orientation": "v",
         "showlegend": true,
         "type": "scatter",
         "x": [
          1985,
          1988,
          2008
         ],
         "xaxis": "x",
         "y": [
          6.5,
          5.8,
          7
         ],
         "yaxis": "y"
        },
        {
         "customdata": [
          [
           "Resident Evil",
           "Resident Evil"
          ],
          [
           "Resident Evil: Apocalypse",
           "Resident Evil"
          ],
          [
           "Resident Evil: Extinction",
           "Resident Evil"
          ],
          [
           "Resident Evil: Afterlife",
           "Resident Evil"
          ],
          [
           "Resident Evil: Retribution",
           "Resident Evil"
          ]
         ],
         "hovertemplate": "Movie Series=%{customdata[1]}<br>Release Year=%{x}<br>Rating=%{y}<br>Title=%{customdata[0]}<extra></extra>",
         "legendgroup": "Resident Evil",
         "line": {
          "color": "#EF553B",
          "dash": "solid",
          "shape": "linear"
         },
         "marker": {
          "symbol": "circle"
         },
         "mode": "lines+markers",
         "name": "Resident Evil",
         "orientation": "v",
         "showlegend": true,
         "type": "scatter",
         "x": [
          2002,
          2004,
          2007,
          2010,
          2012
         ],
         "xaxis": "x",
         "y": [
          6.7,
          6.2,
          6.3,
          5.8,
          5.4
         ],
         "yaxis": "y"
        },
        {
         "customdata": [
          [
           "Ride Along",
           "Ride Along"
          ],
          [
           "Ride Along 2",
           "Ride Along"
          ]
         ],
         "hovertemplate": "Movie Series=%{customdata[1]}<br>Release Year=%{x}<br>Rating=%{y}<br>Title=%{customdata[0]}<extra></extra>",
         "legendgroup": "Ride Along",
         "line": {
          "color": "#00cc96",
          "dash": "solid",
          "shape": "linear"
         },
         "marker": {
          "symbol": "circle"
         },
         "mode": "lines+markers",
         "name": "Ride Along",
         "orientation": "v",
         "showlegend": true,
         "type": "scatter",
         "x": [
          2014,
          2016
         ],
         "xaxis": "x",
         "y": [
          6.2,
          5.9
         ],
         "yaxis": "y"
        },
        {
         "customdata": [
          [
           "Rio",
           "Rio"
          ],
          [
           "Rio 2",
           "Rio"
          ]
         ],
         "hovertemplate": "Movie Series=%{customdata[1]}<br>Release Year=%{x}<br>Rating=%{y}<br>Title=%{customdata[0]}<extra></extra>",
         "legendgroup": "Rio",
         "line": {
          "color": "#ab63fa",
          "dash": "solid",
          "shape": "linear"
         },
         "marker": {
          "symbol": "circle"
         },
         "mode": "lines+markers",
         "name": "Rio",
         "orientation": "v",
         "showlegend": true,
         "type": "scatter",
         "x": [
          2011,
          2014
         ],
         "xaxis": "x",
         "y": [
          6.9,
          6.3
         ],
         "yaxis": "y"
        },
        {
         "customdata": [
          [
           "Ripley's Game",
           "Ripley's Game"
          ],
          [
           "Ripley Under Ground",
           "Ripley's Game"
          ]
         ],
         "hovertemplate": "Movie Series=%{customdata[1]}<br>Release Year=%{x}<br>Rating=%{y}<br>Title=%{customdata[0]}<extra></extra>",
         "legendgroup": "Ripley's Game",
         "line": {
          "color": "#FFA15A",
          "dash": "solid",
          "shape": "linear"
         },
         "marker": {
          "symbol": "circle"
         },
         "mode": "lines+markers",
         "name": "Ripley's Game",
         "orientation": "v",
         "showlegend": true,
         "type": "scatter",
         "x": [
          2002,
          2005
         ],
         "xaxis": "x",
         "y": [
          6.6,
          6
         ],
         "yaxis": "y"
        },
        {
         "customdata": [
          [
           "RoboCop",
           "RoboCop"
          ],
          [
           "RoboCop 2",
           "RoboCop"
          ],
          [
           "RoboCop 3",
           "RoboCop"
          ]
         ],
         "hovertemplate": "Movie Series=%{customdata[1]}<br>Release Year=%{x}<br>Rating=%{y}<br>Title=%{customdata[0]}<extra></extra>",
         "legendgroup": "RoboCop",
         "line": {
          "color": "#19d3f3",
          "dash": "solid",
          "shape": "linear"
         },
         "marker": {
          "symbol": "circle"
         },
         "mode": "lines+markers",
         "name": "RoboCop",
         "orientation": "v",
         "showlegend": true,
         "type": "scatter",
         "x": [
          1987,
          1990,
          1993
         ],
         "xaxis": "x",
         "y": [
          7.5,
          5.8,
          4.1
         ],
         "yaxis": "y"
        },
        {
         "customdata": [
          [
           "Rocky",
           "Rocky"
          ],
          [
           "Rocky II",
           "Rocky"
          ],
          [
           "Rocky III",
           "Rocky"
          ],
          [
           "Rocky IV",
           "Rocky"
          ],
          [
           "Rocky V",
           "Rocky"
          ],
          [
           "Rocky Balboa",
           "Rocky"
          ]
         ],
         "hovertemplate": "Movie Series=%{customdata[1]}<br>Release Year=%{x}<br>Rating=%{y}<br>Title=%{customdata[0]}<extra></extra>",
         "legendgroup": "Rocky",
         "line": {
          "color": "#FF6692",
          "dash": "solid",
          "shape": "linear"
         },
         "marker": {
          "symbol": "circle"
         },
         "mode": "lines+markers",
         "name": "Rocky",
         "orientation": "v",
         "showlegend": true,
         "type": "scatter",
         "x": [
          1976,
          1979,
          1982,
          1985,
          1990,
          2006
         ],
         "xaxis": "x",
         "y": [
          8.1,
          7.3,
          6.8,
          6.9,
          5.3,
          7.1
         ],
         "yaxis": "y"
        },
        {
         "customdata": [
          [
           "Rush Hour",
           "Rush Hour"
          ],
          [
           "Rush Hour 2",
           "Rush Hour"
          ],
          [
           "Rush Hour 3",
           "Rush Hour"
          ]
         ],
         "hovertemplate": "Movie Series=%{customdata[1]}<br>Release Year=%{x}<br>Rating=%{y}<br>Title=%{customdata[0]}<extra></extra>",
         "legendgroup": "Rush Hour",
         "line": {
          "color": "#B6E880",
          "dash": "solid",
          "shape": "linear"
         },
         "marker": {
          "symbol": "circle"
         },
         "mode": "lines+markers",
         "name": "Rush Hour",
         "orientation": "v",
         "showlegend": true,
         "type": "scatter",
         "x": [
          1998,
          2001,
          2007
         ],
         "xaxis": "x",
         "y": [
          7,
          6.6,
          6.2
         ],
         "yaxis": "y"
        },
        {
         "customdata": [
          [
           "Saw",
           "Saw"
          ],
          [
           "Saw II",
           "Saw"
          ],
          [
           "Saw III",
           "Saw"
          ],
          [
           "Saw IV",
           "Saw"
          ],
          [
           "Saw V",
           "Saw"
          ],
          [
           "Saw VI",
           "Saw"
          ],
          [
           "Saw 3D",
           "Saw"
          ]
         ],
         "hovertemplate": "Movie Series=%{customdata[1]}<br>Release Year=%{x}<br>Rating=%{y}<br>Title=%{customdata[0]}<extra></extra>",
         "legendgroup": "Saw",
         "line": {
          "color": "#FF97FF",
          "dash": "solid",
          "shape": "linear"
         },
         "marker": {
          "symbol": "circle"
         },
         "mode": "lines+markers",
         "name": "Saw",
         "orientation": "v",
         "showlegend": true,
         "type": "scatter",
         "x": [
          2004,
          2005,
          2006,
          2007,
          2008,
          2009,
          2010
         ],
         "xaxis": "x",
         "y": [
          7.6,
          6.6,
          6.2,
          5.9,
          5.8,
          6,
          5.6
         ],
         "yaxis": "y"
        },
        {
         "customdata": [
          [
           "Scary Movie",
           "Scary Movie"
          ],
          [
           "Scary Movie 2",
           "Scary Movie"
          ],
          [
           "Scary Movie 3",
           "Scary Movie"
          ],
          [
           "Scary Movie 4",
           "Scary Movie"
          ],
          [
           "Scary Movie 5",
           "Scary Movie"
          ]
         ],
         "hovertemplate": "Movie Series=%{customdata[1]}<br>Release Year=%{x}<br>Rating=%{y}<br>Title=%{customdata[0]}<extra></extra>",
         "legendgroup": "Scary Movie",
         "line": {
          "color": "#FECB52",
          "dash": "solid",
          "shape": "linear"
         },
         "marker": {
          "symbol": "circle"
         },
         "mode": "lines+markers",
         "name": "Scary Movie",
         "orientation": "v",
         "showlegend": true,
         "type": "scatter",
         "x": [
          2000,
          2001,
          2003,
          2006,
          2013
         ],
         "xaxis": "x",
         "y": [
          6.2,
          5.3,
          5.5,
          5.1,
          3.5
         ],
         "yaxis": "y"
        },
        {
         "customdata": [
          [
           "Scooby-Doo",
           "Scooby-Doo"
          ],
          [
           "Scooby-Doo 2: Monsters Unleashed",
           "Scooby-Doo"
          ]
         ],
         "hovertemplate": "Movie Series=%{customdata[1]}<br>Release Year=%{x}<br>Rating=%{y}<br>Title=%{customdata[0]}<extra></extra>",
         "legendgroup": "Scooby-Doo",
         "line": {
          "color": "#636efa",
          "dash": "solid",
          "shape": "linear"
         },
         "marker": {
          "symbol": "circle"
         },
         "mode": "lines+markers",
         "name": "Scooby-Doo",
         "orientation": "v",
         "showlegend": true,
         "type": "scatter",
         "x": [
          2002,
          2004
         ],
         "xaxis": "x",
         "y": [
          5.1,
          5
         ],
         "yaxis": "y"
        },
        {
         "customdata": [
          [
           "Scream",
           "Scream"
          ],
          [
           "Scream 2",
           "Scream"
          ],
          [
           "Scream 3",
           "Scream"
          ],
          [
           "Scream 4",
           "Scream"
          ]
         ],
         "hovertemplate": "Movie Series=%{customdata[1]}<br>Release Year=%{x}<br>Rating=%{y}<br>Title=%{customdata[0]}<extra></extra>",
         "legendgroup": "Scream",
         "line": {
          "color": "#EF553B",
          "dash": "solid",
          "shape": "linear"
         },
         "marker": {
          "symbol": "circle"
         },
         "mode": "lines+markers",
         "name": "Scream",
         "orientation": "v",
         "showlegend": true,
         "type": "scatter",
         "x": [
          1996,
          1997,
          2000,
          2011
         ],
         "xaxis": "x",
         "y": [
          7.2,
          6.2,
          5.6,
          6.1
         ],
         "yaxis": "y"
        },
        {
         "customdata": [
          [
           "Serbuan maut",
           "Serbuan maut"
          ],
          [
           "Serbuan maut 2: Berandal",
           "Serbuan maut"
          ]
         ],
         "hovertemplate": "Movie Series=%{customdata[1]}<br>Release Year=%{x}<br>Rating=%{y}<br>Title=%{customdata[0]}<extra></extra>",
         "legendgroup": "Serbuan maut",
         "line": {
          "color": "#00cc96",
          "dash": "solid",
          "shape": "linear"
         },
         "marker": {
          "symbol": "circle"
         },
         "mode": "lines+markers",
         "name": "Serbuan maut",
         "orientation": "v",
         "showlegend": true,
         "type": "scatter",
         "x": [
          2011,
          2014
         ],
         "xaxis": "x",
         "y": [
          7.6,
          8
         ],
         "yaxis": "y"
        },
        {
         "customdata": [
          [
           "Shanghai Noon",
           "Shanghai Noon"
          ],
          [
           "Shanghai Knights",
           "Shanghai Noon"
          ]
         ],
         "hovertemplate": "Movie Series=%{customdata[1]}<br>Release Year=%{x}<br>Rating=%{y}<br>Title=%{customdata[0]}<extra></extra>",
         "legendgroup": "Shanghai Noon",
         "line": {
          "color": "#ab63fa",
          "dash": "solid",
          "shape": "linear"
         },
         "marker": {
          "symbol": "circle"
         },
         "mode": "lines+markers",
         "name": "Shanghai Noon",
         "orientation": "v",
         "showlegend": true,
         "type": "scatter",
         "x": [
          2000,
          2003
         ],
         "xaxis": "x",
         "y": [
          6.6,
          6.2
         ],
         "yaxis": "y"
        },
        {
         "customdata": [
          [
           "Sherlock Holmes",
           "Sherlock Holmes"
          ],
          [
           "Sherlock Holmes: A Game of Shadows",
           "Sherlock Holmes"
          ]
         ],
         "hovertemplate": "Movie Series=%{customdata[1]}<br>Release Year=%{x}<br>Rating=%{y}<br>Title=%{customdata[0]}<extra></extra>",
         "legendgroup": "Sherlock Holmes",
         "line": {
          "color": "#FFA15A",
          "dash": "solid",
          "shape": "linear"
         },
         "marker": {
          "symbol": "circle"
         },
         "mode": "lines+markers",
         "name": "Sherlock Holmes",
         "orientation": "v",
         "showlegend": true,
         "type": "scatter",
         "x": [
          2009,
          2011
         ],
         "xaxis": "x",
         "y": [
          7.6,
          7.5
         ],
         "yaxis": "y"
        },
        {
         "customdata": [
          [
           "Short Circuit",
           "Short Circuit"
          ],
          [
           "Short Circuit 2",
           "Short Circuit"
          ]
         ],
         "hovertemplate": "Movie Series=%{customdata[1]}<br>Release Year=%{x}<br>Rating=%{y}<br>Title=%{customdata[0]}<extra></extra>",
         "legendgroup": "Short Circuit",
         "line": {
          "color": "#19d3f3",
          "dash": "solid",
          "shape": "linear"
         },
         "marker": {
          "symbol": "circle"
         },
         "mode": "lines+markers",
         "name": "Short Circuit",
         "orientation": "v",
         "showlegend": true,
         "type": "scatter",
         "x": [
          1986,
          1988
         ],
         "xaxis": "x",
         "y": [
          6.7,
          5.8
         ],
         "yaxis": "y"
        },
        {
         "customdata": [
          [
           "Shrek",
           "Shrek"
          ],
          [
           "Shrek 2",
           "Shrek"
          ],
          [
           "Shrek the Third",
           "Shrek"
          ],
          [
           "Shrek Forever After",
           "Shrek"
          ]
         ],
         "hovertemplate": "Movie Series=%{customdata[1]}<br>Release Year=%{x}<br>Rating=%{y}<br>Title=%{customdata[0]}<extra></extra>",
         "legendgroup": "Shrek",
         "line": {
          "color": "#FF6692",
          "dash": "solid",
          "shape": "linear"
         },
         "marker": {
          "symbol": "circle"
         },
         "mode": "lines+markers",
         "name": "Shrek",
         "orientation": "v",
         "showlegend": true,
         "type": "scatter",
         "x": [
          2001,
          2004,
          2007,
          2010
         ],
         "xaxis": "x",
         "y": [
          7.8,
          7.2,
          6.1,
          6.3
         ],
         "yaxis": "y"
        },
        {
         "customdata": [
          [
           "Sin City",
           "Sin City"
          ],
          [
           "Sin City: A Dame to Kill For",
           "Sin City"
          ]
         ],
         "hovertemplate": "Movie Series=%{customdata[1]}<br>Release Year=%{x}<br>Rating=%{y}<br>Title=%{customdata[0]}<extra></extra>",
         "legendgroup": "Sin City",
         "line": {
          "color": "#B6E880",
          "dash": "solid",
          "shape": "linear"
         },
         "marker": {
          "symbol": "circle"
         },
         "mode": "lines+markers",
         "name": "Sin City",
         "orientation": "v",
         "showlegend": true,
         "type": "scatter",
         "x": [
          2005,
          2014
         ],
         "xaxis": "x",
         "y": [
          8,
          6.5
         ],
         "yaxis": "y"
        },
        {
         "customdata": [
          [
           "Species",
           "Species"
          ],
          [
           "Species II",
           "Species"
          ]
         ],
         "hovertemplate": "Movie Series=%{customdata[1]}<br>Release Year=%{x}<br>Rating=%{y}<br>Title=%{customdata[0]}<extra></extra>",
         "legendgroup": "Species",
         "line": {
          "color": "#FF97FF",
          "dash": "solid",
          "shape": "linear"
         },
         "marker": {
          "symbol": "circle"
         },
         "mode": "lines+markers",
         "name": "Species",
         "orientation": "v",
         "showlegend": true,
         "type": "scatter",
         "x": [
          1995,
          1998
         ],
         "xaxis": "x",
         "y": [
          5.8,
          4.4
         ],
         "yaxis": "y"
        },
        {
         "customdata": [
          [
           "Speed",
           "Speed"
          ],
          [
           "Speed 2: Cruise Control",
           "Speed"
          ]
         ],
         "hovertemplate": "Movie Series=%{customdata[1]}<br>Release Year=%{x}<br>Rating=%{y}<br>Title=%{customdata[0]}<extra></extra>",
         "legendgroup": "Speed",
         "line": {
          "color": "#FECB52",
          "dash": "solid",
          "shape": "linear"
         },
         "marker": {
          "symbol": "circle"
         },
         "mode": "lines+markers",
         "name": "Speed",
         "orientation": "v",
         "showlegend": true,
         "type": "scatter",
         "x": [
          1994,
          1997
         ],
         "xaxis": "x",
         "y": [
          7.2,
          3.9
         ],
         "yaxis": "y"
        },
        {
         "customdata": [
          [
           "Spider-Man",
           "Spider-Man"
          ],
          [
           "Spider-Man 2",
           "Spider-Man"
          ],
          [
           "Spider-Man 3",
           "Spider-Man"
          ],
          [
           "Spider-Man: Homecoming",
           "Spider-Man"
          ],
          [
           "Spider-Man: Far from Home",
           "Spider-Man"
          ]
         ],
         "hovertemplate": "Movie Series=%{customdata[1]}<br>Release Year=%{x}<br>Rating=%{y}<br>Title=%{customdata[0]}<extra></extra>",
         "legendgroup": "Spider-Man",
         "line": {
          "color": "#636efa",
          "dash": "solid",
          "shape": "linear"
         },
         "marker": {
          "symbol": "circle"
         },
         "mode": "lines+markers",
         "name": "Spider-Man",
         "orientation": "v",
         "showlegend": true,
         "type": "scatter",
         "x": [
          2002,
          2004,
          2007,
          2017,
          2019
         ],
         "xaxis": "x",
         "y": [
          7.3,
          7.3,
          6.2,
          7.4,
          7.5
         ],
         "yaxis": "y"
        },
        {
         "customdata": [
          [
           "Spy Kids",
           "Spy Kids"
          ],
          [
           "Spy Kids 2: Island of Lost Dreams",
           "Spy Kids"
          ],
          [
           "Spy Kids 3: Game Over",
           "Spy Kids"
          ],
          [
           "Spy Kids 4: All the Time in the World",
           "Spy Kids"
          ]
         ],
         "hovertemplate": "Movie Series=%{customdata[1]}<br>Release Year=%{x}<br>Rating=%{y}<br>Title=%{customdata[0]}<extra></extra>",
         "legendgroup": "Spy Kids",
         "line": {
          "color": "#EF553B",
          "dash": "solid",
          "shape": "linear"
         },
         "marker": {
          "symbol": "circle"
         },
         "mode": "lines+markers",
         "name": "Spy Kids",
         "orientation": "v",
         "showlegend": true,
         "type": "scatter",
         "x": [
          2001,
          2002,
          2003,
          2011
         ],
         "xaxis": "x",
         "y": [
          5.5,
          5.1,
          4.3,
          3.5
         ],
         "yaxis": "y"
        },
        {
         "customdata": [
          [
           "Star Trek: The Motion Picture",
           "Star Trek"
          ],
          [
           "Star Trek II: The Wrath of Khan",
           "Star Trek"
          ],
          [
           "Star Trek III: The Search for Spock",
           "Star Trek"
          ],
          [
           "Star Trek IV: The Voyage Home",
           "Star Trek"
          ],
          [
           "Star Trek V: The Final Frontier",
           "Star Trek"
          ],
          [
           "Star Trek VI: The Undiscovered Country",
           "Star Trek"
          ],
          [
           "Star Trek: Generations",
           "Star Trek"
          ],
          [
           "Star Trek: First Contact",
           "Star Trek"
          ],
          [
           "Star Trek: Insurrection",
           "Star Trek"
          ],
          [
           "Star Trek: Nemesis",
           "Star Trek"
          ],
          [
           "Star Trek",
           "Star Trek"
          ],
          [
           "Star Trek Into Darkness",
           "Star Trek"
          ],
          [
           "Star Trek Beyond",
           "Star Trek"
          ]
         ],
         "hovertemplate": "Movie Series=%{customdata[1]}<br>Release Year=%{x}<br>Rating=%{y}<br>Title=%{customdata[0]}<extra></extra>",
         "legendgroup": "Star Trek",
         "line": {
          "color": "#00cc96",
          "dash": "solid",
          "shape": "linear"
         },
         "marker": {
          "symbol": "circle"
         },
         "mode": "lines+markers",
         "name": "Star Trek",
         "orientation": "v",
         "showlegend": true,
         "type": "scatter",
         "x": [
          1979,
          1982,
          1984,
          1986,
          1989,
          1991,
          1994,
          1996,
          1998,
          2002,
          2009,
          2013,
          2016
         ],
         "xaxis": "x",
         "y": [
          6.4,
          7.7,
          6.7,
          7.3,
          5.5,
          7.2,
          6.6,
          7.6,
          6.4,
          6.4,
          7.9,
          7.7,
          7.1
         ],
         "yaxis": "y"
        },
        {
         "customdata": [
          [
           "Star Wars",
           "Star Wars"
          ],
          [
           "Star Wars: Episode V - The Empire Strikes Back",
           "Star Wars"
          ],
          [
           "Star Wars: Episode VI - Return of the Jedi",
           "Star Wars"
          ],
          [
           "Star Wars: Episode I - The Phantom Menace",
           "Star Wars"
          ],
          [
           "Star Wars: Episode II - Attack of the Clones",
           "Star Wars"
          ],
          [
           "Star Wars: Episode III - Revenge of the Sith",
           "Star Wars"
          ]
         ],
         "hovertemplate": "Movie Series=%{customdata[1]}<br>Release Year=%{x}<br>Rating=%{y}<br>Title=%{customdata[0]}<extra></extra>",
         "legendgroup": "Star Wars",
         "line": {
          "color": "#ab63fa",
          "dash": "solid",
          "shape": "linear"
         },
         "marker": {
          "symbol": "circle"
         },
         "mode": "lines+markers",
         "name": "Star Wars",
         "orientation": "v",
         "showlegend": true,
         "type": "scatter",
         "x": [
          1977,
          1980,
          1983,
          1999,
          2002,
          2005
         ],
         "xaxis": "x",
         "y": [
          8.6,
          8.7,
          8.3,
          6.5,
          6.5,
          7.5
         ],
         "yaxis": "y"
        },
        {
         "customdata": [
          [
           "Step Up",
           "Step Up"
          ],
          [
           "Step Up 2: The Streets",
           "Step Up"
          ],
          [
           "Step Up 3D",
           "Step Up"
          ],
          [
           "Step Up Revolution",
           "Step Up"
          ]
         ],
         "hovertemplate": "Movie Series=%{customdata[1]}<br>Release Year=%{x}<br>Rating=%{y}<br>Title=%{customdata[0]}<extra></extra>",
         "legendgroup": "Step Up",
         "line": {
          "color": "#FFA15A",
          "dash": "solid",
          "shape": "linear"
         },
         "marker": {
          "symbol": "circle"
         },
         "mode": "lines+markers",
         "name": "Step Up",
         "orientation": "v",
         "showlegend": true,
         "type": "scatter",
         "x": [
          2006,
          2008,
          2010,
          2012
         ],
         "xaxis": "x",
         "y": [
          6.5,
          6.2,
          6.2,
          6.4
         ],
         "yaxis": "y"
        },
        {
         "customdata": [
          [
           "Superman",
           "Superman"
          ],
          [
           "Superman II",
           "Superman"
          ],
          [
           "Superman III",
           "Superman"
          ],
          [
           "Superman IV: The Quest for Peace",
           "Superman"
          ]
         ],
         "hovertemplate": "Movie Series=%{customdata[1]}<br>Release Year=%{x}<br>Rating=%{y}<br>Title=%{customdata[0]}<extra></extra>",
         "legendgroup": "Superman",
         "line": {
          "color": "#19d3f3",
          "dash": "solid",
          "shape": "linear"
         },
         "marker": {
          "symbol": "circle"
         },
         "mode": "lines+markers",
         "name": "Superman",
         "orientation": "v",
         "showlegend": true,
         "type": "scatter",
         "x": [
          1978,
          1980,
          1983,
          1987
         ],
         "xaxis": "x",
         "y": [
          7.3,
          6.8,
          5,
          3.7
         ],
         "yaxis": "y"
        },
        {
         "customdata": [
          [
           "Taken",
           "Taken"
          ],
          [
           "Taken 2",
           "Taken"
          ],
          [
           "Taken 3",
           "Taken"
          ]
         ],
         "hovertemplate": "Movie Series=%{customdata[1]}<br>Release Year=%{x}<br>Rating=%{y}<br>Title=%{customdata[0]}<extra></extra>",
         "legendgroup": "Taken",
         "line": {
          "color": "#FF6692",
          "dash": "solid",
          "shape": "linear"
         },
         "marker": {
          "symbol": "circle"
         },
         "mode": "lines+markers",
         "name": "Taken",
         "orientation": "v",
         "showlegend": true,
         "type": "scatter",
         "x": [
          2008,
          2012,
          2014
         ],
         "xaxis": "x",
         "y": [
          7.8,
          6.3,
          6
         ],
         "yaxis": "y"
        },
        {
         "customdata": [
          [
           "Taxi",
           "Taxi"
          ],
          [
           "Taxi 2",
           "Taxi"
          ],
          [
           "Taxi 3",
           "Taxi"
          ],
          [
           "Taxi 4",
           "Taxi"
          ]
         ],
         "hovertemplate": "Movie Series=%{customdata[1]}<br>Release Year=%{x}<br>Rating=%{y}<br>Title=%{customdata[0]}<extra></extra>",
         "legendgroup": "Taxi",
         "line": {
          "color": "#B6E880",
          "dash": "solid",
          "shape": "linear"
         },
         "marker": {
          "symbol": "circle"
         },
         "mode": "lines+markers",
         "name": "Taxi",
         "orientation": "v",
         "showlegend": true,
         "type": "scatter",
         "x": [
          1998,
          2000,
          2003,
          2007
         ],
         "xaxis": "x",
         "y": [
          7,
          6.5,
          5.8,
          5.6
         ],
         "yaxis": "y"
        },
        {
         "customdata": [
          [
           "Ted",
           "Ted"
          ],
          [
           "Ted 2",
           "Ted"
          ]
         ],
         "hovertemplate": "Movie Series=%{customdata[1]}<br>Release Year=%{x}<br>Rating=%{y}<br>Title=%{customdata[0]}<extra></extra>",
         "legendgroup": "Ted",
         "line": {
          "color": "#FF97FF",
          "dash": "solid",
          "shape": "linear"
         },
         "marker": {
          "symbol": "circle"
         },
         "mode": "lines+markers",
         "name": "Ted",
         "orientation": "v",
         "showlegend": true,
         "type": "scatter",
         "x": [
          2012,
          2015
         ],
         "xaxis": "x",
         "y": [
          6.9,
          6.3
         ],
         "yaxis": "y"
        },
        {
         "customdata": [
          [
           "Teenage Mutant Ninja Turtles",
           "Teenage Mutant Ninja Turtles"
          ],
          [
           "Teenage Mutant Ninja Turtles: Out of the Shadows",
           "Teenage Mutant Ninja Turtles"
          ]
         ],
         "hovertemplate": "Movie Series=%{customdata[1]}<br>Release Year=%{x}<br>Rating=%{y}<br>Title=%{customdata[0]}<extra></extra>",
         "legendgroup": "Teenage Mutant Ninja Turtles",
         "line": {
          "color": "#FECB52",
          "dash": "solid",
          "shape": "linear"
         },
         "marker": {
          "symbol": "circle"
         },
         "mode": "lines+markers",
         "name": "Teenage Mutant Ninja Turtles",
         "orientation": "v",
         "showlegend": true,
         "type": "scatter",
         "x": [
          2014,
          2016
         ],
         "xaxis": "x",
         "y": [
          5.8,
          6
         ],
         "yaxis": "y"
        },
        {
         "customdata": [
          [
           "The Terminator",
           "Terminator"
          ],
          [
           "Terminator 2: Judgment Day",
           "Terminator"
          ],
          [
           "Terminator 3: Rise of the Machines",
           "Terminator"
          ],
          [
           "Terminator Salvation",
           "Terminator"
          ]
         ],
         "hovertemplate": "Movie Series=%{customdata[1]}<br>Release Year=%{x}<br>Rating=%{y}<br>Title=%{customdata[0]}<extra></extra>",
         "legendgroup": "Terminator",
         "line": {
          "color": "#636efa",
          "dash": "solid",
          "shape": "linear"
         },
         "marker": {
          "symbol": "circle"
         },
         "mode": "lines+markers",
         "name": "Terminator",
         "orientation": "v",
         "showlegend": true,
         "type": "scatter",
         "x": [
          1984,
          1991,
          2003,
          2009
         ],
         "xaxis": "x",
         "y": [
          8,
          8.5,
          6.3,
          6.5
         ],
         "yaxis": "y"
        },
        {
         "customdata": [
          [
           "The Amazing Spider-Man",
           "The Amazing Spider-Man"
          ],
          [
           "The Amazing Spider-Man 2",
           "The Amazing Spider-Man"
          ]
         ],
         "hovertemplate": "Movie Series=%{customdata[1]}<br>Release Year=%{x}<br>Rating=%{y}<br>Title=%{customdata[0]}<extra></extra>",
         "legendgroup": "The Amazing Spider-Man",
         "line": {
          "color": "#EF553B",
          "dash": "solid",
          "shape": "linear"
         },
         "marker": {
          "symbol": "circle"
         },
         "mode": "lines+markers",
         "name": "The Amazing Spider-Man",
         "orientation": "v",
         "showlegend": true,
         "type": "scatter",
         "x": [
          2012,
          2014
         ],
         "xaxis": "x",
         "y": [
          6.9,
          6.6
         ],
         "yaxis": "y"
        },
        {
         "customdata": [
          [
           "The Arrival",
           "The Arrival"
          ],
          [
           "The Second Arrival",
           "The Arrival"
          ]
         ],
         "hovertemplate": "Movie Series=%{customdata[1]}<br>Release Year=%{x}<br>Rating=%{y}<br>Title=%{customdata[0]}<extra></extra>",
         "legendgroup": "The Arrival",
         "line": {
          "color": "#00cc96",
          "dash": "solid",
          "shape": "linear"
         },
         "marker": {
          "symbol": "circle"
         },
         "mode": "lines+markers",
         "name": "The Arrival",
         "orientation": "v",
         "showlegend": true,
         "type": "scatter",
         "x": [
          1996,
          1998
         ],
         "xaxis": "x",
         "y": [
          6.3,
          3.8
         ],
         "yaxis": "y"
        },
        {
         "customdata": [
          [
           "The Avengers",
           "The Avengers"
          ],
          [
           "Avengers: Age of Ultron",
           "The Avengers"
          ],
          [
           "Avengers: Infinity War",
           "The Avengers"
          ],
          [
           "Avengers: Endgame",
           "The Avengers"
          ]
         ],
         "hovertemplate": "Movie Series=%{customdata[1]}<br>Release Year=%{x}<br>Rating=%{y}<br>Title=%{customdata[0]}<extra></extra>",
         "legendgroup": "The Avengers",
         "line": {
          "color": "#ab63fa",
          "dash": "solid",
          "shape": "linear"
         },
         "marker": {
          "symbol": "circle"
         },
         "mode": "lines+markers",
         "name": "The Avengers",
         "orientation": "v",
         "showlegend": true,
         "type": "scatter",
         "x": [
          2012,
          2015,
          2018,
          2019
         ],
         "xaxis": "x",
         "y": [
          8,
          7.3,
          8.5,
          8.4
         ],
         "yaxis": "y"
        },
        {
         "customdata": [
          [
           "The Best Man",
           "The Best Man"
          ],
          [
           "The Best Man Holiday",
           "The Best Man"
          ]
         ],
         "hovertemplate": "Movie Series=%{customdata[1]}<br>Release Year=%{x}<br>Rating=%{y}<br>Title=%{customdata[0]}<extra></extra>",
         "legendgroup": "The Best Man",
         "line": {
          "color": "#FFA15A",
          "dash": "solid",
          "shape": "linear"
         },
         "marker": {
          "symbol": "circle"
         },
         "mode": "lines+markers",
         "name": "The Best Man",
         "orientation": "v",
         "showlegend": true,
         "type": "scatter",
         "x": [
          1999,
          2013
         ],
         "xaxis": "x",
         "y": [
          6.8,
          6.7
         ],
         "yaxis": "y"
        },
        {
         "customdata": [
          [
           "The Boondock Saints",
           "The Boondock Saints"
          ],
          [
           "The Boondock Saints II: All Saints Day",
           "The Boondock Saints"
          ]
         ],
         "hovertemplate": "Movie Series=%{customdata[1]}<br>Release Year=%{x}<br>Rating=%{y}<br>Title=%{customdata[0]}<extra></extra>",
         "legendgroup": "The Boondock Saints",
         "line": {
          "color": "#19d3f3",
          "dash": "solid",
          "shape": "linear"
         },
         "marker": {
          "symbol": "circle"
         },
         "mode": "lines+markers",
         "name": "The Boondock Saints",
         "orientation": "v",
         "showlegend": true,
         "type": "scatter",
         "x": [
          1999,
          2009
         ],
         "xaxis": "x",
         "y": [
          7.8,
          6.3
         ],
         "yaxis": "y"
        },
        {
         "customdata": [
          [
           "The Bourne Identity",
           "The Bourne Identity"
          ],
          [
           "The Bourne Supremacy",
           "The Bourne Identity"
          ],
          [
           "The Bourne Ultimatum",
           "The Bourne Identity"
          ],
          [
           "The Bourne Legacy",
           "The Bourne Identity"
          ]
         ],
         "hovertemplate": "Movie Series=%{customdata[1]}<br>Release Year=%{x}<br>Rating=%{y}<br>Title=%{customdata[0]}<extra></extra>",
         "legendgroup": "The Bourne Identity",
         "line": {
          "color": "#FF6692",
          "dash": "solid",
          "shape": "linear"
         },
         "marker": {
          "symbol": "circle"
         },
         "mode": "lines+markers",
         "name": "The Bourne Identity",
         "orientation": "v",
         "showlegend": true,
         "type": "scatter",
         "x": [
          2002,
          2004,
          2007,
          2012
         ],
         "xaxis": "x",
         "y": [
          7.9,
          7.7,
          8,
          6.7
         ],
         "yaxis": "y"
        },
        {
         "customdata": [
          [
           "The Butterfly Effect",
           "The Butterfly Effect"
          ],
          [
           "The Butterfly Effect 2",
           "The Butterfly Effect"
          ],
          [
           "The Butterfly Effect 3: Revelations",
           "The Butterfly Effect"
          ]
         ],
         "hovertemplate": "Movie Series=%{customdata[1]}<br>Release Year=%{x}<br>Rating=%{y}<br>Title=%{customdata[0]}<extra></extra>",
         "legendgroup": "The Butterfly Effect",
         "line": {
          "color": "#B6E880",
          "dash": "solid",
          "shape": "linear"
         },
         "marker": {
          "symbol": "circle"
         },
         "mode": "lines+markers",
         "name": "The Butterfly Effect",
         "orientation": "v",
         "showlegend": true,
         "type": "scatter",
         "x": [
          2004,
          2006,
          2009
         ],
         "xaxis": "x",
         "y": [
          7.6,
          4.5,
          5.6
         ],
         "yaxis": "y"
        },
        {
         "customdata": [
          [
           "The Chronicles of Riddick",
           "The Chronicles of Riddick"
          ],
          [
           "Riddick",
           "The Chronicles of Riddick"
          ]
         ],
         "hovertemplate": "Movie Series=%{customdata[1]}<br>Release Year=%{x}<br>Rating=%{y}<br>Title=%{customdata[0]}<extra></extra>",
         "legendgroup": "The Chronicles of Riddick",
         "line": {
          "color": "#FF97FF",
          "dash": "solid",
          "shape": "linear"
         },
         "marker": {
          "symbol": "circle"
         },
         "mode": "lines+markers",
         "name": "The Chronicles of Riddick",
         "orientation": "v",
         "showlegend": true,
         "type": "scatter",
         "x": [
          2004,
          2013
         ],
         "xaxis": "x",
         "y": [
          6.7,
          6.4
         ],
         "yaxis": "y"
        },
        {
         "customdata": [
          [
           "The Collector",
           "The Collector"
          ],
          [
           "The Collection",
           "The Collector"
          ]
         ],
         "hovertemplate": "Movie Series=%{customdata[1]}<br>Release Year=%{x}<br>Rating=%{y}<br>Title=%{customdata[0]}<extra></extra>",
         "legendgroup": "The Collector",
         "line": {
          "color": "#FECB52",
          "dash": "solid",
          "shape": "linear"
         },
         "marker": {
          "symbol": "circle"
         },
         "mode": "lines+markers",
         "name": "The Collector",
         "orientation": "v",
         "showlegend": true,
         "type": "scatter",
         "x": [
          2009,
          2012
         ],
         "xaxis": "x",
         "y": [
          6.4,
          6.1
         ],
         "yaxis": "y"
        },
        {
         "customdata": [
          [
           "The Conjuring",
           "The Conjuring"
          ],
          [
           "The Conjuring 2",
           "The Conjuring"
          ],
          [
           "The Conjuring: The Devil Made Me Do It",
           "The Conjuring"
          ]
         ],
         "hovertemplate": "Movie Series=%{customdata[1]}<br>Release Year=%{x}<br>Rating=%{y}<br>Title=%{customdata[0]}<extra></extra>",
         "legendgroup": "The Conjuring",
         "line": {
          "color": "#636efa",
          "dash": "solid",
          "shape": "linear"
         },
         "marker": {
          "symbol": "circle"
         },
         "mode": "lines+markers",
         "name": "The Conjuring",
         "orientation": "v",
         "showlegend": true,
         "type": "scatter",
         "x": [
          2013,
          2016,
          2020
         ],
         "xaxis": "x",
         "y": [
          7.5,
          7.3,
          6.3
         ],
         "yaxis": "y"
        },
        {
         "customdata": [
          [
           "The Crow",
           "The Crow"
          ],
          [
           "The Crow: City of Angels",
           "The Crow"
          ],
          [
           "The Crow: Salvation",
           "The Crow"
          ],
          [
           "The Crow: Wicked Prayer",
           "The Crow"
          ]
         ],
         "hovertemplate": "Movie Series=%{customdata[1]}<br>Release Year=%{x}<br>Rating=%{y}<br>Title=%{customdata[0]}<extra></extra>",
         "legendgroup": "The Crow",
         "line": {
          "color": "#EF553B",
          "dash": "solid",
          "shape": "linear"
         },
         "marker": {
          "symbol": "circle"
         },
         "mode": "lines+markers",
         "name": "The Crow",
         "orientation": "v",
         "showlegend": true,
         "type": "scatter",
         "x": [
          1994,
          1996,
          2000,
          2005
         ],
         "xaxis": "x",
         "y": [
          7.6,
          4.7,
          4.9,
          3
         ],
         "yaxis": "y"
        },
        {
         "customdata": [
          [
           "The Da Vinci Code",
           "The Da Vinci Code"
          ],
          [
           "Angels & Demons",
           "The Da Vinci Code"
          ]
         ],
         "hovertemplate": "Movie Series=%{customdata[1]}<br>Release Year=%{x}<br>Rating=%{y}<br>Title=%{customdata[0]}<extra></extra>",
         "legendgroup": "The Da Vinci Code",
         "line": {
          "color": "#00cc96",
          "dash": "solid",
          "shape": "linear"
         },
         "marker": {
          "symbol": "circle"
         },
         "mode": "lines+markers",
         "name": "The Da Vinci Code",
         "orientation": "v",
         "showlegend": true,
         "type": "scatter",
         "x": [
          2006,
          2009
         ],
         "xaxis": "x",
         "y": [
          6.6,
          6.7
         ],
         "yaxis": "y"
        },
        {
         "customdata": [
          [
           "The Dead",
           "The Dead"
          ],
          [
           "The Dead 2: India",
           "The Dead"
          ]
         ],
         "hovertemplate": "Movie Series=%{customdata[1]}<br>Release Year=%{x}<br>Rating=%{y}<br>Title=%{customdata[0]}<extra></extra>",
         "legendgroup": "The Dead",
         "line": {
          "color": "#ab63fa",
          "dash": "solid",
          "shape": "linear"
         },
         "marker": {
          "symbol": "circle"
         },
         "mode": "lines+markers",
         "name": "The Dead",
         "orientation": "v",
         "showlegend": true,
         "type": "scatter",
         "x": [
          2010,
          2013
         ],
         "xaxis": "x",
         "y": [
          5.7,
          5.1
         ],
         "yaxis": "y"
        },
        {
         "customdata": [
          [
           "The Descent",
           "The Descent"
          ],
          [
           "The Descent: Part 2",
           "The Descent"
          ]
         ],
         "hovertemplate": "Movie Series=%{customdata[1]}<br>Release Year=%{x}<br>Rating=%{y}<br>Title=%{customdata[0]}<extra></extra>",
         "legendgroup": "The Descent",
         "line": {
          "color": "#FFA15A",
          "dash": "solid",
          "shape": "linear"
         },
         "marker": {
          "symbol": "circle"
         },
         "mode": "lines+markers",
         "name": "The Descent",
         "orientation": "v",
         "showlegend": true,
         "type": "scatter",
         "x": [
          2005,
          2009
         ],
         "xaxis": "x",
         "y": [
          7.2,
          5.8
         ],
         "yaxis": "y"
        },
        {
         "customdata": [
          [
           "The Equalizer",
           "The Equalizer"
          ],
          [
           "The Equalizer 2",
           "The Equalizer"
          ]
         ],
         "hovertemplate": "Movie Series=%{customdata[1]}<br>Release Year=%{x}<br>Rating=%{y}<br>Title=%{customdata[0]}<extra></extra>",
         "legendgroup": "The Equalizer",
         "line": {
          "color": "#19d3f3",
          "dash": "solid",
          "shape": "linear"
         },
         "marker": {
          "symbol": "circle"
         },
         "mode": "lines+markers",
         "name": "The Equalizer",
         "orientation": "v",
         "showlegend": true,
         "type": "scatter",
         "x": [
          2014,
          2018
         ],
         "xaxis": "x",
         "y": [
          7.2,
          6.7
         ],
         "yaxis": "y"
        },
        {
         "customdata": [
          [
           "The Evil Dead",
           "The Evil Dead"
          ],
          [
           "Evil Dead II",
           "The Evil Dead"
          ]
         ],
         "hovertemplate": "Movie Series=%{customdata[1]}<br>Release Year=%{x}<br>Rating=%{y}<br>Title=%{customdata[0]}<extra></extra>",
         "legendgroup": "The Evil Dead",
         "line": {
          "color": "#FF6692",
          "dash": "solid",
          "shape": "linear"
         },
         "marker": {
          "symbol": "circle"
         },
         "mode": "lines+markers",
         "name": "The Evil Dead",
         "orientation": "v",
         "showlegend": true,
         "type": "scatter",
         "x": [
          1981,
          1987
         ],
         "xaxis": "x",
         "y": [
          7.5,
          7.8
         ],
         "yaxis": "y"
        },
        {
         "customdata": [
          [
           "The Exorcist",
           "The Exorcist"
          ],
          [
           "Exorcist II: The Heretic",
           "The Exorcist"
          ],
          [
           "The Exorcist III",
           "The Exorcist"
          ],
          [
           "Exorcist: The Beginning",
           "The Exorcist"
          ],
          [
           "The Last Exorcism",
           "The Exorcist"
          ]
         ],
         "hovertemplate": "Movie Series=%{customdata[1]}<br>Release Year=%{x}<br>Rating=%{y}<br>Title=%{customdata[0]}<extra></extra>",
         "legendgroup": "The Exorcist",
         "line": {
          "color": "#B6E880",
          "dash": "solid",
          "shape": "linear"
         },
         "marker": {
          "symbol": "circle"
         },
         "mode": "lines+markers",
         "name": "The Exorcist",
         "orientation": "v",
         "showlegend": true,
         "type": "scatter",
         "x": [
          1973,
          1977,
          1990,
          2004,
          2010
         ],
         "xaxis": "x",
         "y": [
          8,
          3.8,
          6.4,
          5.2,
          5.6
         ],
         "yaxis": "y"
        },
        {
         "customdata": [
          [
           "The Expendables",
           "The Expendables"
          ],
          [
           "The Expendables 2",
           "The Expendables"
          ]
         ],
         "hovertemplate": "Movie Series=%{customdata[1]}<br>Release Year=%{x}<br>Rating=%{y}<br>Title=%{customdata[0]}<extra></extra>",
         "legendgroup": "The Expendables",
         "line": {
          "color": "#FF97FF",
          "dash": "solid",
          "shape": "linear"
         },
         "marker": {
          "symbol": "circle"
         },
         "mode": "lines+markers",
         "name": "The Expendables",
         "orientation": "v",
         "showlegend": true,
         "type": "scatter",
         "x": [
          2010,
          2012
         ],
         "xaxis": "x",
         "y": [
          6.5,
          6.6
         ],
         "yaxis": "y"
        },
        {
         "customdata": [
          [
           "The Fast and the Furious",
           "The Fast and the Furious"
          ],
          [
           "2 Fast 2 Furious",
           "The Fast and the Furious"
          ],
          [
           "The Fast and the Furious: Tokyo Drift",
           "The Fast and the Furious"
          ],
          [
           "Fast & Furious",
           "The Fast and the Furious"
          ],
          [
           "Fast Five",
           "The Fast and the Furious"
          ]
         ],
         "hovertemplate": "Movie Series=%{customdata[1]}<br>Release Year=%{x}<br>Rating=%{y}<br>Title=%{customdata[0]}<extra></extra>",
         "legendgroup": "The Fast and the Furious",
         "line": {
          "color": "#FECB52",
          "dash": "solid",
          "shape": "linear"
         },
         "marker": {
          "symbol": "circle"
         },
         "mode": "lines+markers",
         "name": "The Fast and the Furious",
         "orientation": "v",
         "showlegend": true,
         "type": "scatter",
         "x": [
          2001,
          2003,
          2006,
          2009,
          2011
         ],
         "xaxis": "x",
         "y": [
          6.8,
          5.9,
          6,
          6.6,
          7.3
         ],
         "yaxis": "y"
        },
        {
         "customdata": [
          [
           "The Fly",
           "The Fly"
          ],
          [
           "The Fly II",
           "The Fly"
          ]
         ],
         "hovertemplate": "Movie Series=%{customdata[1]}<br>Release Year=%{x}<br>Rating=%{y}<br>Title=%{customdata[0]}<extra></extra>",
         "legendgroup": "The Fly",
         "line": {
          "color": "#636efa",
          "dash": "solid",
          "shape": "linear"
         },
         "marker": {
          "symbol": "circle"
         },
         "mode": "lines+markers",
         "name": "The Fly",
         "orientation": "v",
         "showlegend": true,
         "type": "scatter",
         "x": [
          1986,
          1989
         ],
         "xaxis": "x",
         "y": [
          7.6,
          5.1
         ],
         "yaxis": "y"
        },
        {
         "customdata": [
          [
           "The French Connection",
           "The French Connection"
          ],
          [
           "French Connection II",
           "The French Connection"
          ]
         ],
         "hovertemplate": "Movie Series=%{customdata[1]}<br>Release Year=%{x}<br>Rating=%{y}<br>Title=%{customdata[0]}<extra></extra>",
         "legendgroup": "The French Connection",
         "line": {
          "color": "#EF553B",
          "dash": "solid",
          "shape": "linear"
         },
         "marker": {
          "symbol": "circle"
         },
         "mode": "lines+markers",
         "name": "The French Connection",
         "orientation": "v",
         "showlegend": true,
         "type": "scatter",
         "x": [
          1971,
          1975
         ],
         "xaxis": "x",
         "y": [
          7.7,
          6.8
         ],
         "yaxis": "y"
        },
        {
         "customdata": [
          [
           "The Godfather",
           "The Godfather"
          ],
          [
           "The Godfather: Part II",
           "The Godfather"
          ],
          [
           "The Godfather: Part III",
           "The Godfather"
          ]
         ],
         "hovertemplate": "Movie Series=%{customdata[1]}<br>Release Year=%{x}<br>Rating=%{y}<br>Title=%{customdata[0]}<extra></extra>",
         "legendgroup": "The Godfather",
         "line": {
          "color": "#00cc96",
          "dash": "solid",
          "shape": "linear"
         },
         "marker": {
          "symbol": "circle"
         },
         "mode": "lines+markers",
         "name": "The Godfather",
         "orientation": "v",
         "showlegend": true,
         "type": "scatter",
         "x": [
          1972,
          1974,
          1990
         ],
         "xaxis": "x",
         "y": [
          9.2,
          9,
          7.6
         ],
         "yaxis": "y"
        },
        {
         "customdata": [
          [
           "The Grudge",
           "The Grudge"
          ],
          [
           "The Grudge 2",
           "The Grudge"
          ],
          [
           "The Grudge 3",
           "The Grudge"
          ]
         ],
         "hovertemplate": "Movie Series=%{customdata[1]}<br>Release Year=%{x}<br>Rating=%{y}<br>Title=%{customdata[0]}<extra></extra>",
         "legendgroup": "The Grudge",
         "line": {
          "color": "#ab63fa",
          "dash": "solid",
          "shape": "linear"
         },
         "marker": {
          "symbol": "circle"
         },
         "mode": "lines+markers",
         "name": "The Grudge",
         "orientation": "v",
         "showlegend": true,
         "type": "scatter",
         "x": [
          2004,
          2006,
          2009
         ],
         "xaxis": "x",
         "y": [
          5.9,
          5.1,
          4.7
         ],
         "yaxis": "y"
        },
        {
         "customdata": [
          [
           "The Hangover",
           "The Hangover"
          ],
          [
           "The Hangover Part II",
           "The Hangover"
          ],
          [
           "The Hangover Part III",
           "The Hangover"
          ]
         ],
         "hovertemplate": "Movie Series=%{customdata[1]}<br>Release Year=%{x}<br>Rating=%{y}<br>Title=%{customdata[0]}<extra></extra>",
         "legendgroup": "The Hangover",
         "line": {
          "color": "#FFA15A",
          "dash": "solid",
          "shape": "linear"
         },
         "marker": {
          "symbol": "circle"
         },
         "mode": "lines+markers",
         "name": "The Hangover",
         "orientation": "v",
         "showlegend": true,
         "type": "scatter",
         "x": [
          2009,
          2011,
          2013
         ],
         "xaxis": "x",
         "y": [
          7.7,
          6.4,
          5.8
         ],
         "yaxis": "y"
        },
        {
         "customdata": [
          [
           "The Hills Have Eyes",
           "The Hills Have Eyes"
          ],
          [
           "The Hills Have Eyes Part II",
           "The Hills Have Eyes"
          ],
          [
           "The Hills Have Eyes",
           "The Hills Have Eyes"
          ],
          [
           "The Hills Have Eyes II",
           "The Hills Have Eyes"
          ]
         ],
         "hovertemplate": "Movie Series=%{customdata[1]}<br>Release Year=%{x}<br>Rating=%{y}<br>Title=%{customdata[0]}<extra></extra>",
         "legendgroup": "The Hills Have Eyes",
         "line": {
          "color": "#19d3f3",
          "dash": "solid",
          "shape": "linear"
         },
         "marker": {
          "symbol": "circle"
         },
         "mode": "lines+markers",
         "name": "The Hills Have Eyes",
         "orientation": "v",
         "showlegend": true,
         "type": "scatter",
         "x": [
          1977,
          1984,
          2006,
          2007
         ],
         "xaxis": "x",
         "y": [
          6.3,
          3.8,
          6.4,
          5.1
         ],
         "yaxis": "y"
        },
        {
         "customdata": [
          [
           "The Hobbit: An Unexpected Journey",
           "The Hobbit"
          ],
          [
           "The Hobbit: The Desolation of Smaug",
           "The Hobbit"
          ],
          [
           "The Hobbit: The Battle of the Five Armies",
           "The Hobbit"
          ]
         ],
         "hovertemplate": "Movie Series=%{customdata[1]}<br>Release Year=%{x}<br>Rating=%{y}<br>Title=%{customdata[0]}<extra></extra>",
         "legendgroup": "The Hobbit",
         "line": {
          "color": "#FF6692",
          "dash": "solid",
          "shape": "linear"
         },
         "marker": {
          "symbol": "circle"
         },
         "mode": "lines+markers",
         "name": "The Hobbit",
         "orientation": "v",
         "showlegend": true,
         "type": "scatter",
         "x": [
          2012,
          2013,
          2014
         ],
         "xaxis": "x",
         "y": [
          7.8,
          7.8,
          7.4
         ],
         "yaxis": "y"
        },
        {
         "customdata": [
          [
           "The Hunger Games",
           "The Hunger Games"
          ],
          [
           "The Hunger Games: Catching Fire",
           "The Hunger Games"
          ],
          [
           "The Hunger Games: Mockingjay - Part 1",
           "The Hunger Games"
          ],
          [
           "The Hunger Games: Mockingjay - Part 2",
           "The Hunger Games"
          ]
         ],
         "hovertemplate": "Movie Series=%{customdata[1]}<br>Release Year=%{x}<br>Rating=%{y}<br>Title=%{customdata[0]}<extra></extra>",
         "legendgroup": "The Hunger Games",
         "line": {
          "color": "#B6E880",
          "dash": "solid",
          "shape": "linear"
         },
         "marker": {
          "symbol": "circle"
         },
         "mode": "lines+markers",
         "name": "The Hunger Games",
         "orientation": "v",
         "showlegend": true,
         "type": "scatter",
         "x": [
          2012,
          2013,
          2014,
          2015
         ],
         "xaxis": "x",
         "y": [
          7.2,
          7.5,
          6.6,
          6.5
         ],
         "yaxis": "y"
        },
        {
         "customdata": [
          [
           "Hulk",
           "The Incredible Hulk"
          ],
          [
           "The Incredible Hulk",
           "The Incredible Hulk"
          ]
         ],
         "hovertemplate": "Movie Series=%{customdata[1]}<br>Release Year=%{x}<br>Rating=%{y}<br>Title=%{customdata[0]}<extra></extra>",
         "legendgroup": "The Incredible Hulk",
         "line": {
          "color": "#FF97FF",
          "dash": "solid",
          "shape": "linear"
         },
         "marker": {
          "symbol": "circle"
         },
         "mode": "lines+markers",
         "name": "The Incredible Hulk",
         "orientation": "v",
         "showlegend": true,
         "type": "scatter",
         "x": [
          2003,
          2008
         ],
         "xaxis": "x",
         "y": [
          5.6,
          6.7
         ],
         "yaxis": "y"
        },
        {
         "customdata": [
          [
           "The Incredibles",
           "The Incredibles"
          ],
          [
           "Incredibles 2",
           "The Incredibles"
          ]
         ],
         "hovertemplate": "Movie Series=%{customdata[1]}<br>Release Year=%{x}<br>Rating=%{y}<br>Title=%{customdata[0]}<extra></extra>",
         "legendgroup": "The Incredibles",
         "line": {
          "color": "#FECB52",
          "dash": "solid",
          "shape": "linear"
         },
         "marker": {
          "symbol": "circle"
         },
         "mode": "lines+markers",
         "name": "The Incredibles",
         "orientation": "v",
         "showlegend": true,
         "type": "scatter",
         "x": [
          2004,
          2018
         ],
         "xaxis": "x",
         "y": [
          8,
          7.6
         ],
         "yaxis": "y"
        },
        {
         "customdata": [
          [
           "The Karate Kid",
           "The Karate Kid"
          ],
          [
           "The Karate Kid Part II",
           "The Karate Kid"
          ],
          [
           "The Karate Kid Part III",
           "The Karate Kid"
          ],
          [
           "The Karate Kid",
           "The Karate Kid"
          ]
         ],
         "hovertemplate": "Movie Series=%{customdata[1]}<br>Release Year=%{x}<br>Rating=%{y}<br>Title=%{customdata[0]}<extra></extra>",
         "legendgroup": "The Karate Kid",
         "line": {
          "color": "#636efa",
          "dash": "solid",
          "shape": "linear"
         },
         "marker": {
          "symbol": "circle"
         },
         "mode": "lines+markers",
         "name": "The Karate Kid",
         "orientation": "v",
         "showlegend": true,
         "type": "scatter",
         "x": [
          1984,
          1986,
          1989,
          2010
         ],
         "xaxis": "x",
         "y": [
          7.2,
          6,
          5.2,
          6.2
         ],
         "yaxis": "y"
        },
        {
         "customdata": [
          [
           "The Lego Movie",
           "The Lego Movie"
          ],
          [
           "The Lego Movie 2: The Second Part",
           "The Lego Movie"
          ]
         ],
         "hovertemplate": "Movie Series=%{customdata[1]}<br>Release Year=%{x}<br>Rating=%{y}<br>Title=%{customdata[0]}<extra></extra>",
         "legendgroup": "The Lego Movie",
         "line": {
          "color": "#EF553B",
          "dash": "solid",
          "shape": "linear"
         },
         "marker": {
          "symbol": "circle"
         },
         "mode": "lines+markers",
         "name": "The Lego Movie",
         "orientation": "v",
         "showlegend": true,
         "type": "scatter",
         "x": [
          2014,
          2019
         ],
         "xaxis": "x",
         "y": [
          7.7,
          6.6
         ],
         "yaxis": "y"
        },
        {
         "customdata": [
          [
           "The Lord of the Rings: The Fellowship of the Ring",
           "The Lord of the Rings"
          ],
          [
           "The Lord of the Rings: The Two Towers",
           "The Lord of the Rings"
          ],
          [
           "The Lord of the Rings: The Return of the King",
           "The Lord of the Rings"
          ]
         ],
         "hovertemplate": "Movie Series=%{customdata[1]}<br>Release Year=%{x}<br>Rating=%{y}<br>Title=%{customdata[0]}<extra></extra>",
         "legendgroup": "The Lord of the Rings",
         "line": {
          "color": "#00cc96",
          "dash": "solid",
          "shape": "linear"
         },
         "marker": {
          "symbol": "circle"
         },
         "mode": "lines+markers",
         "name": "The Lord of the Rings",
         "orientation": "v",
         "showlegend": true,
         "type": "scatter",
         "x": [
          2001,
          2002,
          2003
         ],
         "xaxis": "x",
         "y": [
          8.8,
          8.7,
          8.9
         ],
         "yaxis": "y"
        },
        {
         "customdata": [
          [
           "The Mask",
           "The Mask"
          ],
          [
           "Son of the Mask",
           "The Mask"
          ]
         ],
         "hovertemplate": "Movie Series=%{customdata[1]}<br>Release Year=%{x}<br>Rating=%{y}<br>Title=%{customdata[0]}<extra></extra>",
         "legendgroup": "The Mask",
         "line": {
          "color": "#ab63fa",
          "dash": "solid",
          "shape": "linear"
         },
         "marker": {
          "symbol": "circle"
         },
         "mode": "lines+markers",
         "name": "The Mask",
         "orientation": "v",
         "showlegend": true,
         "type": "scatter",
         "x": [
          1994,
          2005
         ],
         "xaxis": "x",
         "y": [
          6.9,
          2.2
         ],
         "yaxis": "y"
        },
        {
         "customdata": [
          [
           "The Mask of Zorro",
           "The Mask of Zorro"
          ],
          [
           "The Legend of Zorro",
           "The Mask of Zorro"
          ]
         ],
         "hovertemplate": "Movie Series=%{customdata[1]}<br>Release Year=%{x}<br>Rating=%{y}<br>Title=%{customdata[0]}<extra></extra>",
         "legendgroup": "The Mask of Zorro",
         "line": {
          "color": "#FFA15A",
          "dash": "solid",
          "shape": "linear"
         },
         "marker": {
          "symbol": "circle"
         },
         "mode": "lines+markers",
         "name": "The Mask of Zorro",
         "orientation": "v",
         "showlegend": true,
         "type": "scatter",
         "x": [
          1998,
          2005
         ],
         "xaxis": "x",
         "y": [
          6.7,
          6
         ],
         "yaxis": "y"
        },
        {
         "customdata": [
          [
           "The Matrix",
           "The Matrix"
          ],
          [
           "The Matrix Reloaded",
           "The Matrix"
          ],
          [
           "The Matrix Revolutions",
           "The Matrix"
          ]
         ],
         "hovertemplate": "Movie Series=%{customdata[1]}<br>Release Year=%{x}<br>Rating=%{y}<br>Title=%{customdata[0]}<extra></extra>",
         "legendgroup": "The Matrix",
         "line": {
          "color": "#19d3f3",
          "dash": "solid",
          "shape": "linear"
         },
         "marker": {
          "symbol": "circle"
         },
         "mode": "lines+markers",
         "name": "The Matrix",
         "orientation": "v",
         "showlegend": true,
         "type": "scatter",
         "x": [
          1999,
          2003,
          2003
         ],
         "xaxis": "x",
         "y": [
          8.7,
          7.2,
          6.8
         ],
         "yaxis": "y"
        },
        {
         "customdata": [
          [
           "The Mechanic",
           "The Mechanic"
          ],
          [
           "Mechanic: Resurrection",
           "The Mechanic"
          ]
         ],
         "hovertemplate": "Movie Series=%{customdata[1]}<br>Release Year=%{x}<br>Rating=%{y}<br>Title=%{customdata[0]}<extra></extra>",
         "legendgroup": "The Mechanic",
         "line": {
          "color": "#FF6692",
          "dash": "solid",
          "shape": "linear"
         },
         "marker": {
          "symbol": "circle"
         },
         "mode": "lines+markers",
         "name": "The Mechanic",
         "orientation": "v",
         "showlegend": true,
         "type": "scatter",
         "x": [
          2011,
          2016
         ],
         "xaxis": "x",
         "y": [
          6.6,
          5.7
         ],
         "yaxis": "y"
        },
        {
         "customdata": [
          [
           "The Mummy",
           "The Mummy"
          ],
          [
           "The Mummy Returns",
           "The Mummy"
          ],
          [
           "The Mummy: Tomb of the Dragon Emperor",
           "The Mummy"
          ]
         ],
         "hovertemplate": "Movie Series=%{customdata[1]}<br>Release Year=%{x}<br>Rating=%{y}<br>Title=%{customdata[0]}<extra></extra>",
         "legendgroup": "The Mummy",
         "line": {
          "color": "#B6E880",
          "dash": "solid",
          "shape": "linear"
         },
         "marker": {
          "symbol": "circle"
         },
         "mode": "lines+markers",
         "name": "The Mummy",
         "orientation": "v",
         "showlegend": true,
         "type": "scatter",
         "x": [
          1999,
          2001,
          2008
         ],
         "xaxis": "x",
         "y": [
          7,
          6.3,
          5.2
         ],
         "yaxis": "y"
        },
        {
         "customdata": [
          [
           "The Muppet Movie",
           "The Muppets"
          ],
          [
           "The Great Muppet Caper",
           "The Muppets"
          ],
          [
           "The Muppets Take Manhattan",
           "The Muppets"
          ],
          [
           "Muppets from Space",
           "The Muppets"
          ],
          [
           "The Muppets",
           "The Muppets"
          ],
          [
           "Muppets Most Wanted",
           "The Muppets"
          ]
         ],
         "hovertemplate": "Movie Series=%{customdata[1]}<br>Release Year=%{x}<br>Rating=%{y}<br>Title=%{customdata[0]}<extra></extra>",
         "legendgroup": "The Muppets",
         "line": {
          "color": "#FF97FF",
          "dash": "solid",
          "shape": "linear"
         },
         "marker": {
          "symbol": "circle"
         },
         "mode": "lines+markers",
         "name": "The Muppets",
         "orientation": "v",
         "showlegend": true,
         "type": "scatter",
         "x": [
          1979,
          1981,
          1984,
          1999,
          2011,
          2014
         ],
         "xaxis": "x",
         "y": [
          7.6,
          7.2,
          6.9,
          6.3,
          7.1,
          6.4
         ],
         "yaxis": "y"
        },
        {
         "customdata": [
          [
           "The Naked Gun: From the Files of Police Squad!",
           "The Naked Gun"
          ],
          [
           "The Naked Gun 2½: The Smell of Fear",
           "The Naked Gun"
          ],
          [
           "Naked Gun 33 1/3: The Final Insult",
           "The Naked Gun"
          ]
         ],
         "hovertemplate": "Movie Series=%{customdata[1]}<br>Release Year=%{x}<br>Rating=%{y}<br>Title=%{customdata[0]}<extra></extra>",
         "legendgroup": "The Naked Gun",
         "line": {
          "color": "#FECB52",
          "dash": "solid",
          "shape": "linear"
         },
         "marker": {
          "symbol": "circle"
         },
         "mode": "lines+markers",
         "name": "The Naked Gun",
         "orientation": "v",
         "showlegend": true,
         "type": "scatter",
         "x": [
          1988,
          1991,
          1994
         ],
         "xaxis": "x",
         "y": [
          7.6,
          6.9,
          6.5
         ],
         "yaxis": "y"
        },
        {
         "customdata": [
          [
           "The Nutty Professor",
           "The Nutty Professor"
          ],
          [
           "Nutty Professor II: The Klumps",
           "The Nutty Professor"
          ]
         ],
         "hovertemplate": "Movie Series=%{customdata[1]}<br>Release Year=%{x}<br>Rating=%{y}<br>Title=%{customdata[0]}<extra></extra>",
         "legendgroup": "The Nutty Professor",
         "line": {
          "color": "#636efa",
          "dash": "solid",
          "shape": "linear"
         },
         "marker": {
          "symbol": "circle"
         },
         "mode": "lines+markers",
         "name": "The Nutty Professor",
         "orientation": "v",
         "showlegend": true,
         "type": "scatter",
         "x": [
          1996,
          2000
         ],
         "xaxis": "x",
         "y": [
          5.6,
          4.4
         ],
         "yaxis": "y"
        },
        {
         "customdata": [
          [
           "The Pink Panther",
           "The Pink Panther"
          ],
          [
           "The Pink Panther 2",
           "The Pink Panther"
          ]
         ],
         "hovertemplate": "Movie Series=%{customdata[1]}<br>Release Year=%{x}<br>Rating=%{y}<br>Title=%{customdata[0]}<extra></extra>",
         "legendgroup": "The Pink Panther",
         "line": {
          "color": "#EF553B",
          "dash": "solid",
          "shape": "linear"
         },
         "marker": {
          "symbol": "circle"
         },
         "mode": "lines+markers",
         "name": "The Pink Panther",
         "orientation": "v",
         "showlegend": true,
         "type": "scatter",
         "x": [
          2006,
          2009
         ],
         "xaxis": "x",
         "y": [
          5.7,
          5.6
         ],
         "yaxis": "y"
        },
        {
         "customdata": [
          [
           "The Princess Diaries",
           "The Princess Diaries"
          ],
          [
           "The Princess Diaries 2: Royal Engagement",
           "The Princess Diaries"
          ]
         ],
         "hovertemplate": "Movie Series=%{customdata[1]}<br>Release Year=%{x}<br>Rating=%{y}<br>Title=%{customdata[0]}<extra></extra>",
         "legendgroup": "The Princess Diaries",
         "line": {
          "color": "#00cc96",
          "dash": "solid",
          "shape": "linear"
         },
         "marker": {
          "symbol": "circle"
         },
         "mode": "lines+markers",
         "name": "The Princess Diaries",
         "orientation": "v",
         "showlegend": true,
         "type": "scatter",
         "x": [
          2001,
          2004
         ],
         "xaxis": "x",
         "y": [
          6.3,
          5.8
         ],
         "yaxis": "y"
        },
        {
         "customdata": [
          [
           "The Punisher",
           "The Punisher"
          ],
          [
           "Punisher: War Zone",
           "The Punisher"
          ]
         ],
         "hovertemplate": "Movie Series=%{customdata[1]}<br>Release Year=%{x}<br>Rating=%{y}<br>Title=%{customdata[0]}<extra></extra>",
         "legendgroup": "The Punisher",
         "line": {
          "color": "#ab63fa",
          "dash": "solid",
          "shape": "linear"
         },
         "marker": {
          "symbol": "circle"
         },
         "mode": "lines+markers",
         "name": "The Punisher",
         "orientation": "v",
         "showlegend": true,
         "type": "scatter",
         "x": [
          2004,
          2008
         ],
         "xaxis": "x",
         "y": [
          6.4,
          5.9
         ],
         "yaxis": "y"
        },
        {
         "customdata": [
          [
           "The Purge",
           "The Purge"
          ],
          [
           "The Purge: Anarchy",
           "The Purge"
          ],
          [
           "The Purge: Election Year",
           "The Purge"
          ]
         ],
         "hovertemplate": "Movie Series=%{customdata[1]}<br>Release Year=%{x}<br>Rating=%{y}<br>Title=%{customdata[0]}<extra></extra>",
         "legendgroup": "The Purge",
         "line": {
          "color": "#FFA15A",
          "dash": "solid",
          "shape": "linear"
         },
         "marker": {
          "symbol": "circle"
         },
         "mode": "lines+markers",
         "name": "The Purge",
         "orientation": "v",
         "showlegend": true,
         "type": "scatter",
         "x": [
          2013,
          2014,
          2016
         ],
         "xaxis": "x",
         "y": [
          5.7,
          6.4,
          6
         ],
         "yaxis": "y"
        },
        {
         "customdata": [
          [
           "The Ring",
           "The Ring"
          ],
          [
           "The Ring Two",
           "The Ring"
          ]
         ],
         "hovertemplate": "Movie Series=%{customdata[1]}<br>Release Year=%{x}<br>Rating=%{y}<br>Title=%{customdata[0]}<extra></extra>",
         "legendgroup": "The Ring",
         "line": {
          "color": "#19d3f3",
          "dash": "solid",
          "shape": "linear"
         },
         "marker": {
          "symbol": "circle"
         },
         "mode": "lines+markers",
         "name": "The Ring",
         "orientation": "v",
         "showlegend": true,
         "type": "scatter",
         "x": [
          2002,
          2005
         ],
         "xaxis": "x",
         "y": [
          7.1,
          5.4
         ],
         "yaxis": "y"
        },
        {
         "customdata": [
          [
           "The Santa Clause",
           "The Santa Clause"
          ],
          [
           "The Santa Clause 2",
           "The Santa Clause"
          ],
          [
           "The Santa Clause 3: The Escape Clause",
           "The Santa Clause"
          ]
         ],
         "hovertemplate": "Movie Series=%{customdata[1]}<br>Release Year=%{x}<br>Rating=%{y}<br>Title=%{customdata[0]}<extra></extra>",
         "legendgroup": "The Santa Clause",
         "line": {
          "color": "#FF6692",
          "dash": "solid",
          "shape": "linear"
         },
         "marker": {
          "symbol": "circle"
         },
         "mode": "lines+markers",
         "name": "The Santa Clause",
         "orientation": "v",
         "showlegend": true,
         "type": "scatter",
         "x": [
          1994,
          2002,
          2006
         ],
         "xaxis": "x",
         "y": [
          6.5,
          5.6,
          4.7
         ],
         "yaxis": "y"
        },
        {
         "customdata": [
          [
           "The Secret Life of Pets",
           "The Secret Life of Pets"
          ],
          [
           "The Secret Life of Pets 2",
           "The Secret Life of Pets"
          ]
         ],
         "hovertemplate": "Movie Series=%{customdata[1]}<br>Release Year=%{x}<br>Rating=%{y}<br>Title=%{customdata[0]}<extra></extra>",
         "legendgroup": "The Secret Life of Pets",
         "line": {
          "color": "#B6E880",
          "dash": "solid",
          "shape": "linear"
         },
         "marker": {
          "symbol": "circle"
         },
         "mode": "lines+markers",
         "name": "The Secret Life of Pets",
         "orientation": "v",
         "showlegend": true,
         "type": "scatter",
         "x": [
          2016,
          2019
         ],
         "xaxis": "x",
         "y": [
          6.5,
          6.5
         ],
         "yaxis": "y"
        },
        {
         "customdata": [
          [
           "The Sisterhood of the Traveling Pants",
           "The Sisterhood of the Traveling Pants"
          ],
          [
           "The Sisterhood of the Traveling Pants 2",
           "The Sisterhood of the Traveling Pants"
          ]
         ],
         "hovertemplate": "Movie Series=%{customdata[1]}<br>Release Year=%{x}<br>Rating=%{y}<br>Title=%{customdata[0]}<extra></extra>",
         "legendgroup": "The Sisterhood of the Traveling Pants",
         "line": {
          "color": "#FF97FF",
          "dash": "solid",
          "shape": "linear"
         },
         "marker": {
          "symbol": "circle"
         },
         "mode": "lines+markers",
         "name": "The Sisterhood of the Traveling Pants",
         "orientation": "v",
         "showlegend": true,
         "type": "scatter",
         "x": [
          2005,
          2008
         ],
         "xaxis": "x",
         "y": [
          6.5,
          6.2
         ],
         "yaxis": "y"
        },
        {
         "customdata": [
          [
           "The Texas Chainsaw Massacre 2",
           "The Texas Chainsaw Massacre"
          ],
          [
           "The Return of the Texas Chainsaw Massacre",
           "The Texas Chainsaw Massacre"
          ],
          [
           "The Texas Chainsaw Massacre",
           "The Texas Chainsaw Massacre"
          ],
          [
           "The Texas Chainsaw Massacre: The Beginning",
           "The Texas Chainsaw Massacre"
          ]
         ],
         "hovertemplate": "Movie Series=%{customdata[1]}<br>Release Year=%{x}<br>Rating=%{y}<br>Title=%{customdata[0]}<extra></extra>",
         "legendgroup": "The Texas Chainsaw Massacre",
         "line": {
          "color": "#FECB52",
          "dash": "solid",
          "shape": "linear"
         },
         "marker": {
          "symbol": "circle"
         },
         "mode": "lines+markers",
         "name": "The Texas Chainsaw Massacre",
         "orientation": "v",
         "showlegend": true,
         "type": "scatter",
         "x": [
          1986,
          1995,
          2003,
          2006
         ],
         "xaxis": "x",
         "y": [
          5.6,
          3.3,
          6.2,
          5.8
         ],
         "yaxis": "y"
        },
        {
         "customdata": [
          [
           "The Transporter",
           "The Transporter"
          ],
          [
           "Transporter 2",
           "The Transporter"
          ],
          [
           "Transporter 3",
           "The Transporter"
          ]
         ],
         "hovertemplate": "Movie Series=%{customdata[1]}<br>Release Year=%{x}<br>Rating=%{y}<br>Title=%{customdata[0]}<extra></extra>",
         "legendgroup": "The Transporter",
         "line": {
          "color": "#636efa",
          "dash": "solid",
          "shape": "linear"
         },
         "marker": {
          "symbol": "circle"
         },
         "mode": "lines+markers",
         "name": "The Transporter",
         "orientation": "v",
         "showlegend": true,
         "type": "scatter",
         "x": [
          2002,
          2005,
          2008
         ],
         "xaxis": "x",
         "y": [
          6.8,
          6.3,
          6.1
         ],
         "yaxis": "y"
        },
        {
         "customdata": [
          [
           "The Trip",
           "The Trip"
          ],
          [
           "The Trip to Italy",
           "The Trip"
          ]
         ],
         "hovertemplate": "Movie Series=%{customdata[1]}<br>Release Year=%{x}<br>Rating=%{y}<br>Title=%{customdata[0]}<extra></extra>",
         "legendgroup": "The Trip",
         "line": {
          "color": "#EF553B",
          "dash": "solid",
          "shape": "linear"
         },
         "marker": {
          "symbol": "circle"
         },
         "mode": "lines+markers",
         "name": "The Trip",
         "orientation": "v",
         "showlegend": true,
         "type": "scatter",
         "x": [
          2010,
          2014
         ],
         "xaxis": "x",
         "y": [
          7,
          6.6
         ],
         "yaxis": "y"
        },
        {
         "customdata": [
          [
           "The Messengers",
           "The Twilight Saga"
          ],
          [
           "Twilight",
           "The Twilight Saga"
          ],
          [
           "The Twilight Saga: New Moon",
           "The Twilight Saga"
          ],
          [
           "The Twilight Saga: Eclipse",
           "The Twilight Saga"
          ],
          [
           "The Twilight Saga: Breaking Dawn - Part 1",
           "The Twilight Saga"
          ],
          [
           "The Twilight Saga: Breaking Dawn - Part 2",
           "The Twilight Saga"
          ]
         ],
         "hovertemplate": "Movie Series=%{customdata[1]}<br>Release Year=%{x}<br>Rating=%{y}<br>Title=%{customdata[0]}<extra></extra>",
         "legendgroup": "The Twilight Saga",
         "line": {
          "color": "#00cc96",
          "dash": "solid",
          "shape": "linear"
         },
         "marker": {
          "symbol": "circle"
         },
         "mode": "lines+markers",
         "name": "The Twilight Saga",
         "orientation": "v",
         "showlegend": true,
         "type": "scatter",
         "x": [
          2007,
          2008,
          2009,
          2010,
          2011,
          2012
         ],
         "xaxis": "x",
         "y": [
          5.4,
          5.2,
          4.7,
          5,
          4.9,
          5.5
         ],
         "yaxis": "y"
        },
        {
         "customdata": [
          [
           "The Woman in Black",
           "The Woman in Black"
          ],
          [
           "The Woman in Black 2: Angel of Death",
           "The Woman in Black"
          ]
         ],
         "hovertemplate": "Movie Series=%{customdata[1]}<br>Release Year=%{x}<br>Rating=%{y}<br>Title=%{customdata[0]}<extra></extra>",
         "legendgroup": "The Woman in Black",
         "line": {
          "color": "#ab63fa",
          "dash": "solid",
          "shape": "linear"
         },
         "marker": {
          "symbol": "circle"
         },
         "mode": "lines+markers",
         "name": "The Woman in Black",
         "orientation": "v",
         "showlegend": true,
         "type": "scatter",
         "x": [
          2012,
          2014
         ],
         "xaxis": "x",
         "y": [
          6.4,
          4.8
         ],
         "yaxis": "y"
        },
        {
         "customdata": [
          [
           "The X Files",
           "The X Files"
          ],
          [
           "The X Files: I Want to Believe",
           "The X Files"
          ]
         ],
         "hovertemplate": "Movie Series=%{customdata[1]}<br>Release Year=%{x}<br>Rating=%{y}<br>Title=%{customdata[0]}<extra></extra>",
         "legendgroup": "The X Files",
         "line": {
          "color": "#FFA15A",
          "dash": "solid",
          "shape": "linear"
         },
         "marker": {
          "symbol": "circle"
         },
         "mode": "lines+markers",
         "name": "The X Files",
         "orientation": "v",
         "showlegend": true,
         "type": "scatter",
         "x": [
          1998,
          2008
         ],
         "xaxis": "x",
         "y": [
          7,
          5.9
         ],
         "yaxis": "y"
        },
        {
         "customdata": [
          [
           "Think Like a Man",
           "Think Like a Man"
          ],
          [
           "Think Like a Man Too",
           "Think Like a Man"
          ]
         ],
         "hovertemplate": "Movie Series=%{customdata[1]}<br>Release Year=%{x}<br>Rating=%{y}<br>Title=%{customdata[0]}<extra></extra>",
         "legendgroup": "Think Like a Man",
         "line": {
          "color": "#19d3f3",
          "dash": "solid",
          "shape": "linear"
         },
         "marker": {
          "symbol": "circle"
         },
         "mode": "lines+markers",
         "name": "Think Like a Man",
         "orientation": "v",
         "showlegend": true,
         "type": "scatter",
         "x": [
          2012,
          2014
         ],
         "xaxis": "x",
         "y": [
          6.6,
          5.8
         ],
         "yaxis": "y"
        },
        {
         "customdata": [
          [
           "Thor",
           "Thor"
          ],
          [
           "Thor: The Dark World",
           "Thor"
          ],
          [
           "Thor: Ragnarok",
           "Thor"
          ]
         ],
         "hovertemplate": "Movie Series=%{customdata[1]}<br>Release Year=%{x}<br>Rating=%{y}<br>Title=%{customdata[0]}<extra></extra>",
         "legendgroup": "Thor",
         "line": {
          "color": "#FF6692",
          "dash": "solid",
          "shape": "linear"
         },
         "marker": {
          "symbol": "circle"
         },
         "mode": "lines+markers",
         "name": "Thor",
         "orientation": "v",
         "showlegend": true,
         "type": "scatter",
         "x": [
          2011,
          2013,
          2017
         ],
         "xaxis": "x",
         "y": [
          7,
          6.9,
          7.9
         ],
         "yaxis": "y"
        },
        {
         "customdata": [
          [
           "Toy Story",
           "Toy Story"
          ],
          [
           "Toy Story 2",
           "Toy Story"
          ],
          [
           "Toy Story 3",
           "Toy Story"
          ],
          [
           "Toy Story 4",
           "Toy Story"
          ]
         ],
         "hovertemplate": "Movie Series=%{customdata[1]}<br>Release Year=%{x}<br>Rating=%{y}<br>Title=%{customdata[0]}<extra></extra>",
         "legendgroup": "Toy Story",
         "line": {
          "color": "#B6E880",
          "dash": "solid",
          "shape": "linear"
         },
         "marker": {
          "symbol": "circle"
         },
         "mode": "lines+markers",
         "name": "Toy Story",
         "orientation": "v",
         "showlegend": true,
         "type": "scatter",
         "x": [
          1995,
          1999,
          2010,
          2019
         ],
         "xaxis": "x",
         "y": [
          8.3,
          7.9,
          8.3,
          7.8
         ],
         "yaxis": "y"
        },
        {
         "customdata": [
          [
           "Trainspotting",
           "Trainspotting"
          ],
          [
           "T2 Trainspotting",
           "Trainspotting"
          ]
         ],
         "hovertemplate": "Movie Series=%{customdata[1]}<br>Release Year=%{x}<br>Rating=%{y}<br>Title=%{customdata[0]}<extra></extra>",
         "legendgroup": "Trainspotting",
         "line": {
          "color": "#FF97FF",
          "dash": "solid",
          "shape": "linear"
         },
         "marker": {
          "symbol": "circle"
         },
         "mode": "lines+markers",
         "name": "Trainspotting",
         "orientation": "v",
         "showlegend": true,
         "type": "scatter",
         "x": [
          1996,
          2017
         ],
         "xaxis": "x",
         "y": [
          8.1,
          7.2
         ],
         "yaxis": "y"
        },
        {
         "customdata": [
          [
           "Transformers",
           "Transformers"
          ],
          [
           "Transformers: Revenge of the Fallen",
           "Transformers"
          ],
          [
           "Transformers: Dark of the Moon",
           "Transformers"
          ],
          [
           "Transformers: Age of Extinction",
           "Transformers"
          ],
          [
           "Transformers: The Last Knight",
           "Transformers"
          ]
         ],
         "hovertemplate": "Movie Series=%{customdata[1]}<br>Release Year=%{x}<br>Rating=%{y}<br>Title=%{customdata[0]}<extra></extra>",
         "legendgroup": "Transformers",
         "line": {
          "color": "#FECB52",
          "dash": "solid",
          "shape": "linear"
         },
         "marker": {
          "symbol": "circle"
         },
         "mode": "lines+markers",
         "name": "Transformers",
         "orientation": "v",
         "showlegend": true,
         "type": "scatter",
         "x": [
          2007,
          2009,
          2011,
          2014,
          2017
         ],
         "xaxis": "x",
         "y": [
          7,
          6,
          6.2,
          5.6,
          5.2
         ],
         "yaxis": "y"
        },
        {
         "customdata": [
          [
           "Trois couleurs: Bleu",
           "Trois couleurs"
          ],
          [
           "Trois couleurs: Blanc",
           "Trois couleurs"
          ],
          [
           "Trois couleurs: Rouge",
           "Trois couleurs"
          ]
         ],
         "hovertemplate": "Movie Series=%{customdata[1]}<br>Release Year=%{x}<br>Rating=%{y}<br>Title=%{customdata[0]}<extra></extra>",
         "legendgroup": "Trois couleurs",
         "line": {
          "color": "#636efa",
          "dash": "solid",
          "shape": "linear"
         },
         "marker": {
          "symbol": "circle"
         },
         "mode": "lines+markers",
         "name": "Trois couleurs",
         "orientation": "v",
         "showlegend": true,
         "type": "scatter",
         "x": [
          1993,
          1994,
          1994
         ],
         "xaxis": "x",
         "y": [
          7.9,
          7.6,
          8.1
         ],
         "yaxis": "y"
        },
        {
         "customdata": [
          [
           "Tropa de Elite",
           "Tropa de Elite"
          ],
          [
           "Tropa de Elite 2: O Inimigo Agora é Outro",
           "Tropa de Elite"
          ]
         ],
         "hovertemplate": "Movie Series=%{customdata[1]}<br>Release Year=%{x}<br>Rating=%{y}<br>Title=%{customdata[0]}<extra></extra>",
         "legendgroup": "Tropa de Elite",
         "line": {
          "color": "#EF553B",
          "dash": "solid",
          "shape": "linear"
         },
         "marker": {
          "symbol": "circle"
         },
         "mode": "lines+markers",
         "name": "Tropa de Elite",
         "orientation": "v",
         "showlegend": true,
         "type": "scatter",
         "x": [
          2007,
          2010
         ],
         "xaxis": "x",
         "y": [
          8.1,
          8
         ],
         "yaxis": "y"
        },
        {
         "customdata": [
          [
           "Turbulence",
           "Turbulence"
          ],
          [
           "Turbulence 2: Fear of Flying",
           "Turbulence"
          ]
         ],
         "hovertemplate": "Movie Series=%{customdata[1]}<br>Release Year=%{x}<br>Rating=%{y}<br>Title=%{customdata[0]}<extra></extra>",
         "legendgroup": "Turbulence",
         "line": {
          "color": "#00cc96",
          "dash": "solid",
          "shape": "linear"
         },
         "marker": {
          "symbol": "circle"
         },
         "mode": "lines+markers",
         "name": "Turbulence",
         "orientation": "v",
         "showlegend": true,
         "type": "scatter",
         "x": [
          1997,
          1999
         ],
         "xaxis": "x",
         "y": [
          4.9,
          4.2
         ],
         "yaxis": "y"
        },
        {
         "customdata": [
          [
           "Under Siege",
           "Under Siege"
          ],
          [
           "Under Siege 2: Dark Territory",
           "Under Siege"
          ]
         ],
         "hovertemplate": "Movie Series=%{customdata[1]}<br>Release Year=%{x}<br>Rating=%{y}<br>Title=%{customdata[0]}<extra></extra>",
         "legendgroup": "Under Siege",
         "line": {
          "color": "#ab63fa",
          "dash": "solid",
          "shape": "linear"
         },
         "marker": {
          "symbol": "circle"
         },
         "mode": "lines+markers",
         "name": "Under Siege",
         "orientation": "v",
         "showlegend": true,
         "type": "scatter",
         "x": [
          1992,
          1995
         ],
         "xaxis": "x",
         "y": [
          6.5,
          5.5
         ],
         "yaxis": "y"
        },
        {
         "customdata": [
          [
           "Underworld",
           "Underworld"
          ],
          [
           "Underworld: Evolution",
           "Underworld"
          ],
          [
           "Underworld: Rise of the Lycans",
           "Underworld"
          ],
          [
           "Underworld Awakening",
           "Underworld"
          ]
         ],
         "hovertemplate": "Movie Series=%{customdata[1]}<br>Release Year=%{x}<br>Rating=%{y}<br>Title=%{customdata[0]}<extra></extra>",
         "legendgroup": "Underworld",
         "line": {
          "color": "#FFA15A",
          "dash": "solid",
          "shape": "linear"
         },
         "marker": {
          "symbol": "circle"
         },
         "mode": "lines+markers",
         "name": "Underworld",
         "orientation": "v",
         "showlegend": true,
         "type": "scatter",
         "x": [
          2003,
          2006,
          2009,
          2012
         ],
         "xaxis": "x",
         "y": [
          7,
          6.7,
          6.6,
          6.4
         ],
         "yaxis": "y"
        },
        {
         "customdata": [
          [
           "Universal Soldier",
           "Universal Soldier"
          ],
          [
           "Universal Soldier: The Return",
           "Universal Soldier"
          ],
          [
           "Universal Soldier: Regeneration",
           "Universal Soldier"
          ],
          [
           "Universal Soldier: Day of Reckoning",
           "Universal Soldier"
          ]
         ],
         "hovertemplate": "Movie Series=%{customdata[1]}<br>Release Year=%{x}<br>Rating=%{y}<br>Title=%{customdata[0]}<extra></extra>",
         "legendgroup": "Universal Soldier",
         "line": {
          "color": "#19d3f3",
          "dash": "solid",
          "shape": "linear"
         },
         "marker": {
          "symbol": "circle"
         },
         "mode": "lines+markers",
         "name": "Universal Soldier",
         "orientation": "v",
         "showlegend": true,
         "type": "scatter",
         "x": [
          1992,
          1999,
          2009,
          2012
         ],
         "xaxis": "x",
         "y": [
          6,
          4.2,
          5.2,
          5
         ],
         "yaxis": "y"
        },
        {
         "customdata": [
          [
           "Urban Legend",
           "Urban Legend"
          ],
          [
           "Urban Legends: Final Cut",
           "Urban Legend"
          ]
         ],
         "hovertemplate": "Movie Series=%{customdata[1]}<br>Release Year=%{x}<br>Rating=%{y}<br>Title=%{customdata[0]}<extra></extra>",
         "legendgroup": "Urban Legend",
         "line": {
          "color": "#FF6692",
          "dash": "solid",
          "shape": "linear"
         },
         "marker": {
          "symbol": "circle"
         },
         "mode": "lines+markers",
         "name": "Urban Legend",
         "orientation": "v",
         "showlegend": true,
         "type": "scatter",
         "x": [
          1998,
          2000
         ],
         "xaxis": "x",
         "y": [
          5.6,
          4.3
         ],
         "yaxis": "y"
        },
        {
         "customdata": [
          [
           "Vacancy",
           "Vacancy"
          ],
          [
           "Vacancy 2: The First Cut",
           "Vacancy"
          ]
         ],
         "hovertemplate": "Movie Series=%{customdata[1]}<br>Release Year=%{x}<br>Rating=%{y}<br>Title=%{customdata[0]}<extra></extra>",
         "legendgroup": "Vacancy",
         "line": {
          "color": "#B6E880",
          "dash": "solid",
          "shape": "linear"
         },
         "marker": {
          "symbol": "circle"
         },
         "mode": "lines+markers",
         "name": "Vacancy",
         "orientation": "v",
         "showlegend": true,
         "type": "scatter",
         "x": [
          2007,
          2008
         ],
         "xaxis": "x",
         "y": [
          6.2,
          5
         ],
         "yaxis": "y"
        },
        {
         "customdata": [
          [
           "Walking Tall",
           "Walking Tall"
          ],
          [
           "Walking Tall Part II",
           "Walking Tall"
          ],
          [
           "Final Chapter: Walking Tall",
           "Walking Tall"
          ],
          [
           "Walking Tall",
           "Walking Tall"
          ]
         ],
         "hovertemplate": "Movie Series=%{customdata[1]}<br>Release Year=%{x}<br>Rating=%{y}<br>Title=%{customdata[0]}<extra></extra>",
         "legendgroup": "Walking Tall",
         "line": {
          "color": "#FF97FF",
          "dash": "solid",
          "shape": "linear"
         },
         "marker": {
          "symbol": "circle"
         },
         "mode": "lines+markers",
         "name": "Walking Tall",
         "orientation": "v",
         "showlegend": true,
         "type": "scatter",
         "x": [
          1973,
          1975,
          1977,
          2004
         ],
         "xaxis": "x",
         "y": [
          7,
          6.2,
          5.9,
          6.3
         ],
         "yaxis": "y"
        },
        {
         "customdata": [
          [
           "Wall Street",
           "Wall Street"
          ],
          [
           "Wall Street: Money Never Sleeps",
           "Wall Street"
          ]
         ],
         "hovertemplate": "Movie Series=%{customdata[1]}<br>Release Year=%{x}<br>Rating=%{y}<br>Title=%{customdata[0]}<extra></extra>",
         "legendgroup": "Wall Street",
         "line": {
          "color": "#FECB52",
          "dash": "solid",
          "shape": "linear"
         },
         "marker": {
          "symbol": "circle"
         },
         "mode": "lines+markers",
         "name": "Wall Street",
         "orientation": "v",
         "showlegend": true,
         "type": "scatter",
         "x": [
          1987,
          2010
         ],
         "xaxis": "x",
         "y": [
          7.4,
          6.2
         ],
         "yaxis": "y"
        },
        {
         "customdata": [
          [
           "Wayne's World",
           "Wayne's World"
          ],
          [
           "Wayne's World 2",
           "Wayne's World"
          ]
         ],
         "hovertemplate": "Movie Series=%{customdata[1]}<br>Release Year=%{x}<br>Rating=%{y}<br>Title=%{customdata[0]}<extra></extra>",
         "legendgroup": "Wayne's World",
         "line": {
          "color": "#636efa",
          "dash": "solid",
          "shape": "linear"
         },
         "marker": {
          "symbol": "circle"
         },
         "mode": "lines+markers",
         "name": "Wayne's World",
         "orientation": "v",
         "showlegend": true,
         "type": "scatter",
         "x": [
          1992,
          1993
         ],
         "xaxis": "x",
         "y": [
          7,
          6.2
         ],
         "yaxis": "y"
        },
        {
         "customdata": [
          [
           "White Noise",
           "White Noise"
          ],
          [
           "White Noise 2: The Light",
           "White Noise"
          ]
         ],
         "hovertemplate": "Movie Series=%{customdata[1]}<br>Release Year=%{x}<br>Rating=%{y}<br>Title=%{customdata[0]}<extra></extra>",
         "legendgroup": "White Noise",
         "line": {
          "color": "#EF553B",
          "dash": "solid",
          "shape": "linear"
         },
         "marker": {
          "symbol": "circle"
         },
         "mode": "lines+markers",
         "name": "White Noise",
         "orientation": "v",
         "showlegend": true,
         "type": "scatter",
         "x": [
          2005,
          2007
         ],
         "xaxis": "x",
         "y": [
          5.5,
          5.7
         ],
         "yaxis": "y"
        },
        {
         "customdata": [
          [
           "Wreck-It Ralph",
           "Wreck-It Ralph"
          ],
          [
           "Ralph Breaks the Internet",
           "Wreck-It Ralph"
          ]
         ],
         "hovertemplate": "Movie Series=%{customdata[1]}<br>Release Year=%{x}<br>Rating=%{y}<br>Title=%{customdata[0]}<extra></extra>",
         "legendgroup": "Wreck-It Ralph",
         "line": {
          "color": "#00cc96",
          "dash": "solid",
          "shape": "linear"
         },
         "marker": {
          "symbol": "circle"
         },
         "mode": "lines+markers",
         "name": "Wreck-It Ralph",
         "orientation": "v",
         "showlegend": true,
         "type": "scatter",
         "x": [
          2012,
          2018
         ],
         "xaxis": "x",
         "y": [
          7.7,
          7.1
         ],
         "yaxis": "y"
        },
        {
         "customdata": [
          [
           "X-Men",
           "X-Men"
          ],
          [
           "X2",
           "X-Men"
          ],
          [
           "X-Men: The Last Stand",
           "X-Men"
          ],
          [
           "X-Men Origins: Wolverine",
           "X-Men"
          ],
          [
           "X: First Class",
           "X-Men"
          ],
          [
           "The Wolverine",
           "X-Men"
          ],
          [
           "X-Men: Days of Future Past",
           "X-Men"
          ]
         ],
         "hovertemplate": "Movie Series=%{customdata[1]}<br>Release Year=%{x}<br>Rating=%{y}<br>Title=%{customdata[0]}<extra></extra>",
         "legendgroup": "X-Men",
         "line": {
          "color": "#ab63fa",
          "dash": "solid",
          "shape": "linear"
         },
         "marker": {
          "symbol": "circle"
         },
         "mode": "lines+markers",
         "name": "X-Men",
         "orientation": "v",
         "showlegend": true,
         "type": "scatter",
         "x": [
          2000,
          2003,
          2006,
          2009,
          2011,
          2013,
          2014
         ],
         "xaxis": "x",
         "y": [
          7.4,
          7.4,
          6.7,
          6.6,
          7.7,
          6.7,
          8
         ],
         "yaxis": "y"
        },
        {
         "customdata": [
          [
           "Young Guns",
           "Young Guns"
          ],
          [
           "Young Guns II",
           "Young Guns"
          ]
         ],
         "hovertemplate": "Movie Series=%{customdata[1]}<br>Release Year=%{x}<br>Rating=%{y}<br>Title=%{customdata[0]}<extra></extra>",
         "legendgroup": "Young Guns",
         "line": {
          "color": "#FFA15A",
          "dash": "solid",
          "shape": "linear"
         },
         "marker": {
          "symbol": "circle"
         },
         "mode": "lines+markers",
         "name": "Young Guns",
         "orientation": "v",
         "showlegend": true,
         "type": "scatter",
         "x": [
          1988,
          1990
         ],
         "xaxis": "x",
         "y": [
          6.9,
          6.5
         ],
         "yaxis": "y"
        },
        {
         "customdata": [
          [
           "Zombieland",
           "Zombieland"
          ],
          [
           "Zombieland: Double Tap",
           "Zombieland"
          ]
         ],
         "hovertemplate": "Movie Series=%{customdata[1]}<br>Release Year=%{x}<br>Rating=%{y}<br>Title=%{customdata[0]}<extra></extra>",
         "legendgroup": "Zombieland",
         "line": {
          "color": "#19d3f3",
          "dash": "solid",
          "shape": "linear"
         },
         "marker": {
          "symbol": "circle"
         },
         "mode": "lines+markers",
         "name": "Zombieland",
         "orientation": "v",
         "showlegend": true,
         "type": "scatter",
         "x": [
          2009,
          2019
         ],
         "xaxis": "x",
         "y": [
          7.6,
          6.7
         ],
         "yaxis": "y"
        },
        {
         "customdata": [
          [
           "Zoolander",
           "Zoolander"
          ],
          [
           "Zoolander 2",
           "Zoolander"
          ]
         ],
         "hovertemplate": "Movie Series=%{customdata[1]}<br>Release Year=%{x}<br>Rating=%{y}<br>Title=%{customdata[0]}<extra></extra>",
         "legendgroup": "Zoolander",
         "line": {
          "color": "#FF6692",
          "dash": "solid",
          "shape": "linear"
         },
         "marker": {
          "symbol": "circle"
         },
         "mode": "lines+markers",
         "name": "Zoolander",
         "orientation": "v",
         "showlegend": true,
         "type": "scatter",
         "x": [
          2001,
          2016
         ],
         "xaxis": "x",
         "y": [
          6.5,
          4.7
         ],
         "yaxis": "y"
        },
        {
         "customdata": [
          [
           "[Rec]",
           "[Rec]"
          ],
          [
           "[Rec]²",
           "[Rec]"
          ],
          [
           "[Rec]³: Génesis",
           "[Rec]"
          ],
          [
           "[REC] 4: Apocalipsis",
           "[Rec]"
          ]
         ],
         "hovertemplate": "Movie Series=%{customdata[1]}<br>Release Year=%{x}<br>Rating=%{y}<br>Title=%{customdata[0]}<extra></extra>",
         "legendgroup": "[Rec]",
         "line": {
          "color": "#B6E880",
          "dash": "solid",
          "shape": "linear"
         },
         "marker": {
          "symbol": "circle"
         },
         "mode": "lines+markers",
         "name": "[Rec]",
         "orientation": "v",
         "showlegend": true,
         "type": "scatter",
         "x": [
          2007,
          2009,
          2012,
          2014
         ],
         "xaxis": "x",
         "y": [
          7.4,
          6.5,
          5,
          5.3
         ],
         "yaxis": "y"
        },
        {
         "customdata": [
          [
           "xXx",
           "xXx"
          ],
          [
           "xXx: State of the Union",
           "xXx"
          ]
         ],
         "hovertemplate": "Movie Series=%{customdata[1]}<br>Release Year=%{x}<br>Rating=%{y}<br>Title=%{customdata[0]}<extra></extra>",
         "legendgroup": "xXx",
         "line": {
          "color": "#FF97FF",
          "dash": "solid",
          "shape": "linear"
         },
         "marker": {
          "symbol": "circle"
         },
         "mode": "lines+markers",
         "name": "xXx",
         "orientation": "v",
         "showlegend": true,
         "type": "scatter",
         "x": [
          2002,
          2005
         ],
         "xaxis": "x",
         "y": [
          5.9,
          4.4
         ],
         "yaxis": "y"
        }
       ],
       "layout": {
        "autosize": true,
        "legend": {
         "title": {
          "text": "Movie Series"
         },
         "tracegroupgap": 0
        },
        "template": {
         "data": {
          "bar": [
           {
            "error_x": {
             "color": "#2a3f5f"
            },
            "error_y": {
             "color": "#2a3f5f"
            },
            "marker": {
             "line": {
              "color": "#E5ECF6",
              "width": 0.5
             },
             "pattern": {
              "fillmode": "overlay",
              "size": 10,
              "solidity": 0.2
             }
            },
            "type": "bar"
           }
          ],
          "barpolar": [
           {
            "marker": {
             "line": {
              "color": "#E5ECF6",
              "width": 0.5
             },
             "pattern": {
              "fillmode": "overlay",
              "size": 10,
              "solidity": 0.2
             }
            },
            "type": "barpolar"
           }
          ],
          "carpet": [
           {
            "aaxis": {
             "endlinecolor": "#2a3f5f",
             "gridcolor": "white",
             "linecolor": "white",
             "minorgridcolor": "white",
             "startlinecolor": "#2a3f5f"
            },
            "baxis": {
             "endlinecolor": "#2a3f5f",
             "gridcolor": "white",
             "linecolor": "white",
             "minorgridcolor": "white",
             "startlinecolor": "#2a3f5f"
            },
            "type": "carpet"
           }
          ],
          "choropleth": [
           {
            "colorbar": {
             "outlinewidth": 0,
             "ticks": ""
            },
            "type": "choropleth"
           }
          ],
          "contour": [
           {
            "colorbar": {
             "outlinewidth": 0,
             "ticks": ""
            },
            "colorscale": [
             [
              0,
              "#0d0887"
             ],
             [
              0.1111111111111111,
              "#46039f"
             ],
             [
              0.2222222222222222,
              "#7201a8"
             ],
             [
              0.3333333333333333,
              "#9c179e"
             ],
             [
              0.4444444444444444,
              "#bd3786"
             ],
             [
              0.5555555555555556,
              "#d8576b"
             ],
             [
              0.6666666666666666,
              "#ed7953"
             ],
             [
              0.7777777777777778,
              "#fb9f3a"
             ],
             [
              0.8888888888888888,
              "#fdca26"
             ],
             [
              1,
              "#f0f921"
             ]
            ],
            "type": "contour"
           }
          ],
          "contourcarpet": [
           {
            "colorbar": {
             "outlinewidth": 0,
             "ticks": ""
            },
            "type": "contourcarpet"
           }
          ],
          "heatmap": [
           {
            "colorbar": {
             "outlinewidth": 0,
             "ticks": ""
            },
            "colorscale": [
             [
              0,
              "#0d0887"
             ],
             [
              0.1111111111111111,
              "#46039f"
             ],
             [
              0.2222222222222222,
              "#7201a8"
             ],
             [
              0.3333333333333333,
              "#9c179e"
             ],
             [
              0.4444444444444444,
              "#bd3786"
             ],
             [
              0.5555555555555556,
              "#d8576b"
             ],
             [
              0.6666666666666666,
              "#ed7953"
             ],
             [
              0.7777777777777778,
              "#fb9f3a"
             ],
             [
              0.8888888888888888,
              "#fdca26"
             ],
             [
              1,
              "#f0f921"
             ]
            ],
            "type": "heatmap"
           }
          ],
          "heatmapgl": [
           {
            "colorbar": {
             "outlinewidth": 0,
             "ticks": ""
            },
            "colorscale": [
             [
              0,
              "#0d0887"
             ],
             [
              0.1111111111111111,
              "#46039f"
             ],
             [
              0.2222222222222222,
              "#7201a8"
             ],
             [
              0.3333333333333333,
              "#9c179e"
             ],
             [
              0.4444444444444444,
              "#bd3786"
             ],
             [
              0.5555555555555556,
              "#d8576b"
             ],
             [
              0.6666666666666666,
              "#ed7953"
             ],
             [
              0.7777777777777778,
              "#fb9f3a"
             ],
             [
              0.8888888888888888,
              "#fdca26"
             ],
             [
              1,
              "#f0f921"
             ]
            ],
            "type": "heatmapgl"
           }
          ],
          "histogram": [
           {
            "marker": {
             "pattern": {
              "fillmode": "overlay",
              "size": 10,
              "solidity": 0.2
             }
            },
            "type": "histogram"
           }
          ],
          "histogram2d": [
           {
            "colorbar": {
             "outlinewidth": 0,
             "ticks": ""
            },
            "colorscale": [
             [
              0,
              "#0d0887"
             ],
             [
              0.1111111111111111,
              "#46039f"
             ],
             [
              0.2222222222222222,
              "#7201a8"
             ],
             [
              0.3333333333333333,
              "#9c179e"
             ],
             [
              0.4444444444444444,
              "#bd3786"
             ],
             [
              0.5555555555555556,
              "#d8576b"
             ],
             [
              0.6666666666666666,
              "#ed7953"
             ],
             [
              0.7777777777777778,
              "#fb9f3a"
             ],
             [
              0.8888888888888888,
              "#fdca26"
             ],
             [
              1,
              "#f0f921"
             ]
            ],
            "type": "histogram2d"
           }
          ],
          "histogram2dcontour": [
           {
            "colorbar": {
             "outlinewidth": 0,
             "ticks": ""
            },
            "colorscale": [
             [
              0,
              "#0d0887"
             ],
             [
              0.1111111111111111,
              "#46039f"
             ],
             [
              0.2222222222222222,
              "#7201a8"
             ],
             [
              0.3333333333333333,
              "#9c179e"
             ],
             [
              0.4444444444444444,
              "#bd3786"
             ],
             [
              0.5555555555555556,
              "#d8576b"
             ],
             [
              0.6666666666666666,
              "#ed7953"
             ],
             [
              0.7777777777777778,
              "#fb9f3a"
             ],
             [
              0.8888888888888888,
              "#fdca26"
             ],
             [
              1,
              "#f0f921"
             ]
            ],
            "type": "histogram2dcontour"
           }
          ],
          "mesh3d": [
           {
            "colorbar": {
             "outlinewidth": 0,
             "ticks": ""
            },
            "type": "mesh3d"
           }
          ],
          "parcoords": [
           {
            "line": {
             "colorbar": {
              "outlinewidth": 0,
              "ticks": ""
             }
            },
            "type": "parcoords"
           }
          ],
          "pie": [
           {
            "automargin": true,
            "type": "pie"
           }
          ],
          "scatter": [
           {
            "fillpattern": {
             "fillmode": "overlay",
             "size": 10,
             "solidity": 0.2
            },
            "type": "scatter"
           }
          ],
          "scatter3d": [
           {
            "line": {
             "colorbar": {
              "outlinewidth": 0,
              "ticks": ""
             }
            },
            "marker": {
             "colorbar": {
              "outlinewidth": 0,
              "ticks": ""
             }
            },
            "type": "scatter3d"
           }
          ],
          "scattercarpet": [
           {
            "marker": {
             "colorbar": {
              "outlinewidth": 0,
              "ticks": ""
             }
            },
            "type": "scattercarpet"
           }
          ],
          "scattergeo": [
           {
            "marker": {
             "colorbar": {
              "outlinewidth": 0,
              "ticks": ""
             }
            },
            "type": "scattergeo"
           }
          ],
          "scattergl": [
           {
            "marker": {
             "colorbar": {
              "outlinewidth": 0,
              "ticks": ""
             }
            },
            "type": "scattergl"
           }
          ],
          "scattermapbox": [
           {
            "marker": {
             "colorbar": {
              "outlinewidth": 0,
              "ticks": ""
             }
            },
            "type": "scattermapbox"
           }
          ],
          "scatterpolar": [
           {
            "marker": {
             "colorbar": {
              "outlinewidth": 0,
              "ticks": ""
             }
            },
            "type": "scatterpolar"
           }
          ],
          "scatterpolargl": [
           {
            "marker": {
             "colorbar": {
              "outlinewidth": 0,
              "ticks": ""
             }
            },
            "type": "scatterpolargl"
           }
          ],
          "scatterternary": [
           {
            "marker": {
             "colorbar": {
              "outlinewidth": 0,
              "ticks": ""
             }
            },
            "type": "scatterternary"
           }
          ],
          "surface": [
           {
            "colorbar": {
             "outlinewidth": 0,
             "ticks": ""
            },
            "colorscale": [
             [
              0,
              "#0d0887"
             ],
             [
              0.1111111111111111,
              "#46039f"
             ],
             [
              0.2222222222222222,
              "#7201a8"
             ],
             [
              0.3333333333333333,
              "#9c179e"
             ],
             [
              0.4444444444444444,
              "#bd3786"
             ],
             [
              0.5555555555555556,
              "#d8576b"
             ],
             [
              0.6666666666666666,
              "#ed7953"
             ],
             [
              0.7777777777777778,
              "#fb9f3a"
             ],
             [
              0.8888888888888888,
              "#fdca26"
             ],
             [
              1,
              "#f0f921"
             ]
            ],
            "type": "surface"
           }
          ],
          "table": [
           {
            "cells": {
             "fill": {
              "color": "#EBF0F8"
             },
             "line": {
              "color": "white"
             }
            },
            "header": {
             "fill": {
              "color": "#C8D4E3"
             },
             "line": {
              "color": "white"
             }
            },
            "type": "table"
           }
          ]
         },
         "layout": {
          "annotationdefaults": {
           "arrowcolor": "#2a3f5f",
           "arrowhead": 0,
           "arrowwidth": 1
          },
          "autotypenumbers": "strict",
          "coloraxis": {
           "colorbar": {
            "outlinewidth": 0,
            "ticks": ""
           }
          },
          "colorscale": {
           "diverging": [
            [
             0,
             "#8e0152"
            ],
            [
             0.1,
             "#c51b7d"
            ],
            [
             0.2,
             "#de77ae"
            ],
            [
             0.3,
             "#f1b6da"
            ],
            [
             0.4,
             "#fde0ef"
            ],
            [
             0.5,
             "#f7f7f7"
            ],
            [
             0.6,
             "#e6f5d0"
            ],
            [
             0.7,
             "#b8e186"
            ],
            [
             0.8,
             "#7fbc41"
            ],
            [
             0.9,
             "#4d9221"
            ],
            [
             1,
             "#276419"
            ]
           ],
           "sequential": [
            [
             0,
             "#0d0887"
            ],
            [
             0.1111111111111111,
             "#46039f"
            ],
            [
             0.2222222222222222,
             "#7201a8"
            ],
            [
             0.3333333333333333,
             "#9c179e"
            ],
            [
             0.4444444444444444,
             "#bd3786"
            ],
            [
             0.5555555555555556,
             "#d8576b"
            ],
            [
             0.6666666666666666,
             "#ed7953"
            ],
            [
             0.7777777777777778,
             "#fb9f3a"
            ],
            [
             0.8888888888888888,
             "#fdca26"
            ],
            [
             1,
             "#f0f921"
            ]
           ],
           "sequentialminus": [
            [
             0,
             "#0d0887"
            ],
            [
             0.1111111111111111,
             "#46039f"
            ],
            [
             0.2222222222222222,
             "#7201a8"
            ],
            [
             0.3333333333333333,
             "#9c179e"
            ],
            [
             0.4444444444444444,
             "#bd3786"
            ],
            [
             0.5555555555555556,
             "#d8576b"
            ],
            [
             0.6666666666666666,
             "#ed7953"
            ],
            [
             0.7777777777777778,
             "#fb9f3a"
            ],
            [
             0.8888888888888888,
             "#fdca26"
            ],
            [
             1,
             "#f0f921"
            ]
           ]
          },
          "colorway": [
           "#636efa",
           "#EF553B",
           "#00cc96",
           "#ab63fa",
           "#FFA15A",
           "#19d3f3",
           "#FF6692",
           "#B6E880",
           "#FF97FF",
           "#FECB52"
          ],
          "font": {
           "color": "#2a3f5f"
          },
          "geo": {
           "bgcolor": "white",
           "lakecolor": "white",
           "landcolor": "#E5ECF6",
           "showlakes": true,
           "showland": true,
           "subunitcolor": "white"
          },
          "hoverlabel": {
           "align": "left"
          },
          "hovermode": "closest",
          "mapbox": {
           "style": "light"
          },
          "paper_bgcolor": "white",
          "plot_bgcolor": "#E5ECF6",
          "polar": {
           "angularaxis": {
            "gridcolor": "white",
            "linecolor": "white",
            "ticks": ""
           },
           "bgcolor": "#E5ECF6",
           "radialaxis": {
            "gridcolor": "white",
            "linecolor": "white",
            "ticks": ""
           }
          },
          "scene": {
           "xaxis": {
            "backgroundcolor": "#E5ECF6",
            "gridcolor": "white",
            "gridwidth": 2,
            "linecolor": "white",
            "showbackground": true,
            "ticks": "",
            "zerolinecolor": "white"
           },
           "yaxis": {
            "backgroundcolor": "#E5ECF6",
            "gridcolor": "white",
            "gridwidth": 2,
            "linecolor": "white",
            "showbackground": true,
            "ticks": "",
            "zerolinecolor": "white"
           },
           "zaxis": {
            "backgroundcolor": "#E5ECF6",
            "gridcolor": "white",
            "gridwidth": 2,
            "linecolor": "white",
            "showbackground": true,
            "ticks": "",
            "zerolinecolor": "white"
           }
          },
          "shapedefaults": {
           "line": {
            "color": "#2a3f5f"
           }
          },
          "ternary": {
           "aaxis": {
            "gridcolor": "white",
            "linecolor": "white",
            "ticks": ""
           },
           "baxis": {
            "gridcolor": "white",
            "linecolor": "white",
            "ticks": ""
           },
           "bgcolor": "#E5ECF6",
           "caxis": {
            "gridcolor": "white",
            "linecolor": "white",
            "ticks": ""
           }
          },
          "title": {
           "x": 0.05
          },
          "xaxis": {
           "automargin": true,
           "gridcolor": "white",
           "linecolor": "white",
           "ticks": "",
           "title": {
            "standoff": 15
           },
           "zerolinecolor": "white",
           "zerolinewidth": 2
          },
          "yaxis": {
           "automargin": true,
           "gridcolor": "white",
           "linecolor": "white",
           "ticks": "",
           "title": {
            "standoff": 15
           },
           "zerolinecolor": "white",
           "zerolinewidth": 2
          }
         }
        },
        "title": {
         "text": "Movie Series"
        },
        "xaxis": {
         "anchor": "y",
         "autorange": true,
         "domain": [
          0,
          1
         ],
         "range": [
          1936.669741697417,
          2028.330258302583
         ],
         "title": {
          "text": "Release Year"
         },
         "type": "linear"
        },
        "yaxis": {
         "anchor": "x",
         "autorange": true,
         "domain": [
          0,
          1
         ],
         "range": [
          1.4058252427184468,
          9.794174757281553
         ],
         "title": {
          "text": "Rating"
         },
         "type": "linear"
        }
       }
      },
      "image/png": "[encoded data removed]",
      "text/html": [
       "<div>                            <div id=\"f3ce73a3-a62d-4037-9217-77e9215b3a80\" class=\"plotly-graph-div\" style=\"height:525px; width:100%;\"></div>            <script type=\"text/javascript\">                require([\"plotly\"], function(Plotly) {                    window.PLOTLYENV=window.PLOTLYENV || {};                                    if (document.getElementById(\"f3ce73a3-a62d-4037-9217-77e9215b3a80\")) {                    Plotly.newPlot(                        \"f3ce73a3-a62d-4037-9217-77e9215b3a80\",                        [{\"customdata\":[[\"101 Dalmatians\",\"101 Dalmatians\"],[\"102 Dalmatians\",\"101 Dalmatians\"]],\"hovertemplate\":\"Movie Series=%{customdata[1]}<br>Release Year=%{x}<br>Rating=%{y}<br>Title=%{customdata[0]}<extra></extra>\",\"legendgroup\":\"101 Dalmatians\",\"line\":{\"color\":\"#636efa\",\"dash\":\"solid\",\"shape\":\"linear\"},\"marker\":{\"symbol\":\"circle\"},\"mode\":\"lines+markers\",\"name\":\"101 Dalmatians\",\"orientation\":\"v\",\"showlegend\":true,\"x\":[1996,2000],\"xaxis\":\"x\",\"y\":[5.7,4.9],\"yaxis\":\"y\",\"type\":\"scatter\"},{\"customdata\":[[\"12 Rounds\",\"12 Rounds\"],[\"12 Rounds 2: Reloaded\",\"12 Rounds\"]],\"hovertemplate\":\"Movie Series=%{customdata[1]}<br>Release Year=%{x}<br>Rating=%{y}<br>Title=%{customdata[0]}<extra></extra>\",\"legendgroup\":\"12 Rounds\",\"line\":{\"color\":\"#EF553B\",\"dash\":\"solid\",\"shape\":\"linear\"},\"marker\":{\"symbol\":\"circle\"},\"mode\":\"lines+markers\",\"name\":\"12 Rounds\",\"orientation\":\"v\",\"showlegend\":true,\"x\":[2009,2013],\"xaxis\":\"x\",\"y\":[5.6,5.3],\"yaxis\":\"y\",\"type\":\"scatter\"},{\"customdata\":[[\"21 Jump Street\",\"21 Jump Street\"],[\"22 Jump Street\",\"21 Jump Street\"]],\"hovertemplate\":\"Movie Series=%{customdata[1]}<br>Release Year=%{x}<br>Rating=%{y}<br>Title=%{customdata[0]}<extra></extra>\",\"legendgroup\":\"21 Jump Street\",\"line\":{\"color\":\"#00cc96\",\"dash\":\"solid\",\"shape\":\"linear\"},\"marker\":{\"symbol\":\"circle\"},\"mode\":\"lines+markers\",\"name\":\"21 Jump Street\",\"orientation\":\"v\",\"showlegend\":true,\"x\":[2012,2014],\"xaxis\":\"x\",\"y\":[7.2,7.0],\"yaxis\":\"y\",\"type\":\"scatter\"},{\"customdata\":[[\"28 Days Later...\",\"28 Days Later...\"],[\"28 Weeks Later\",\"28 Days Later...\"]],\"hovertemplate\":\"Movie Series=%{customdata[1]}<br>Release Year=%{x}<br>Rating=%{y}<br>Title=%{customdata[0]}<extra></extra>\",\"legendgroup\":\"28 Days Later...\",\"line\":{\"color\":\"#ab63fa\",\"dash\":\"solid\",\"shape\":\"linear\"},\"marker\":{\"symbol\":\"circle\"},\"mode\":\"lines+markers\",\"name\":\"28 Days Later...\",\"orientation\":\"v\",\"showlegend\":true,\"x\":[2002,2007],\"xaxis\":\"x\",\"y\":[7.6,7.0],\"yaxis\":\"y\",\"type\":\"scatter\"},{\"customdata\":[[\"48 Hrs.\",\"48 Hrs.\"],[\"Another 48 Hrs.\",\"48 Hrs.\"]],\"hovertemplate\":\"Movie Series=%{customdata[1]}<br>Release Year=%{x}<br>Rating=%{y}<br>Title=%{customdata[0]}<extra></extra>\",\"legendgroup\":\"48 Hrs.\",\"line\":{\"color\":\"#FFA15A\",\"dash\":\"solid\",\"shape\":\"linear\"},\"marker\":{\"symbol\":\"circle\"},\"mode\":\"lines+markers\",\"name\":\"48 Hrs.\",\"orientation\":\"v\",\"showlegend\":true,\"x\":[1982,1990],\"xaxis\":\"x\",\"y\":[6.9,5.9],\"yaxis\":\"y\",\"type\":\"scatter\"},{\"customdata\":[[\"A Dog's Purpose\",\"A Dog's Purpose\"],[\"A Dog's Journey\",\"A Dog's Purpose\"]],\"hovertemplate\":\"Movie Series=%{customdata[1]}<br>Release Year=%{x}<br>Rating=%{y}<br>Title=%{customdata[0]}<extra></extra>\",\"legendgroup\":\"A Dog's Purpose\",\"line\":{\"color\":\"#19d3f3\",\"dash\":\"solid\",\"shape\":\"linear\"},\"marker\":{\"symbol\":\"circle\"},\"mode\":\"lines+markers\",\"name\":\"A Dog's Purpose\",\"orientation\":\"v\",\"showlegend\":true,\"x\":[2017,2019],\"xaxis\":\"x\",\"y\":[7.2,7.5],\"yaxis\":\"y\",\"type\":\"scatter\"},{\"customdata\":[[\"A Haunted House\",\"A Haunted House\"],[\"A Haunted House 2\",\"A Haunted House\"]],\"hovertemplate\":\"Movie Series=%{customdata[1]}<br>Release Year=%{x}<br>Rating=%{y}<br>Title=%{customdata[0]}<extra></extra>\",\"legendgroup\":\"A Haunted House\",\"line\":{\"color\":\"#FF6692\",\"dash\":\"solid\",\"shape\":\"linear\"},\"marker\":{\"symbol\":\"circle\"},\"mode\":\"lines+markers\",\"name\":\"A Haunted House\",\"orientation\":\"v\",\"showlegend\":true,\"x\":[2013,2014],\"xaxis\":\"x\",\"y\":[5.0,4.7],\"yaxis\":\"y\",\"type\":\"scatter\"},{\"customdata\":[[\"A Nightmare on Elm Street\",\"A Nightmare on Elm Street\"],[\"A Nightmare on Elm Street Part 2: Freddy's Revenge\",\"A Nightmare on Elm Street\"],[\"A Nightmare on Elm Street 3: Dream Warriors\",\"A Nightmare on Elm Street\"],[\"A Nightmare on Elm Street 4: The Dream Master\",\"A Nightmare on Elm Street\"],[\"A Nightmare on Elm Street: The Dream Child\",\"A Nightmare on Elm Street\"],[\"A Nightmare on Elm Street\",\"A Nightmare on Elm Street\"]],\"hovertemplate\":\"Movie Series=%{customdata[1]}<br>Release Year=%{x}<br>Rating=%{y}<br>Title=%{customdata[0]}<extra></extra>\",\"legendgroup\":\"A Nightmare on Elm Street\",\"line\":{\"color\":\"#B6E880\",\"dash\":\"solid\",\"shape\":\"linear\"},\"marker\":{\"symbol\":\"circle\"},\"mode\":\"lines+markers\",\"name\":\"A Nightmare on Elm Street\",\"orientation\":\"v\",\"showlegend\":true,\"x\":[1984,1985,1987,1988,1989,2010],\"xaxis\":\"x\",\"y\":[7.5,5.5,6.6,5.7,5.2,5.2],\"yaxis\":\"y\",\"type\":\"scatter\"},{\"customdata\":[[\"AVP: Alien vs. Predator\",\"AVP\"],[\"AVPR: Aliens vs Predator - Requiem\",\"AVP\"]],\"hovertemplate\":\"Movie Series=%{customdata[1]}<br>Release Year=%{x}<br>Rating=%{y}<br>Title=%{customdata[0]}<extra></extra>\",\"legendgroup\":\"AVP\",\"line\":{\"color\":\"#FF97FF\",\"dash\":\"solid\",\"shape\":\"linear\"},\"marker\":{\"symbol\":\"circle\"},\"mode\":\"lines+markers\",\"name\":\"AVP\",\"orientation\":\"v\",\"showlegend\":true,\"x\":[2004,2007],\"xaxis\":\"x\",\"y\":[5.6,4.7],\"yaxis\":\"y\",\"type\":\"scatter\"},{\"customdata\":[[\"Ace Ventura: Pet Detective\",\"Ace Ventura\"],[\"Ace Ventura: When Nature Calls\",\"Ace Ventura\"]],\"hovertemplate\":\"Movie Series=%{customdata[1]}<br>Release Year=%{x}<br>Rating=%{y}<br>Title=%{customdata[0]}<extra></extra>\",\"legendgroup\":\"Ace Ventura\",\"line\":{\"color\":\"#FECB52\",\"dash\":\"solid\",\"shape\":\"linear\"},\"marker\":{\"symbol\":\"circle\"},\"mode\":\"lines+markers\",\"name\":\"Ace Ventura\",\"orientation\":\"v\",\"showlegend\":true,\"x\":[1994,1995],\"xaxis\":\"x\",\"y\":[6.9,6.4],\"yaxis\":\"y\",\"type\":\"scatter\"},{\"customdata\":[[\"Agent Cody Banks\",\"Agent Cody Banks\"],[\"Agent Cody Banks 2: Destination London\",\"Agent Cody Banks\"]],\"hovertemplate\":\"Movie Series=%{customdata[1]}<br>Release Year=%{x}<br>Rating=%{y}<br>Title=%{customdata[0]}<extra></extra>\",\"legendgroup\":\"Agent Cody Banks\",\"line\":{\"color\":\"#636efa\",\"dash\":\"solid\",\"shape\":\"linear\"},\"marker\":{\"symbol\":\"circle\"},\"mode\":\"lines+markers\",\"name\":\"Agent Cody Banks\",\"orientation\":\"v\",\"showlegend\":true,\"x\":[2003,2004],\"xaxis\":\"x\",\"y\":[5.0,4.6],\"yaxis\":\"y\",\"type\":\"scatter\"},{\"customdata\":[[\"Alice in Wonderland\",\"Alice in Wonderland\"],[\"Alice Through the Looking Glass\",\"Alice in Wonderland\"]],\"hovertemplate\":\"Movie Series=%{customdata[1]}<br>Release Year=%{x}<br>Rating=%{y}<br>Title=%{customdata[0]}<extra></extra>\",\"legendgroup\":\"Alice in Wonderland\",\"line\":{\"color\":\"#EF553B\",\"dash\":\"solid\",\"shape\":\"linear\"},\"marker\":{\"symbol\":\"circle\"},\"mode\":\"lines+markers\",\"name\":\"Alice in Wonderland\",\"orientation\":\"v\",\"showlegend\":true,\"x\":[2010,2016],\"xaxis\":\"x\",\"y\":[6.4,6.2],\"yaxis\":\"y\",\"type\":\"scatter\"},{\"customdata\":[[\"Alien\",\"Alien\"],[\"Aliens\",\"Alien\"],[\"Alien\\u00b3\",\"Alien\"],[\"Alien: Resurrection\",\"Alien\"],[\"Alien: Covenant\",\"Alien\"]],\"hovertemplate\":\"Movie Series=%{customdata[1]}<br>Release Year=%{x}<br>Rating=%{y}<br>Title=%{customdata[0]}<extra></extra>\",\"legendgroup\":\"Alien\",\"line\":{\"color\":\"#00cc96\",\"dash\":\"solid\",\"shape\":\"linear\"},\"marker\":{\"symbol\":\"circle\"},\"mode\":\"lines+markers\",\"name\":\"Alien\",\"orientation\":\"v\",\"showlegend\":true,\"x\":[1979,1986,1992,1997,2017],\"xaxis\":\"x\",\"y\":[8.4,8.3,6.5,6.2,6.4],\"yaxis\":\"y\",\"type\":\"scatter\"},{\"customdata\":[[\"Alvin and the Chipmunks\",\"Alvin and the Chipmunks\"],[\"Alvin and the Chipmunks: The Squeakquel\",\"Alvin and the Chipmunks\"],[\"Alvin and the Chipmunks: Chipwrecked\",\"Alvin and the Chipmunks\"]],\"hovertemplate\":\"Movie Series=%{customdata[1]}<br>Release Year=%{x}<br>Rating=%{y}<br>Title=%{customdata[0]}<extra></extra>\",\"legendgroup\":\"Alvin and the Chipmunks\",\"line\":{\"color\":\"#ab63fa\",\"dash\":\"solid\",\"shape\":\"linear\"},\"marker\":{\"symbol\":\"circle\"},\"mode\":\"lines+markers\",\"name\":\"Alvin and the Chipmunks\",\"orientation\":\"v\",\"showlegend\":true,\"x\":[2007,2009,2011],\"xaxis\":\"x\",\"y\":[5.2,4.5,4.3],\"yaxis\":\"y\",\"type\":\"scatter\"},{\"customdata\":[[\"American Pie\",\"American Pie\"],[\"American Pie 2\",\"American Pie\"]],\"hovertemplate\":\"Movie Series=%{customdata[1]}<br>Release Year=%{x}<br>Rating=%{y}<br>Title=%{customdata[0]}<extra></extra>\",\"legendgroup\":\"American Pie\",\"line\":{\"color\":\"#FFA15A\",\"dash\":\"solid\",\"shape\":\"linear\"},\"marker\":{\"symbol\":\"circle\"},\"mode\":\"lines+markers\",\"name\":\"American Pie\",\"orientation\":\"v\",\"showlegend\":true,\"x\":[1999,2001],\"xaxis\":\"x\",\"y\":[7.0,6.4],\"yaxis\":\"y\",\"type\":\"scatter\"},{\"customdata\":[[\"Anaconda\",\"Anaconda\"],[\"Anacondas: The Hunt for the Blood Orchid\",\"Anaconda\"]],\"hovertemplate\":\"Movie Series=%{customdata[1]}<br>Release Year=%{x}<br>Rating=%{y}<br>Title=%{customdata[0]}<extra></extra>\",\"legendgroup\":\"Anaconda\",\"line\":{\"color\":\"#19d3f3\",\"dash\":\"solid\",\"shape\":\"linear\"},\"marker\":{\"symbol\":\"circle\"},\"mode\":\"lines+markers\",\"name\":\"Anaconda\",\"orientation\":\"v\",\"showlegend\":true,\"x\":[1997,2004],\"xaxis\":\"x\",\"y\":[4.8,4.7],\"yaxis\":\"y\",\"type\":\"scatter\"},{\"customdata\":[[\"Analyze This\",\"Analyze This\"],[\"Analyze That\",\"Analyze This\"]],\"hovertemplate\":\"Movie Series=%{customdata[1]}<br>Release Year=%{x}<br>Rating=%{y}<br>Title=%{customdata[0]}<extra></extra>\",\"legendgroup\":\"Analyze This\",\"line\":{\"color\":\"#FF6692\",\"dash\":\"solid\",\"shape\":\"linear\"},\"marker\":{\"symbol\":\"circle\"},\"mode\":\"lines+markers\",\"name\":\"Analyze This\",\"orientation\":\"v\",\"showlegend\":true,\"x\":[1999,2002],\"xaxis\":\"x\",\"y\":[6.7,5.9],\"yaxis\":\"y\",\"type\":\"scatter\"},{\"customdata\":[[\"Anchorman: The Legend of Ron Burgundy\",\"Anchorman\"],[\"Anchorman 2: The Legend Continues\",\"Anchorman\"]],\"hovertemplate\":\"Movie Series=%{customdata[1]}<br>Release Year=%{x}<br>Rating=%{y}<br>Title=%{customdata[0]}<extra></extra>\",\"legendgroup\":\"Anchorman\",\"line\":{\"color\":\"#B6E880\",\"dash\":\"solid\",\"shape\":\"linear\"},\"marker\":{\"symbol\":\"circle\"},\"mode\":\"lines+markers\",\"name\":\"Anchorman\",\"orientation\":\"v\",\"showlegend\":true,\"x\":[2004,2013],\"xaxis\":\"x\",\"y\":[7.2,6.3],\"yaxis\":\"y\",\"type\":\"scatter\"},{\"customdata\":[[\"Angry Birds\",\"Angry Birds\"],[\"The Angry Birds Movie 2\",\"Angry Birds\"]],\"hovertemplate\":\"Movie Series=%{customdata[1]}<br>Release Year=%{x}<br>Rating=%{y}<br>Title=%{customdata[0]}<extra></extra>\",\"legendgroup\":\"Angry Birds\",\"line\":{\"color\":\"#FF97FF\",\"dash\":\"solid\",\"shape\":\"linear\"},\"marker\":{\"symbol\":\"circle\"},\"mode\":\"lines+markers\",\"name\":\"Angry Birds\",\"orientation\":\"v\",\"showlegend\":true,\"x\":[2016,2019],\"xaxis\":\"x\",\"y\":[6.3,6.4],\"yaxis\":\"y\",\"type\":\"scatter\"},{\"customdata\":[[\"Annabelle\",\"Annabelle\"],[\"Annabelle: Creation\",\"Annabelle\"],[\"Annabelle Comes Home\",\"Annabelle\"]],\"hovertemplate\":\"Movie Series=%{customdata[1]}<br>Release Year=%{x}<br>Rating=%{y}<br>Title=%{customdata[0]}<extra></extra>\",\"legendgroup\":\"Annabelle\",\"line\":{\"color\":\"#FECB52\",\"dash\":\"solid\",\"shape\":\"linear\"},\"marker\":{\"symbol\":\"circle\"},\"mode\":\"lines+markers\",\"name\":\"Annabelle\",\"orientation\":\"v\",\"showlegend\":true,\"x\":[2014,2017,2019],\"xaxis\":\"x\",\"y\":[5.4,6.5,5.9],\"yaxis\":\"y\",\"type\":\"scatter\"},{\"customdata\":[[\"Atlas Shrugged: Part I\",\"Atlas Shrugged\"],[\"Atlas Shrugged II: The Strike\",\"Atlas Shrugged\"]],\"hovertemplate\":\"Movie Series=%{customdata[1]}<br>Release Year=%{x}<br>Rating=%{y}<br>Title=%{customdata[0]}<extra></extra>\",\"legendgroup\":\"Atlas Shrugged\",\"line\":{\"color\":\"#636efa\",\"dash\":\"solid\",\"shape\":\"linear\"},\"marker\":{\"symbol\":\"circle\"},\"mode\":\"lines+markers\",\"name\":\"Atlas Shrugged\",\"orientation\":\"v\",\"showlegend\":true,\"x\":[2011,2012],\"xaxis\":\"x\",\"y\":[5.6,5.4],\"yaxis\":\"y\",\"type\":\"scatter\"},{\"customdata\":[[\"Austin Powers: International Man of Mystery\",\"Austin Powers\"],[\"Austin Powers: The Spy Who Shagged Me\",\"Austin Powers\"],[\"Austin Powers in Goldmember\",\"Austin Powers\"]],\"hovertemplate\":\"Movie Series=%{customdata[1]}<br>Release Year=%{x}<br>Rating=%{y}<br>Title=%{customdata[0]}<extra></extra>\",\"legendgroup\":\"Austin Powers\",\"line\":{\"color\":\"#EF553B\",\"dash\":\"solid\",\"shape\":\"linear\"},\"marker\":{\"symbol\":\"circle\"},\"mode\":\"lines+markers\",\"name\":\"Austin Powers\",\"orientation\":\"v\",\"showlegend\":true,\"x\":[1997,1999,2002],\"xaxis\":\"x\",\"y\":[7.0,6.6,6.2],\"yaxis\":\"y\",\"type\":\"scatter\"},{\"customdata\":[[\"Back to the Future\",\"Back to the Future\"],[\"Back to the Future Part II\",\"Back to the Future\"],[\"Back to the Future Part III\",\"Back to the Future\"]],\"hovertemplate\":\"Movie Series=%{customdata[1]}<br>Release Year=%{x}<br>Rating=%{y}<br>Title=%{customdata[0]}<extra></extra>\",\"legendgroup\":\"Back to the Future\",\"line\":{\"color\":\"#00cc96\",\"dash\":\"solid\",\"shape\":\"linear\"},\"marker\":{\"symbol\":\"circle\"},\"mode\":\"lines+markers\",\"name\":\"Back to the Future\",\"orientation\":\"v\",\"showlegend\":true,\"x\":[1985,1989,1990],\"xaxis\":\"x\",\"y\":[8.5,7.8,7.4],\"yaxis\":\"y\",\"type\":\"scatter\"},{\"customdata\":[[\"Bad Boys\",\"Bad Boys\"],[\"Bad Boys II\",\"Bad Boys\"],[\"Bad Boys for Life\",\"Bad Boys\"]],\"hovertemplate\":\"Movie Series=%{customdata[1]}<br>Release Year=%{x}<br>Rating=%{y}<br>Title=%{customdata[0]}<extra></extra>\",\"legendgroup\":\"Bad Boys\",\"line\":{\"color\":\"#ab63fa\",\"dash\":\"solid\",\"shape\":\"linear\"},\"marker\":{\"symbol\":\"circle\"},\"mode\":\"lines+markers\",\"name\":\"Bad Boys\",\"orientation\":\"v\",\"showlegend\":true,\"x\":[1995,2003,2020],\"xaxis\":\"x\",\"y\":[6.9,6.6,6.7],\"yaxis\":\"y\",\"type\":\"scatter\"},{\"customdata\":[[\"Bad Lieutenant\",\"Bad Lieutenant\"],[\"The Bad Lieutenant: Port of Call - New Orleans\",\"Bad Lieutenant\"]],\"hovertemplate\":\"Movie Series=%{customdata[1]}<br>Release Year=%{x}<br>Rating=%{y}<br>Title=%{customdata[0]}<extra></extra>\",\"legendgroup\":\"Bad Lieutenant\",\"line\":{\"color\":\"#FFA15A\",\"dash\":\"solid\",\"shape\":\"linear\"},\"marker\":{\"symbol\":\"circle\"},\"mode\":\"lines+markers\",\"name\":\"Bad Lieutenant\",\"orientation\":\"v\",\"showlegend\":true,\"x\":[1992,2009],\"xaxis\":\"x\",\"y\":[7.1,6.6],\"yaxis\":\"y\",\"type\":\"scatter\"},{\"customdata\":[[\"Bad Santa\",\"Bad Santa\"],[\"Bad Santa 2\",\"Bad Santa\"]],\"hovertemplate\":\"Movie Series=%{customdata[1]}<br>Release Year=%{x}<br>Rating=%{y}<br>Title=%{customdata[0]}<extra></extra>\",\"legendgroup\":\"Bad Santa\",\"line\":{\"color\":\"#19d3f3\",\"dash\":\"solid\",\"shape\":\"linear\"},\"marker\":{\"symbol\":\"circle\"},\"mode\":\"lines+markers\",\"name\":\"Bad Santa\",\"orientation\":\"v\",\"showlegend\":true,\"x\":[2003,2016],\"xaxis\":\"x\",\"y\":[7.0,5.6],\"yaxis\":\"y\",\"type\":\"scatter\"},{\"customdata\":[[\"Banlieue 13\",\"Banlieue\"],[\"Banlieue 13: Ultimatum\",\"Banlieue\"]],\"hovertemplate\":\"Movie Series=%{customdata[1]}<br>Release Year=%{x}<br>Rating=%{y}<br>Title=%{customdata[0]}<extra></extra>\",\"legendgroup\":\"Banlieue\",\"line\":{\"color\":\"#FF6692\",\"dash\":\"solid\",\"shape\":\"linear\"},\"marker\":{\"symbol\":\"circle\"},\"mode\":\"lines+markers\",\"name\":\"Banlieue\",\"orientation\":\"v\",\"showlegend\":true,\"x\":[2004,2009],\"xaxis\":\"x\",\"y\":[7.2,6.5],\"yaxis\":\"y\",\"type\":\"scatter\"},{\"customdata\":[[\"Basic Instinct\",\"Basic Instinct\"],[\"Basic Instinct 2\",\"Basic Instinct\"]],\"hovertemplate\":\"Movie Series=%{customdata[1]}<br>Release Year=%{x}<br>Rating=%{y}<br>Title=%{customdata[0]}<extra></extra>\",\"legendgroup\":\"Basic Instinct\",\"line\":{\"color\":\"#B6E880\",\"dash\":\"solid\",\"shape\":\"linear\"},\"marker\":{\"symbol\":\"circle\"},\"mode\":\"lines+markers\",\"name\":\"Basic Instinct\",\"orientation\":\"v\",\"showlegend\":true,\"x\":[1992,2006],\"xaxis\":\"x\",\"y\":[7.0,4.3],\"yaxis\":\"y\",\"type\":\"scatter\"},{\"customdata\":[[\"Batman\",\"Batman\"],[\"Batman Returns\",\"Batman\"],[\"Batman Forever\",\"Batman\"],[\"Batman & Robin\",\"Batman\"],[\"Batman Begins\",\"Batman\"],[\"The Dark Knight\",\"Batman\"],[\"The Dark Knight Rises\",\"Batman\"]],\"hovertemplate\":\"Movie Series=%{customdata[1]}<br>Release Year=%{x}<br>Rating=%{y}<br>Title=%{customdata[0]}<extra></extra>\",\"legendgroup\":\"Batman\",\"line\":{\"color\":\"#FF97FF\",\"dash\":\"solid\",\"shape\":\"linear\"},\"marker\":{\"symbol\":\"circle\"},\"mode\":\"lines+markers\",\"name\":\"Batman\",\"orientation\":\"v\",\"showlegend\":true,\"x\":[1989,1992,1995,1997,2005,2008,2012],\"xaxis\":\"x\",\"y\":[7.5,7.0,5.4,3.7,8.2,9.0,8.4],\"yaxis\":\"y\",\"type\":\"scatter\"},{\"customdata\":[[\"Before Sunrise\",\"Before Sunrise\"],[\"Before Sunset\",\"Before Sunrise\"],[\"Before Midnight\",\"Before Sunrise\"]],\"hovertemplate\":\"Movie Series=%{customdata[1]}<br>Release Year=%{x}<br>Rating=%{y}<br>Title=%{customdata[0]}<extra></extra>\",\"legendgroup\":\"Before Sunrise\",\"line\":{\"color\":\"#FECB52\",\"dash\":\"solid\",\"shape\":\"linear\"},\"marker\":{\"symbol\":\"circle\"},\"mode\":\"lines+markers\",\"name\":\"Before Sunrise\",\"orientation\":\"v\",\"showlegend\":true,\"x\":[1995,2004,2013],\"xaxis\":\"x\",\"y\":[8.1,8.0,7.9],\"yaxis\":\"y\",\"type\":\"scatter\"},{\"customdata\":[[\"Beverly Hills Cop\",\"Beverly Hills Cop\"],[\"Beverly Hills Cop II\",\"Beverly Hills Cop\"],[\"Beverly Hills Cop III\",\"Beverly Hills Cop\"]],\"hovertemplate\":\"Movie Series=%{customdata[1]}<br>Release Year=%{x}<br>Rating=%{y}<br>Title=%{customdata[0]}<extra></extra>\",\"legendgroup\":\"Beverly Hills Cop\",\"line\":{\"color\":\"#636efa\",\"dash\":\"solid\",\"shape\":\"linear\"},\"marker\":{\"symbol\":\"circle\"},\"mode\":\"lines+markers\",\"name\":\"Beverly Hills Cop\",\"orientation\":\"v\",\"showlegend\":true,\"x\":[1984,1987,1994],\"xaxis\":\"x\",\"y\":[7.3,6.5,5.6],\"yaxis\":\"y\",\"type\":\"scatter\"},{\"customdata\":[[\"Big Momma's House\",\"Big Mommas\"],[\"Big Momma's House 2\",\"Big Mommas\"],[\"Big Mommas: Like Father, Like Son\",\"Big Mommas\"]],\"hovertemplate\":\"Movie Series=%{customdata[1]}<br>Release Year=%{x}<br>Rating=%{y}<br>Title=%{customdata[0]}<extra></extra>\",\"legendgroup\":\"Big Mommas\",\"line\":{\"color\":\"#EF553B\",\"dash\":\"solid\",\"shape\":\"linear\"},\"marker\":{\"symbol\":\"circle\"},\"mode\":\"lines+markers\",\"name\":\"Big Mommas\",\"orientation\":\"v\",\"showlegend\":true,\"x\":[2000,2006,2011],\"xaxis\":\"x\",\"y\":[5.2,4.7,4.4],\"yaxis\":\"y\",\"type\":\"scatter\"},{\"customdata\":[[\"Biohazard Regeneration\",\"Biohazard\"],[\"Biohazard: Damnation\",\"Biohazard\"]],\"hovertemplate\":\"Movie Series=%{customdata[1]}<br>Release Year=%{x}<br>Rating=%{y}<br>Title=%{customdata[0]}<extra></extra>\",\"legendgroup\":\"Biohazard\",\"line\":{\"color\":\"#00cc96\",\"dash\":\"solid\",\"shape\":\"linear\"},\"marker\":{\"symbol\":\"circle\"},\"mode\":\"lines+markers\",\"name\":\"Biohazard\",\"orientation\":\"v\",\"showlegend\":true,\"x\":[2008,2012],\"xaxis\":\"x\",\"y\":[6.5,6.5],\"yaxis\":\"y\",\"type\":\"scatter\"},{\"customdata\":[[\"Blade\",\"Blade\"],[\"Blade II\",\"Blade\"],[\"Blade: Trinity\",\"Blade\"]],\"hovertemplate\":\"Movie Series=%{customdata[1]}<br>Release Year=%{x}<br>Rating=%{y}<br>Title=%{customdata[0]}<extra></extra>\",\"legendgroup\":\"Blade\",\"line\":{\"color\":\"#ab63fa\",\"dash\":\"solid\",\"shape\":\"linear\"},\"marker\":{\"symbol\":\"circle\"},\"mode\":\"lines+markers\",\"name\":\"Blade\",\"orientation\":\"v\",\"showlegend\":true,\"x\":[1998,2002,2004],\"xaxis\":\"x\",\"y\":[7.1,6.7,5.9],\"yaxis\":\"y\",\"type\":\"scatter\"},{\"customdata\":[[\"Blade Runner\",\"Blade Runner\"],[\"Blade Runner 2049\",\"Blade Runner\"]],\"hovertemplate\":\"Movie Series=%{customdata[1]}<br>Release Year=%{x}<br>Rating=%{y}<br>Title=%{customdata[0]}<extra></extra>\",\"legendgroup\":\"Blade Runner\",\"line\":{\"color\":\"#FFA15A\",\"dash\":\"solid\",\"shape\":\"linear\"},\"marker\":{\"symbol\":\"circle\"},\"mode\":\"lines+markers\",\"name\":\"Blade Runner\",\"orientation\":\"v\",\"showlegend\":true,\"x\":[1982,2017],\"xaxis\":\"x\",\"y\":[8.1,8.0],\"yaxis\":\"y\",\"type\":\"scatter\"},{\"customdata\":[[\"BloodRayne\",\"BloodRayne\"],[\"BloodRayne: The Third Reich\",\"BloodRayne\"]],\"hovertemplate\":\"Movie Series=%{customdata[1]}<br>Release Year=%{x}<br>Rating=%{y}<br>Title=%{customdata[0]}<extra></extra>\",\"legendgroup\":\"BloodRayne\",\"line\":{\"color\":\"#19d3f3\",\"dash\":\"solid\",\"shape\":\"linear\"},\"marker\":{\"symbol\":\"circle\"},\"mode\":\"lines+markers\",\"name\":\"BloodRayne\",\"orientation\":\"v\",\"showlegend\":true,\"x\":[2005,2011],\"xaxis\":\"x\",\"y\":[2.9,3.0],\"yaxis\":\"y\",\"type\":\"scatter\"},{\"customdata\":[[\"The Boogey Man\",\"Boogeyman\"],[\"Revenge of the Boogeyman\",\"Boogeyman\"],[\"Boogeyman\",\"Boogeyman\"],[\"Boogeyman 2\",\"Boogeyman\"]],\"hovertemplate\":\"Movie Series=%{customdata[1]}<br>Release Year=%{x}<br>Rating=%{y}<br>Title=%{customdata[0]}<extra></extra>\",\"legendgroup\":\"Boogeyman\",\"line\":{\"color\":\"#FF6692\",\"dash\":\"solid\",\"shape\":\"linear\"},\"marker\":{\"symbol\":\"circle\"},\"mode\":\"lines+markers\",\"name\":\"Boogeyman\",\"orientation\":\"v\",\"showlegend\":true,\"x\":[1980,1983,2005,2007],\"xaxis\":\"x\",\"y\":[4.6,2.0,4.2,5.0],\"yaxis\":\"y\",\"type\":\"scatter\"},{\"customdata\":[[\"Brat\",\"Brat\"],[\"Brat 2\",\"Brat\"]],\"hovertemplate\":\"Movie Series=%{customdata[1]}<br>Release Year=%{x}<br>Rating=%{y}<br>Title=%{customdata[0]}<extra></extra>\",\"legendgroup\":\"Brat\",\"line\":{\"color\":\"#B6E880\",\"dash\":\"solid\",\"shape\":\"linear\"},\"marker\":{\"symbol\":\"circle\"},\"mode\":\"lines+markers\",\"name\":\"Brat\",\"orientation\":\"v\",\"showlegend\":true,\"x\":[1997,2000],\"xaxis\":\"x\",\"y\":[8.0,7.8],\"yaxis\":\"y\",\"type\":\"scatter\"},{\"customdata\":[[\"Bridget Jones's Diary\",\"Bridget Jones\"],[\"Bridget Jones: The Edge of Reason\",\"Bridget Jones\"],[\"Bridget Jones's Baby\",\"Bridget Jones\"]],\"hovertemplate\":\"Movie Series=%{customdata[1]}<br>Release Year=%{x}<br>Rating=%{y}<br>Title=%{customdata[0]}<extra></extra>\",\"legendgroup\":\"Bridget Jones\",\"line\":{\"color\":\"#FF97FF\",\"dash\":\"solid\",\"shape\":\"linear\"},\"marker\":{\"symbol\":\"circle\"},\"mode\":\"lines+markers\",\"name\":\"Bridget Jones\",\"orientation\":\"v\",\"showlegend\":true,\"x\":[2001,2004,2016],\"xaxis\":\"x\",\"y\":[6.7,6.0,6.5],\"yaxis\":\"y\",\"type\":\"scatter\"},{\"customdata\":[[\"Candyman\",\"Candyman\"],[\"Candyman: Farewell to the Flesh\",\"Candyman\"]],\"hovertemplate\":\"Movie Series=%{customdata[1]}<br>Release Year=%{x}<br>Rating=%{y}<br>Title=%{customdata[0]}<extra></extra>\",\"legendgroup\":\"Candyman\",\"line\":{\"color\":\"#FECB52\",\"dash\":\"solid\",\"shape\":\"linear\"},\"marker\":{\"symbol\":\"circle\"},\"mode\":\"lines+markers\",\"name\":\"Candyman\",\"orientation\":\"v\",\"showlegend\":true,\"x\":[1992,1995],\"xaxis\":\"x\",\"y\":[6.6,5.3],\"yaxis\":\"y\",\"type\":\"scatter\"},{\"customdata\":[[\"Captain America: The First Avenger\",\"Captain America\"],[\"Captain America: The Winter Soldier\",\"Captain America\"],[\"Captain America: Civil War\",\"Captain America\"]],\"hovertemplate\":\"Movie Series=%{customdata[1]}<br>Release Year=%{x}<br>Rating=%{y}<br>Title=%{customdata[0]}<extra></extra>\",\"legendgroup\":\"Captain America\",\"line\":{\"color\":\"#636efa\",\"dash\":\"solid\",\"shape\":\"linear\"},\"marker\":{\"symbol\":\"circle\"},\"mode\":\"lines+markers\",\"name\":\"Captain America\",\"orientation\":\"v\",\"showlegend\":true,\"x\":[2011,2014,2016],\"xaxis\":\"x\",\"y\":[6.9,7.7,7.8],\"yaxis\":\"y\",\"type\":\"scatter\"},{\"customdata\":[[\"Cars\",\"Cars\"],[\"Cars 2\",\"Cars\"],[\"Cars 3\",\"Cars\"]],\"hovertemplate\":\"Movie Series=%{customdata[1]}<br>Release Year=%{x}<br>Rating=%{y}<br>Title=%{customdata[0]}<extra></extra>\",\"legendgroup\":\"Cars\",\"line\":{\"color\":\"#EF553B\",\"dash\":\"solid\",\"shape\":\"linear\"},\"marker\":{\"symbol\":\"circle\"},\"mode\":\"lines+markers\",\"name\":\"Cars\",\"orientation\":\"v\",\"showlegend\":true,\"x\":[2006,2011,2017],\"xaxis\":\"x\",\"y\":[7.1,6.1,6.7],\"yaxis\":\"y\",\"type\":\"scatter\"},{\"customdata\":[[\"Cat People\",\"Cat People\"],[\"The Curse of the Cat People\",\"Cat People\"]],\"hovertemplate\":\"Movie Series=%{customdata[1]}<br>Release Year=%{x}<br>Rating=%{y}<br>Title=%{customdata[0]}<extra></extra>\",\"legendgroup\":\"Cat People\",\"line\":{\"color\":\"#00cc96\",\"dash\":\"solid\",\"shape\":\"linear\"},\"marker\":{\"symbol\":\"circle\"},\"mode\":\"lines+markers\",\"name\":\"Cat People\",\"orientation\":\"v\",\"showlegend\":true,\"x\":[1942,1944],\"xaxis\":\"x\",\"y\":[7.3,6.9],\"yaxis\":\"y\",\"type\":\"scatter\"},{\"customdata\":[[\"Charlie's Angels\",\"Charlie's Angels\"],[\"Charlie's Angels: Full Throttle\",\"Charlie's Angels\"]],\"hovertemplate\":\"Movie Series=%{customdata[1]}<br>Release Year=%{x}<br>Rating=%{y}<br>Title=%{customdata[0]}<extra></extra>\",\"legendgroup\":\"Charlie's Angels\",\"line\":{\"color\":\"#ab63fa\",\"dash\":\"solid\",\"shape\":\"linear\"},\"marker\":{\"symbol\":\"circle\"},\"mode\":\"lines+markers\",\"name\":\"Charlie's Angels\",\"orientation\":\"v\",\"showlegend\":true,\"x\":[2000,2003],\"xaxis\":\"x\",\"y\":[5.5,4.9],\"yaxis\":\"y\",\"type\":\"scatter\"},{\"customdata\":[[\"Cheaper by the Dozen\",\"Cheaper by the Dozen\"],[\"Cheaper by the Dozen 2\",\"Cheaper by the Dozen\"]],\"hovertemplate\":\"Movie Series=%{customdata[1]}<br>Release Year=%{x}<br>Rating=%{y}<br>Title=%{customdata[0]}<extra></extra>\",\"legendgroup\":\"Cheaper by the Dozen\",\"line\":{\"color\":\"#FFA15A\",\"dash\":\"solid\",\"shape\":\"linear\"},\"marker\":{\"symbol\":\"circle\"},\"mode\":\"lines+markers\",\"name\":\"Cheaper by the Dozen\",\"orientation\":\"v\",\"showlegend\":true,\"x\":[2003,2005],\"xaxis\":\"x\",\"y\":[5.9,5.5],\"yaxis\":\"y\",\"type\":\"scatter\"},{\"customdata\":[[\"Child's Play\",\"Child's Play\"],[\"Child's Play 2\",\"Child's Play\"],[\"Child's Play 3\",\"Child's Play\"]],\"hovertemplate\":\"Movie Series=%{customdata[1]}<br>Release Year=%{x}<br>Rating=%{y}<br>Title=%{customdata[0]}<extra></extra>\",\"legendgroup\":\"Child's Play\",\"line\":{\"color\":\"#19d3f3\",\"dash\":\"solid\",\"shape\":\"linear\"},\"marker\":{\"symbol\":\"circle\"},\"mode\":\"lines+markers\",\"name\":\"Child's Play\",\"orientation\":\"v\",\"showlegend\":true,\"x\":[1988,1990,1991],\"xaxis\":\"x\",\"y\":[6.6,5.8,5.1],\"yaxis\":\"y\",\"type\":\"scatter\"},{\"customdata\":[[\"Cidade de Deus\",\"Cidade de Deus\"],[\"Cidade dos Homens\",\"Cidade de Deus\"]],\"hovertemplate\":\"Movie Series=%{customdata[1]}<br>Release Year=%{x}<br>Rating=%{y}<br>Title=%{customdata[0]}<extra></extra>\",\"legendgroup\":\"Cidade de Deus\",\"line\":{\"color\":\"#FF6692\",\"dash\":\"solid\",\"shape\":\"linear\"},\"marker\":{\"symbol\":\"circle\"},\"mode\":\"lines+markers\",\"name\":\"Cidade de Deus\",\"orientation\":\"v\",\"showlegend\":true,\"x\":[2002,2007],\"xaxis\":\"x\",\"y\":[8.6,7.2],\"yaxis\":\"y\",\"type\":\"scatter\"},{\"customdata\":[[\"Class of 1999\",\"Class of 1999\"],[\"Class of 1999 II: The Substitute\",\"Class of 1999\"]],\"hovertemplate\":\"Movie Series=%{customdata[1]}<br>Release Year=%{x}<br>Rating=%{y}<br>Title=%{customdata[0]}<extra></extra>\",\"legendgroup\":\"Class of 1999\",\"line\":{\"color\":\"#B6E880\",\"dash\":\"solid\",\"shape\":\"linear\"},\"marker\":{\"symbol\":\"circle\"},\"mode\":\"lines+markers\",\"name\":\"Class of 1999\",\"orientation\":\"v\",\"showlegend\":true,\"x\":[1990,1994],\"xaxis\":\"x\",\"y\":[5.9,4.4],\"yaxis\":\"y\",\"type\":\"scatter\"},{\"customdata\":[[\"Clerks\",\"Clerks\"],[\"Clerks II\",\"Clerks\"]],\"hovertemplate\":\"Movie Series=%{customdata[1]}<br>Release Year=%{x}<br>Rating=%{y}<br>Title=%{customdata[0]}<extra></extra>\",\"legendgroup\":\"Clerks\",\"line\":{\"color\":\"#FF97FF\",\"dash\":\"solid\",\"shape\":\"linear\"},\"marker\":{\"symbol\":\"circle\"},\"mode\":\"lines+markers\",\"name\":\"Clerks\",\"orientation\":\"v\",\"showlegend\":true,\"x\":[1994,2006],\"xaxis\":\"x\",\"y\":[7.7,7.3],\"yaxis\":\"y\",\"type\":\"scatter\"},{\"customdata\":[[\"Cloverfield\",\"Cloverfield\"],[\"10 Cloverfield Lane\",\"Cloverfield\"]],\"hovertemplate\":\"Movie Series=%{customdata[1]}<br>Release Year=%{x}<br>Rating=%{y}<br>Title=%{customdata[0]}<extra></extra>\",\"legendgroup\":\"Cloverfield\",\"line\":{\"color\":\"#FECB52\",\"dash\":\"solid\",\"shape\":\"linear\"},\"marker\":{\"symbol\":\"circle\"},\"mode\":\"lines+markers\",\"name\":\"Cloverfield\",\"orientation\":\"v\",\"showlegend\":true,\"x\":[2008,2016],\"xaxis\":\"x\",\"y\":[7.0,7.2],\"yaxis\":\"y\",\"type\":\"scatter\"},{\"customdata\":[[\"Cocoon\",\"Cocoon\"],[\"Cocoon: The Return\",\"Cocoon\"]],\"hovertemplate\":\"Movie Series=%{customdata[1]}<br>Release Year=%{x}<br>Rating=%{y}<br>Title=%{customdata[0]}<extra></extra>\",\"legendgroup\":\"Cocoon\",\"line\":{\"color\":\"#636efa\",\"dash\":\"solid\",\"shape\":\"linear\"},\"marker\":{\"symbol\":\"circle\"},\"mode\":\"lines+markers\",\"name\":\"Cocoon\",\"orientation\":\"v\",\"showlegend\":true,\"x\":[1985,1988],\"xaxis\":\"x\",\"y\":[6.7,5.4],\"yaxis\":\"y\",\"type\":\"scatter\"},{\"customdata\":[[\"Crank\",\"Crank\"],[\"Crank: High Voltage\",\"Crank\"]],\"hovertemplate\":\"Movie Series=%{customdata[1]}<br>Release Year=%{x}<br>Rating=%{y}<br>Title=%{customdata[0]}<extra></extra>\",\"legendgroup\":\"Crank\",\"line\":{\"color\":\"#EF553B\",\"dash\":\"solid\",\"shape\":\"linear\"},\"marker\":{\"symbol\":\"circle\"},\"mode\":\"lines+markers\",\"name\":\"Crank\",\"orientation\":\"v\",\"showlegend\":true,\"x\":[2006,2009],\"xaxis\":\"x\",\"y\":[6.9,6.2],\"yaxis\":\"y\",\"type\":\"scatter\"},{\"customdata\":[[\"Critters\",\"Critters\"],[\"Critters 2\",\"Critters\"],[\"Critters 3\",\"Critters\"],[\"Critters 4\",\"Critters\"]],\"hovertemplate\":\"Movie Series=%{customdata[1]}<br>Release Year=%{x}<br>Rating=%{y}<br>Title=%{customdata[0]}<extra></extra>\",\"legendgroup\":\"Critters\",\"line\":{\"color\":\"#00cc96\",\"dash\":\"solid\",\"shape\":\"linear\"},\"marker\":{\"symbol\":\"circle\"},\"mode\":\"lines+markers\",\"name\":\"Critters\",\"orientation\":\"v\",\"showlegend\":true,\"x\":[1986,1988,1991,1992],\"xaxis\":\"x\",\"y\":[6.1,5.5,4.4,4.1],\"yaxis\":\"y\",\"type\":\"scatter\"},{\"customdata\":[[\"Cube\",\"Cube\"],[\"Cube 2: Hypercube\",\"Cube\"],[\"Cube Zero\",\"Cube\"]],\"hovertemplate\":\"Movie Series=%{customdata[1]}<br>Release Year=%{x}<br>Rating=%{y}<br>Title=%{customdata[0]}<extra></extra>\",\"legendgroup\":\"Cube\",\"line\":{\"color\":\"#ab63fa\",\"dash\":\"solid\",\"shape\":\"linear\"},\"marker\":{\"symbol\":\"circle\"},\"mode\":\"lines+markers\",\"name\":\"Cube\",\"orientation\":\"v\",\"showlegend\":true,\"x\":[1997,2002,2004],\"xaxis\":\"x\",\"y\":[7.2,5.6,5.7],\"yaxis\":\"y\",\"type\":\"scatter\"},{\"customdata\":[[\"Deadpool\",\"Deadpool\"],[\"Deadpool 2\",\"Deadpool\"]],\"hovertemplate\":\"Movie Series=%{customdata[1]}<br>Release Year=%{x}<br>Rating=%{y}<br>Title=%{customdata[0]}<extra></extra>\",\"legendgroup\":\"Deadpool\",\"line\":{\"color\":\"#FFA15A\",\"dash\":\"solid\",\"shape\":\"linear\"},\"marker\":{\"symbol\":\"circle\"},\"mode\":\"lines+markers\",\"name\":\"Deadpool\",\"orientation\":\"v\",\"showlegend\":true,\"x\":[2016,2018],\"xaxis\":\"x\",\"y\":[8.0,7.7],\"yaxis\":\"y\",\"type\":\"scatter\"},{\"customdata\":[[\"Despicable Me\",\"Despicable Me\"],[\"Despicable Me 2\",\"Despicable Me\"],[\"Despicable Me 3\",\"Despicable Me\"]],\"hovertemplate\":\"Movie Series=%{customdata[1]}<br>Release Year=%{x}<br>Rating=%{y}<br>Title=%{customdata[0]}<extra></extra>\",\"legendgroup\":\"Despicable Me\",\"line\":{\"color\":\"#19d3f3\",\"dash\":\"solid\",\"shape\":\"linear\"},\"marker\":{\"symbol\":\"circle\"},\"mode\":\"lines+markers\",\"name\":\"Despicable Me\",\"orientation\":\"v\",\"showlegend\":true,\"x\":[2010,2013,2017],\"xaxis\":\"x\",\"y\":[7.6,7.3,6.3],\"yaxis\":\"y\",\"type\":\"scatter\"},{\"customdata\":[[\"Deuce Bigalow: Male Gigolo\",\"Deuce Bigalow\"],[\"Deuce Bigalow: European Gigolo\",\"Deuce Bigalow\"]],\"hovertemplate\":\"Movie Series=%{customdata[1]}<br>Release Year=%{x}<br>Rating=%{y}<br>Title=%{customdata[0]}<extra></extra>\",\"legendgroup\":\"Deuce Bigalow\",\"line\":{\"color\":\"#FF6692\",\"dash\":\"solid\",\"shape\":\"linear\"},\"marker\":{\"symbol\":\"circle\"},\"mode\":\"lines+markers\",\"name\":\"Deuce Bigalow\",\"orientation\":\"v\",\"showlegend\":true,\"x\":[1999,2005],\"xaxis\":\"x\",\"y\":[5.7,4.7],\"yaxis\":\"y\",\"type\":\"scatter\"},{\"customdata\":[[\"Die Hard\",\"Die Hard\"],[\"Die Hard 2\",\"Die Hard\"],[\"Die Hard: With a Vengeance\",\"Die Hard\"]],\"hovertemplate\":\"Movie Series=%{customdata[1]}<br>Release Year=%{x}<br>Rating=%{y}<br>Title=%{customdata[0]}<extra></extra>\",\"legendgroup\":\"Die Hard\",\"line\":{\"color\":\"#B6E880\",\"dash\":\"solid\",\"shape\":\"linear\"},\"marker\":{\"symbol\":\"circle\"},\"mode\":\"lines+markers\",\"name\":\"Die Hard\",\"orientation\":\"v\",\"showlegend\":true,\"x\":[1988,1990,1995],\"xaxis\":\"x\",\"y\":[8.2,7.2,7.6],\"yaxis\":\"y\",\"type\":\"scatter\"},{\"customdata\":[[\"Dirty Dancing\",\"Dirty Dancing\"],[\"Dirty Dancing: Havana Nights\",\"Dirty Dancing\"]],\"hovertemplate\":\"Movie Series=%{customdata[1]}<br>Release Year=%{x}<br>Rating=%{y}<br>Title=%{customdata[0]}<extra></extra>\",\"legendgroup\":\"Dirty Dancing\",\"line\":{\"color\":\"#FF97FF\",\"dash\":\"solid\",\"shape\":\"linear\"},\"marker\":{\"symbol\":\"circle\"},\"mode\":\"lines+markers\",\"name\":\"Dirty Dancing\",\"orientation\":\"v\",\"showlegend\":true,\"x\":[1987,2004],\"xaxis\":\"x\",\"y\":[7.0,6.0],\"yaxis\":\"y\",\"type\":\"scatter\"},{\"customdata\":[[\"Divergent\",\"Divergent\"],[\"Insurgent\",\"Divergent\"],[\"Allegiant\",\"Divergent\"]],\"hovertemplate\":\"Movie Series=%{customdata[1]}<br>Release Year=%{x}<br>Rating=%{y}<br>Title=%{customdata[0]}<extra></extra>\",\"legendgroup\":\"Divergent\",\"line\":{\"color\":\"#FECB52\",\"dash\":\"solid\",\"shape\":\"linear\"},\"marker\":{\"symbol\":\"circle\"},\"mode\":\"lines+markers\",\"name\":\"Divergent\",\"orientation\":\"v\",\"showlegend\":true,\"x\":[2014,2015,2016],\"xaxis\":\"x\",\"y\":[6.7,6.2,5.7],\"yaxis\":\"y\",\"type\":\"scatter\"},{\"customdata\":[[\"Doctor Dolittle\",\"Doctor Dolittle\"],[\"Dr. Dolittle 2\",\"Doctor Dolittle\"]],\"hovertemplate\":\"Movie Series=%{customdata[1]}<br>Release Year=%{x}<br>Rating=%{y}<br>Title=%{customdata[0]}<extra></extra>\",\"legendgroup\":\"Doctor Dolittle\",\"line\":{\"color\":\"#636efa\",\"dash\":\"solid\",\"shape\":\"linear\"},\"marker\":{\"symbol\":\"circle\"},\"mode\":\"lines+markers\",\"name\":\"Doctor Dolittle\",\"orientation\":\"v\",\"showlegend\":true,\"x\":[1998,2001],\"xaxis\":\"x\",\"y\":[5.4,4.7],\"yaxis\":\"y\",\"type\":\"scatter\"},{\"customdata\":[[\"Dolphin Tale\",\"Dolphin Tale\"],[\"Dolphin Tale 2\",\"Dolphin Tale\"]],\"hovertemplate\":\"Movie Series=%{customdata[1]}<br>Release Year=%{x}<br>Rating=%{y}<br>Title=%{customdata[0]}<extra></extra>\",\"legendgroup\":\"Dolphin Tale\",\"line\":{\"color\":\"#EF553B\",\"dash\":\"solid\",\"shape\":\"linear\"},\"marker\":{\"symbol\":\"circle\"},\"mode\":\"lines+markers\",\"name\":\"Dolphin Tale\",\"orientation\":\"v\",\"showlegend\":true,\"x\":[2011,2014],\"xaxis\":\"x\",\"y\":[6.9,6.4],\"yaxis\":\"y\",\"type\":\"scatter\"},{\"customdata\":[[\"Dumb and Dumber\",\"Dumb and Dumber\"],[\"Dumb and Dumberer: When Harry Met Lloyd\",\"Dumb and Dumber\"],[\"Dumb and Dumber To\",\"Dumb and Dumber\"]],\"hovertemplate\":\"Movie Series=%{customdata[1]}<br>Release Year=%{x}<br>Rating=%{y}<br>Title=%{customdata[0]}<extra></extra>\",\"legendgroup\":\"Dumb and Dumber\",\"line\":{\"color\":\"#00cc96\",\"dash\":\"solid\",\"shape\":\"linear\"},\"marker\":{\"symbol\":\"circle\"},\"mode\":\"lines+markers\",\"name\":\"Dumb and Dumber\",\"orientation\":\"v\",\"showlegend\":true,\"x\":[1994,2003,2014],\"xaxis\":\"x\",\"y\":[7.3,3.4,5.6],\"yaxis\":\"y\",\"type\":\"scatter\"},{\"customdata\":[[\"Elizabeth\",\"Elizabeth\"],[\"Elizabeth: The Golden Age\",\"Elizabeth\"]],\"hovertemplate\":\"Movie Series=%{customdata[1]}<br>Release Year=%{x}<br>Rating=%{y}<br>Title=%{customdata[0]}<extra></extra>\",\"legendgroup\":\"Elizabeth\",\"line\":{\"color\":\"#ab63fa\",\"dash\":\"solid\",\"shape\":\"linear\"},\"marker\":{\"symbol\":\"circle\"},\"mode\":\"lines+markers\",\"name\":\"Elizabeth\",\"orientation\":\"v\",\"showlegend\":true,\"x\":[1998,2007],\"xaxis\":\"x\",\"y\":[7.4,6.8],\"yaxis\":\"y\",\"type\":\"scatter\"},{\"customdata\":[[\"Fantastic Four\",\"Fantastic Four\"],[\"Fantastic Four: Rise of the Silver Surfer\",\"Fantastic Four\"]],\"hovertemplate\":\"Movie Series=%{customdata[1]}<br>Release Year=%{x}<br>Rating=%{y}<br>Title=%{customdata[0]}<extra></extra>\",\"legendgroup\":\"Fantastic Four\",\"line\":{\"color\":\"#FFA15A\",\"dash\":\"solid\",\"shape\":\"linear\"},\"marker\":{\"symbol\":\"circle\"},\"mode\":\"lines+markers\",\"name\":\"Fantastic Four\",\"orientation\":\"v\",\"showlegend\":true,\"x\":[2005,2007],\"xaxis\":\"x\",\"y\":[5.7,5.6],\"yaxis\":\"y\",\"type\":\"scatter\"},{\"customdata\":[[\"Furious 6\",\"Fast & Furious\"],[\"Fast & Furious 7\",\"Fast & Furious\"]],\"hovertemplate\":\"Movie Series=%{customdata[1]}<br>Release Year=%{x}<br>Rating=%{y}<br>Title=%{customdata[0]}<extra></extra>\",\"legendgroup\":\"Fast & Furious\",\"line\":{\"color\":\"#19d3f3\",\"dash\":\"solid\",\"shape\":\"linear\"},\"marker\":{\"symbol\":\"circle\"},\"mode\":\"lines+markers\",\"name\":\"Fast & Furious\",\"orientation\":\"v\",\"showlegend\":true,\"x\":[2013,2015],\"xaxis\":\"x\",\"y\":[7.1,7.1],\"yaxis\":\"y\",\"type\":\"scatter\"},{\"customdata\":[[\"Father of the Bride\",\"Father of the Bride\"],[\"Father of the Bride Part II\",\"Father of the Bride\"]],\"hovertemplate\":\"Movie Series=%{customdata[1]}<br>Release Year=%{x}<br>Rating=%{y}<br>Title=%{customdata[0]}<extra></extra>\",\"legendgroup\":\"Father of the Bride\",\"line\":{\"color\":\"#FF6692\",\"dash\":\"solid\",\"shape\":\"linear\"},\"marker\":{\"symbol\":\"circle\"},\"mode\":\"lines+markers\",\"name\":\"Father of the Bride\",\"orientation\":\"v\",\"showlegend\":true,\"x\":[1991,1995],\"xaxis\":\"x\",\"y\":[6.5,6.0],\"yaxis\":\"y\",\"type\":\"scatter\"},{\"customdata\":[[\"Final Destination\",\"Final Destination\"],[\"Final Destination 2\",\"Final Destination\"],[\"Final Destination 3\",\"Final Destination\"],[\"The Final Destination\",\"Final Destination\"],[\"Final Destination 5\",\"Final Destination\"]],\"hovertemplate\":\"Movie Series=%{customdata[1]}<br>Release Year=%{x}<br>Rating=%{y}<br>Title=%{customdata[0]}<extra></extra>\",\"legendgroup\":\"Final Destination\",\"line\":{\"color\":\"#B6E880\",\"dash\":\"solid\",\"shape\":\"linear\"},\"marker\":{\"symbol\":\"circle\"},\"mode\":\"lines+markers\",\"name\":\"Final Destination\",\"orientation\":\"v\",\"showlegend\":true,\"x\":[2000,2003,2006,2009,2011],\"xaxis\":\"x\",\"y\":[6.7,6.2,5.8,5.2,5.8],\"yaxis\":\"y\",\"type\":\"scatter\"},{\"customdata\":[[\"Finding Nemo\",\"Finding Nemo\"],[\"Finding Dory\",\"Finding Nemo\"]],\"hovertemplate\":\"Movie Series=%{customdata[1]}<br>Release Year=%{x}<br>Rating=%{y}<br>Title=%{customdata[0]}<extra></extra>\",\"legendgroup\":\"Finding Nemo\",\"line\":{\"color\":\"#FF97FF\",\"dash\":\"solid\",\"shape\":\"linear\"},\"marker\":{\"symbol\":\"circle\"},\"mode\":\"lines+markers\",\"name\":\"Finding Nemo\",\"orientation\":\"v\",\"showlegend\":true,\"x\":[2003,2016],\"xaxis\":\"x\",\"y\":[8.1,7.3],\"yaxis\":\"y\",\"type\":\"scatter\"},{\"customdata\":[[\"Fletch\",\"Fletch\"],[\"Fletch Lives\",\"Fletch\"]],\"hovertemplate\":\"Movie Series=%{customdata[1]}<br>Release Year=%{x}<br>Rating=%{y}<br>Title=%{customdata[0]}<extra></extra>\",\"legendgroup\":\"Fletch\",\"line\":{\"color\":\"#FECB52\",\"dash\":\"solid\",\"shape\":\"linear\"},\"marker\":{\"symbol\":\"circle\"},\"mode\":\"lines+markers\",\"name\":\"Fletch\",\"orientation\":\"v\",\"showlegend\":true,\"x\":[1985,1989],\"xaxis\":\"x\",\"y\":[6.9,6.1],\"yaxis\":\"y\",\"type\":\"scatter\"},{\"customdata\":[[\"Fortress\",\"Fortress\"],[\"Fortress 2\",\"Fortress\"]],\"hovertemplate\":\"Movie Series=%{customdata[1]}<br>Release Year=%{x}<br>Rating=%{y}<br>Title=%{customdata[0]}<extra></extra>\",\"legendgroup\":\"Fortress\",\"line\":{\"color\":\"#636efa\",\"dash\":\"solid\",\"shape\":\"linear\"},\"marker\":{\"symbol\":\"circle\"},\"mode\":\"lines+markers\",\"name\":\"Fortress\",\"orientation\":\"v\",\"showlegend\":true,\"x\":[1992,2000],\"xaxis\":\"x\",\"y\":[5.9,4.6],\"yaxis\":\"y\",\"type\":\"scatter\"},{\"customdata\":[[\"Friday the 13th\",\"Friday the 13th\"],[\"Friday the 13th Part 2\",\"Friday the 13th\"],[\"Friday the 13th Part III\",\"Friday the 13th\"],[\"Friday the 13th: The Final Chapter\",\"Friday the 13th\"],[\"Friday the 13th: A New Beginning\",\"Friday the 13th\"],[\"Friday the 13th Part VI: Jason Lives\",\"Friday the 13th\"],[\"Friday the 13th Part VII: The New Blood\",\"Friday the 13th\"],[\"Friday the 13th Part VIII: Jason Takes Manhattan\",\"Friday the 13th\"],[\"Friday the 13th\",\"Friday the 13th\"]],\"hovertemplate\":\"Movie Series=%{customdata[1]}<br>Release Year=%{x}<br>Rating=%{y}<br>Title=%{customdata[0]}<extra></extra>\",\"legendgroup\":\"Friday the 13th\",\"line\":{\"color\":\"#EF553B\",\"dash\":\"solid\",\"shape\":\"linear\"},\"marker\":{\"symbol\":\"circle\"},\"mode\":\"lines+markers\",\"name\":\"Friday the 13th\",\"orientation\":\"v\",\"showlegend\":true,\"x\":[1980,1981,1982,1984,1985,1986,1988,1989,2009],\"xaxis\":\"x\",\"y\":[6.5,6.1,5.7,6.0,4.8,6.0,5.3,4.6,5.5],\"yaxis\":\"y\",\"type\":\"scatter\"},{\"customdata\":[[\"Fright Night\",\"Fright Night\"],[\"Fright Night Part 2\",\"Fright Night\"],[\"Fright Night\",\"Fright Night\"]],\"hovertemplate\":\"Movie Series=%{customdata[1]}<br>Release Year=%{x}<br>Rating=%{y}<br>Title=%{customdata[0]}<extra></extra>\",\"legendgroup\":\"Fright Night\",\"line\":{\"color\":\"#00cc96\",\"dash\":\"solid\",\"shape\":\"linear\"},\"marker\":{\"symbol\":\"circle\"},\"mode\":\"lines+markers\",\"name\":\"Fright Night\",\"orientation\":\"v\",\"showlegend\":true,\"x\":[1985,1988,2011],\"xaxis\":\"x\",\"y\":[7.1,5.9,6.3],\"yaxis\":\"y\",\"type\":\"scatter\"},{\"customdata\":[[\"G.I. Joe: The Rise of Cobra\",\"G.I. Joe\"],[\"G.I. Joe: Retaliation\",\"G.I. Joe\"]],\"hovertemplate\":\"Movie Series=%{customdata[1]}<br>Release Year=%{x}<br>Rating=%{y}<br>Title=%{customdata[0]}<extra></extra>\",\"legendgroup\":\"G.I. Joe\",\"line\":{\"color\":\"#ab63fa\",\"dash\":\"solid\",\"shape\":\"linear\"},\"marker\":{\"symbol\":\"circle\"},\"mode\":\"lines+markers\",\"name\":\"G.I. Joe\",\"orientation\":\"v\",\"showlegend\":true,\"x\":[2009,2013],\"xaxis\":\"x\",\"y\":[5.8,5.8],\"yaxis\":\"y\",\"type\":\"scatter\"},{\"customdata\":[[\"Garfield\",\"Garfield\"],[\"Garfield: A Tale of Two Kitties\",\"Garfield\"]],\"hovertemplate\":\"Movie Series=%{customdata[1]}<br>Release Year=%{x}<br>Rating=%{y}<br>Title=%{customdata[0]}<extra></extra>\",\"legendgroup\":\"Garfield\",\"line\":{\"color\":\"#FFA15A\",\"dash\":\"solid\",\"shape\":\"linear\"},\"marker\":{\"symbol\":\"circle\"},\"mode\":\"lines+markers\",\"name\":\"Garfield\",\"orientation\":\"v\",\"showlegend\":true,\"x\":[2004,2006],\"xaxis\":\"x\",\"y\":[5.0,5.0],\"yaxis\":\"y\",\"type\":\"scatter\"},{\"customdata\":[[\"Ghost Rider\",\"Ghost Rider\"],[\"Ghost Rider: Spirit of Vengeance\",\"Ghost Rider\"]],\"hovertemplate\":\"Movie Series=%{customdata[1]}<br>Release Year=%{x}<br>Rating=%{y}<br>Title=%{customdata[0]}<extra></extra>\",\"legendgroup\":\"Ghost Rider\",\"line\":{\"color\":\"#19d3f3\",\"dash\":\"solid\",\"shape\":\"linear\"},\"marker\":{\"symbol\":\"circle\"},\"mode\":\"lines+markers\",\"name\":\"Ghost Rider\",\"orientation\":\"v\",\"showlegend\":true,\"x\":[2007,2011],\"xaxis\":\"x\",\"y\":[5.2,4.3],\"yaxis\":\"y\",\"type\":\"scatter\"},{\"customdata\":[[\"Ghostbusters\",\"Ghostbusters\"],[\"Ghostbusters II\",\"Ghostbusters\"]],\"hovertemplate\":\"Movie Series=%{customdata[1]}<br>Release Year=%{x}<br>Rating=%{y}<br>Title=%{customdata[0]}<extra></extra>\",\"legendgroup\":\"Ghostbusters\",\"line\":{\"color\":\"#FF6692\",\"dash\":\"solid\",\"shape\":\"linear\"},\"marker\":{\"symbol\":\"circle\"},\"mode\":\"lines+markers\",\"name\":\"Ghostbusters\",\"orientation\":\"v\",\"showlegend\":true,\"x\":[1984,1989],\"xaxis\":\"x\",\"y\":[7.8,6.6],\"yaxis\":\"y\",\"type\":\"scatter\"},{\"customdata\":[[\"Goon\",\"Goon\"],[\"Goon: Last of the Enforcers\",\"Goon\"]],\"hovertemplate\":\"Movie Series=%{customdata[1]}<br>Release Year=%{x}<br>Rating=%{y}<br>Title=%{customdata[0]}<extra></extra>\",\"legendgroup\":\"Goon\",\"line\":{\"color\":\"#B6E880\",\"dash\":\"solid\",\"shape\":\"linear\"},\"marker\":{\"symbol\":\"circle\"},\"mode\":\"lines+markers\",\"name\":\"Goon\",\"orientation\":\"v\",\"showlegend\":true,\"x\":[2011,2017],\"xaxis\":\"x\",\"y\":[6.8,5.8],\"yaxis\":\"y\",\"type\":\"scatter\"},{\"customdata\":[[\"Grave Encounters\",\"Grave Encounters\"],[\"Grave Encounters 2\",\"Grave Encounters\"]],\"hovertemplate\":\"Movie Series=%{customdata[1]}<br>Release Year=%{x}<br>Rating=%{y}<br>Title=%{customdata[0]}<extra></extra>\",\"legendgroup\":\"Grave Encounters\",\"line\":{\"color\":\"#FF97FF\",\"dash\":\"solid\",\"shape\":\"linear\"},\"marker\":{\"symbol\":\"circle\"},\"mode\":\"lines+markers\",\"name\":\"Grave Encounters\",\"orientation\":\"v\",\"showlegend\":true,\"x\":[2011,2012],\"xaxis\":\"x\",\"y\":[6.1,5.1],\"yaxis\":\"y\",\"type\":\"scatter\"},{\"customdata\":[[\"Gremlins\",\"Gremlins\"],[\"Gremlins 2: The New Batch\",\"Gremlins\"]],\"hovertemplate\":\"Movie Series=%{customdata[1]}<br>Release Year=%{x}<br>Rating=%{y}<br>Title=%{customdata[0]}<extra></extra>\",\"legendgroup\":\"Gremlins\",\"line\":{\"color\":\"#FECB52\",\"dash\":\"solid\",\"shape\":\"linear\"},\"marker\":{\"symbol\":\"circle\"},\"mode\":\"lines+markers\",\"name\":\"Gremlins\",\"orientation\":\"v\",\"showlegend\":true,\"x\":[1984,1990],\"xaxis\":\"x\",\"y\":[7.3,6.4],\"yaxis\":\"y\",\"type\":\"scatter\"},{\"customdata\":[[\"Guardians of the Galaxy\",\"Guardians of the Galaxy\"],[\"Guardians of the Galaxy Vol. 2\",\"Guardians of the Galaxy\"],[\"Guardians of the Galaxy Vol. 3\",\"Guardians of the Galaxy\"]],\"hovertemplate\":\"Movie Series=%{customdata[1]}<br>Release Year=%{x}<br>Rating=%{y}<br>Title=%{customdata[0]}<extra></extra>\",\"legendgroup\":\"Guardians of the Galaxy\",\"line\":{\"color\":\"#636efa\",\"dash\":\"solid\",\"shape\":\"linear\"},\"marker\":{\"symbol\":\"circle\"},\"mode\":\"lines+markers\",\"name\":\"Guardians of the Galaxy\",\"orientation\":\"v\",\"showlegend\":true,\"x\":[2014,2017,2023],\"xaxis\":\"x\",\"y\":[8.0,7.6,7.9],\"yaxis\":\"y\",\"type\":\"scatter\"},{\"customdata\":[[\"Halloween\",\"Halloween\"],[\"Halloween II\",\"Halloween\"],[\"Halloween III: Season of the Witch\",\"Halloween\"],[\"Halloween 4: The Return of Michael Myers\",\"Halloween\"],[\"Halloween 5: The Revenge of Michael Myers\",\"Halloween\"],[\"Halloween: The Curse of Michael Myers\",\"Halloween\"],[\"Halloween H20: 20 Years Later\",\"Halloween\"],[\"Halloween: Resurrection\",\"Halloween\"],[\"Halloween\",\"Halloween\"],[\"Halloween II\",\"Halloween\"],[\"Halloween\",\"Halloween\"]],\"hovertemplate\":\"Movie Series=%{customdata[1]}<br>Release Year=%{x}<br>Rating=%{y}<br>Title=%{customdata[0]}<extra></extra>\",\"legendgroup\":\"Halloween\",\"line\":{\"color\":\"#EF553B\",\"dash\":\"solid\",\"shape\":\"linear\"},\"marker\":{\"symbol\":\"circle\"},\"mode\":\"lines+markers\",\"name\":\"Halloween\",\"orientation\":\"v\",\"showlegend\":true,\"x\":[1978,1981,1982,1988,1989,1995,1998,2002,2007,2009,2018],\"xaxis\":\"x\",\"y\":[7.8,6.5,4.9,5.9,5.2,4.9,5.8,4.0,6.1,4.9,6.6],\"yaxis\":\"y\",\"type\":\"scatter\"},{\"customdata\":[[\"Hannibal\",\"Hannibal\"],[\"Hannibal Rising\",\"Hannibal\"]],\"hovertemplate\":\"Movie Series=%{customdata[1]}<br>Release Year=%{x}<br>Rating=%{y}<br>Title=%{customdata[0]}<extra></extra>\",\"legendgroup\":\"Hannibal\",\"line\":{\"color\":\"#00cc96\",\"dash\":\"solid\",\"shape\":\"linear\"},\"marker\":{\"symbol\":\"circle\"},\"mode\":\"lines+markers\",\"name\":\"Hannibal\",\"orientation\":\"v\",\"showlegend\":true,\"x\":[2001,2007],\"xaxis\":\"x\",\"y\":[6.8,6.2],\"yaxis\":\"y\",\"type\":\"scatter\"},{\"customdata\":[[\"Happy Death Day\",\"Happy Death Day\"],[\"Happy Death Day 2U\",\"Happy Death Day\"]],\"hovertemplate\":\"Movie Series=%{customdata[1]}<br>Release Year=%{x}<br>Rating=%{y}<br>Title=%{customdata[0]}<extra></extra>\",\"legendgroup\":\"Happy Death Day\",\"line\":{\"color\":\"#ab63fa\",\"dash\":\"solid\",\"shape\":\"linear\"},\"marker\":{\"symbol\":\"circle\"},\"mode\":\"lines+markers\",\"name\":\"Happy Death Day\",\"orientation\":\"v\",\"showlegend\":true,\"x\":[2017,2019],\"xaxis\":\"x\",\"y\":[6.5,6.2],\"yaxis\":\"y\",\"type\":\"scatter\"},{\"customdata\":[[\"Happy Feet\",\"Happy Feet\"],[\"Happy Feet Two\",\"Happy Feet\"]],\"hovertemplate\":\"Movie Series=%{customdata[1]}<br>Release Year=%{x}<br>Rating=%{y}<br>Title=%{customdata[0]}<extra></extra>\",\"legendgroup\":\"Happy Feet\",\"line\":{\"color\":\"#FFA15A\",\"dash\":\"solid\",\"shape\":\"linear\"},\"marker\":{\"symbol\":\"circle\"},\"mode\":\"lines+markers\",\"name\":\"Happy Feet\",\"orientation\":\"v\",\"showlegend\":true,\"x\":[2006,2011],\"xaxis\":\"x\",\"y\":[6.4,5.9],\"yaxis\":\"y\",\"type\":\"scatter\"},{\"customdata\":[[\"Harold & Kumar Go to White Castle\",\"Harold & Kumar\"],[\"Harold & Kumar Escape from Guantanamo Bay\",\"Harold & Kumar\"],[\"A Very Harold & Kumar 3D Christmas\",\"Harold & Kumar\"]],\"hovertemplate\":\"Movie Series=%{customdata[1]}<br>Release Year=%{x}<br>Rating=%{y}<br>Title=%{customdata[0]}<extra></extra>\",\"legendgroup\":\"Harold & Kumar\",\"line\":{\"color\":\"#19d3f3\",\"dash\":\"solid\",\"shape\":\"linear\"},\"marker\":{\"symbol\":\"circle\"},\"mode\":\"lines+markers\",\"name\":\"Harold & Kumar\",\"orientation\":\"v\",\"showlegend\":true,\"x\":[2004,2008,2011],\"xaxis\":\"x\",\"y\":[7.1,6.6,6.3],\"yaxis\":\"y\",\"type\":\"scatter\"},{\"customdata\":[[\"Harry Potter and the Sorcerer's Stone\",\"Harry Potter\"],[\"Harry Potter and the Chamber of Secrets\",\"Harry Potter\"],[\"Harry Potter and the Prisoner of Azkaban\",\"Harry Potter\"],[\"Harry Potter and the Goblet of Fire\",\"Harry Potter\"],[\"Harry Potter and the Order of the Phoenix\",\"Harry Potter\"],[\"Harry Potter and the Half-Blood Prince\",\"Harry Potter\"],[\"Harry Potter and the Deathly Hallows: Part 1\",\"Harry Potter\"],[\"Harry Potter and the Deathly Hallows: Part 2\",\"Harry Potter\"]],\"hovertemplate\":\"Movie Series=%{customdata[1]}<br>Release Year=%{x}<br>Rating=%{y}<br>Title=%{customdata[0]}<extra></extra>\",\"legendgroup\":\"Harry Potter\",\"line\":{\"color\":\"#FF6692\",\"dash\":\"solid\",\"shape\":\"linear\"},\"marker\":{\"symbol\":\"circle\"},\"mode\":\"lines+markers\",\"name\":\"Harry Potter\",\"orientation\":\"v\",\"showlegend\":true,\"x\":[2001,2002,2004,2005,2007,2009,2010,2011],\"xaxis\":\"x\",\"y\":[7.6,7.4,7.9,7.7,7.5,7.6,7.7,8.1],\"yaxis\":\"y\",\"type\":\"scatter\"},{\"customdata\":[[\"Hellboy\",\"Hellboy\"],[\"Hellboy II: The Golden Army\",\"Hellboy\"]],\"hovertemplate\":\"Movie Series=%{customdata[1]}<br>Release Year=%{x}<br>Rating=%{y}<br>Title=%{customdata[0]}<extra></extra>\",\"legendgroup\":\"Hellboy\",\"line\":{\"color\":\"#B6E880\",\"dash\":\"solid\",\"shape\":\"linear\"},\"marker\":{\"symbol\":\"circle\"},\"mode\":\"lines+markers\",\"name\":\"Hellboy\",\"orientation\":\"v\",\"showlegend\":true,\"x\":[2004,2008],\"xaxis\":\"x\",\"y\":[6.8,7.0],\"yaxis\":\"y\",\"type\":\"scatter\"},{\"customdata\":[[\"Hellraiser\",\"Hellraiser\"],[\"Hellraiser III: Hell on Earth\",\"Hellraiser\"],[\"Hellraiser: Bloodline\",\"Hellraiser\"],[\"Hellraiser: Revelations\",\"Hellraiser\"]],\"hovertemplate\":\"Movie Series=%{customdata[1]}<br>Release Year=%{x}<br>Rating=%{y}<br>Title=%{customdata[0]}<extra></extra>\",\"legendgroup\":\"Hellraiser\",\"line\":{\"color\":\"#FF97FF\",\"dash\":\"solid\",\"shape\":\"linear\"},\"marker\":{\"symbol\":\"circle\"},\"mode\":\"lines+markers\",\"name\":\"Hellraiser\",\"orientation\":\"v\",\"showlegend\":true,\"x\":[1987,1992,1996,2011],\"xaxis\":\"x\",\"y\":[7.0,5.5,5.2,2.7],\"yaxis\":\"y\",\"type\":\"scatter\"},{\"customdata\":[[\"Home Alone\",\"Home Alone\"],[\"Home Alone 2: Lost in New York\",\"Home Alone\"],[\"Home Alone 3\",\"Home Alone\"]],\"hovertemplate\":\"Movie Series=%{customdata[1]}<br>Release Year=%{x}<br>Rating=%{y}<br>Title=%{customdata[0]}<extra></extra>\",\"legendgroup\":\"Home Alone\",\"line\":{\"color\":\"#FECB52\",\"dash\":\"solid\",\"shape\":\"linear\"},\"marker\":{\"symbol\":\"circle\"},\"mode\":\"lines+markers\",\"name\":\"Home Alone\",\"orientation\":\"v\",\"showlegend\":true,\"x\":[1990,1992,1997],\"xaxis\":\"x\",\"y\":[7.6,6.8,4.5],\"yaxis\":\"y\",\"type\":\"scatter\"},{\"customdata\":[[\"Honey\",\"Honey\"],[\"Honey 2\",\"Honey\"]],\"hovertemplate\":\"Movie Series=%{customdata[1]}<br>Release Year=%{x}<br>Rating=%{y}<br>Title=%{customdata[0]}<extra></extra>\",\"legendgroup\":\"Honey\",\"line\":{\"color\":\"#636efa\",\"dash\":\"solid\",\"shape\":\"linear\"},\"marker\":{\"symbol\":\"circle\"},\"mode\":\"lines+markers\",\"name\":\"Honey\",\"orientation\":\"v\",\"showlegend\":true,\"x\":[2003,2011],\"xaxis\":\"x\",\"y\":[5.4,5.3],\"yaxis\":\"y\",\"type\":\"scatter\"},{\"customdata\":[[\"Honey, I Shrunk the Kids\",\"Honey,  Shrunk the Kids\"],[\"Honey, I Blew Up the Kid\",\"Honey,  Shrunk the Kids\"]],\"hovertemplate\":\"Movie Series=%{customdata[1]}<br>Release Year=%{x}<br>Rating=%{y}<br>Title=%{customdata[0]}<extra></extra>\",\"legendgroup\":\"Honey,  Shrunk the Kids\",\"line\":{\"color\":\"#EF553B\",\"dash\":\"solid\",\"shape\":\"linear\"},\"marker\":{\"symbol\":\"circle\"},\"mode\":\"lines+markers\",\"name\":\"Honey,  Shrunk the Kids\",\"orientation\":\"v\",\"showlegend\":true,\"x\":[1989,1992],\"xaxis\":\"x\",\"y\":[6.3,4.8],\"yaxis\":\"y\",\"type\":\"scatter\"},{\"customdata\":[[\"Horrible Bosses\",\"Horrible Bosses\"],[\"Horrible Bosses 2\",\"Horrible Bosses\"]],\"hovertemplate\":\"Movie Series=%{customdata[1]}<br>Release Year=%{x}<br>Rating=%{y}<br>Title=%{customdata[0]}<extra></extra>\",\"legendgroup\":\"Horrible Bosses\",\"line\":{\"color\":\"#00cc96\",\"dash\":\"solid\",\"shape\":\"linear\"},\"marker\":{\"symbol\":\"circle\"},\"mode\":\"lines+markers\",\"name\":\"Horrible Bosses\",\"orientation\":\"v\",\"showlegend\":true,\"x\":[2011,2014],\"xaxis\":\"x\",\"y\":[6.9,6.3],\"yaxis\":\"y\",\"type\":\"scatter\"},{\"customdata\":[[\"Hostel\",\"Hostel\"],[\"Hostel: Part II\",\"Hostel\"]],\"hovertemplate\":\"Movie Series=%{customdata[1]}<br>Release Year=%{x}<br>Rating=%{y}<br>Title=%{customdata[0]}<extra></extra>\",\"legendgroup\":\"Hostel\",\"line\":{\"color\":\"#ab63fa\",\"dash\":\"solid\",\"shape\":\"linear\"},\"marker\":{\"symbol\":\"circle\"},\"mode\":\"lines+markers\",\"name\":\"Hostel\",\"orientation\":\"v\",\"showlegend\":true,\"x\":[2005,2007],\"xaxis\":\"x\",\"y\":[5.9,5.5],\"yaxis\":\"y\",\"type\":\"scatter\"},{\"customdata\":[[\"Hot Shots!\",\"Hot Shots!\"],[\"Hot Shots! Part Deux\",\"Hot Shots!\"]],\"hovertemplate\":\"Movie Series=%{customdata[1]}<br>Release Year=%{x}<br>Rating=%{y}<br>Title=%{customdata[0]}<extra></extra>\",\"legendgroup\":\"Hot Shots!\",\"line\":{\"color\":\"#FFA15A\",\"dash\":\"solid\",\"shape\":\"linear\"},\"marker\":{\"symbol\":\"circle\"},\"mode\":\"lines+markers\",\"name\":\"Hot Shots!\",\"orientation\":\"v\",\"showlegend\":true,\"x\":[1991,1993],\"xaxis\":\"x\",\"y\":[6.8,6.6],\"yaxis\":\"y\",\"type\":\"scatter\"},{\"customdata\":[[\"Hot Tub Time Machine\",\"Hot Tub Time Machine\"],[\"Hot Tub Time Machine 2\",\"Hot Tub Time Machine\"]],\"hovertemplate\":\"Movie Series=%{customdata[1]}<br>Release Year=%{x}<br>Rating=%{y}<br>Title=%{customdata[0]}<extra></extra>\",\"legendgroup\":\"Hot Tub Time Machine\",\"line\":{\"color\":\"#19d3f3\",\"dash\":\"solid\",\"shape\":\"linear\"},\"marker\":{\"symbol\":\"circle\"},\"mode\":\"lines+markers\",\"name\":\"Hot Tub Time Machine\",\"orientation\":\"v\",\"showlegend\":true,\"x\":[2010,2015],\"xaxis\":\"x\",\"y\":[6.4,5.1],\"yaxis\":\"y\",\"type\":\"scatter\"},{\"customdata\":[[\"Hotel Transylvania\",\"Hotel Transylvania\"],[\"Hotel Transylvania 2\",\"Hotel Transylvania\"],[\"Hotel Transylvania 3: Summer Vacation\",\"Hotel Transylvania\"]],\"hovertemplate\":\"Movie Series=%{customdata[1]}<br>Release Year=%{x}<br>Rating=%{y}<br>Title=%{customdata[0]}<extra></extra>\",\"legendgroup\":\"Hotel Transylvania\",\"line\":{\"color\":\"#FF6692\",\"dash\":\"solid\",\"shape\":\"linear\"},\"marker\":{\"symbol\":\"circle\"},\"mode\":\"lines+markers\",\"name\":\"Hotel Transylvania\",\"orientation\":\"v\",\"showlegend\":true,\"x\":[2012,2015,2018],\"xaxis\":\"x\",\"y\":[7.1,6.7,6.3],\"yaxis\":\"y\",\"type\":\"scatter\"},{\"customdata\":[[\"How to Train Your Dragon\",\"How to Train Your Dragon\"],[\"How to Train Your Dragon 2\",\"How to Train Your Dragon\"],[\"How to Train Your Dragon: The Hidden World\",\"How to Train Your Dragon\"]],\"hovertemplate\":\"Movie Series=%{customdata[1]}<br>Release Year=%{x}<br>Rating=%{y}<br>Title=%{customdata[0]}<extra></extra>\",\"legendgroup\":\"How to Train Your Dragon\",\"line\":{\"color\":\"#B6E880\",\"dash\":\"solid\",\"shape\":\"linear\"},\"marker\":{\"symbol\":\"circle\"},\"mode\":\"lines+markers\",\"name\":\"How to Train Your Dragon\",\"orientation\":\"v\",\"showlegend\":true,\"x\":[2010,2014,2019],\"xaxis\":\"x\",\"y\":[8.1,7.8,7.5],\"yaxis\":\"y\",\"type\":\"scatter\"},{\"customdata\":[[\"I Know What You Did Last Summer\",\"I Know What You Did Last Summer\"],[\"I Still Know What You Did Last Summer\",\"I Know What You Did Last Summer\"]],\"hovertemplate\":\"Movie Series=%{customdata[1]}<br>Release Year=%{x}<br>Rating=%{y}<br>Title=%{customdata[0]}<extra></extra>\",\"legendgroup\":\"I Know What You Did Last Summer\",\"line\":{\"color\":\"#FF97FF\",\"dash\":\"solid\",\"shape\":\"linear\"},\"marker\":{\"symbol\":\"circle\"},\"mode\":\"lines+markers\",\"name\":\"I Know What You Did Last Summer\",\"orientation\":\"v\",\"showlegend\":true,\"x\":[1997,1998],\"xaxis\":\"x\",\"y\":[5.7,4.7],\"yaxis\":\"y\",\"type\":\"scatter\"},{\"customdata\":[[\"I Spit on Your Grave\",\"I Spit on Your Grave\"],[\"I Spit on Your Grave 2\",\"I Spit on Your Grave\"]],\"hovertemplate\":\"Movie Series=%{customdata[1]}<br>Release Year=%{x}<br>Rating=%{y}<br>Title=%{customdata[0]}<extra></extra>\",\"legendgroup\":\"I Spit on Your Grave\",\"line\":{\"color\":\"#FECB52\",\"dash\":\"solid\",\"shape\":\"linear\"},\"marker\":{\"symbol\":\"circle\"},\"mode\":\"lines+markers\",\"name\":\"I Spit on Your Grave\",\"orientation\":\"v\",\"showlegend\":true,\"x\":[2010,2013],\"xaxis\":\"x\",\"y\":[6.3,5.7],\"yaxis\":\"y\",\"type\":\"scatter\"},{\"customdata\":[[\"Ice Age\",\"Ice Age\"],[\"Ice Age: The Meltdown\",\"Ice Age\"],[\"Ice Age: Dawn of the Dinosaurs\",\"Ice Age\"],[\"Ice Age: Continental Drift\",\"Ice Age\"]],\"hovertemplate\":\"Movie Series=%{customdata[1]}<br>Release Year=%{x}<br>Rating=%{y}<br>Title=%{customdata[0]}<extra></extra>\",\"legendgroup\":\"Ice Age\",\"line\":{\"color\":\"#636efa\",\"dash\":\"solid\",\"shape\":\"linear\"},\"marker\":{\"symbol\":\"circle\"},\"mode\":\"lines+markers\",\"name\":\"Ice Age\",\"orientation\":\"v\",\"showlegend\":true,\"x\":[2002,2006,2009,2012],\"xaxis\":\"x\",\"y\":[7.5,6.8,6.9,6.6],\"yaxis\":\"y\",\"type\":\"scatter\"},{\"customdata\":[[\"In the Name of the King: A Dungeon Siege Tale\",\"In the Name of the King\"],[\"In the Name of the King: Two Worlds\",\"In the Name of the King\"],[\"In the Name of the King: The Last Mission\",\"In the Name of the King\"]],\"hovertemplate\":\"Movie Series=%{customdata[1]}<br>Release Year=%{x}<br>Rating=%{y}<br>Title=%{customdata[0]}<extra></extra>\",\"legendgroup\":\"In the Name of the King\",\"line\":{\"color\":\"#EF553B\",\"dash\":\"solid\",\"shape\":\"linear\"},\"marker\":{\"symbol\":\"circle\"},\"mode\":\"lines+markers\",\"name\":\"In the Name of the King\",\"orientation\":\"v\",\"showlegend\":true,\"x\":[2007,2011,2014],\"xaxis\":\"x\",\"y\":[3.8,3.1,3.1],\"yaxis\":\"y\",\"type\":\"scatter\"},{\"customdata\":[[\"Independence Day\",\"Independence Day\"],[\"Independence Day: Resurgence\",\"Independence Day\"]],\"hovertemplate\":\"Movie Series=%{customdata[1]}<br>Release Year=%{x}<br>Rating=%{y}<br>Title=%{customdata[0]}<extra></extra>\",\"legendgroup\":\"Independence Day\",\"line\":{\"color\":\"#00cc96\",\"dash\":\"solid\",\"shape\":\"linear\"},\"marker\":{\"symbol\":\"circle\"},\"mode\":\"lines+markers\",\"name\":\"Independence Day\",\"orientation\":\"v\",\"showlegend\":true,\"x\":[1996,2016],\"xaxis\":\"x\",\"y\":[7.0,5.2],\"yaxis\":\"y\",\"type\":\"scatter\"},{\"customdata\":[[\"Indiana Jones and the Temple of Doom\",\"Indiana Jones\"],[\"Indiana Jones and the Last Crusade\",\"Indiana Jones\"],[\"Indiana Jones and the Kingdom of the Crystal Skull\",\"Indiana Jones\"]],\"hovertemplate\":\"Movie Series=%{customdata[1]}<br>Release Year=%{x}<br>Rating=%{y}<br>Title=%{customdata[0]}<extra></extra>\",\"legendgroup\":\"Indiana Jones\",\"line\":{\"color\":\"#ab63fa\",\"dash\":\"solid\",\"shape\":\"linear\"},\"marker\":{\"symbol\":\"circle\"},\"mode\":\"lines+markers\",\"name\":\"Indiana Jones\",\"orientation\":\"v\",\"showlegend\":true,\"x\":[1984,1989,2008],\"xaxis\":\"x\",\"y\":[7.6,8.2,6.1],\"yaxis\":\"y\",\"type\":\"scatter\"},{\"customdata\":[[\"Insidious\",\"Insidious\"],[\"Insidious: Chapter 2\",\"Insidious\"],[\"Insidious: Chapter 3\",\"Insidious\"]],\"hovertemplate\":\"Movie Series=%{customdata[1]}<br>Release Year=%{x}<br>Rating=%{y}<br>Title=%{customdata[0]}<extra></extra>\",\"legendgroup\":\"Insidious\",\"line\":{\"color\":\"#FFA15A\",\"dash\":\"solid\",\"shape\":\"linear\"},\"marker\":{\"symbol\":\"circle\"},\"mode\":\"lines+markers\",\"name\":\"Insidious\",\"orientation\":\"v\",\"showlegend\":true,\"x\":[2010,2013,2015],\"xaxis\":\"x\",\"y\":[6.8,6.6,6.1],\"yaxis\":\"y\",\"type\":\"scatter\"},{\"customdata\":[[\"Iron Man\",\"Iron Man\"],[\"Iron Man 2\",\"Iron Man\"],[\"Iron Man Three\",\"Iron Man\"]],\"hovertemplate\":\"Movie Series=%{customdata[1]}<br>Release Year=%{x}<br>Rating=%{y}<br>Title=%{customdata[0]}<extra></extra>\",\"legendgroup\":\"Iron Man\",\"line\":{\"color\":\"#19d3f3\",\"dash\":\"solid\",\"shape\":\"linear\"},\"marker\":{\"symbol\":\"circle\"},\"mode\":\"lines+markers\",\"name\":\"Iron Man\",\"orientation\":\"v\",\"showlegend\":true,\"x\":[2008,2010,2013],\"xaxis\":\"x\",\"y\":[7.9,7.0,7.2],\"yaxis\":\"y\",\"type\":\"scatter\"},{\"customdata\":[[\"It\",\"It\"],[\"It Chapter Two\",\"It\"]],\"hovertemplate\":\"Movie Series=%{customdata[1]}<br>Release Year=%{x}<br>Rating=%{y}<br>Title=%{customdata[0]}<extra></extra>\",\"legendgroup\":\"It\",\"line\":{\"color\":\"#FF6692\",\"dash\":\"solid\",\"shape\":\"linear\"},\"marker\":{\"symbol\":\"circle\"},\"mode\":\"lines+markers\",\"name\":\"It\",\"orientation\":\"v\",\"showlegend\":true,\"x\":[2017,2019],\"xaxis\":\"x\",\"y\":[7.3,6.6],\"yaxis\":\"y\",\"type\":\"scatter\"},{\"customdata\":[[\"Jeepers Creepers\",\"Jeepers Creepers\"],[\"Jeepers Creepers 2\",\"Jeepers Creepers\"],[\"Jeepers Creepers 3\",\"Jeepers Creepers\"]],\"hovertemplate\":\"Movie Series=%{customdata[1]}<br>Release Year=%{x}<br>Rating=%{y}<br>Title=%{customdata[0]}<extra></extra>\",\"legendgroup\":\"Jeepers Creepers\",\"line\":{\"color\":\"#B6E880\",\"dash\":\"solid\",\"shape\":\"linear\"},\"marker\":{\"symbol\":\"circle\"},\"mode\":\"lines+markers\",\"name\":\"Jeepers Creepers\",\"orientation\":\"v\",\"showlegend\":true,\"x\":[2001,2003,2017],\"xaxis\":\"x\",\"y\":[6.2,5.6,3.9],\"yaxis\":\"y\",\"type\":\"scatter\"},{\"customdata\":[[\"John Wick\",\"John Wick\"],[\"John Wick: Chapter 2\",\"John Wick\"],[\"John Wick: Chapter 3 - Parabellum\",\"John Wick\"],[\"John Wick: Chapter 4\",\"John Wick\"]],\"hovertemplate\":\"Movie Series=%{customdata[1]}<br>Release Year=%{x}<br>Rating=%{y}<br>Title=%{customdata[0]}<extra></extra>\",\"legendgroup\":\"John Wick\",\"line\":{\"color\":\"#FF97FF\",\"dash\":\"solid\",\"shape\":\"linear\"},\"marker\":{\"symbol\":\"circle\"},\"mode\":\"lines+markers\",\"name\":\"John Wick\",\"orientation\":\"v\",\"showlegend\":true,\"x\":[2014,2017,2019,2022],\"xaxis\":\"x\",\"y\":[7.4,7.5,7.5,7.7],\"yaxis\":\"y\",\"type\":\"scatter\"},{\"customdata\":[[\"Johnny English\",\"Johnny English\"],[\"Johnny English Reborn\",\"Johnny English\"],[\"Johnny English Strikes Again\",\"Johnny English\"]],\"hovertemplate\":\"Movie Series=%{customdata[1]}<br>Release Year=%{x}<br>Rating=%{y}<br>Title=%{customdata[0]}<extra></extra>\",\"legendgroup\":\"Johnny English\",\"line\":{\"color\":\"#FECB52\",\"dash\":\"solid\",\"shape\":\"linear\"},\"marker\":{\"symbol\":\"circle\"},\"mode\":\"lines+markers\",\"name\":\"Johnny English\",\"orientation\":\"v\",\"showlegend\":true,\"x\":[2003,2011,2018],\"xaxis\":\"x\",\"y\":[6.2,6.3,6.2],\"yaxis\":\"y\",\"type\":\"scatter\"},{\"customdata\":[[\"Jurassic Park\",\"Jurassic Park\"],[\"The Lost World: Jurassic Park\",\"Jurassic Park\"],[\"Jurassic Park III\",\"Jurassic Park\"],[\"Jurassic World\",\"Jurassic Park\"]],\"hovertemplate\":\"Movie Series=%{customdata[1]}<br>Release Year=%{x}<br>Rating=%{y}<br>Title=%{customdata[0]}<extra></extra>\",\"legendgroup\":\"Jurassic Park\",\"line\":{\"color\":\"#636efa\",\"dash\":\"solid\",\"shape\":\"linear\"},\"marker\":{\"symbol\":\"circle\"},\"mode\":\"lines+markers\",\"name\":\"Jurassic Park\",\"orientation\":\"v\",\"showlegend\":true,\"x\":[1993,1997,2001,2015],\"xaxis\":\"x\",\"y\":[8.1,6.6,5.9,7.0],\"yaxis\":\"y\",\"type\":\"scatter\"},{\"customdata\":[[\"Kick-Ass\",\"Kick-Ass\"],[\"Kick-Ass 2\",\"Kick-Ass\"]],\"hovertemplate\":\"Movie Series=%{customdata[1]}<br>Release Year=%{x}<br>Rating=%{y}<br>Title=%{customdata[0]}<extra></extra>\",\"legendgroup\":\"Kick-Ass\",\"line\":{\"color\":\"#EF553B\",\"dash\":\"solid\",\"shape\":\"linear\"},\"marker\":{\"symbol\":\"circle\"},\"mode\":\"lines+markers\",\"name\":\"Kick-Ass\",\"orientation\":\"v\",\"showlegend\":true,\"x\":[2010,2013],\"xaxis\":\"x\",\"y\":[7.6,6.5],\"yaxis\":\"y\",\"type\":\"scatter\"},{\"customdata\":[[\"Kill Bill: Vol. 1\",\"Kill Bill\"],[\"Kill Bill: Vol. 2\",\"Kill Bill\"]],\"hovertemplate\":\"Movie Series=%{customdata[1]}<br>Release Year=%{x}<br>Rating=%{y}<br>Title=%{customdata[0]}<extra></extra>\",\"legendgroup\":\"Kill Bill\",\"line\":{\"color\":\"#00cc96\",\"dash\":\"solid\",\"shape\":\"linear\"},\"marker\":{\"symbol\":\"circle\"},\"mode\":\"lines+markers\",\"name\":\"Kill Bill\",\"orientation\":\"v\",\"showlegend\":true,\"x\":[2003,2004],\"xaxis\":\"x\",\"y\":[8.1,8.0],\"yaxis\":\"y\",\"type\":\"scatter\"},{\"customdata\":[[\"Kingsman: The Secret Service\",\"Kingsman\"],[\"Kingsman: The Golden Circle\",\"Kingsman\"]],\"hovertemplate\":\"Movie Series=%{customdata[1]}<br>Release Year=%{x}<br>Rating=%{y}<br>Title=%{customdata[0]}<extra></extra>\",\"legendgroup\":\"Kingsman\",\"line\":{\"color\":\"#ab63fa\",\"dash\":\"solid\",\"shape\":\"linear\"},\"marker\":{\"symbol\":\"circle\"},\"mode\":\"lines+markers\",\"name\":\"Kingsman\",\"orientation\":\"v\",\"showlegend\":true,\"x\":[2014,2017],\"xaxis\":\"x\",\"y\":[7.7,6.7],\"yaxis\":\"y\",\"type\":\"scatter\"},{\"customdata\":[[\"Kung Fu Panda\",\"Kung Fu Panda\"],[\"Kung Fu Panda 2\",\"Kung Fu Panda\"]],\"hovertemplate\":\"Movie Series=%{customdata[1]}<br>Release Year=%{x}<br>Rating=%{y}<br>Title=%{customdata[0]}<extra></extra>\",\"legendgroup\":\"Kung Fu Panda\",\"line\":{\"color\":\"#FFA15A\",\"dash\":\"solid\",\"shape\":\"linear\"},\"marker\":{\"symbol\":\"circle\"},\"mode\":\"lines+markers\",\"name\":\"Kung Fu Panda\",\"orientation\":\"v\",\"showlegend\":true,\"x\":[2008,2011],\"xaxis\":\"x\",\"y\":[7.5,7.2],\"yaxis\":\"y\",\"type\":\"scatter\"},{\"customdata\":[[\"Lara Croft: Tomb Raider\",\"Lara Croft\"],[\"Lara Croft Tomb Raider: The Cradle of Life\",\"Lara Croft\"]],\"hovertemplate\":\"Movie Series=%{customdata[1]}<br>Release Year=%{x}<br>Rating=%{y}<br>Title=%{customdata[0]}<extra></extra>\",\"legendgroup\":\"Lara Croft\",\"line\":{\"color\":\"#19d3f3\",\"dash\":\"solid\",\"shape\":\"linear\"},\"marker\":{\"symbol\":\"circle\"},\"mode\":\"lines+markers\",\"name\":\"Lara Croft\",\"orientation\":\"v\",\"showlegend\":true,\"x\":[2001,2003],\"xaxis\":\"x\",\"y\":[5.8,5.5],\"yaxis\":\"y\",\"type\":\"scatter\"},{\"customdata\":[[\"The Lawnmower Man\",\"Lawnmower Man\"],[\"Lawnmower Man 2: Beyond Cyberspace\",\"Lawnmower Man\"]],\"hovertemplate\":\"Movie Series=%{customdata[1]}<br>Release Year=%{x}<br>Rating=%{y}<br>Title=%{customdata[0]}<extra></extra>\",\"legendgroup\":\"Lawnmower Man\",\"line\":{\"color\":\"#FF6692\",\"dash\":\"solid\",\"shape\":\"linear\"},\"marker\":{\"symbol\":\"circle\"},\"mode\":\"lines+markers\",\"name\":\"Lawnmower Man\",\"orientation\":\"v\",\"showlegend\":true,\"x\":[1992,1996],\"xaxis\":\"x\",\"y\":[5.5,2.5],\"yaxis\":\"y\",\"type\":\"scatter\"},{\"customdata\":[[\"Legally Blonde\",\"Legally Blonde\"],[\"Legally Blonde 2: Red, White & Blonde\",\"Legally Blonde\"]],\"hovertemplate\":\"Movie Series=%{customdata[1]}<br>Release Year=%{x}<br>Rating=%{y}<br>Title=%{customdata[0]}<extra></extra>\",\"legendgroup\":\"Legally Blonde\",\"line\":{\"color\":\"#B6E880\",\"dash\":\"solid\",\"shape\":\"linear\"},\"marker\":{\"symbol\":\"circle\"},\"mode\":\"lines+markers\",\"name\":\"Legally Blonde\",\"orientation\":\"v\",\"showlegend\":true,\"x\":[2001,2003],\"xaxis\":\"x\",\"y\":[6.3,4.8],\"yaxis\":\"y\",\"type\":\"scatter\"},{\"customdata\":[[\"Lethal Weapon\",\"Lethal Weapon\"],[\"Lethal Weapon 2\",\"Lethal Weapon\"],[\"Lethal Weapon 3\",\"Lethal Weapon\"],[\"Lethal Weapon 4\",\"Lethal Weapon\"]],\"hovertemplate\":\"Movie Series=%{customdata[1]}<br>Release Year=%{x}<br>Rating=%{y}<br>Title=%{customdata[0]}<extra></extra>\",\"legendgroup\":\"Lethal Weapon\",\"line\":{\"color\":\"#FF97FF\",\"dash\":\"solid\",\"shape\":\"linear\"},\"marker\":{\"symbol\":\"circle\"},\"mode\":\"lines+markers\",\"name\":\"Lethal Weapon\",\"orientation\":\"v\",\"showlegend\":true,\"x\":[1987,1989,1992,1998],\"xaxis\":\"x\",\"y\":[7.6,7.2,6.7,6.6],\"yaxis\":\"y\",\"type\":\"scatter\"},{\"customdata\":[[\"Look Who's Talking\",\"Look Who's Talking\"],[\"Look Who's Talking Too\",\"Look Who's Talking\"],[\"Look Who's Talking Now\",\"Look Who's Talking\"]],\"hovertemplate\":\"Movie Series=%{customdata[1]}<br>Release Year=%{x}<br>Rating=%{y}<br>Title=%{customdata[0]}<extra></extra>\",\"legendgroup\":\"Look Who's Talking\",\"line\":{\"color\":\"#FECB52\",\"dash\":\"solid\",\"shape\":\"linear\"},\"marker\":{\"symbol\":\"circle\"},\"mode\":\"lines+markers\",\"name\":\"Look Who's Talking\",\"orientation\":\"v\",\"showlegend\":true,\"x\":[1989,1990,1993],\"xaxis\":\"x\",\"y\":[5.9,4.7,4.4],\"yaxis\":\"y\",\"type\":\"scatter\"},{\"customdata\":[[\"Mad Max\",\"Mad Max\"],[\"Mad Max 2\",\"Mad Max\"],[\"Mad Max Beyond Thunderdome\",\"Mad Max\"]],\"hovertemplate\":\"Movie Series=%{customdata[1]}<br>Release Year=%{x}<br>Rating=%{y}<br>Title=%{customdata[0]}<extra></extra>\",\"legendgroup\":\"Mad Max\",\"line\":{\"color\":\"#636efa\",\"dash\":\"solid\",\"shape\":\"linear\"},\"marker\":{\"symbol\":\"circle\"},\"mode\":\"lines+markers\",\"name\":\"Mad Max\",\"orientation\":\"v\",\"showlegend\":true,\"x\":[1979,1981,1985],\"xaxis\":\"x\",\"y\":[6.9,7.6,6.3],\"yaxis\":\"y\",\"type\":\"scatter\"},{\"customdata\":[[\"Madagascar\",\"Madagascar\"],[\"Madagascar: Escape 2 Africa\",\"Madagascar\"],[\"Madagascar 3: Europe's Most Wanted\",\"Madagascar\"]],\"hovertemplate\":\"Movie Series=%{customdata[1]}<br>Release Year=%{x}<br>Rating=%{y}<br>Title=%{customdata[0]}<extra></extra>\",\"legendgroup\":\"Madagascar\",\"line\":{\"color\":\"#EF553B\",\"dash\":\"solid\",\"shape\":\"linear\"},\"marker\":{\"symbol\":\"circle\"},\"mode\":\"lines+markers\",\"name\":\"Madagascar\",\"orientation\":\"v\",\"showlegend\":true,\"x\":[2005,2008,2012],\"xaxis\":\"x\",\"y\":[6.9,6.6,6.8],\"yaxis\":\"y\",\"type\":\"scatter\"},{\"customdata\":[[\"Magic Mike\",\"Magic Mike\"],[\"Magic Mike XXL\",\"Magic Mike\"]],\"hovertemplate\":\"Movie Series=%{customdata[1]}<br>Release Year=%{x}<br>Rating=%{y}<br>Title=%{customdata[0]}<extra></extra>\",\"legendgroup\":\"Magic Mike\",\"line\":{\"color\":\"#00cc96\",\"dash\":\"solid\",\"shape\":\"linear\"},\"marker\":{\"symbol\":\"circle\"},\"mode\":\"lines+markers\",\"name\":\"Magic Mike\",\"orientation\":\"v\",\"showlegend\":true,\"x\":[2012,2015],\"xaxis\":\"x\",\"y\":[6.1,5.6],\"yaxis\":\"y\",\"type\":\"scatter\"},{\"customdata\":[[\"Major League\",\"Major League\"],[\"Major League II\",\"Major League\"],[\"Major League: Back to the Minors\",\"Major League\"]],\"hovertemplate\":\"Movie Series=%{customdata[1]}<br>Release Year=%{x}<br>Rating=%{y}<br>Title=%{customdata[0]}<extra></extra>\",\"legendgroup\":\"Major League\",\"line\":{\"color\":\"#ab63fa\",\"dash\":\"solid\",\"shape\":\"linear\"},\"marker\":{\"symbol\":\"circle\"},\"mode\":\"lines+markers\",\"name\":\"Major League\",\"orientation\":\"v\",\"showlegend\":true,\"x\":[1989,1994,1998],\"xaxis\":\"x\",\"y\":[7.2,5.6,4.6],\"yaxis\":\"y\",\"type\":\"scatter\"},{\"customdata\":[[\"Mamma Mia!\",\"Mamma Mia!\"],[\"Mamma Mia! Here We Go Again\",\"Mamma Mia!\"]],\"hovertemplate\":\"Movie Series=%{customdata[1]}<br>Release Year=%{x}<br>Rating=%{y}<br>Title=%{customdata[0]}<extra></extra>\",\"legendgroup\":\"Mamma Mia!\",\"line\":{\"color\":\"#FFA15A\",\"dash\":\"solid\",\"shape\":\"linear\"},\"marker\":{\"symbol\":\"circle\"},\"mode\":\"lines+markers\",\"name\":\"Mamma Mia!\",\"orientation\":\"v\",\"showlegend\":true,\"x\":[2008,2018],\"xaxis\":\"x\",\"y\":[6.4,6.7],\"yaxis\":\"y\",\"type\":\"scatter\"},{\"customdata\":[[\"The Maze Runner\",\"Maze Runner\"],[\"Maze Runner: The Scorch Trials\",\"Maze Runner\"],[\"Maze Runner: The Death Cure\",\"Maze Runner\"]],\"hovertemplate\":\"Movie Series=%{customdata[1]}<br>Release Year=%{x}<br>Rating=%{y}<br>Title=%{customdata[0]}<extra></extra>\",\"legendgroup\":\"Maze Runner\",\"line\":{\"color\":\"#19d3f3\",\"dash\":\"solid\",\"shape\":\"linear\"},\"marker\":{\"symbol\":\"circle\"},\"mode\":\"lines+markers\",\"name\":\"Maze Runner\",\"orientation\":\"v\",\"showlegend\":true,\"x\":[2014,2015,2018],\"xaxis\":\"x\",\"y\":[6.8,6.3,6.2],\"yaxis\":\"y\",\"type\":\"scatter\"},{\"customdata\":[[\"Men in Black\",\"Men in Black\"],[\"Men in Black II\",\"Men in Black\"],[\"Men in Black 3\",\"Men in Black\"]],\"hovertemplate\":\"Movie Series=%{customdata[1]}<br>Release Year=%{x}<br>Rating=%{y}<br>Title=%{customdata[0]}<extra></extra>\",\"legendgroup\":\"Men in Black\",\"line\":{\"color\":\"#FF6692\",\"dash\":\"solid\",\"shape\":\"linear\"},\"marker\":{\"symbol\":\"circle\"},\"mode\":\"lines+markers\",\"name\":\"Men in Black\",\"orientation\":\"v\",\"showlegend\":true,\"x\":[1997,2002,2012],\"xaxis\":\"x\",\"y\":[7.3,6.2,6.8],\"yaxis\":\"y\",\"type\":\"scatter\"},{\"customdata\":[[\"Miss Congeniality\",\"Miss Congeniality\"],[\"Miss Congeniality 2: Armed & Fabulous\",\"Miss Congeniality\"]],\"hovertemplate\":\"Movie Series=%{customdata[1]}<br>Release Year=%{x}<br>Rating=%{y}<br>Title=%{customdata[0]}<extra></extra>\",\"legendgroup\":\"Miss Congeniality\",\"line\":{\"color\":\"#B6E880\",\"dash\":\"solid\",\"shape\":\"linear\"},\"marker\":{\"symbol\":\"circle\"},\"mode\":\"lines+markers\",\"name\":\"Miss Congeniality\",\"orientation\":\"v\",\"showlegend\":true,\"x\":[2000,2005],\"xaxis\":\"x\",\"y\":[6.2,5.1],\"yaxis\":\"y\",\"type\":\"scatter\"},{\"customdata\":[[\"Mission: Impossible\",\"Mission\"],[\"Mission: Impossible II\",\"Mission\"],[\"Mission: Impossible III\",\"Mission\"],[\"Mission: Impossible - Ghost Protocol\",\"Mission\"],[\"Mission: Impossible - Rogue Nation\",\"Mission\"],[\"Mission: Impossible - Fallout\",\"Mission\"]],\"hovertemplate\":\"Movie Series=%{customdata[1]}<br>Release Year=%{x}<br>Rating=%{y}<br>Title=%{customdata[0]}<extra></extra>\",\"legendgroup\":\"Mission\",\"line\":{\"color\":\"#FF97FF\",\"dash\":\"solid\",\"shape\":\"linear\"},\"marker\":{\"symbol\":\"circle\"},\"mode\":\"lines+markers\",\"name\":\"Mission\",\"orientation\":\"v\",\"showlegend\":true,\"x\":[1996,2000,2006,2011,2015,2018],\"xaxis\":\"x\",\"y\":[7.1,6.1,6.9,7.4,7.4,7.7],\"yaxis\":\"y\",\"type\":\"scatter\"},{\"customdata\":[[\"Monsters\",\"Monsters\"],[\"Monsters: Dark Continent\",\"Monsters\"]],\"hovertemplate\":\"Movie Series=%{customdata[1]}<br>Release Year=%{x}<br>Rating=%{y}<br>Title=%{customdata[0]}<extra></extra>\",\"legendgroup\":\"Monsters\",\"line\":{\"color\":\"#FECB52\",\"dash\":\"solid\",\"shape\":\"linear\"},\"marker\":{\"symbol\":\"circle\"},\"mode\":\"lines+markers\",\"name\":\"Monsters\",\"orientation\":\"v\",\"showlegend\":true,\"x\":[2010,2014],\"xaxis\":\"x\",\"y\":[6.4,4.3],\"yaxis\":\"y\",\"type\":\"scatter\"},{\"customdata\":[[\"My Big Fat Greek Wedding\",\"My Big Fat Greek Wedding\"],[\"My Big Fat Greek Wedding 2\",\"My Big Fat Greek Wedding\"]],\"hovertemplate\":\"Movie Series=%{customdata[1]}<br>Release Year=%{x}<br>Rating=%{y}<br>Title=%{customdata[0]}<extra></extra>\",\"legendgroup\":\"My Big Fat Greek Wedding\",\"line\":{\"color\":\"#636efa\",\"dash\":\"solid\",\"shape\":\"linear\"},\"marker\":{\"symbol\":\"circle\"},\"mode\":\"lines+markers\",\"name\":\"My Big Fat Greek Wedding\",\"orientation\":\"v\",\"showlegend\":true,\"x\":[2002,2016],\"xaxis\":\"x\",\"y\":[6.5,6.0],\"yaxis\":\"y\",\"type\":\"scatter\"},{\"customdata\":[[\"Nanny McPhee\",\"Nanny McPhee\"],[\"Nanny McPhee and the Big Bang\",\"Nanny McPhee\"]],\"hovertemplate\":\"Movie Series=%{customdata[1]}<br>Release Year=%{x}<br>Rating=%{y}<br>Title=%{customdata[0]}<extra></extra>\",\"legendgroup\":\"Nanny McPhee\",\"line\":{\"color\":\"#EF553B\",\"dash\":\"solid\",\"shape\":\"linear\"},\"marker\":{\"symbol\":\"circle\"},\"mode\":\"lines+markers\",\"name\":\"Nanny McPhee\",\"orientation\":\"v\",\"showlegend\":true,\"x\":[2005,2010],\"xaxis\":\"x\",\"y\":[6.5,6.1],\"yaxis\":\"y\",\"type\":\"scatter\"},{\"customdata\":[[\"National Treasure\",\"National Treasure\"],[\"National Treasure: Book of Secrets\",\"National Treasure\"]],\"hovertemplate\":\"Movie Series=%{customdata[1]}<br>Release Year=%{x}<br>Rating=%{y}<br>Title=%{customdata[0]}<extra></extra>\",\"legendgroup\":\"National Treasure\",\"line\":{\"color\":\"#00cc96\",\"dash\":\"solid\",\"shape\":\"linear\"},\"marker\":{\"symbol\":\"circle\"},\"mode\":\"lines+markers\",\"name\":\"National Treasure\",\"orientation\":\"v\",\"showlegend\":true,\"x\":[2004,2007],\"xaxis\":\"x\",\"y\":[6.8,6.5],\"yaxis\":\"y\",\"type\":\"scatter\"},{\"customdata\":[[\"Night at the Museum\",\"Night at the Museum\"],[\"Night at the Museum: Battle of the Smithsonian\",\"Night at the Museum\"]],\"hovertemplate\":\"Movie Series=%{customdata[1]}<br>Release Year=%{x}<br>Rating=%{y}<br>Title=%{customdata[0]}<extra></extra>\",\"legendgroup\":\"Night at the Museum\",\"line\":{\"color\":\"#ab63fa\",\"dash\":\"solid\",\"shape\":\"linear\"},\"marker\":{\"symbol\":\"circle\"},\"mode\":\"lines+markers\",\"name\":\"Night at the Museum\",\"orientation\":\"v\",\"showlegend\":true,\"x\":[2006,2009],\"xaxis\":\"x\",\"y\":[6.4,6.0],\"yaxis\":\"y\",\"type\":\"scatter\"},{\"customdata\":[[\"Nymphomaniac: Vol. I\",\"Nymphomaniac\"],[\"Nymphomaniac: Vol. II\",\"Nymphomaniac\"]],\"hovertemplate\":\"Movie Series=%{customdata[1]}<br>Release Year=%{x}<br>Rating=%{y}<br>Title=%{customdata[0]}<extra></extra>\",\"legendgroup\":\"Nymphomaniac\",\"line\":{\"color\":\"#FFA15A\",\"dash\":\"solid\",\"shape\":\"linear\"},\"marker\":{\"symbol\":\"circle\"},\"mode\":\"lines+markers\",\"name\":\"Nymphomaniac\",\"orientation\":\"v\",\"showlegend\":true,\"x\":[2013,2013],\"xaxis\":\"x\",\"y\":[6.9,6.7],\"yaxis\":\"y\",\"type\":\"scatter\"},{\"customdata\":[[\"Ocean's Eleven\",\"Ocean's Eleven\"],[\"Ocean's Twelve\",\"Ocean's Eleven\"],[\"Ocean's Thirteen\",\"Ocean's Eleven\"]],\"hovertemplate\":\"Movie Series=%{customdata[1]}<br>Release Year=%{x}<br>Rating=%{y}<br>Title=%{customdata[0]}<extra></extra>\",\"legendgroup\":\"Ocean's Eleven\",\"line\":{\"color\":\"#19d3f3\",\"dash\":\"solid\",\"shape\":\"linear\"},\"marker\":{\"symbol\":\"circle\"},\"mode\":\"lines+markers\",\"name\":\"Ocean's Eleven\",\"orientation\":\"v\",\"showlegend\":true,\"x\":[2001,2004,2007],\"xaxis\":\"x\",\"y\":[7.7,6.5,6.9],\"yaxis\":\"y\",\"type\":\"scatter\"},{\"customdata\":[[\"Olympus Has Fallen\",\"Olympus Has Fallen\"],[\"London Has Fallen\",\"Olympus Has Fallen\"]],\"hovertemplate\":\"Movie Series=%{customdata[1]}<br>Release Year=%{x}<br>Rating=%{y}<br>Title=%{customdata[0]}<extra></extra>\",\"legendgroup\":\"Olympus Has Fallen\",\"line\":{\"color\":\"#FF6692\",\"dash\":\"solid\",\"shape\":\"linear\"},\"marker\":{\"symbol\":\"circle\"},\"mode\":\"lines+markers\",\"name\":\"Olympus Has Fallen\",\"orientation\":\"v\",\"showlegend\":true,\"x\":[2013,2016],\"xaxis\":\"x\",\"y\":[6.5,5.9],\"yaxis\":\"y\",\"type\":\"scatter\"},{\"customdata\":[[\"Open Season\",\"Open Season\"],[\"Open Season 3\",\"Open Season\"]],\"hovertemplate\":\"Movie Series=%{customdata[1]}<br>Release Year=%{x}<br>Rating=%{y}<br>Title=%{customdata[0]}<extra></extra>\",\"legendgroup\":\"Open Season\",\"line\":{\"color\":\"#B6E880\",\"dash\":\"solid\",\"shape\":\"linear\"},\"marker\":{\"symbol\":\"circle\"},\"mode\":\"lines+markers\",\"name\":\"Open Season\",\"orientation\":\"v\",\"showlegend\":true,\"x\":[2006,2010],\"xaxis\":\"x\",\"y\":[6.1,5.1],\"yaxis\":\"y\",\"type\":\"scatter\"},{\"customdata\":[[\"Paddington\",\"Paddington\"],[\"Paddington 2\",\"Paddington\"]],\"hovertemplate\":\"Movie Series=%{customdata[1]}<br>Release Year=%{x}<br>Rating=%{y}<br>Title=%{customdata[0]}<extra></extra>\",\"legendgroup\":\"Paddington\",\"line\":{\"color\":\"#FF97FF\",\"dash\":\"solid\",\"shape\":\"linear\"},\"marker\":{\"symbol\":\"circle\"},\"mode\":\"lines+markers\",\"name\":\"Paddington\",\"orientation\":\"v\",\"showlegend\":true,\"x\":[2014,2017],\"xaxis\":\"x\",\"y\":[7.2,7.8],\"yaxis\":\"y\",\"type\":\"scatter\"},{\"customdata\":[[\"Paranormal Activity\",\"Paranormal Activity\"],[\"Paranormal Activity 2\",\"Paranormal Activity\"],[\"Paranormal Activity 3\",\"Paranormal Activity\"],[\"Paranormal Activity 4\",\"Paranormal Activity\"]],\"hovertemplate\":\"Movie Series=%{customdata[1]}<br>Release Year=%{x}<br>Rating=%{y}<br>Title=%{customdata[0]}<extra></extra>\",\"legendgroup\":\"Paranormal Activity\",\"line\":{\"color\":\"#FECB52\",\"dash\":\"solid\",\"shape\":\"linear\"},\"marker\":{\"symbol\":\"circle\"},\"mode\":\"lines+markers\",\"name\":\"Paranormal Activity\",\"orientation\":\"v\",\"showlegend\":true,\"x\":[2007,2010,2011,2012],\"xaxis\":\"x\",\"y\":[6.3,5.6,5.8,4.6],\"yaxis\":\"y\",\"type\":\"scatter\"},{\"customdata\":[[\"Paul Blart: Mall Cop\",\"Paul Blart\"],[\"Paul Blart: Mall Cop 2\",\"Paul Blart\"]],\"hovertemplate\":\"Movie Series=%{customdata[1]}<br>Release Year=%{x}<br>Rating=%{y}<br>Title=%{customdata[0]}<extra></extra>\",\"legendgroup\":\"Paul Blart\",\"line\":{\"color\":\"#636efa\",\"dash\":\"solid\",\"shape\":\"linear\"},\"marker\":{\"symbol\":\"circle\"},\"mode\":\"lines+markers\",\"name\":\"Paul Blart\",\"orientation\":\"v\",\"showlegend\":true,\"x\":[2009,2015],\"xaxis\":\"x\",\"y\":[5.2,4.4],\"yaxis\":\"y\",\"type\":\"scatter\"},{\"customdata\":[[\"Pet Sematary\",\"Pet Sematary\"],[\"Pet Sematary II\",\"Pet Sematary\"]],\"hovertemplate\":\"Movie Series=%{customdata[1]}<br>Release Year=%{x}<br>Rating=%{y}<br>Title=%{customdata[0]}<extra></extra>\",\"legendgroup\":\"Pet Sematary\",\"line\":{\"color\":\"#EF553B\",\"dash\":\"solid\",\"shape\":\"linear\"},\"marker\":{\"symbol\":\"circle\"},\"mode\":\"lines+markers\",\"name\":\"Pet Sematary\",\"orientation\":\"v\",\"showlegend\":true,\"x\":[1989,1992],\"xaxis\":\"x\",\"y\":[6.6,4.9],\"yaxis\":\"y\",\"type\":\"scatter\"},{\"customdata\":[[\"Piranha 3D\",\"Piranha 3D\"],[\"Piranha 3DD\",\"Piranha 3D\"]],\"hovertemplate\":\"Movie Series=%{customdata[1]}<br>Release Year=%{x}<br>Rating=%{y}<br>Title=%{customdata[0]}<extra></extra>\",\"legendgroup\":\"Piranha 3D\",\"line\":{\"color\":\"#00cc96\",\"dash\":\"solid\",\"shape\":\"linear\"},\"marker\":{\"symbol\":\"circle\"},\"mode\":\"lines+markers\",\"name\":\"Piranha 3D\",\"orientation\":\"v\",\"showlegend\":true,\"x\":[2010,2012],\"xaxis\":\"x\",\"y\":[5.4,3.7],\"yaxis\":\"y\",\"type\":\"scatter\"},{\"customdata\":[[\"Pirates of the Caribbean: The Curse of the Black Pearl\",\"Pirates of the Caribbean\"],[\"Pirates of the Caribbean: Dead Man's Chest\",\"Pirates of the Caribbean\"],[\"Pirates of the Caribbean: At World's End\",\"Pirates of the Caribbean\"],[\"Pirates of the Caribbean: On Stranger Tides\",\"Pirates of the Caribbean\"]],\"hovertemplate\":\"Movie Series=%{customdata[1]}<br>Release Year=%{x}<br>Rating=%{y}<br>Title=%{customdata[0]}<extra></extra>\",\"legendgroup\":\"Pirates of the Caribbean\",\"line\":{\"color\":\"#ab63fa\",\"dash\":\"solid\",\"shape\":\"linear\"},\"marker\":{\"symbol\":\"circle\"},\"mode\":\"lines+markers\",\"name\":\"Pirates of the Caribbean\",\"orientation\":\"v\",\"showlegend\":true,\"x\":[2003,2006,2007,2011],\"xaxis\":\"x\",\"y\":[8.0,7.3,7.1,6.6],\"yaxis\":\"y\",\"type\":\"scatter\"},{\"customdata\":[[\"Police Academy\",\"Police Academy\"],[\"Police Academy 2: Their First Assignment\",\"Police Academy\"],[\"Police Academy 3: Back in Training\",\"Police Academy\"],[\"Police Academy 4: Citizens on Patrol\",\"Police Academy\"],[\"Police Academy 5: Assignment: Miami Beach\",\"Police Academy\"],[\"Police Academy 6: City Under Siege\",\"Police Academy\"],[\"Police Academy: Mission to Moscow\",\"Police Academy\"]],\"hovertemplate\":\"Movie Series=%{customdata[1]}<br>Release Year=%{x}<br>Rating=%{y}<br>Title=%{customdata[0]}<extra></extra>\",\"legendgroup\":\"Police Academy\",\"line\":{\"color\":\"#FFA15A\",\"dash\":\"solid\",\"shape\":\"linear\"},\"marker\":{\"symbol\":\"circle\"},\"mode\":\"lines+markers\",\"name\":\"Police Academy\",\"orientation\":\"v\",\"showlegend\":true,\"x\":[1984,1985,1986,1987,1988,1989,1994],\"xaxis\":\"x\",\"y\":[6.7,5.8,5.4,5.0,4.7,4.5,3.6],\"yaxis\":\"y\",\"type\":\"scatter\"},{\"customdata\":[[\"Poltergeist\",\"Poltergeist\"],[\"Poltergeist II: The Other Side\",\"Poltergeist\"],[\"Poltergeist III\",\"Poltergeist\"]],\"hovertemplate\":\"Movie Series=%{customdata[1]}<br>Release Year=%{x}<br>Rating=%{y}<br>Title=%{customdata[0]}<extra></extra>\",\"legendgroup\":\"Poltergeist\",\"line\":{\"color\":\"#19d3f3\",\"dash\":\"solid\",\"shape\":\"linear\"},\"marker\":{\"symbol\":\"circle\"},\"mode\":\"lines+markers\",\"name\":\"Poltergeist\",\"orientation\":\"v\",\"showlegend\":true,\"x\":[1982,1986,1988],\"xaxis\":\"x\",\"y\":[7.3,5.7,4.7],\"yaxis\":\"y\",\"type\":\"scatter\"},{\"customdata\":[[\"Predator\",\"Predator\"],[\"Predator 2\",\"Predator\"],[\"Predators\",\"Predator\"]],\"hovertemplate\":\"Movie Series=%{customdata[1]}<br>Release Year=%{x}<br>Rating=%{y}<br>Title=%{customdata[0]}<extra></extra>\",\"legendgroup\":\"Predator\",\"line\":{\"color\":\"#FF6692\",\"dash\":\"solid\",\"shape\":\"linear\"},\"marker\":{\"symbol\":\"circle\"},\"mode\":\"lines+markers\",\"name\":\"Predator\",\"orientation\":\"v\",\"showlegend\":true,\"x\":[1987,1990,2010],\"xaxis\":\"x\",\"y\":[7.8,6.3,6.4],\"yaxis\":\"y\",\"type\":\"scatter\"},{\"customdata\":[[\"Psycho\",\"Psycho\"],[\"Psycho II\",\"Psycho\"]],\"hovertemplate\":\"Movie Series=%{customdata[1]}<br>Release Year=%{x}<br>Rating=%{y}<br>Title=%{customdata[0]}<extra></extra>\",\"legendgroup\":\"Psycho\",\"line\":{\"color\":\"#B6E880\",\"dash\":\"solid\",\"shape\":\"linear\"},\"marker\":{\"symbol\":\"circle\"},\"mode\":\"lines+markers\",\"name\":\"Psycho\",\"orientation\":\"v\",\"showlegend\":true,\"x\":[1960,1983],\"xaxis\":\"x\",\"y\":[8.5,6.5],\"yaxis\":\"y\",\"type\":\"scatter\"},{\"customdata\":[[\"Quarantine\",\"Quarantine\"],[\"Quarantine 2: Terminal\",\"Quarantine\"]],\"hovertemplate\":\"Movie Series=%{customdata[1]}<br>Release Year=%{x}<br>Rating=%{y}<br>Title=%{customdata[0]}<extra></extra>\",\"legendgroup\":\"Quarantine\",\"line\":{\"color\":\"#FF97FF\",\"dash\":\"solid\",\"shape\":\"linear\"},\"marker\":{\"symbol\":\"circle\"},\"mode\":\"lines+markers\",\"name\":\"Quarantine\",\"orientation\":\"v\",\"showlegend\":true,\"x\":[2008,2011],\"xaxis\":\"x\",\"y\":[5.9,5.2],\"yaxis\":\"y\",\"type\":\"scatter\"},{\"customdata\":[[\"RED\",\"RED\"],[\"RED 2\",\"RED\"]],\"hovertemplate\":\"Movie Series=%{customdata[1]}<br>Release Year=%{x}<br>Rating=%{y}<br>Title=%{customdata[0]}<extra></extra>\",\"legendgroup\":\"RED\",\"line\":{\"color\":\"#FECB52\",\"dash\":\"solid\",\"shape\":\"linear\"},\"marker\":{\"symbol\":\"circle\"},\"mode\":\"lines+markers\",\"name\":\"RED\",\"orientation\":\"v\",\"showlegend\":true,\"x\":[2010,2013],\"xaxis\":\"x\",\"y\":[7.0,6.6],\"yaxis\":\"y\",\"type\":\"scatter\"},{\"customdata\":[[\"Rambo: First Blood Part II\",\"Rambo\"],[\"Rambo III\",\"Rambo\"],[\"Rambo\",\"Rambo\"]],\"hovertemplate\":\"Movie Series=%{customdata[1]}<br>Release Year=%{x}<br>Rating=%{y}<br>Title=%{customdata[0]}<extra></extra>\",\"legendgroup\":\"Rambo\",\"line\":{\"color\":\"#636efa\",\"dash\":\"solid\",\"shape\":\"linear\"},\"marker\":{\"symbol\":\"circle\"},\"mode\":\"lines+markers\",\"name\":\"Rambo\",\"orientation\":\"v\",\"showlegend\":true,\"x\":[1985,1988,2008],\"xaxis\":\"x\",\"y\":[6.5,5.8,7.0],\"yaxis\":\"y\",\"type\":\"scatter\"},{\"customdata\":[[\"Resident Evil\",\"Resident Evil\"],[\"Resident Evil: Apocalypse\",\"Resident Evil\"],[\"Resident Evil: Extinction\",\"Resident Evil\"],[\"Resident Evil: Afterlife\",\"Resident Evil\"],[\"Resident Evil: Retribution\",\"Resident Evil\"]],\"hovertemplate\":\"Movie Series=%{customdata[1]}<br>Release Year=%{x}<br>Rating=%{y}<br>Title=%{customdata[0]}<extra></extra>\",\"legendgroup\":\"Resident Evil\",\"line\":{\"color\":\"#EF553B\",\"dash\":\"solid\",\"shape\":\"linear\"},\"marker\":{\"symbol\":\"circle\"},\"mode\":\"lines+markers\",\"name\":\"Resident Evil\",\"orientation\":\"v\",\"showlegend\":true,\"x\":[2002,2004,2007,2010,2012],\"xaxis\":\"x\",\"y\":[6.7,6.2,6.3,5.8,5.4],\"yaxis\":\"y\",\"type\":\"scatter\"},{\"customdata\":[[\"Ride Along\",\"Ride Along\"],[\"Ride Along 2\",\"Ride Along\"]],\"hovertemplate\":\"Movie Series=%{customdata[1]}<br>Release Year=%{x}<br>Rating=%{y}<br>Title=%{customdata[0]}<extra></extra>\",\"legendgroup\":\"Ride Along\",\"line\":{\"color\":\"#00cc96\",\"dash\":\"solid\",\"shape\":\"linear\"},\"marker\":{\"symbol\":\"circle\"},\"mode\":\"lines+markers\",\"name\":\"Ride Along\",\"orientation\":\"v\",\"showlegend\":true,\"x\":[2014,2016],\"xaxis\":\"x\",\"y\":[6.2,5.9],\"yaxis\":\"y\",\"type\":\"scatter\"},{\"customdata\":[[\"Rio\",\"Rio\"],[\"Rio 2\",\"Rio\"]],\"hovertemplate\":\"Movie Series=%{customdata[1]}<br>Release Year=%{x}<br>Rating=%{y}<br>Title=%{customdata[0]}<extra></extra>\",\"legendgroup\":\"Rio\",\"line\":{\"color\":\"#ab63fa\",\"dash\":\"solid\",\"shape\":\"linear\"},\"marker\":{\"symbol\":\"circle\"},\"mode\":\"lines+markers\",\"name\":\"Rio\",\"orientation\":\"v\",\"showlegend\":true,\"x\":[2011,2014],\"xaxis\":\"x\",\"y\":[6.9,6.3],\"yaxis\":\"y\",\"type\":\"scatter\"},{\"customdata\":[[\"Ripley's Game\",\"Ripley's Game\"],[\"Ripley Under Ground\",\"Ripley's Game\"]],\"hovertemplate\":\"Movie Series=%{customdata[1]}<br>Release Year=%{x}<br>Rating=%{y}<br>Title=%{customdata[0]}<extra></extra>\",\"legendgroup\":\"Ripley's Game\",\"line\":{\"color\":\"#FFA15A\",\"dash\":\"solid\",\"shape\":\"linear\"},\"marker\":{\"symbol\":\"circle\"},\"mode\":\"lines+markers\",\"name\":\"Ripley's Game\",\"orientation\":\"v\",\"showlegend\":true,\"x\":[2002,2005],\"xaxis\":\"x\",\"y\":[6.6,6.0],\"yaxis\":\"y\",\"type\":\"scatter\"},{\"customdata\":[[\"RoboCop\",\"RoboCop\"],[\"RoboCop 2\",\"RoboCop\"],[\"RoboCop 3\",\"RoboCop\"]],\"hovertemplate\":\"Movie Series=%{customdata[1]}<br>Release Year=%{x}<br>Rating=%{y}<br>Title=%{customdata[0]}<extra></extra>\",\"legendgroup\":\"RoboCop\",\"line\":{\"color\":\"#19d3f3\",\"dash\":\"solid\",\"shape\":\"linear\"},\"marker\":{\"symbol\":\"circle\"},\"mode\":\"lines+markers\",\"name\":\"RoboCop\",\"orientation\":\"v\",\"showlegend\":true,\"x\":[1987,1990,1993],\"xaxis\":\"x\",\"y\":[7.5,5.8,4.1],\"yaxis\":\"y\",\"type\":\"scatter\"},{\"customdata\":[[\"Rocky\",\"Rocky\"],[\"Rocky II\",\"Rocky\"],[\"Rocky III\",\"Rocky\"],[\"Rocky IV\",\"Rocky\"],[\"Rocky V\",\"Rocky\"],[\"Rocky Balboa\",\"Rocky\"]],\"hovertemplate\":\"Movie Series=%{customdata[1]}<br>Release Year=%{x}<br>Rating=%{y}<br>Title=%{customdata[0]}<extra></extra>\",\"legendgroup\":\"Rocky\",\"line\":{\"color\":\"#FF6692\",\"dash\":\"solid\",\"shape\":\"linear\"},\"marker\":{\"symbol\":\"circle\"},\"mode\":\"lines+markers\",\"name\":\"Rocky\",\"orientation\":\"v\",\"showlegend\":true,\"x\":[1976,1979,1982,1985,1990,2006],\"xaxis\":\"x\",\"y\":[8.1,7.3,6.8,6.9,5.3,7.1],\"yaxis\":\"y\",\"type\":\"scatter\"},{\"customdata\":[[\"Rush Hour\",\"Rush Hour\"],[\"Rush Hour 2\",\"Rush Hour\"],[\"Rush Hour 3\",\"Rush Hour\"]],\"hovertemplate\":\"Movie Series=%{customdata[1]}<br>Release Year=%{x}<br>Rating=%{y}<br>Title=%{customdata[0]}<extra></extra>\",\"legendgroup\":\"Rush Hour\",\"line\":{\"color\":\"#B6E880\",\"dash\":\"solid\",\"shape\":\"linear\"},\"marker\":{\"symbol\":\"circle\"},\"mode\":\"lines+markers\",\"name\":\"Rush Hour\",\"orientation\":\"v\",\"showlegend\":true,\"x\":[1998,2001,2007],\"xaxis\":\"x\",\"y\":[7.0,6.6,6.2],\"yaxis\":\"y\",\"type\":\"scatter\"},{\"customdata\":[[\"Saw\",\"Saw\"],[\"Saw II\",\"Saw\"],[\"Saw III\",\"Saw\"],[\"Saw IV\",\"Saw\"],[\"Saw V\",\"Saw\"],[\"Saw VI\",\"Saw\"],[\"Saw 3D\",\"Saw\"]],\"hovertemplate\":\"Movie Series=%{customdata[1]}<br>Release Year=%{x}<br>Rating=%{y}<br>Title=%{customdata[0]}<extra></extra>\",\"legendgroup\":\"Saw\",\"line\":{\"color\":\"#FF97FF\",\"dash\":\"solid\",\"shape\":\"linear\"},\"marker\":{\"symbol\":\"circle\"},\"mode\":\"lines+markers\",\"name\":\"Saw\",\"orientation\":\"v\",\"showlegend\":true,\"x\":[2004,2005,2006,2007,2008,2009,2010],\"xaxis\":\"x\",\"y\":[7.6,6.6,6.2,5.9,5.8,6.0,5.6],\"yaxis\":\"y\",\"type\":\"scatter\"},{\"customdata\":[[\"Scary Movie\",\"Scary Movie\"],[\"Scary Movie 2\",\"Scary Movie\"],[\"Scary Movie 3\",\"Scary Movie\"],[\"Scary Movie 4\",\"Scary Movie\"],[\"Scary Movie 5\",\"Scary Movie\"]],\"hovertemplate\":\"Movie Series=%{customdata[1]}<br>Release Year=%{x}<br>Rating=%{y}<br>Title=%{customdata[0]}<extra></extra>\",\"legendgroup\":\"Scary Movie\",\"line\":{\"color\":\"#FECB52\",\"dash\":\"solid\",\"shape\":\"linear\"},\"marker\":{\"symbol\":\"circle\"},\"mode\":\"lines+markers\",\"name\":\"Scary Movie\",\"orientation\":\"v\",\"showlegend\":true,\"x\":[2000,2001,2003,2006,2013],\"xaxis\":\"x\",\"y\":[6.2,5.3,5.5,5.1,3.5],\"yaxis\":\"y\",\"type\":\"scatter\"},{\"customdata\":[[\"Scooby-Doo\",\"Scooby-Doo\"],[\"Scooby-Doo 2: Monsters Unleashed\",\"Scooby-Doo\"]],\"hovertemplate\":\"Movie Series=%{customdata[1]}<br>Release Year=%{x}<br>Rating=%{y}<br>Title=%{customdata[0]}<extra></extra>\",\"legendgroup\":\"Scooby-Doo\",\"line\":{\"color\":\"#636efa\",\"dash\":\"solid\",\"shape\":\"linear\"},\"marker\":{\"symbol\":\"circle\"},\"mode\":\"lines+markers\",\"name\":\"Scooby-Doo\",\"orientation\":\"v\",\"showlegend\":true,\"x\":[2002,2004],\"xaxis\":\"x\",\"y\":[5.1,5.0],\"yaxis\":\"y\",\"type\":\"scatter\"},{\"customdata\":[[\"Scream\",\"Scream\"],[\"Scream 2\",\"Scream\"],[\"Scream 3\",\"Scream\"],[\"Scream 4\",\"Scream\"]],\"hovertemplate\":\"Movie Series=%{customdata[1]}<br>Release Year=%{x}<br>Rating=%{y}<br>Title=%{customdata[0]}<extra></extra>\",\"legendgroup\":\"Scream\",\"line\":{\"color\":\"#EF553B\",\"dash\":\"solid\",\"shape\":\"linear\"},\"marker\":{\"symbol\":\"circle\"},\"mode\":\"lines+markers\",\"name\":\"Scream\",\"orientation\":\"v\",\"showlegend\":true,\"x\":[1996,1997,2000,2011],\"xaxis\":\"x\",\"y\":[7.2,6.2,5.6,6.1],\"yaxis\":\"y\",\"type\":\"scatter\"},{\"customdata\":[[\"Serbuan maut\",\"Serbuan maut\"],[\"Serbuan maut 2: Berandal\",\"Serbuan maut\"]],\"hovertemplate\":\"Movie Series=%{customdata[1]}<br>Release Year=%{x}<br>Rating=%{y}<br>Title=%{customdata[0]}<extra></extra>\",\"legendgroup\":\"Serbuan maut\",\"line\":{\"color\":\"#00cc96\",\"dash\":\"solid\",\"shape\":\"linear\"},\"marker\":{\"symbol\":\"circle\"},\"mode\":\"lines+markers\",\"name\":\"Serbuan maut\",\"orientation\":\"v\",\"showlegend\":true,\"x\":[2011,2014],\"xaxis\":\"x\",\"y\":[7.6,8.0],\"yaxis\":\"y\",\"type\":\"scatter\"},{\"customdata\":[[\"Shanghai Noon\",\"Shanghai Noon\"],[\"Shanghai Knights\",\"Shanghai Noon\"]],\"hovertemplate\":\"Movie Series=%{customdata[1]}<br>Release Year=%{x}<br>Rating=%{y}<br>Title=%{customdata[0]}<extra></extra>\",\"legendgroup\":\"Shanghai Noon\",\"line\":{\"color\":\"#ab63fa\",\"dash\":\"solid\",\"shape\":\"linear\"},\"marker\":{\"symbol\":\"circle\"},\"mode\":\"lines+markers\",\"name\":\"Shanghai Noon\",\"orientation\":\"v\",\"showlegend\":true,\"x\":[2000,2003],\"xaxis\":\"x\",\"y\":[6.6,6.2],\"yaxis\":\"y\",\"type\":\"scatter\"},{\"customdata\":[[\"Sherlock Holmes\",\"Sherlock Holmes\"],[\"Sherlock Holmes: A Game of Shadows\",\"Sherlock Holmes\"]],\"hovertemplate\":\"Movie Series=%{customdata[1]}<br>Release Year=%{x}<br>Rating=%{y}<br>Title=%{customdata[0]}<extra></extra>\",\"legendgroup\":\"Sherlock Holmes\",\"line\":{\"color\":\"#FFA15A\",\"dash\":\"solid\",\"shape\":\"linear\"},\"marker\":{\"symbol\":\"circle\"},\"mode\":\"lines+markers\",\"name\":\"Sherlock Holmes\",\"orientation\":\"v\",\"showlegend\":true,\"x\":[2009,2011],\"xaxis\":\"x\",\"y\":[7.6,7.5],\"yaxis\":\"y\",\"type\":\"scatter\"},{\"customdata\":[[\"Short Circuit\",\"Short Circuit\"],[\"Short Circuit 2\",\"Short Circuit\"]],\"hovertemplate\":\"Movie Series=%{customdata[1]}<br>Release Year=%{x}<br>Rating=%{y}<br>Title=%{customdata[0]}<extra></extra>\",\"legendgroup\":\"Short Circuit\",\"line\":{\"color\":\"#19d3f3\",\"dash\":\"solid\",\"shape\":\"linear\"},\"marker\":{\"symbol\":\"circle\"},\"mode\":\"lines+markers\",\"name\":\"Short Circuit\",\"orientation\":\"v\",\"showlegend\":true,\"x\":[1986,1988],\"xaxis\":\"x\",\"y\":[6.7,5.8],\"yaxis\":\"y\",\"type\":\"scatter\"},{\"customdata\":[[\"Shrek\",\"Shrek\"],[\"Shrek 2\",\"Shrek\"],[\"Shrek the Third\",\"Shrek\"],[\"Shrek Forever After\",\"Shrek\"]],\"hovertemplate\":\"Movie Series=%{customdata[1]}<br>Release Year=%{x}<br>Rating=%{y}<br>Title=%{customdata[0]}<extra></extra>\",\"legendgroup\":\"Shrek\",\"line\":{\"color\":\"#FF6692\",\"dash\":\"solid\",\"shape\":\"linear\"},\"marker\":{\"symbol\":\"circle\"},\"mode\":\"lines+markers\",\"name\":\"Shrek\",\"orientation\":\"v\",\"showlegend\":true,\"x\":[2001,2004,2007,2010],\"xaxis\":\"x\",\"y\":[7.8,7.2,6.1,6.3],\"yaxis\":\"y\",\"type\":\"scatter\"},{\"customdata\":[[\"Sin City\",\"Sin City\"],[\"Sin City: A Dame to Kill For\",\"Sin City\"]],\"hovertemplate\":\"Movie Series=%{customdata[1]}<br>Release Year=%{x}<br>Rating=%{y}<br>Title=%{customdata[0]}<extra></extra>\",\"legendgroup\":\"Sin City\",\"line\":{\"color\":\"#B6E880\",\"dash\":\"solid\",\"shape\":\"linear\"},\"marker\":{\"symbol\":\"circle\"},\"mode\":\"lines+markers\",\"name\":\"Sin City\",\"orientation\":\"v\",\"showlegend\":true,\"x\":[2005,2014],\"xaxis\":\"x\",\"y\":[8.0,6.5],\"yaxis\":\"y\",\"type\":\"scatter\"},{\"customdata\":[[\"Species\",\"Species\"],[\"Species II\",\"Species\"]],\"hovertemplate\":\"Movie Series=%{customdata[1]}<br>Release Year=%{x}<br>Rating=%{y}<br>Title=%{customdata[0]}<extra></extra>\",\"legendgroup\":\"Species\",\"line\":{\"color\":\"#FF97FF\",\"dash\":\"solid\",\"shape\":\"linear\"},\"marker\":{\"symbol\":\"circle\"},\"mode\":\"lines+markers\",\"name\":\"Species\",\"orientation\":\"v\",\"showlegend\":true,\"x\":[1995,1998],\"xaxis\":\"x\",\"y\":[5.8,4.4],\"yaxis\":\"y\",\"type\":\"scatter\"},{\"customdata\":[[\"Speed\",\"Speed\"],[\"Speed 2: Cruise Control\",\"Speed\"]],\"hovertemplate\":\"Movie Series=%{customdata[1]}<br>Release Year=%{x}<br>Rating=%{y}<br>Title=%{customdata[0]}<extra></extra>\",\"legendgroup\":\"Speed\",\"line\":{\"color\":\"#FECB52\",\"dash\":\"solid\",\"shape\":\"linear\"},\"marker\":{\"symbol\":\"circle\"},\"mode\":\"lines+markers\",\"name\":\"Speed\",\"orientation\":\"v\",\"showlegend\":true,\"x\":[1994,1997],\"xaxis\":\"x\",\"y\":[7.2,3.9],\"yaxis\":\"y\",\"type\":\"scatter\"},{\"customdata\":[[\"Spider-Man\",\"Spider-Man\"],[\"Spider-Man 2\",\"Spider-Man\"],[\"Spider-Man 3\",\"Spider-Man\"],[\"Spider-Man: Homecoming\",\"Spider-Man\"],[\"Spider-Man: Far from Home\",\"Spider-Man\"]],\"hovertemplate\":\"Movie Series=%{customdata[1]}<br>Release Year=%{x}<br>Rating=%{y}<br>Title=%{customdata[0]}<extra></extra>\",\"legendgroup\":\"Spider-Man\",\"line\":{\"color\":\"#636efa\",\"dash\":\"solid\",\"shape\":\"linear\"},\"marker\":{\"symbol\":\"circle\"},\"mode\":\"lines+markers\",\"name\":\"Spider-Man\",\"orientation\":\"v\",\"showlegend\":true,\"x\":[2002,2004,2007,2017,2019],\"xaxis\":\"x\",\"y\":[7.3,7.3,6.2,7.4,7.5],\"yaxis\":\"y\",\"type\":\"scatter\"},{\"customdata\":[[\"Spy Kids\",\"Spy Kids\"],[\"Spy Kids 2: Island of Lost Dreams\",\"Spy Kids\"],[\"Spy Kids 3: Game Over\",\"Spy Kids\"],[\"Spy Kids 4: All the Time in the World\",\"Spy Kids\"]],\"hovertemplate\":\"Movie Series=%{customdata[1]}<br>Release Year=%{x}<br>Rating=%{y}<br>Title=%{customdata[0]}<extra></extra>\",\"legendgroup\":\"Spy Kids\",\"line\":{\"color\":\"#EF553B\",\"dash\":\"solid\",\"shape\":\"linear\"},\"marker\":{\"symbol\":\"circle\"},\"mode\":\"lines+markers\",\"name\":\"Spy Kids\",\"orientation\":\"v\",\"showlegend\":true,\"x\":[2001,2002,2003,2011],\"xaxis\":\"x\",\"y\":[5.5,5.1,4.3,3.5],\"yaxis\":\"y\",\"type\":\"scatter\"},{\"customdata\":[[\"Star Trek: The Motion Picture\",\"Star Trek\"],[\"Star Trek II: The Wrath of Khan\",\"Star Trek\"],[\"Star Trek III: The Search for Spock\",\"Star Trek\"],[\"Star Trek IV: The Voyage Home\",\"Star Trek\"],[\"Star Trek V: The Final Frontier\",\"Star Trek\"],[\"Star Trek VI: The Undiscovered Country\",\"Star Trek\"],[\"Star Trek: Generations\",\"Star Trek\"],[\"Star Trek: First Contact\",\"Star Trek\"],[\"Star Trek: Insurrection\",\"Star Trek\"],[\"Star Trek: Nemesis\",\"Star Trek\"],[\"Star Trek\",\"Star Trek\"],[\"Star Trek Into Darkness\",\"Star Trek\"],[\"Star Trek Beyond\",\"Star Trek\"]],\"hovertemplate\":\"Movie Series=%{customdata[1]}<br>Release Year=%{x}<br>Rating=%{y}<br>Title=%{customdata[0]}<extra></extra>\",\"legendgroup\":\"Star Trek\",\"line\":{\"color\":\"#00cc96\",\"dash\":\"solid\",\"shape\":\"linear\"},\"marker\":{\"symbol\":\"circle\"},\"mode\":\"lines+markers\",\"name\":\"Star Trek\",\"orientation\":\"v\",\"showlegend\":true,\"x\":[1979,1982,1984,1986,1989,1991,1994,1996,1998,2002,2009,2013,2016],\"xaxis\":\"x\",\"y\":[6.4,7.7,6.7,7.3,5.5,7.2,6.6,7.6,6.4,6.4,7.9,7.7,7.1],\"yaxis\":\"y\",\"type\":\"scatter\"},{\"customdata\":[[\"Star Wars\",\"Star Wars\"],[\"Star Wars: Episode V - The Empire Strikes Back\",\"Star Wars\"],[\"Star Wars: Episode VI - Return of the Jedi\",\"Star Wars\"],[\"Star Wars: Episode I - The Phantom Menace\",\"Star Wars\"],[\"Star Wars: Episode II - Attack of the Clones\",\"Star Wars\"],[\"Star Wars: Episode III - Revenge of the Sith\",\"Star Wars\"]],\"hovertemplate\":\"Movie Series=%{customdata[1]}<br>Release Year=%{x}<br>Rating=%{y}<br>Title=%{customdata[0]}<extra></extra>\",\"legendgroup\":\"Star Wars\",\"line\":{\"color\":\"#ab63fa\",\"dash\":\"solid\",\"shape\":\"linear\"},\"marker\":{\"symbol\":\"circle\"},\"mode\":\"lines+markers\",\"name\":\"Star Wars\",\"orientation\":\"v\",\"showlegend\":true,\"x\":[1977,1980,1983,1999,2002,2005],\"xaxis\":\"x\",\"y\":[8.6,8.7,8.3,6.5,6.5,7.5],\"yaxis\":\"y\",\"type\":\"scatter\"},{\"customdata\":[[\"Step Up\",\"Step Up\"],[\"Step Up 2: The Streets\",\"Step Up\"],[\"Step Up 3D\",\"Step Up\"],[\"Step Up Revolution\",\"Step Up\"]],\"hovertemplate\":\"Movie Series=%{customdata[1]}<br>Release Year=%{x}<br>Rating=%{y}<br>Title=%{customdata[0]}<extra></extra>\",\"legendgroup\":\"Step Up\",\"line\":{\"color\":\"#FFA15A\",\"dash\":\"solid\",\"shape\":\"linear\"},\"marker\":{\"symbol\":\"circle\"},\"mode\":\"lines+markers\",\"name\":\"Step Up\",\"orientation\":\"v\",\"showlegend\":true,\"x\":[2006,2008,2010,2012],\"xaxis\":\"x\",\"y\":[6.5,6.2,6.2,6.4],\"yaxis\":\"y\",\"type\":\"scatter\"},{\"customdata\":[[\"Superman\",\"Superman\"],[\"Superman II\",\"Superman\"],[\"Superman III\",\"Superman\"],[\"Superman IV: The Quest for Peace\",\"Superman\"]],\"hovertemplate\":\"Movie Series=%{customdata[1]}<br>Release Year=%{x}<br>Rating=%{y}<br>Title=%{customdata[0]}<extra></extra>\",\"legendgroup\":\"Superman\",\"line\":{\"color\":\"#19d3f3\",\"dash\":\"solid\",\"shape\":\"linear\"},\"marker\":{\"symbol\":\"circle\"},\"mode\":\"lines+markers\",\"name\":\"Superman\",\"orientation\":\"v\",\"showlegend\":true,\"x\":[1978,1980,1983,1987],\"xaxis\":\"x\",\"y\":[7.3,6.8,5.0,3.7],\"yaxis\":\"y\",\"type\":\"scatter\"},{\"customdata\":[[\"Taken\",\"Taken\"],[\"Taken 2\",\"Taken\"],[\"Taken 3\",\"Taken\"]],\"hovertemplate\":\"Movie Series=%{customdata[1]}<br>Release Year=%{x}<br>Rating=%{y}<br>Title=%{customdata[0]}<extra></extra>\",\"legendgroup\":\"Taken\",\"line\":{\"color\":\"#FF6692\",\"dash\":\"solid\",\"shape\":\"linear\"},\"marker\":{\"symbol\":\"circle\"},\"mode\":\"lines+markers\",\"name\":\"Taken\",\"orientation\":\"v\",\"showlegend\":true,\"x\":[2008,2012,2014],\"xaxis\":\"x\",\"y\":[7.8,6.3,6.0],\"yaxis\":\"y\",\"type\":\"scatter\"},{\"customdata\":[[\"Taxi\",\"Taxi\"],[\"Taxi 2\",\"Taxi\"],[\"Taxi 3\",\"Taxi\"],[\"Taxi 4\",\"Taxi\"]],\"hovertemplate\":\"Movie Series=%{customdata[1]}<br>Release Year=%{x}<br>Rating=%{y}<br>Title=%{customdata[0]}<extra></extra>\",\"legendgroup\":\"Taxi\",\"line\":{\"color\":\"#B6E880\",\"dash\":\"solid\",\"shape\":\"linear\"},\"marker\":{\"symbol\":\"circle\"},\"mode\":\"lines+markers\",\"name\":\"Taxi\",\"orientation\":\"v\",\"showlegend\":true,\"x\":[1998,2000,2003,2007],\"xaxis\":\"x\",\"y\":[7.0,6.5,5.8,5.6],\"yaxis\":\"y\",\"type\":\"scatter\"},{\"customdata\":[[\"Ted\",\"Ted\"],[\"Ted 2\",\"Ted\"]],\"hovertemplate\":\"Movie Series=%{customdata[1]}<br>Release Year=%{x}<br>Rating=%{y}<br>Title=%{customdata[0]}<extra></extra>\",\"legendgroup\":\"Ted\",\"line\":{\"color\":\"#FF97FF\",\"dash\":\"solid\",\"shape\":\"linear\"},\"marker\":{\"symbol\":\"circle\"},\"mode\":\"lines+markers\",\"name\":\"Ted\",\"orientation\":\"v\",\"showlegend\":true,\"x\":[2012,2015],\"xaxis\":\"x\",\"y\":[6.9,6.3],\"yaxis\":\"y\",\"type\":\"scatter\"},{\"customdata\":[[\"Teenage Mutant Ninja Turtles\",\"Teenage Mutant Ninja Turtles\"],[\"Teenage Mutant Ninja Turtles: Out of the Shadows\",\"Teenage Mutant Ninja Turtles\"]],\"hovertemplate\":\"Movie Series=%{customdata[1]}<br>Release Year=%{x}<br>Rating=%{y}<br>Title=%{customdata[0]}<extra></extra>\",\"legendgroup\":\"Teenage Mutant Ninja Turtles\",\"line\":{\"color\":\"#FECB52\",\"dash\":\"solid\",\"shape\":\"linear\"},\"marker\":{\"symbol\":\"circle\"},\"mode\":\"lines+markers\",\"name\":\"Teenage Mutant Ninja Turtles\",\"orientation\":\"v\",\"showlegend\":true,\"x\":[2014,2016],\"xaxis\":\"x\",\"y\":[5.8,6.0],\"yaxis\":\"y\",\"type\":\"scatter\"},{\"customdata\":[[\"The Terminator\",\"Terminator\"],[\"Terminator 2: Judgment Day\",\"Terminator\"],[\"Terminator 3: Rise of the Machines\",\"Terminator\"],[\"Terminator Salvation\",\"Terminator\"]],\"hovertemplate\":\"Movie Series=%{customdata[1]}<br>Release Year=%{x}<br>Rating=%{y}<br>Title=%{customdata[0]}<extra></extra>\",\"legendgroup\":\"Terminator\",\"line\":{\"color\":\"#636efa\",\"dash\":\"solid\",\"shape\":\"linear\"},\"marker\":{\"symbol\":\"circle\"},\"mode\":\"lines+markers\",\"name\":\"Terminator\",\"orientation\":\"v\",\"showlegend\":true,\"x\":[1984,1991,2003,2009],\"xaxis\":\"x\",\"y\":[8.0,8.5,6.3,6.5],\"yaxis\":\"y\",\"type\":\"scatter\"},{\"customdata\":[[\"The Amazing Spider-Man\",\"The Amazing Spider-Man\"],[\"The Amazing Spider-Man 2\",\"The Amazing Spider-Man\"]],\"hovertemplate\":\"Movie Series=%{customdata[1]}<br>Release Year=%{x}<br>Rating=%{y}<br>Title=%{customdata[0]}<extra></extra>\",\"legendgroup\":\"The Amazing Spider-Man\",\"line\":{\"color\":\"#EF553B\",\"dash\":\"solid\",\"shape\":\"linear\"},\"marker\":{\"symbol\":\"circle\"},\"mode\":\"lines+markers\",\"name\":\"The Amazing Spider-Man\",\"orientation\":\"v\",\"showlegend\":true,\"x\":[2012,2014],\"xaxis\":\"x\",\"y\":[6.9,6.6],\"yaxis\":\"y\",\"type\":\"scatter\"},{\"customdata\":[[\"The Arrival\",\"The Arrival\"],[\"The Second Arrival\",\"The Arrival\"]],\"hovertemplate\":\"Movie Series=%{customdata[1]}<br>Release Year=%{x}<br>Rating=%{y}<br>Title=%{customdata[0]}<extra></extra>\",\"legendgroup\":\"The Arrival\",\"line\":{\"color\":\"#00cc96\",\"dash\":\"solid\",\"shape\":\"linear\"},\"marker\":{\"symbol\":\"circle\"},\"mode\":\"lines+markers\",\"name\":\"The Arrival\",\"orientation\":\"v\",\"showlegend\":true,\"x\":[1996,1998],\"xaxis\":\"x\",\"y\":[6.3,3.8],\"yaxis\":\"y\",\"type\":\"scatter\"},{\"customdata\":[[\"The Avengers\",\"The Avengers\"],[\"Avengers: Age of Ultron\",\"The Avengers\"],[\"Avengers: Infinity War\",\"The Avengers\"],[\"Avengers: Endgame\",\"The Avengers\"]],\"hovertemplate\":\"Movie Series=%{customdata[1]}<br>Release Year=%{x}<br>Rating=%{y}<br>Title=%{customdata[0]}<extra></extra>\",\"legendgroup\":\"The Avengers\",\"line\":{\"color\":\"#ab63fa\",\"dash\":\"solid\",\"shape\":\"linear\"},\"marker\":{\"symbol\":\"circle\"},\"mode\":\"lines+markers\",\"name\":\"The Avengers\",\"orientation\":\"v\",\"showlegend\":true,\"x\":[2012,2015,2018,2019],\"xaxis\":\"x\",\"y\":[8.0,7.3,8.5,8.4],\"yaxis\":\"y\",\"type\":\"scatter\"},{\"customdata\":[[\"The Best Man\",\"The Best Man\"],[\"The Best Man Holiday\",\"The Best Man\"]],\"hovertemplate\":\"Movie Series=%{customdata[1]}<br>Release Year=%{x}<br>Rating=%{y}<br>Title=%{customdata[0]}<extra></extra>\",\"legendgroup\":\"The Best Man\",\"line\":{\"color\":\"#FFA15A\",\"dash\":\"solid\",\"shape\":\"linear\"},\"marker\":{\"symbol\":\"circle\"},\"mode\":\"lines+markers\",\"name\":\"The Best Man\",\"orientation\":\"v\",\"showlegend\":true,\"x\":[1999,2013],\"xaxis\":\"x\",\"y\":[6.8,6.7],\"yaxis\":\"y\",\"type\":\"scatter\"},{\"customdata\":[[\"The Boondock Saints\",\"The Boondock Saints\"],[\"The Boondock Saints II: All Saints Day\",\"The Boondock Saints\"]],\"hovertemplate\":\"Movie Series=%{customdata[1]}<br>Release Year=%{x}<br>Rating=%{y}<br>Title=%{customdata[0]}<extra></extra>\",\"legendgroup\":\"The Boondock Saints\",\"line\":{\"color\":\"#19d3f3\",\"dash\":\"solid\",\"shape\":\"linear\"},\"marker\":{\"symbol\":\"circle\"},\"mode\":\"lines+markers\",\"name\":\"The Boondock Saints\",\"orientation\":\"v\",\"showlegend\":true,\"x\":[1999,2009],\"xaxis\":\"x\",\"y\":[7.8,6.3],\"yaxis\":\"y\",\"type\":\"scatter\"},{\"customdata\":[[\"The Bourne Identity\",\"The Bourne Identity\"],[\"The Bourne Supremacy\",\"The Bourne Identity\"],[\"The Bourne Ultimatum\",\"The Bourne Identity\"],[\"The Bourne Legacy\",\"The Bourne Identity\"]],\"hovertemplate\":\"Movie Series=%{customdata[1]}<br>Release Year=%{x}<br>Rating=%{y}<br>Title=%{customdata[0]}<extra></extra>\",\"legendgroup\":\"The Bourne Identity\",\"line\":{\"color\":\"#FF6692\",\"dash\":\"solid\",\"shape\":\"linear\"},\"marker\":{\"symbol\":\"circle\"},\"mode\":\"lines+markers\",\"name\":\"The Bourne Identity\",\"orientation\":\"v\",\"showlegend\":true,\"x\":[2002,2004,2007,2012],\"xaxis\":\"x\",\"y\":[7.9,7.7,8.0,6.7],\"yaxis\":\"y\",\"type\":\"scatter\"},{\"customdata\":[[\"The Butterfly Effect\",\"The Butterfly Effect\"],[\"The Butterfly Effect 2\",\"The Butterfly Effect\"],[\"The Butterfly Effect 3: Revelations\",\"The Butterfly Effect\"]],\"hovertemplate\":\"Movie Series=%{customdata[1]}<br>Release Year=%{x}<br>Rating=%{y}<br>Title=%{customdata[0]}<extra></extra>\",\"legendgroup\":\"The Butterfly Effect\",\"line\":{\"color\":\"#B6E880\",\"dash\":\"solid\",\"shape\":\"linear\"},\"marker\":{\"symbol\":\"circle\"},\"mode\":\"lines+markers\",\"name\":\"The Butterfly Effect\",\"orientation\":\"v\",\"showlegend\":true,\"x\":[2004,2006,2009],\"xaxis\":\"x\",\"y\":[7.6,4.5,5.6],\"yaxis\":\"y\",\"type\":\"scatter\"},{\"customdata\":[[\"The Chronicles of Riddick\",\"The Chronicles of Riddick\"],[\"Riddick\",\"The Chronicles of Riddick\"]],\"hovertemplate\":\"Movie Series=%{customdata[1]}<br>Release Year=%{x}<br>Rating=%{y}<br>Title=%{customdata[0]}<extra></extra>\",\"legendgroup\":\"The Chronicles of Riddick\",\"line\":{\"color\":\"#FF97FF\",\"dash\":\"solid\",\"shape\":\"linear\"},\"marker\":{\"symbol\":\"circle\"},\"mode\":\"lines+markers\",\"name\":\"The Chronicles of Riddick\",\"orientation\":\"v\",\"showlegend\":true,\"x\":[2004,2013],\"xaxis\":\"x\",\"y\":[6.7,6.4],\"yaxis\":\"y\",\"type\":\"scatter\"},{\"customdata\":[[\"The Collector\",\"The Collector\"],[\"The Collection\",\"The Collector\"]],\"hovertemplate\":\"Movie Series=%{customdata[1]}<br>Release Year=%{x}<br>Rating=%{y}<br>Title=%{customdata[0]}<extra></extra>\",\"legendgroup\":\"The Collector\",\"line\":{\"color\":\"#FECB52\",\"dash\":\"solid\",\"shape\":\"linear\"},\"marker\":{\"symbol\":\"circle\"},\"mode\":\"lines+markers\",\"name\":\"The Collector\",\"orientation\":\"v\",\"showlegend\":true,\"x\":[2009,2012],\"xaxis\":\"x\",\"y\":[6.4,6.1],\"yaxis\":\"y\",\"type\":\"scatter\"},{\"customdata\":[[\"The Conjuring\",\"The Conjuring\"],[\"The Conjuring 2\",\"The Conjuring\"],[\"The Conjuring: The Devil Made Me Do It\",\"The Conjuring\"]],\"hovertemplate\":\"Movie Series=%{customdata[1]}<br>Release Year=%{x}<br>Rating=%{y}<br>Title=%{customdata[0]}<extra></extra>\",\"legendgroup\":\"The Conjuring\",\"line\":{\"color\":\"#636efa\",\"dash\":\"solid\",\"shape\":\"linear\"},\"marker\":{\"symbol\":\"circle\"},\"mode\":\"lines+markers\",\"name\":\"The Conjuring\",\"orientation\":\"v\",\"showlegend\":true,\"x\":[2013,2016,2020],\"xaxis\":\"x\",\"y\":[7.5,7.3,6.3],\"yaxis\":\"y\",\"type\":\"scatter\"},{\"customdata\":[[\"The Crow\",\"The Crow\"],[\"The Crow: City of Angels\",\"The Crow\"],[\"The Crow: Salvation\",\"The Crow\"],[\"The Crow: Wicked Prayer\",\"The Crow\"]],\"hovertemplate\":\"Movie Series=%{customdata[1]}<br>Release Year=%{x}<br>Rating=%{y}<br>Title=%{customdata[0]}<extra></extra>\",\"legendgroup\":\"The Crow\",\"line\":{\"color\":\"#EF553B\",\"dash\":\"solid\",\"shape\":\"linear\"},\"marker\":{\"symbol\":\"circle\"},\"mode\":\"lines+markers\",\"name\":\"The Crow\",\"orientation\":\"v\",\"showlegend\":true,\"x\":[1994,1996,2000,2005],\"xaxis\":\"x\",\"y\":[7.6,4.7,4.9,3.0],\"yaxis\":\"y\",\"type\":\"scatter\"},{\"customdata\":[[\"The Da Vinci Code\",\"The Da Vinci Code\"],[\"Angels & Demons\",\"The Da Vinci Code\"]],\"hovertemplate\":\"Movie Series=%{customdata[1]}<br>Release Year=%{x}<br>Rating=%{y}<br>Title=%{customdata[0]}<extra></extra>\",\"legendgroup\":\"The Da Vinci Code\",\"line\":{\"color\":\"#00cc96\",\"dash\":\"solid\",\"shape\":\"linear\"},\"marker\":{\"symbol\":\"circle\"},\"mode\":\"lines+markers\",\"name\":\"The Da Vinci Code\",\"orientation\":\"v\",\"showlegend\":true,\"x\":[2006,2009],\"xaxis\":\"x\",\"y\":[6.6,6.7],\"yaxis\":\"y\",\"type\":\"scatter\"},{\"customdata\":[[\"The Dead\",\"The Dead\"],[\"The Dead 2: India\",\"The Dead\"]],\"hovertemplate\":\"Movie Series=%{customdata[1]}<br>Release Year=%{x}<br>Rating=%{y}<br>Title=%{customdata[0]}<extra></extra>\",\"legendgroup\":\"The Dead\",\"line\":{\"color\":\"#ab63fa\",\"dash\":\"solid\",\"shape\":\"linear\"},\"marker\":{\"symbol\":\"circle\"},\"mode\":\"lines+markers\",\"name\":\"The Dead\",\"orientation\":\"v\",\"showlegend\":true,\"x\":[2010,2013],\"xaxis\":\"x\",\"y\":[5.7,5.1],\"yaxis\":\"y\",\"type\":\"scatter\"},{\"customdata\":[[\"The Descent\",\"The Descent\"],[\"The Descent: Part 2\",\"The Descent\"]],\"hovertemplate\":\"Movie Series=%{customdata[1]}<br>Release Year=%{x}<br>Rating=%{y}<br>Title=%{customdata[0]}<extra></extra>\",\"legendgroup\":\"The Descent\",\"line\":{\"color\":\"#FFA15A\",\"dash\":\"solid\",\"shape\":\"linear\"},\"marker\":{\"symbol\":\"circle\"},\"mode\":\"lines+markers\",\"name\":\"The Descent\",\"orientation\":\"v\",\"showlegend\":true,\"x\":[2005,2009],\"xaxis\":\"x\",\"y\":[7.2,5.8],\"yaxis\":\"y\",\"type\":\"scatter\"},{\"customdata\":[[\"The Equalizer\",\"The Equalizer\"],[\"The Equalizer 2\",\"The Equalizer\"]],\"hovertemplate\":\"Movie Series=%{customdata[1]}<br>Release Year=%{x}<br>Rating=%{y}<br>Title=%{customdata[0]}<extra></extra>\",\"legendgroup\":\"The Equalizer\",\"line\":{\"color\":\"#19d3f3\",\"dash\":\"solid\",\"shape\":\"linear\"},\"marker\":{\"symbol\":\"circle\"},\"mode\":\"lines+markers\",\"name\":\"The Equalizer\",\"orientation\":\"v\",\"showlegend\":true,\"x\":[2014,2018],\"xaxis\":\"x\",\"y\":[7.2,6.7],\"yaxis\":\"y\",\"type\":\"scatter\"},{\"customdata\":[[\"The Evil Dead\",\"The Evil Dead\"],[\"Evil Dead II\",\"The Evil Dead\"]],\"hovertemplate\":\"Movie Series=%{customdata[1]}<br>Release Year=%{x}<br>Rating=%{y}<br>Title=%{customdata[0]}<extra></extra>\",\"legendgroup\":\"The Evil Dead\",\"line\":{\"color\":\"#FF6692\",\"dash\":\"solid\",\"shape\":\"linear\"},\"marker\":{\"symbol\":\"circle\"},\"mode\":\"lines+markers\",\"name\":\"The Evil Dead\",\"orientation\":\"v\",\"showlegend\":true,\"x\":[1981,1987],\"xaxis\":\"x\",\"y\":[7.5,7.8],\"yaxis\":\"y\",\"type\":\"scatter\"},{\"customdata\":[[\"The Exorcist\",\"The Exorcist\"],[\"Exorcist II: The Heretic\",\"The Exorcist\"],[\"The Exorcist III\",\"The Exorcist\"],[\"Exorcist: The Beginning\",\"The Exorcist\"],[\"The Last Exorcism\",\"The Exorcist\"]],\"hovertemplate\":\"Movie Series=%{customdata[1]}<br>Release Year=%{x}<br>Rating=%{y}<br>Title=%{customdata[0]}<extra></extra>\",\"legendgroup\":\"The Exorcist\",\"line\":{\"color\":\"#B6E880\",\"dash\":\"solid\",\"shape\":\"linear\"},\"marker\":{\"symbol\":\"circle\"},\"mode\":\"lines+markers\",\"name\":\"The Exorcist\",\"orientation\":\"v\",\"showlegend\":true,\"x\":[1973,1977,1990,2004,2010],\"xaxis\":\"x\",\"y\":[8.0,3.8,6.4,5.2,5.6],\"yaxis\":\"y\",\"type\":\"scatter\"},{\"customdata\":[[\"The Expendables\",\"The Expendables\"],[\"The Expendables 2\",\"The Expendables\"]],\"hovertemplate\":\"Movie Series=%{customdata[1]}<br>Release Year=%{x}<br>Rating=%{y}<br>Title=%{customdata[0]}<extra></extra>\",\"legendgroup\":\"The Expendables\",\"line\":{\"color\":\"#FF97FF\",\"dash\":\"solid\",\"shape\":\"linear\"},\"marker\":{\"symbol\":\"circle\"},\"mode\":\"lines+markers\",\"name\":\"The Expendables\",\"orientation\":\"v\",\"showlegend\":true,\"x\":[2010,2012],\"xaxis\":\"x\",\"y\":[6.5,6.6],\"yaxis\":\"y\",\"type\":\"scatter\"},{\"customdata\":[[\"The Fast and the Furious\",\"The Fast and the Furious\"],[\"2 Fast 2 Furious\",\"The Fast and the Furious\"],[\"The Fast and the Furious: Tokyo Drift\",\"The Fast and the Furious\"],[\"Fast & Furious\",\"The Fast and the Furious\"],[\"Fast Five\",\"The Fast and the Furious\"]],\"hovertemplate\":\"Movie Series=%{customdata[1]}<br>Release Year=%{x}<br>Rating=%{y}<br>Title=%{customdata[0]}<extra></extra>\",\"legendgroup\":\"The Fast and the Furious\",\"line\":{\"color\":\"#FECB52\",\"dash\":\"solid\",\"shape\":\"linear\"},\"marker\":{\"symbol\":\"circle\"},\"mode\":\"lines+markers\",\"name\":\"The Fast and the Furious\",\"orientation\":\"v\",\"showlegend\":true,\"x\":[2001,2003,2006,2009,2011],\"xaxis\":\"x\",\"y\":[6.8,5.9,6.0,6.6,7.3],\"yaxis\":\"y\",\"type\":\"scatter\"},{\"customdata\":[[\"The Fly\",\"The Fly\"],[\"The Fly II\",\"The Fly\"]],\"hovertemplate\":\"Movie Series=%{customdata[1]}<br>Release Year=%{x}<br>Rating=%{y}<br>Title=%{customdata[0]}<extra></extra>\",\"legendgroup\":\"The Fly\",\"line\":{\"color\":\"#636efa\",\"dash\":\"solid\",\"shape\":\"linear\"},\"marker\":{\"symbol\":\"circle\"},\"mode\":\"lines+markers\",\"name\":\"The Fly\",\"orientation\":\"v\",\"showlegend\":true,\"x\":[1986,1989],\"xaxis\":\"x\",\"y\":[7.6,5.1],\"yaxis\":\"y\",\"type\":\"scatter\"},{\"customdata\":[[\"The French Connection\",\"The French Connection\"],[\"French Connection II\",\"The French Connection\"]],\"hovertemplate\":\"Movie Series=%{customdata[1]}<br>Release Year=%{x}<br>Rating=%{y}<br>Title=%{customdata[0]}<extra></extra>\",\"legendgroup\":\"The French Connection\",\"line\":{\"color\":\"#EF553B\",\"dash\":\"solid\",\"shape\":\"linear\"},\"marker\":{\"symbol\":\"circle\"},\"mode\":\"lines+markers\",\"name\":\"The French Connection\",\"orientation\":\"v\",\"showlegend\":true,\"x\":[1971,1975],\"xaxis\":\"x\",\"y\":[7.7,6.8],\"yaxis\":\"y\",\"type\":\"scatter\"},{\"customdata\":[[\"The Godfather\",\"The Godfather\"],[\"The Godfather: Part II\",\"The Godfather\"],[\"The Godfather: Part III\",\"The Godfather\"]],\"hovertemplate\":\"Movie Series=%{customdata[1]}<br>Release Year=%{x}<br>Rating=%{y}<br>Title=%{customdata[0]}<extra></extra>\",\"legendgroup\":\"The Godfather\",\"line\":{\"color\":\"#00cc96\",\"dash\":\"solid\",\"shape\":\"linear\"},\"marker\":{\"symbol\":\"circle\"},\"mode\":\"lines+markers\",\"name\":\"The Godfather\",\"orientation\":\"v\",\"showlegend\":true,\"x\":[1972,1974,1990],\"xaxis\":\"x\",\"y\":[9.2,9.0,7.6],\"yaxis\":\"y\",\"type\":\"scatter\"},{\"customdata\":[[\"The Grudge\",\"The Grudge\"],[\"The Grudge 2\",\"The Grudge\"],[\"The Grudge 3\",\"The Grudge\"]],\"hovertemplate\":\"Movie Series=%{customdata[1]}<br>Release Year=%{x}<br>Rating=%{y}<br>Title=%{customdata[0]}<extra></extra>\",\"legendgroup\":\"The Grudge\",\"line\":{\"color\":\"#ab63fa\",\"dash\":\"solid\",\"shape\":\"linear\"},\"marker\":{\"symbol\":\"circle\"},\"mode\":\"lines+markers\",\"name\":\"The Grudge\",\"orientation\":\"v\",\"showlegend\":true,\"x\":[2004,2006,2009],\"xaxis\":\"x\",\"y\":[5.9,5.1,4.7],\"yaxis\":\"y\",\"type\":\"scatter\"},{\"customdata\":[[\"The Hangover\",\"The Hangover\"],[\"The Hangover Part II\",\"The Hangover\"],[\"The Hangover Part III\",\"The Hangover\"]],\"hovertemplate\":\"Movie Series=%{customdata[1]}<br>Release Year=%{x}<br>Rating=%{y}<br>Title=%{customdata[0]}<extra></extra>\",\"legendgroup\":\"The Hangover\",\"line\":{\"color\":\"#FFA15A\",\"dash\":\"solid\",\"shape\":\"linear\"},\"marker\":{\"symbol\":\"circle\"},\"mode\":\"lines+markers\",\"name\":\"The Hangover\",\"orientation\":\"v\",\"showlegend\":true,\"x\":[2009,2011,2013],\"xaxis\":\"x\",\"y\":[7.7,6.4,5.8],\"yaxis\":\"y\",\"type\":\"scatter\"},{\"customdata\":[[\"The Hills Have Eyes\",\"The Hills Have Eyes\"],[\"The Hills Have Eyes Part II\",\"The Hills Have Eyes\"],[\"The Hills Have Eyes\",\"The Hills Have Eyes\"],[\"The Hills Have Eyes II\",\"The Hills Have Eyes\"]],\"hovertemplate\":\"Movie Series=%{customdata[1]}<br>Release Year=%{x}<br>Rating=%{y}<br>Title=%{customdata[0]}<extra></extra>\",\"legendgroup\":\"The Hills Have Eyes\",\"line\":{\"color\":\"#19d3f3\",\"dash\":\"solid\",\"shape\":\"linear\"},\"marker\":{\"symbol\":\"circle\"},\"mode\":\"lines+markers\",\"name\":\"The Hills Have Eyes\",\"orientation\":\"v\",\"showlegend\":true,\"x\":[1977,1984,2006,2007],\"xaxis\":\"x\",\"y\":[6.3,3.8,6.4,5.1],\"yaxis\":\"y\",\"type\":\"scatter\"},{\"customdata\":[[\"The Hobbit: An Unexpected Journey\",\"The Hobbit\"],[\"The Hobbit: The Desolation of Smaug\",\"The Hobbit\"],[\"The Hobbit: The Battle of the Five Armies\",\"The Hobbit\"]],\"hovertemplate\":\"Movie Series=%{customdata[1]}<br>Release Year=%{x}<br>Rating=%{y}<br>Title=%{customdata[0]}<extra></extra>\",\"legendgroup\":\"The Hobbit\",\"line\":{\"color\":\"#FF6692\",\"dash\":\"solid\",\"shape\":\"linear\"},\"marker\":{\"symbol\":\"circle\"},\"mode\":\"lines+markers\",\"name\":\"The Hobbit\",\"orientation\":\"v\",\"showlegend\":true,\"x\":[2012,2013,2014],\"xaxis\":\"x\",\"y\":[7.8,7.8,7.4],\"yaxis\":\"y\",\"type\":\"scatter\"},{\"customdata\":[[\"The Hunger Games\",\"The Hunger Games\"],[\"The Hunger Games: Catching Fire\",\"The Hunger Games\"],[\"The Hunger Games: Mockingjay - Part 1\",\"The Hunger Games\"],[\"The Hunger Games: Mockingjay - Part 2\",\"The Hunger Games\"]],\"hovertemplate\":\"Movie Series=%{customdata[1]}<br>Release Year=%{x}<br>Rating=%{y}<br>Title=%{customdata[0]}<extra></extra>\",\"legendgroup\":\"The Hunger Games\",\"line\":{\"color\":\"#B6E880\",\"dash\":\"solid\",\"shape\":\"linear\"},\"marker\":{\"symbol\":\"circle\"},\"mode\":\"lines+markers\",\"name\":\"The Hunger Games\",\"orientation\":\"v\",\"showlegend\":true,\"x\":[2012,2013,2014,2015],\"xaxis\":\"x\",\"y\":[7.2,7.5,6.6,6.5],\"yaxis\":\"y\",\"type\":\"scatter\"},{\"customdata\":[[\"Hulk\",\"The Incredible Hulk\"],[\"The Incredible Hulk\",\"The Incredible Hulk\"]],\"hovertemplate\":\"Movie Series=%{customdata[1]}<br>Release Year=%{x}<br>Rating=%{y}<br>Title=%{customdata[0]}<extra></extra>\",\"legendgroup\":\"The Incredible Hulk\",\"line\":{\"color\":\"#FF97FF\",\"dash\":\"solid\",\"shape\":\"linear\"},\"marker\":{\"symbol\":\"circle\"},\"mode\":\"lines+markers\",\"name\":\"The Incredible Hulk\",\"orientation\":\"v\",\"showlegend\":true,\"x\":[2003,2008],\"xaxis\":\"x\",\"y\":[5.6,6.7],\"yaxis\":\"y\",\"type\":\"scatter\"},{\"customdata\":[[\"The Incredibles\",\"The Incredibles\"],[\"Incredibles 2\",\"The Incredibles\"]],\"hovertemplate\":\"Movie Series=%{customdata[1]}<br>Release Year=%{x}<br>Rating=%{y}<br>Title=%{customdata[0]}<extra></extra>\",\"legendgroup\":\"The Incredibles\",\"line\":{\"color\":\"#FECB52\",\"dash\":\"solid\",\"shape\":\"linear\"},\"marker\":{\"symbol\":\"circle\"},\"mode\":\"lines+markers\",\"name\":\"The Incredibles\",\"orientation\":\"v\",\"showlegend\":true,\"x\":[2004,2018],\"xaxis\":\"x\",\"y\":[8.0,7.6],\"yaxis\":\"y\",\"type\":\"scatter\"},{\"customdata\":[[\"The Karate Kid\",\"The Karate Kid\"],[\"The Karate Kid Part II\",\"The Karate Kid\"],[\"The Karate Kid Part III\",\"The Karate Kid\"],[\"The Karate Kid\",\"The Karate Kid\"]],\"hovertemplate\":\"Movie Series=%{customdata[1]}<br>Release Year=%{x}<br>Rating=%{y}<br>Title=%{customdata[0]}<extra></extra>\",\"legendgroup\":\"The Karate Kid\",\"line\":{\"color\":\"#636efa\",\"dash\":\"solid\",\"shape\":\"linear\"},\"marker\":{\"symbol\":\"circle\"},\"mode\":\"lines+markers\",\"name\":\"The Karate Kid\",\"orientation\":\"v\",\"showlegend\":true,\"x\":[1984,1986,1989,2010],\"xaxis\":\"x\",\"y\":[7.2,6.0,5.2,6.2],\"yaxis\":\"y\",\"type\":\"scatter\"},{\"customdata\":[[\"The Lego Movie\",\"The Lego Movie\"],[\"The Lego Movie 2: The Second Part\",\"The Lego Movie\"]],\"hovertemplate\":\"Movie Series=%{customdata[1]}<br>Release Year=%{x}<br>Rating=%{y}<br>Title=%{customdata[0]}<extra></extra>\",\"legendgroup\":\"The Lego Movie\",\"line\":{\"color\":\"#EF553B\",\"dash\":\"solid\",\"shape\":\"linear\"},\"marker\":{\"symbol\":\"circle\"},\"mode\":\"lines+markers\",\"name\":\"The Lego Movie\",\"orientation\":\"v\",\"showlegend\":true,\"x\":[2014,2019],\"xaxis\":\"x\",\"y\":[7.7,6.6],\"yaxis\":\"y\",\"type\":\"scatter\"},{\"customdata\":[[\"The Lord of the Rings: The Fellowship of the Ring\",\"The Lord of the Rings\"],[\"The Lord of the Rings: The Two Towers\",\"The Lord of the Rings\"],[\"The Lord of the Rings: The Return of the King\",\"The Lord of the Rings\"]],\"hovertemplate\":\"Movie Series=%{customdata[1]}<br>Release Year=%{x}<br>Rating=%{y}<br>Title=%{customdata[0]}<extra></extra>\",\"legendgroup\":\"The Lord of the Rings\",\"line\":{\"color\":\"#00cc96\",\"dash\":\"solid\",\"shape\":\"linear\"},\"marker\":{\"symbol\":\"circle\"},\"mode\":\"lines+markers\",\"name\":\"The Lord of the Rings\",\"orientation\":\"v\",\"showlegend\":true,\"x\":[2001,2002,2003],\"xaxis\":\"x\",\"y\":[8.8,8.7,8.9],\"yaxis\":\"y\",\"type\":\"scatter\"},{\"customdata\":[[\"The Mask\",\"The Mask\"],[\"Son of the Mask\",\"The Mask\"]],\"hovertemplate\":\"Movie Series=%{customdata[1]}<br>Release Year=%{x}<br>Rating=%{y}<br>Title=%{customdata[0]}<extra></extra>\",\"legendgroup\":\"The Mask\",\"line\":{\"color\":\"#ab63fa\",\"dash\":\"solid\",\"shape\":\"linear\"},\"marker\":{\"symbol\":\"circle\"},\"mode\":\"lines+markers\",\"name\":\"The Mask\",\"orientation\":\"v\",\"showlegend\":true,\"x\":[1994,2005],\"xaxis\":\"x\",\"y\":[6.9,2.2],\"yaxis\":\"y\",\"type\":\"scatter\"},{\"customdata\":[[\"The Mask of Zorro\",\"The Mask of Zorro\"],[\"The Legend of Zorro\",\"The Mask of Zorro\"]],\"hovertemplate\":\"Movie Series=%{customdata[1]}<br>Release Year=%{x}<br>Rating=%{y}<br>Title=%{customdata[0]}<extra></extra>\",\"legendgroup\":\"The Mask of Zorro\",\"line\":{\"color\":\"#FFA15A\",\"dash\":\"solid\",\"shape\":\"linear\"},\"marker\":{\"symbol\":\"circle\"},\"mode\":\"lines+markers\",\"name\":\"The Mask of Zorro\",\"orientation\":\"v\",\"showlegend\":true,\"x\":[1998,2005],\"xaxis\":\"x\",\"y\":[6.7,6.0],\"yaxis\":\"y\",\"type\":\"scatter\"},{\"customdata\":[[\"The Matrix\",\"The Matrix\"],[\"The Matrix Reloaded\",\"The Matrix\"],[\"The Matrix Revolutions\",\"The Matrix\"]],\"hovertemplate\":\"Movie Series=%{customdata[1]}<br>Release Year=%{x}<br>Rating=%{y}<br>Title=%{customdata[0]}<extra></extra>\",\"legendgroup\":\"The Matrix\",\"line\":{\"color\":\"#19d3f3\",\"dash\":\"solid\",\"shape\":\"linear\"},\"marker\":{\"symbol\":\"circle\"},\"mode\":\"lines+markers\",\"name\":\"The Matrix\",\"orientation\":\"v\",\"showlegend\":true,\"x\":[1999,2003,2003],\"xaxis\":\"x\",\"y\":[8.7,7.2,6.8],\"yaxis\":\"y\",\"type\":\"scatter\"},{\"customdata\":[[\"The Mechanic\",\"The Mechanic\"],[\"Mechanic: Resurrection\",\"The Mechanic\"]],\"hovertemplate\":\"Movie Series=%{customdata[1]}<br>Release Year=%{x}<br>Rating=%{y}<br>Title=%{customdata[0]}<extra></extra>\",\"legendgroup\":\"The Mechanic\",\"line\":{\"color\":\"#FF6692\",\"dash\":\"solid\",\"shape\":\"linear\"},\"marker\":{\"symbol\":\"circle\"},\"mode\":\"lines+markers\",\"name\":\"The Mechanic\",\"orientation\":\"v\",\"showlegend\":true,\"x\":[2011,2016],\"xaxis\":\"x\",\"y\":[6.6,5.7],\"yaxis\":\"y\",\"type\":\"scatter\"},{\"customdata\":[[\"The Mummy\",\"The Mummy\"],[\"The Mummy Returns\",\"The Mummy\"],[\"The Mummy: Tomb of the Dragon Emperor\",\"The Mummy\"]],\"hovertemplate\":\"Movie Series=%{customdata[1]}<br>Release Year=%{x}<br>Rating=%{y}<br>Title=%{customdata[0]}<extra></extra>\",\"legendgroup\":\"The Mummy\",\"line\":{\"color\":\"#B6E880\",\"dash\":\"solid\",\"shape\":\"linear\"},\"marker\":{\"symbol\":\"circle\"},\"mode\":\"lines+markers\",\"name\":\"The Mummy\",\"orientation\":\"v\",\"showlegend\":true,\"x\":[1999,2001,2008],\"xaxis\":\"x\",\"y\":[7.0,6.3,5.2],\"yaxis\":\"y\",\"type\":\"scatter\"},{\"customdata\":[[\"The Muppet Movie\",\"The Muppets\"],[\"The Great Muppet Caper\",\"The Muppets\"],[\"The Muppets Take Manhattan\",\"The Muppets\"],[\"Muppets from Space\",\"The Muppets\"],[\"The Muppets\",\"The Muppets\"],[\"Muppets Most Wanted\",\"The Muppets\"]],\"hovertemplate\":\"Movie Series=%{customdata[1]}<br>Release Year=%{x}<br>Rating=%{y}<br>Title=%{customdata[0]}<extra></extra>\",\"legendgroup\":\"The Muppets\",\"line\":{\"color\":\"#FF97FF\",\"dash\":\"solid\",\"shape\":\"linear\"},\"marker\":{\"symbol\":\"circle\"},\"mode\":\"lines+markers\",\"name\":\"The Muppets\",\"orientation\":\"v\",\"showlegend\":true,\"x\":[1979,1981,1984,1999,2011,2014],\"xaxis\":\"x\",\"y\":[7.6,7.2,6.9,6.3,7.1,6.4],\"yaxis\":\"y\",\"type\":\"scatter\"},{\"customdata\":[[\"The Naked Gun: From the Files of Police Squad!\",\"The Naked Gun\"],[\"The Naked Gun 2\\u00bd: The Smell of Fear\",\"The Naked Gun\"],[\"Naked Gun 33 1/3: The Final Insult\",\"The Naked Gun\"]],\"hovertemplate\":\"Movie Series=%{customdata[1]}<br>Release Year=%{x}<br>Rating=%{y}<br>Title=%{customdata[0]}<extra></extra>\",\"legendgroup\":\"The Naked Gun\",\"line\":{\"color\":\"#FECB52\",\"dash\":\"solid\",\"shape\":\"linear\"},\"marker\":{\"symbol\":\"circle\"},\"mode\":\"lines+markers\",\"name\":\"The Naked Gun\",\"orientation\":\"v\",\"showlegend\":true,\"x\":[1988,1991,1994],\"xaxis\":\"x\",\"y\":[7.6,6.9,6.5],\"yaxis\":\"y\",\"type\":\"scatter\"},{\"customdata\":[[\"The Nutty Professor\",\"The Nutty Professor\"],[\"Nutty Professor II: The Klumps\",\"The Nutty Professor\"]],\"hovertemplate\":\"Movie Series=%{customdata[1]}<br>Release Year=%{x}<br>Rating=%{y}<br>Title=%{customdata[0]}<extra></extra>\",\"legendgroup\":\"The Nutty Professor\",\"line\":{\"color\":\"#636efa\",\"dash\":\"solid\",\"shape\":\"linear\"},\"marker\":{\"symbol\":\"circle\"},\"mode\":\"lines+markers\",\"name\":\"The Nutty Professor\",\"orientation\":\"v\",\"showlegend\":true,\"x\":[1996,2000],\"xaxis\":\"x\",\"y\":[5.6,4.4],\"yaxis\":\"y\",\"type\":\"scatter\"},{\"customdata\":[[\"The Pink Panther\",\"The Pink Panther\"],[\"The Pink Panther 2\",\"The Pink Panther\"]],\"hovertemplate\":\"Movie Series=%{customdata[1]}<br>Release Year=%{x}<br>Rating=%{y}<br>Title=%{customdata[0]}<extra></extra>\",\"legendgroup\":\"The Pink Panther\",\"line\":{\"color\":\"#EF553B\",\"dash\":\"solid\",\"shape\":\"linear\"},\"marker\":{\"symbol\":\"circle\"},\"mode\":\"lines+markers\",\"name\":\"The Pink Panther\",\"orientation\":\"v\",\"showlegend\":true,\"x\":[2006,2009],\"xaxis\":\"x\",\"y\":[5.7,5.6],\"yaxis\":\"y\",\"type\":\"scatter\"},{\"customdata\":[[\"The Princess Diaries\",\"The Princess Diaries\"],[\"The Princess Diaries 2: Royal Engagement\",\"The Princess Diaries\"]],\"hovertemplate\":\"Movie Series=%{customdata[1]}<br>Release Year=%{x}<br>Rating=%{y}<br>Title=%{customdata[0]}<extra></extra>\",\"legendgroup\":\"The Princess Diaries\",\"line\":{\"color\":\"#00cc96\",\"dash\":\"solid\",\"shape\":\"linear\"},\"marker\":{\"symbol\":\"circle\"},\"mode\":\"lines+markers\",\"name\":\"The Princess Diaries\",\"orientation\":\"v\",\"showlegend\":true,\"x\":[2001,2004],\"xaxis\":\"x\",\"y\":[6.3,5.8],\"yaxis\":\"y\",\"type\":\"scatter\"},{\"customdata\":[[\"The Punisher\",\"The Punisher\"],[\"Punisher: War Zone\",\"The Punisher\"]],\"hovertemplate\":\"Movie Series=%{customdata[1]}<br>Release Year=%{x}<br>Rating=%{y}<br>Title=%{customdata[0]}<extra></extra>\",\"legendgroup\":\"The Punisher\",\"line\":{\"color\":\"#ab63fa\",\"dash\":\"solid\",\"shape\":\"linear\"},\"marker\":{\"symbol\":\"circle\"},\"mode\":\"lines+markers\",\"name\":\"The Punisher\",\"orientation\":\"v\",\"showlegend\":true,\"x\":[2004,2008],\"xaxis\":\"x\",\"y\":[6.4,5.9],\"yaxis\":\"y\",\"type\":\"scatter\"},{\"customdata\":[[\"The Purge\",\"The Purge\"],[\"The Purge: Anarchy\",\"The Purge\"],[\"The Purge: Election Year\",\"The Purge\"]],\"hovertemplate\":\"Movie Series=%{customdata[1]}<br>Release Year=%{x}<br>Rating=%{y}<br>Title=%{customdata[0]}<extra></extra>\",\"legendgroup\":\"The Purge\",\"line\":{\"color\":\"#FFA15A\",\"dash\":\"solid\",\"shape\":\"linear\"},\"marker\":{\"symbol\":\"circle\"},\"mode\":\"lines+markers\",\"name\":\"The Purge\",\"orientation\":\"v\",\"showlegend\":true,\"x\":[2013,2014,2016],\"xaxis\":\"x\",\"y\":[5.7,6.4,6.0],\"yaxis\":\"y\",\"type\":\"scatter\"},{\"customdata\":[[\"The Ring\",\"The Ring\"],[\"The Ring Two\",\"The Ring\"]],\"hovertemplate\":\"Movie Series=%{customdata[1]}<br>Release Year=%{x}<br>Rating=%{y}<br>Title=%{customdata[0]}<extra></extra>\",\"legendgroup\":\"The Ring\",\"line\":{\"color\":\"#19d3f3\",\"dash\":\"solid\",\"shape\":\"linear\"},\"marker\":{\"symbol\":\"circle\"},\"mode\":\"lines+markers\",\"name\":\"The Ring\",\"orientation\":\"v\",\"showlegend\":true,\"x\":[2002,2005],\"xaxis\":\"x\",\"y\":[7.1,5.4],\"yaxis\":\"y\",\"type\":\"scatter\"},{\"customdata\":[[\"The Santa Clause\",\"The Santa Clause\"],[\"The Santa Clause 2\",\"The Santa Clause\"],[\"The Santa Clause 3: The Escape Clause\",\"The Santa Clause\"]],\"hovertemplate\":\"Movie Series=%{customdata[1]}<br>Release Year=%{x}<br>Rating=%{y}<br>Title=%{customdata[0]}<extra></extra>\",\"legendgroup\":\"The Santa Clause\",\"line\":{\"color\":\"#FF6692\",\"dash\":\"solid\",\"shape\":\"linear\"},\"marker\":{\"symbol\":\"circle\"},\"mode\":\"lines+markers\",\"name\":\"The Santa Clause\",\"orientation\":\"v\",\"showlegend\":true,\"x\":[1994,2002,2006],\"xaxis\":\"x\",\"y\":[6.5,5.6,4.7],\"yaxis\":\"y\",\"type\":\"scatter\"},{\"customdata\":[[\"The Secret Life of Pets\",\"The Secret Life of Pets\"],[\"The Secret Life of Pets 2\",\"The Secret Life of Pets\"]],\"hovertemplate\":\"Movie Series=%{customdata[1]}<br>Release Year=%{x}<br>Rating=%{y}<br>Title=%{customdata[0]}<extra></extra>\",\"legendgroup\":\"The Secret Life of Pets\",\"line\":{\"color\":\"#B6E880\",\"dash\":\"solid\",\"shape\":\"linear\"},\"marker\":{\"symbol\":\"circle\"},\"mode\":\"lines+markers\",\"name\":\"The Secret Life of Pets\",\"orientation\":\"v\",\"showlegend\":true,\"x\":[2016,2019],\"xaxis\":\"x\",\"y\":[6.5,6.5],\"yaxis\":\"y\",\"type\":\"scatter\"},{\"customdata\":[[\"The Sisterhood of the Traveling Pants\",\"The Sisterhood of the Traveling Pants\"],[\"The Sisterhood of the Traveling Pants 2\",\"The Sisterhood of the Traveling Pants\"]],\"hovertemplate\":\"Movie Series=%{customdata[1]}<br>Release Year=%{x}<br>Rating=%{y}<br>Title=%{customdata[0]}<extra></extra>\",\"legendgroup\":\"The Sisterhood of the Traveling Pants\",\"line\":{\"color\":\"#FF97FF\",\"dash\":\"solid\",\"shape\":\"linear\"},\"marker\":{\"symbol\":\"circle\"},\"mode\":\"lines+markers\",\"name\":\"The Sisterhood of the Traveling Pants\",\"orientation\":\"v\",\"showlegend\":true,\"x\":[2005,2008],\"xaxis\":\"x\",\"y\":[6.5,6.2],\"yaxis\":\"y\",\"type\":\"scatter\"},{\"customdata\":[[\"The Texas Chainsaw Massacre 2\",\"The Texas Chainsaw Massacre\"],[\"The Return of the Texas Chainsaw Massacre\",\"The Texas Chainsaw Massacre\"],[\"The Texas Chainsaw Massacre\",\"The Texas Chainsaw Massacre\"],[\"The Texas Chainsaw Massacre: The Beginning\",\"The Texas Chainsaw Massacre\"]],\"hovertemplate\":\"Movie Series=%{customdata[1]}<br>Release Year=%{x}<br>Rating=%{y}<br>Title=%{customdata[0]}<extra></extra>\",\"legendgroup\":\"The Texas Chainsaw Massacre\",\"line\":{\"color\":\"#FECB52\",\"dash\":\"solid\",\"shape\":\"linear\"},\"marker\":{\"symbol\":\"circle\"},\"mode\":\"lines+markers\",\"name\":\"The Texas Chainsaw Massacre\",\"orientation\":\"v\",\"showlegend\":true,\"x\":[1986,1995,2003,2006],\"xaxis\":\"x\",\"y\":[5.6,3.3,6.2,5.8],\"yaxis\":\"y\",\"type\":\"scatter\"},{\"customdata\":[[\"The Transporter\",\"The Transporter\"],[\"Transporter 2\",\"The Transporter\"],[\"Transporter 3\",\"The Transporter\"]],\"hovertemplate\":\"Movie Series=%{customdata[1]}<br>Release Year=%{x}<br>Rating=%{y}<br>Title=%{customdata[0]}<extra></extra>\",\"legendgroup\":\"The Transporter\",\"line\":{\"color\":\"#636efa\",\"dash\":\"solid\",\"shape\":\"linear\"},\"marker\":{\"symbol\":\"circle\"},\"mode\":\"lines+markers\",\"name\":\"The Transporter\",\"orientation\":\"v\",\"showlegend\":true,\"x\":[2002,2005,2008],\"xaxis\":\"x\",\"y\":[6.8,6.3,6.1],\"yaxis\":\"y\",\"type\":\"scatter\"},{\"customdata\":[[\"The Trip\",\"The Trip\"],[\"The Trip to Italy\",\"The Trip\"]],\"hovertemplate\":\"Movie Series=%{customdata[1]}<br>Release Year=%{x}<br>Rating=%{y}<br>Title=%{customdata[0]}<extra></extra>\",\"legendgroup\":\"The Trip\",\"line\":{\"color\":\"#EF553B\",\"dash\":\"solid\",\"shape\":\"linear\"},\"marker\":{\"symbol\":\"circle\"},\"mode\":\"lines+markers\",\"name\":\"The Trip\",\"orientation\":\"v\",\"showlegend\":true,\"x\":[2010,2014],\"xaxis\":\"x\",\"y\":[7.0,6.6],\"yaxis\":\"y\",\"type\":\"scatter\"},{\"customdata\":[[\"The Messengers\",\"The Twilight Saga\"],[\"Twilight\",\"The Twilight Saga\"],[\"The Twilight Saga: New Moon\",\"The Twilight Saga\"],[\"The Twilight Saga: Eclipse\",\"The Twilight Saga\"],[\"The Twilight Saga: Breaking Dawn - Part 1\",\"The Twilight Saga\"],[\"The Twilight Saga: Breaking Dawn - Part 2\",\"The Twilight Saga\"]],\"hovertemplate\":\"Movie Series=%{customdata[1]}<br>Release Year=%{x}<br>Rating=%{y}<br>Title=%{customdata[0]}<extra></extra>\",\"legendgroup\":\"The Twilight Saga\",\"line\":{\"color\":\"#00cc96\",\"dash\":\"solid\",\"shape\":\"linear\"},\"marker\":{\"symbol\":\"circle\"},\"mode\":\"lines+markers\",\"name\":\"The Twilight Saga\",\"orientation\":\"v\",\"showlegend\":true,\"x\":[2007,2008,2009,2010,2011,2012],\"xaxis\":\"x\",\"y\":[5.4,5.2,4.7,5.0,4.9,5.5],\"yaxis\":\"y\",\"type\":\"scatter\"},{\"customdata\":[[\"The Woman in Black\",\"The Woman in Black\"],[\"The Woman in Black 2: Angel of Death\",\"The Woman in Black\"]],\"hovertemplate\":\"Movie Series=%{customdata[1]}<br>Release Year=%{x}<br>Rating=%{y}<br>Title=%{customdata[0]}<extra></extra>\",\"legendgroup\":\"The Woman in Black\",\"line\":{\"color\":\"#ab63fa\",\"dash\":\"solid\",\"shape\":\"linear\"},\"marker\":{\"symbol\":\"circle\"},\"mode\":\"lines+markers\",\"name\":\"The Woman in Black\",\"orientation\":\"v\",\"showlegend\":true,\"x\":[2012,2014],\"xaxis\":\"x\",\"y\":[6.4,4.8],\"yaxis\":\"y\",\"type\":\"scatter\"},{\"customdata\":[[\"The X Files\",\"The X Files\"],[\"The X Files: I Want to Believe\",\"The X Files\"]],\"hovertemplate\":\"Movie Series=%{customdata[1]}<br>Release Year=%{x}<br>Rating=%{y}<br>Title=%{customdata[0]}<extra></extra>\",\"legendgroup\":\"The X Files\",\"line\":{\"color\":\"#FFA15A\",\"dash\":\"solid\",\"shape\":\"linear\"},\"marker\":{\"symbol\":\"circle\"},\"mode\":\"lines+markers\",\"name\":\"The X Files\",\"orientation\":\"v\",\"showlegend\":true,\"x\":[1998,2008],\"xaxis\":\"x\",\"y\":[7.0,5.9],\"yaxis\":\"y\",\"type\":\"scatter\"},{\"customdata\":[[\"Think Like a Man\",\"Think Like a Man\"],[\"Think Like a Man Too\",\"Think Like a Man\"]],\"hovertemplate\":\"Movie Series=%{customdata[1]}<br>Release Year=%{x}<br>Rating=%{y}<br>Title=%{customdata[0]}<extra></extra>\",\"legendgroup\":\"Think Like a Man\",\"line\":{\"color\":\"#19d3f3\",\"dash\":\"solid\",\"shape\":\"linear\"},\"marker\":{\"symbol\":\"circle\"},\"mode\":\"lines+markers\",\"name\":\"Think Like a Man\",\"orientation\":\"v\",\"showlegend\":true,\"x\":[2012,2014],\"xaxis\":\"x\",\"y\":[6.6,5.8],\"yaxis\":\"y\",\"type\":\"scatter\"},{\"customdata\":[[\"Thor\",\"Thor\"],[\"Thor: The Dark World\",\"Thor\"],[\"Thor: Ragnarok\",\"Thor\"]],\"hovertemplate\":\"Movie Series=%{customdata[1]}<br>Release Year=%{x}<br>Rating=%{y}<br>Title=%{customdata[0]}<extra></extra>\",\"legendgroup\":\"Thor\",\"line\":{\"color\":\"#FF6692\",\"dash\":\"solid\",\"shape\":\"linear\"},\"marker\":{\"symbol\":\"circle\"},\"mode\":\"lines+markers\",\"name\":\"Thor\",\"orientation\":\"v\",\"showlegend\":true,\"x\":[2011,2013,2017],\"xaxis\":\"x\",\"y\":[7.0,6.9,7.9],\"yaxis\":\"y\",\"type\":\"scatter\"},{\"customdata\":[[\"Toy Story\",\"Toy Story\"],[\"Toy Story 2\",\"Toy Story\"],[\"Toy Story 3\",\"Toy Story\"],[\"Toy Story 4\",\"Toy Story\"]],\"hovertemplate\":\"Movie Series=%{customdata[1]}<br>Release Year=%{x}<br>Rating=%{y}<br>Title=%{customdata[0]}<extra></extra>\",\"legendgroup\":\"Toy Story\",\"line\":{\"color\":\"#B6E880\",\"dash\":\"solid\",\"shape\":\"linear\"},\"marker\":{\"symbol\":\"circle\"},\"mode\":\"lines+markers\",\"name\":\"Toy Story\",\"orientation\":\"v\",\"showlegend\":true,\"x\":[1995,1999,2010,2019],\"xaxis\":\"x\",\"y\":[8.3,7.9,8.3,7.8],\"yaxis\":\"y\",\"type\":\"scatter\"},{\"customdata\":[[\"Trainspotting\",\"Trainspotting\"],[\"T2 Trainspotting\",\"Trainspotting\"]],\"hovertemplate\":\"Movie Series=%{customdata[1]}<br>Release Year=%{x}<br>Rating=%{y}<br>Title=%{customdata[0]}<extra></extra>\",\"legendgroup\":\"Trainspotting\",\"line\":{\"color\":\"#FF97FF\",\"dash\":\"solid\",\"shape\":\"linear\"},\"marker\":{\"symbol\":\"circle\"},\"mode\":\"lines+markers\",\"name\":\"Trainspotting\",\"orientation\":\"v\",\"showlegend\":true,\"x\":[1996,2017],\"xaxis\":\"x\",\"y\":[8.1,7.2],\"yaxis\":\"y\",\"type\":\"scatter\"},{\"customdata\":[[\"Transformers\",\"Transformers\"],[\"Transformers: Revenge of the Fallen\",\"Transformers\"],[\"Transformers: Dark of the Moon\",\"Transformers\"],[\"Transformers: Age of Extinction\",\"Transformers\"],[\"Transformers: The Last Knight\",\"Transformers\"]],\"hovertemplate\":\"Movie Series=%{customdata[1]}<br>Release Year=%{x}<br>Rating=%{y}<br>Title=%{customdata[0]}<extra></extra>\",\"legendgroup\":\"Transformers\",\"line\":{\"color\":\"#FECB52\",\"dash\":\"solid\",\"shape\":\"linear\"},\"marker\":{\"symbol\":\"circle\"},\"mode\":\"lines+markers\",\"name\":\"Transformers\",\"orientation\":\"v\",\"showlegend\":true,\"x\":[2007,2009,2011,2014,2017],\"xaxis\":\"x\",\"y\":[7.0,6.0,6.2,5.6,5.2],\"yaxis\":\"y\",\"type\":\"scatter\"},{\"customdata\":[[\"Trois couleurs: Bleu\",\"Trois couleurs\"],[\"Trois couleurs: Blanc\",\"Trois couleurs\"],[\"Trois couleurs: Rouge\",\"Trois couleurs\"]],\"hovertemplate\":\"Movie Series=%{customdata[1]}<br>Release Year=%{x}<br>Rating=%{y}<br>Title=%{customdata[0]}<extra></extra>\",\"legendgroup\":\"Trois couleurs\",\"line\":{\"color\":\"#636efa\",\"dash\":\"solid\",\"shape\":\"linear\"},\"marker\":{\"symbol\":\"circle\"},\"mode\":\"lines+markers\",\"name\":\"Trois couleurs\",\"orientation\":\"v\",\"showlegend\":true,\"x\":[1993,1994,1994],\"xaxis\":\"x\",\"y\":[7.9,7.6,8.1],\"yaxis\":\"y\",\"type\":\"scatter\"},{\"customdata\":[[\"Tropa de Elite\",\"Tropa de Elite\"],[\"Tropa de Elite 2: O Inimigo Agora \\u00e9 Outro\",\"Tropa de Elite\"]],\"hovertemplate\":\"Movie Series=%{customdata[1]}<br>Release Year=%{x}<br>Rating=%{y}<br>Title=%{customdata[0]}<extra></extra>\",\"legendgroup\":\"Tropa de Elite\",\"line\":{\"color\":\"#EF553B\",\"dash\":\"solid\",\"shape\":\"linear\"},\"marker\":{\"symbol\":\"circle\"},\"mode\":\"lines+markers\",\"name\":\"Tropa de Elite\",\"orientation\":\"v\",\"showlegend\":true,\"x\":[2007,2010],\"xaxis\":\"x\",\"y\":[8.1,8.0],\"yaxis\":\"y\",\"type\":\"scatter\"},{\"customdata\":[[\"Turbulence\",\"Turbulence\"],[\"Turbulence 2: Fear of Flying\",\"Turbulence\"]],\"hovertemplate\":\"Movie Series=%{customdata[1]}<br>Release Year=%{x}<br>Rating=%{y}<br>Title=%{customdata[0]}<extra></extra>\",\"legendgroup\":\"Turbulence\",\"line\":{\"color\":\"#00cc96\",\"dash\":\"solid\",\"shape\":\"linear\"},\"marker\":{\"symbol\":\"circle\"},\"mode\":\"lines+markers\",\"name\":\"Turbulence\",\"orientation\":\"v\",\"showlegend\":true,\"x\":[1997,1999],\"xaxis\":\"x\",\"y\":[4.9,4.2],\"yaxis\":\"y\",\"type\":\"scatter\"},{\"customdata\":[[\"Under Siege\",\"Under Siege\"],[\"Under Siege 2: Dark Territory\",\"Under Siege\"]],\"hovertemplate\":\"Movie Series=%{customdata[1]}<br>Release Year=%{x}<br>Rating=%{y}<br>Title=%{customdata[0]}<extra></extra>\",\"legendgroup\":\"Under Siege\",\"line\":{\"color\":\"#ab63fa\",\"dash\":\"solid\",\"shape\":\"linear\"},\"marker\":{\"symbol\":\"circle\"},\"mode\":\"lines+markers\",\"name\":\"Under Siege\",\"orientation\":\"v\",\"showlegend\":true,\"x\":[1992,1995],\"xaxis\":\"x\",\"y\":[6.5,5.5],\"yaxis\":\"y\",\"type\":\"scatter\"},{\"customdata\":[[\"Underworld\",\"Underworld\"],[\"Underworld: Evolution\",\"Underworld\"],[\"Underworld: Rise of the Lycans\",\"Underworld\"],[\"Underworld Awakening\",\"Underworld\"]],\"hovertemplate\":\"Movie Series=%{customdata[1]}<br>Release Year=%{x}<br>Rating=%{y}<br>Title=%{customdata[0]}<extra></extra>\",\"legendgroup\":\"Underworld\",\"line\":{\"color\":\"#FFA15A\",\"dash\":\"solid\",\"shape\":\"linear\"},\"marker\":{\"symbol\":\"circle\"},\"mode\":\"lines+markers\",\"name\":\"Underworld\",\"orientation\":\"v\",\"showlegend\":true,\"x\":[2003,2006,2009,2012],\"xaxis\":\"x\",\"y\":[7.0,6.7,6.6,6.4],\"yaxis\":\"y\",\"type\":\"scatter\"},{\"customdata\":[[\"Universal Soldier\",\"Universal Soldier\"],[\"Universal Soldier: The Return\",\"Universal Soldier\"],[\"Universal Soldier: Regeneration\",\"Universal Soldier\"],[\"Universal Soldier: Day of Reckoning\",\"Universal Soldier\"]],\"hovertemplate\":\"Movie Series=%{customdata[1]}<br>Release Year=%{x}<br>Rating=%{y}<br>Title=%{customdata[0]}<extra></extra>\",\"legendgroup\":\"Universal Soldier\",\"line\":{\"color\":\"#19d3f3\",\"dash\":\"solid\",\"shape\":\"linear\"},\"marker\":{\"symbol\":\"circle\"},\"mode\":\"lines+markers\",\"name\":\"Universal Soldier\",\"orientation\":\"v\",\"showlegend\":true,\"x\":[1992,1999,2009,2012],\"xaxis\":\"x\",\"y\":[6.0,4.2,5.2,5.0],\"yaxis\":\"y\",\"type\":\"scatter\"},{\"customdata\":[[\"Urban Legend\",\"Urban Legend\"],[\"Urban Legends: Final Cut\",\"Urban Legend\"]],\"hovertemplate\":\"Movie Series=%{customdata[1]}<br>Release Year=%{x}<br>Rating=%{y}<br>Title=%{customdata[0]}<extra></extra>\",\"legendgroup\":\"Urban Legend\",\"line\":{\"color\":\"#FF6692\",\"dash\":\"solid\",\"shape\":\"linear\"},\"marker\":{\"symbol\":\"circle\"},\"mode\":\"lines+markers\",\"name\":\"Urban Legend\",\"orientation\":\"v\",\"showlegend\":true,\"x\":[1998,2000],\"xaxis\":\"x\",\"y\":[5.6,4.3],\"yaxis\":\"y\",\"type\":\"scatter\"},{\"customdata\":[[\"Vacancy\",\"Vacancy\"],[\"Vacancy 2: The First Cut\",\"Vacancy\"]],\"hovertemplate\":\"Movie Series=%{customdata[1]}<br>Release Year=%{x}<br>Rating=%{y}<br>Title=%{customdata[0]}<extra></extra>\",\"legendgroup\":\"Vacancy\",\"line\":{\"color\":\"#B6E880\",\"dash\":\"solid\",\"shape\":\"linear\"},\"marker\":{\"symbol\":\"circle\"},\"mode\":\"lines+markers\",\"name\":\"Vacancy\",\"orientation\":\"v\",\"showlegend\":true,\"x\":[2007,2008],\"xaxis\":\"x\",\"y\":[6.2,5.0],\"yaxis\":\"y\",\"type\":\"scatter\"},{\"customdata\":[[\"Walking Tall\",\"Walking Tall\"],[\"Walking Tall Part II\",\"Walking Tall\"],[\"Final Chapter: Walking Tall\",\"Walking Tall\"],[\"Walking Tall\",\"Walking Tall\"]],\"hovertemplate\":\"Movie Series=%{customdata[1]}<br>Release Year=%{x}<br>Rating=%{y}<br>Title=%{customdata[0]}<extra></extra>\",\"legendgroup\":\"Walking Tall\",\"line\":{\"color\":\"#FF97FF\",\"dash\":\"solid\",\"shape\":\"linear\"},\"marker\":{\"symbol\":\"circle\"},\"mode\":\"lines+markers\",\"name\":\"Walking Tall\",\"orientation\":\"v\",\"showlegend\":true,\"x\":[1973,1975,1977,2004],\"xaxis\":\"x\",\"y\":[7.0,6.2,5.9,6.3],\"yaxis\":\"y\",\"type\":\"scatter\"},{\"customdata\":[[\"Wall Street\",\"Wall Street\"],[\"Wall Street: Money Never Sleeps\",\"Wall Street\"]],\"hovertemplate\":\"Movie Series=%{customdata[1]}<br>Release Year=%{x}<br>Rating=%{y}<br>Title=%{customdata[0]}<extra></extra>\",\"legendgroup\":\"Wall Street\",\"line\":{\"color\":\"#FECB52\",\"dash\":\"solid\",\"shape\":\"linear\"},\"marker\":{\"symbol\":\"circle\"},\"mode\":\"lines+markers\",\"name\":\"Wall Street\",\"orientation\":\"v\",\"showlegend\":true,\"x\":[1987,2010],\"xaxis\":\"x\",\"y\":[7.4,6.2],\"yaxis\":\"y\",\"type\":\"scatter\"},{\"customdata\":[[\"Wayne's World\",\"Wayne's World\"],[\"Wayne's World 2\",\"Wayne's World\"]],\"hovertemplate\":\"Movie Series=%{customdata[1]}<br>Release Year=%{x}<br>Rating=%{y}<br>Title=%{customdata[0]}<extra></extra>\",\"legendgroup\":\"Wayne's World\",\"line\":{\"color\":\"#636efa\",\"dash\":\"solid\",\"shape\":\"linear\"},\"marker\":{\"symbol\":\"circle\"},\"mode\":\"lines+markers\",\"name\":\"Wayne's World\",\"orientation\":\"v\",\"showlegend\":true,\"x\":[1992,1993],\"xaxis\":\"x\",\"y\":[7.0,6.2],\"yaxis\":\"y\",\"type\":\"scatter\"},{\"customdata\":[[\"White Noise\",\"White Noise\"],[\"White Noise 2: The Light\",\"White Noise\"]],\"hovertemplate\":\"Movie Series=%{customdata[1]}<br>Release Year=%{x}<br>Rating=%{y}<br>Title=%{customdata[0]}<extra></extra>\",\"legendgroup\":\"White Noise\",\"line\":{\"color\":\"#EF553B\",\"dash\":\"solid\",\"shape\":\"linear\"},\"marker\":{\"symbol\":\"circle\"},\"mode\":\"lines+markers\",\"name\":\"White Noise\",\"orientation\":\"v\",\"showlegend\":true,\"x\":[2005,2007],\"xaxis\":\"x\",\"y\":[5.5,5.7],\"yaxis\":\"y\",\"type\":\"scatter\"},{\"customdata\":[[\"Wreck-It Ralph\",\"Wreck-It Ralph\"],[\"Ralph Breaks the Internet\",\"Wreck-It Ralph\"]],\"hovertemplate\":\"Movie Series=%{customdata[1]}<br>Release Year=%{x}<br>Rating=%{y}<br>Title=%{customdata[0]}<extra></extra>\",\"legendgroup\":\"Wreck-It Ralph\",\"line\":{\"color\":\"#00cc96\",\"dash\":\"solid\",\"shape\":\"linear\"},\"marker\":{\"symbol\":\"circle\"},\"mode\":\"lines+markers\",\"name\":\"Wreck-It Ralph\",\"orientation\":\"v\",\"showlegend\":true,\"x\":[2012,2018],\"xaxis\":\"x\",\"y\":[7.7,7.1],\"yaxis\":\"y\",\"type\":\"scatter\"},{\"customdata\":[[\"X-Men\",\"X-Men\"],[\"X2\",\"X-Men\"],[\"X-Men: The Last Stand\",\"X-Men\"],[\"X-Men Origins: Wolverine\",\"X-Men\"],[\"X: First Class\",\"X-Men\"],[\"The Wolverine\",\"X-Men\"],[\"X-Men: Days of Future Past\",\"X-Men\"]],\"hovertemplate\":\"Movie Series=%{customdata[1]}<br>Release Year=%{x}<br>Rating=%{y}<br>Title=%{customdata[0]}<extra></extra>\",\"legendgroup\":\"X-Men\",\"line\":{\"color\":\"#ab63fa\",\"dash\":\"solid\",\"shape\":\"linear\"},\"marker\":{\"symbol\":\"circle\"},\"mode\":\"lines+markers\",\"name\":\"X-Men\",\"orientation\":\"v\",\"showlegend\":true,\"x\":[2000,2003,2006,2009,2011,2013,2014],\"xaxis\":\"x\",\"y\":[7.4,7.4,6.7,6.6,7.7,6.7,8.0],\"yaxis\":\"y\",\"type\":\"scatter\"},{\"customdata\":[[\"Young Guns\",\"Young Guns\"],[\"Young Guns II\",\"Young Guns\"]],\"hovertemplate\":\"Movie Series=%{customdata[1]}<br>Release Year=%{x}<br>Rating=%{y}<br>Title=%{customdata[0]}<extra></extra>\",\"legendgroup\":\"Young Guns\",\"line\":{\"color\":\"#FFA15A\",\"dash\":\"solid\",\"shape\":\"linear\"},\"marker\":{\"symbol\":\"circle\"},\"mode\":\"lines+markers\",\"name\":\"Young Guns\",\"orientation\":\"v\",\"showlegend\":true,\"x\":[1988,1990],\"xaxis\":\"x\",\"y\":[6.9,6.5],\"yaxis\":\"y\",\"type\":\"scatter\"},{\"customdata\":[[\"Zombieland\",\"Zombieland\"],[\"Zombieland: Double Tap\",\"Zombieland\"]],\"hovertemplate\":\"Movie Series=%{customdata[1]}<br>Release Year=%{x}<br>Rating=%{y}<br>Title=%{customdata[0]}<extra></extra>\",\"legendgroup\":\"Zombieland\",\"line\":{\"color\":\"#19d3f3\",\"dash\":\"solid\",\"shape\":\"linear\"},\"marker\":{\"symbol\":\"circle\"},\"mode\":\"lines+markers\",\"name\":\"Zombieland\",\"orientation\":\"v\",\"showlegend\":true,\"x\":[2009,2019],\"xaxis\":\"x\",\"y\":[7.6,6.7],\"yaxis\":\"y\",\"type\":\"scatter\"},{\"customdata\":[[\"Zoolander\",\"Zoolander\"],[\"Zoolander 2\",\"Zoolander\"]],\"hovertemplate\":\"Movie Series=%{customdata[1]}<br>Release Year=%{x}<br>Rating=%{y}<br>Title=%{customdata[0]}<extra></extra>\",\"legendgroup\":\"Zoolander\",\"line\":{\"color\":\"#FF6692\",\"dash\":\"solid\",\"shape\":\"linear\"},\"marker\":{\"symbol\":\"circle\"},\"mode\":\"lines+markers\",\"name\":\"Zoolander\",\"orientation\":\"v\",\"showlegend\":true,\"x\":[2001,2016],\"xaxis\":\"x\",\"y\":[6.5,4.7],\"yaxis\":\"y\",\"type\":\"scatter\"},{\"customdata\":[[\"[Rec]\",\"[Rec]\"],[\"[Rec]\\u00b2\",\"[Rec]\"],[\"[Rec]\\u00b3: G\\u00e9nesis\",\"[Rec]\"],[\"[REC] 4: Apocalipsis\",\"[Rec]\"]],\"hovertemplate\":\"Movie Series=%{customdata[1]}<br>Release Year=%{x}<br>Rating=%{y}<br>Title=%{customdata[0]}<extra></extra>\",\"legendgroup\":\"[Rec]\",\"line\":{\"color\":\"#B6E880\",\"dash\":\"solid\",\"shape\":\"linear\"},\"marker\":{\"symbol\":\"circle\"},\"mode\":\"lines+markers\",\"name\":\"[Rec]\",\"orientation\":\"v\",\"showlegend\":true,\"x\":[2007,2009,2012,2014],\"xaxis\":\"x\",\"y\":[7.4,6.5,5.0,5.3],\"yaxis\":\"y\",\"type\":\"scatter\"},{\"customdata\":[[\"xXx\",\"xXx\"],[\"xXx: State of the Union\",\"xXx\"]],\"hovertemplate\":\"Movie Series=%{customdata[1]}<br>Release Year=%{x}<br>Rating=%{y}<br>Title=%{customdata[0]}<extra></extra>\",\"legendgroup\":\"xXx\",\"line\":{\"color\":\"#FF97FF\",\"dash\":\"solid\",\"shape\":\"linear\"},\"marker\":{\"symbol\":\"circle\"},\"mode\":\"lines+markers\",\"name\":\"xXx\",\"orientation\":\"v\",\"showlegend\":true,\"x\":[2002,2005],\"xaxis\":\"x\",\"y\":[5.9,4.4],\"yaxis\":\"y\",\"type\":\"scatter\"}],                        {\"template\":{\"data\":{\"histogram2dcontour\":[{\"type\":\"histogram2dcontour\",\"colorbar\":{\"outlinewidth\":0,\"ticks\":\"\"},\"colorscale\":[[0.0,\"#0d0887\"],[0.1111111111111111,\"#46039f\"],[0.2222222222222222,\"#7201a8\"],[0.3333333333333333,\"#9c179e\"],[0.4444444444444444,\"#bd3786\"],[0.5555555555555556,\"#d8576b\"],[0.6666666666666666,\"#ed7953\"],[0.7777777777777778,\"#fb9f3a\"],[0.8888888888888888,\"#fdca26\"],[1.0,\"#f0f921\"]]}],\"choropleth\":[{\"type\":\"choropleth\",\"colorbar\":{\"outlinewidth\":0,\"ticks\":\"\"}}],\"histogram2d\":[{\"type\":\"histogram2d\",\"colorbar\":{\"outlinewidth\":0,\"ticks\":\"\"},\"colorscale\":[[0.0,\"#0d0887\"],[0.1111111111111111,\"#46039f\"],[0.2222222222222222,\"#7201a8\"],[0.3333333333333333,\"#9c179e\"],[0.4444444444444444,\"#bd3786\"],[0.5555555555555556,\"#d8576b\"],[0.6666666666666666,\"#ed7953\"],[0.7777777777777778,\"#fb9f3a\"],[0.8888888888888888,\"#fdca26\"],[1.0,\"#f0f921\"]]}],\"heatmap\":[{\"type\":\"heatmap\",\"colorbar\":{\"outlinewidth\":0,\"ticks\":\"\"},\"colorscale\":[[0.0,\"#0d0887\"],[0.1111111111111111,\"#46039f\"],[0.2222222222222222,\"#7201a8\"],[0.3333333333333333,\"#9c179e\"],[0.4444444444444444,\"#bd3786\"],[0.5555555555555556,\"#d8576b\"],[0.6666666666666666,\"#ed7953\"],[0.7777777777777778,\"#fb9f3a\"],[0.8888888888888888,\"#fdca26\"],[1.0,\"#f0f921\"]]}],\"heatmapgl\":[{\"type\":\"heatmapgl\",\"colorbar\":{\"outlinewidth\":0,\"ticks\":\"\"},\"colorscale\":[[0.0,\"#0d0887\"],[0.1111111111111111,\"#46039f\"],[0.2222222222222222,\"#7201a8\"],[0.3333333333333333,\"#9c179e\"],[0.4444444444444444,\"#bd3786\"],[0.5555555555555556,\"#d8576b\"],[0.6666666666666666,\"#ed7953\"],[0.7777777777777778,\"#fb9f3a\"],[0.8888888888888888,\"#fdca26\"],[1.0,\"#f0f921\"]]}],\"contourcarpet\":[{\"type\":\"contourcarpet\",\"colorbar\":{\"outlinewidth\":0,\"ticks\":\"\"}}],\"contour\":[{\"type\":\"contour\",\"colorbar\":{\"outlinewidth\":0,\"ticks\":\"\"},\"colorscale\":[[0.0,\"#0d0887\"],[0.1111111111111111,\"#46039f\"],[0.2222222222222222,\"#7201a8\"],[0.3333333333333333,\"#9c179e\"],[0.4444444444444444,\"#bd3786\"],[0.5555555555555556,\"#d8576b\"],[0.6666666666666666,\"#ed7953\"],[0.7777777777777778,\"#fb9f3a\"],[0.8888888888888888,\"#fdca26\"],[1.0,\"#f0f921\"]]}],\"surface\":[{\"type\":\"surface\",\"colorbar\":{\"outlinewidth\":0,\"ticks\":\"\"},\"colorscale\":[[0.0,\"#0d0887\"],[0.1111111111111111,\"#46039f\"],[0.2222222222222222,\"#7201a8\"],[0.3333333333333333,\"#9c179e\"],[0.4444444444444444,\"#bd3786\"],[0.5555555555555556,\"#d8576b\"],[0.6666666666666666,\"#ed7953\"],[0.7777777777777778,\"#fb9f3a\"],[0.8888888888888888,\"#fdca26\"],[1.0,\"#f0f921\"]]}],\"mesh3d\":[{\"type\":\"mesh3d\",\"colorbar\":{\"outlinewidth\":0,\"ticks\":\"\"}}],\"scatter\":[{\"fillpattern\":{\"fillmode\":\"overlay\",\"size\":10,\"solidity\":0.2},\"type\":\"scatter\"}],\"parcoords\":[{\"type\":\"parcoords\",\"line\":{\"colorbar\":{\"outlinewidth\":0,\"ticks\":\"\"}}}],\"scatterpolargl\":[{\"type\":\"scatterpolargl\",\"marker\":{\"colorbar\":{\"outlinewidth\":0,\"ticks\":\"\"}}}],\"bar\":[{\"error_x\":{\"color\":\"#2a3f5f\"},\"error_y\":{\"color\":\"#2a3f5f\"},\"marker\":{\"line\":{\"color\":\"#E5ECF6\",\"width\":0.5},\"pattern\":{\"fillmode\":\"overlay\",\"size\":10,\"solidity\":0.2}},\"type\":\"bar\"}],\"scattergeo\":[{\"type\":\"scattergeo\",\"marker\":{\"colorbar\":{\"outlinewidth\":0,\"ticks\":\"\"}}}],\"scatterpolar\":[{\"type\":\"scatterpolar\",\"marker\":{\"colorbar\":{\"outlinewidth\":0,\"ticks\":\"\"}}}],\"histogram\":[{\"marker\":{\"pattern\":{\"fillmode\":\"overlay\",\"size\":10,\"solidity\":0.2}},\"type\":\"histogram\"}],\"scattergl\":[{\"type\":\"scattergl\",\"marker\":{\"colorbar\":{\"outlinewidth\":0,\"ticks\":\"\"}}}],\"scatter3d\":[{\"type\":\"scatter3d\",\"line\":{\"colorbar\":{\"outlinewidth\":0,\"ticks\":\"\"}},\"marker\":{\"colorbar\":{\"outlinewidth\":0,\"ticks\":\"\"}}}],\"scattermapbox\":[{\"type\":\"scattermapbox\",\"marker\":{\"colorbar\":{\"outlinewidth\":0,\"ticks\":\"\"}}}],\"scatterternary\":[{\"type\":\"scatterternary\",\"marker\":{\"colorbar\":{\"outlinewidth\":0,\"ticks\":\"\"}}}],\"scattercarpet\":[{\"type\":\"scattercarpet\",\"marker\":{\"colorbar\":{\"outlinewidth\":0,\"ticks\":\"\"}}}],\"carpet\":[{\"aaxis\":{\"endlinecolor\":\"#2a3f5f\",\"gridcolor\":\"white\",\"linecolor\":\"white\",\"minorgridcolor\":\"white\",\"startlinecolor\":\"#2a3f5f\"},\"baxis\":{\"endlinecolor\":\"#2a3f5f\",\"gridcolor\":\"white\",\"linecolor\":\"white\",\"minorgridcolor\":\"white\",\"startlinecolor\":\"#2a3f5f\"},\"type\":\"carpet\"}],\"table\":[{\"cells\":{\"fill\":{\"color\":\"#EBF0F8\"},\"line\":{\"color\":\"white\"}},\"header\":{\"fill\":{\"color\":\"#C8D4E3\"},\"line\":{\"color\":\"white\"}},\"type\":\"table\"}],\"barpolar\":[{\"marker\":{\"line\":{\"color\":\"#E5ECF6\",\"width\":0.5},\"pattern\":{\"fillmode\":\"overlay\",\"size\":10,\"solidity\":0.2}},\"type\":\"barpolar\"}],\"pie\":[{\"automargin\":true,\"type\":\"pie\"}]},\"layout\":{\"autotypenumbers\":\"strict\",\"colorway\":[\"#636efa\",\"#EF553B\",\"#00cc96\",\"#ab63fa\",\"#FFA15A\",\"#19d3f3\",\"#FF6692\",\"#B6E880\",\"#FF97FF\",\"#FECB52\"],\"font\":{\"color\":\"#2a3f5f\"},\"hovermode\":\"closest\",\"hoverlabel\":{\"align\":\"left\"},\"paper_bgcolor\":\"white\",\"plot_bgcolor\":\"#E5ECF6\",\"polar\":{\"bgcolor\":\"#E5ECF6\",\"angularaxis\":{\"gridcolor\":\"white\",\"linecolor\":\"white\",\"ticks\":\"\"},\"radialaxis\":{\"gridcolor\":\"white\",\"linecolor\":\"white\",\"ticks\":\"\"}},\"ternary\":{\"bgcolor\":\"#E5ECF6\",\"aaxis\":{\"gridcolor\":\"white\",\"linecolor\":\"white\",\"ticks\":\"\"},\"baxis\":{\"gridcolor\":\"white\",\"linecolor\":\"white\",\"ticks\":\"\"},\"caxis\":{\"gridcolor\":\"white\",\"linecolor\":\"white\",\"ticks\":\"\"}},\"coloraxis\":{\"colorbar\":{\"outlinewidth\":0,\"ticks\":\"\"}},\"colorscale\":{\"sequential\":[[0.0,\"#0d0887\"],[0.1111111111111111,\"#46039f\"],[0.2222222222222222,\"#7201a8\"],[0.3333333333333333,\"#9c179e\"],[0.4444444444444444,\"#bd3786\"],[0.5555555555555556,\"#d8576b\"],[0.6666666666666666,\"#ed7953\"],[0.7777777777777778,\"#fb9f3a\"],[0.8888888888888888,\"#fdca26\"],[1.0,\"#f0f921\"]],\"sequentialminus\":[[0.0,\"#0d0887\"],[0.1111111111111111,\"#46039f\"],[0.2222222222222222,\"#7201a8\"],[0.3333333333333333,\"#9c179e\"],[0.4444444444444444,\"#bd3786\"],[0.5555555555555556,\"#d8576b\"],[0.6666666666666666,\"#ed7953\"],[0.7777777777777778,\"#fb9f3a\"],[0.8888888888888888,\"#fdca26\"],[1.0,\"#f0f921\"]],\"diverging\":[[0,\"#8e0152\"],[0.1,\"#c51b7d\"],[0.2,\"#de77ae\"],[0.3,\"#f1b6da\"],[0.4,\"#fde0ef\"],[0.5,\"#f7f7f7\"],[0.6,\"#e6f5d0\"],[0.7,\"#b8e186\"],[0.8,\"#7fbc41\"],[0.9,\"#4d9221\"],[1,\"#276419\"]]},\"xaxis\":{\"gridcolor\":\"white\",\"linecolor\":\"white\",\"ticks\":\"\",\"title\":{\"standoff\":15},\"zerolinecolor\":\"white\",\"automargin\":true,\"zerolinewidth\":2},\"yaxis\":{\"gridcolor\":\"white\",\"linecolor\":\"white\",\"ticks\":\"\",\"title\":{\"standoff\":15},\"zerolinecolor\":\"white\",\"automargin\":true,\"zerolinewidth\":2},\"scene\":{\"xaxis\":{\"backgroundcolor\":\"#E5ECF6\",\"gridcolor\":\"white\",\"linecolor\":\"white\",\"showbackground\":true,\"ticks\":\"\",\"zerolinecolor\":\"white\",\"gridwidth\":2},\"yaxis\":{\"backgroundcolor\":\"#E5ECF6\",\"gridcolor\":\"white\",\"linecolor\":\"white\",\"showbackground\":true,\"ticks\":\"\",\"zerolinecolor\":\"white\",\"gridwidth\":2},\"zaxis\":{\"backgroundcolor\":\"#E5ECF6\",\"gridcolor\":\"white\",\"linecolor\":\"white\",\"showbackground\":true,\"ticks\":\"\",\"zerolinecolor\":\"white\",\"gridwidth\":2}},\"shapedefaults\":{\"line\":{\"color\":\"#2a3f5f\"}},\"annotationdefaults\":{\"arrowcolor\":\"#2a3f5f\",\"arrowhead\":0,\"arrowwidth\":1},\"geo\":{\"bgcolor\":\"white\",\"landcolor\":\"#E5ECF6\",\"subunitcolor\":\"white\",\"showland\":true,\"showlakes\":true,\"lakecolor\":\"white\"},\"title\":{\"x\":0.05},\"mapbox\":{\"style\":\"light\"}}},\"xaxis\":{\"anchor\":\"y\",\"domain\":[0.0,1.0],\"title\":{\"text\":\"Release Year\"}},\"yaxis\":{\"anchor\":\"x\",\"domain\":[0.0,1.0],\"title\":{\"text\":\"Rating\"}},\"legend\":{\"title\":{\"text\":\"Movie Series\"},\"tracegroupgap\":0},\"title\":{\"text\":\"Movie Series\"}},                        {\"responsive\": true}                    ).then(function(){\n",
       "                            \n",
       "var gd = document.getElementById('f3ce73a3-a62d-4037-9217-77e9215b3a80');\n",
       "var x = new MutationObserver(function (mutations, observer) {{\n",
       "        var display = window.getComputedStyle(gd).display;\n",
       "        if (!display || display === 'none') {{\n",
       "            console.log([gd, 'removed!']);\n",
       "            Plotly.purge(gd);\n",
       "            observer.disconnect();\n",
       "        }}\n",
       "}});\n",
       "\n",
       "// Listen for the removal of the full notebook cells\n",
       "var notebookContainer = gd.closest('#notebook-container');\n",
       "if (notebookContainer) {{\n",
       "    x.observe(notebookContainer, {childList: true});\n",
       "}}\n",
       "\n",
       "// Listen for the clearing of the current output cell\n",
       "var outputEl = gd.closest('.output');\n",
       "if (outputEl) {{\n",
       "    x.observe(outputEl, {childList: true});\n",
       "}}\n",
       "\n",
       "                        })                };                });            </script>        </div>"
      ]
     },
     "metadata": {},
     "output_type": "display_data"
    }
   ],
   "source": [
    "fig = go.Figure()\n",
    "\n",
    "fig = px.line(\n",
    "    sequals,\n",
    "    x='Year',\n",
    "    y='IMDb Rating',\n",
    "    color='Movie Series',\n",
    "    title='Movie Series',\n",
    "    labels={'IMDb Rating': 'Rating', 'Year': 'Release Year'},\n",
    "    hover_data={'Title': True, \n",
    "                'Movie Series': True, \n",
    "                'IMDb Rating': True, \n",
    "                'Year': True},\n",
    "    line_shape='linear',\n",
    "    markers=True  # Show markers\n",
    ")\n",
    "\n",
    "fig.show()"
   ]
  },
  {
   "cell_type": "code",
   "execution_count": 27,
   "id": "46ffc592-a41e-4d61-b043-c992c1a718e6",
   "metadata": {
    "tags": []
   },
   "outputs": [
    {
     "data": {
      "text/html": [
       "\n",
       "        <iframe\n",
       "            width=\"100%\"\n",
       "            height=\"650\"\n",
       "            src=\"http://127.0.0.1:8050/\"\n",
       "            frameborder=\"0\"\n",
       "            allowfullscreen\n",
       "            \n",
       "        ></iframe>\n",
       "        "
      ],
      "text/plain": [
       "<IPython.lib.display.IFrame at 0x2ca1a1b2890>"
      ]
     },
     "metadata": {},
     "output_type": "display_data"
    }
   ],
   "source": [
    "# Create Dash app\n",
    "app = dash.Dash(__name__)\n",
    "\n",
    "# App layout\n",
    "app.layout = html.Div([\n",
    "    dcc.Input(id='series-search', \n",
    "              type='text', \n",
    "              placeholder='Search by movie series'),\n",
    "    dcc.Graph(id='line-plot'),\n",
    "])\n",
    "\n",
    "# Callback to update line plot\n",
    "@app.callback(\n",
    "    Output('line-plot', 'figure'),\n",
    "    [Input('series-search', 'value')]\n",
    ")\n",
    "def update_line_plot(series_search):\n",
    "    filtered_data = sequals.copy()\n",
    "\n",
    "    if series_search:\n",
    "        filtered_data = filtered_data[filtered_data['Movie Series'].str.contains(series_search, \n",
    "                                                                                 case=False, \n",
    "                                                                                 na=False)]\n",
    "    fig = px.line(\n",
    "        filtered_data,\n",
    "        x='Year',\n",
    "        y='IMDb Rating',\n",
    "        color='Movie Series',\n",
    "        title='Movie Series',\n",
    "        labels={'IMDb Rating': 'Rating', 'Year': 'Release Year'},\n",
    "        hover_data={'Title': True, \n",
    "                    'Movie Series': True, \n",
    "                    'IMDb Rating': True, \n",
    "                    'Year': True},\n",
    "        line_shape='linear',\n",
    "        markers=True,  # Show markers\n",
    "    )\n",
    "\n",
    "    # Update layout for desired behavior\n",
    "    fig.update_layout(legend_title_text='Movie Series')  # Set legend title\n",
    "\n",
    "    return fig\n",
    "\n",
    "# Run the app\n",
    "if __name__ == '__main__':\n",
    "    app.run_server(debug=True)"
   ]
  },
  {
   "cell_type": "code",
   "execution_count": 34,
   "id": "b470caf7-dc3d-46f2-9ea7-47032ef1788b",
   "metadata": {
    "tags": []
   },
   "outputs": [],
   "source": [
    "sequals = sequals[sequals['Year'] >= 1960]"
   ]
  },
  {
   "cell_type": "code",
   "execution_count": 74,
   "id": "206d8f25-53f7-4914-9e9c-411b4d41c8d5",
   "metadata": {
    "tags": []
   },
   "outputs": [
    {
     "data": {
      "text/plain": [
       "2023"
      ]
     },
     "execution_count": 74,
     "metadata": {},
     "output_type": "execute_result"
    }
   ],
   "source": [
    "sequals['Year'].max()"
   ]
  },
  {
   "cell_type": "code",
   "execution_count": 38,
   "id": "eba82d5a-fb4b-44f4-80ee-3ea07b9b06d3",
   "metadata": {
    "tags": []
   },
   "outputs": [
    {
     "data": {
      "text/plain": [
       "2"
      ]
     },
     "execution_count": 38,
     "metadata": {},
     "output_type": "execute_result"
    }
   ],
   "source": [
    "sequals['Order'].min()"
   ]
  },
  {
   "cell_type": "code",
   "execution_count": 37,
   "id": "5bf1b358-cc9b-4f79-845e-a8979688c15d",
   "metadata": {
    "tags": []
   },
   "outputs": [],
   "source": [
    "sequals = sequals[sequals['Order'] > 1]"
   ]
  },
  {
   "cell_type": "code",
   "execution_count": 123,
   "id": "8906979b-bdba-4bee-a3f6-3c669804ff99",
   "metadata": {
    "tags": []
   },
   "outputs": [
    {
     "data": {
      "application/vnd.plotly.v1+json": {
       "config": {
        "plotlyServerURL": "https://plot.ly"
       },
       "data": [
        {
         "alignmentgroup": "True",
         "customdata": [
          [
           "2 in Series"
          ],
          [
           "2 in Series"
          ],
          [
           "2 in Series"
          ],
          [
           "2 in Series"
          ],
          [
           "2 in Series"
          ],
          [
           "2 in Series"
          ],
          [
           "2 in Series"
          ],
          [
           "2 in Series"
          ],
          [
           "2 in Series"
          ],
          [
           "2 in Series"
          ],
          [
           "2 in Series"
          ],
          [
           "2 in Series"
          ],
          [
           "2 in Series"
          ],
          [
           "2 in Series"
          ],
          [
           "2 in Series"
          ],
          [
           "2 in Series"
          ],
          [
           "2 in Series"
          ],
          [
           "2 in Series"
          ],
          [
           "2 in Series"
          ],
          [
           "2 in Series"
          ],
          [
           "2 in Series"
          ],
          [
           "2 in Series"
          ],
          [
           "2 in Series"
          ],
          [
           "2 in Series"
          ],
          [
           "2 in Series"
          ],
          [
           "2 in Series"
          ],
          [
           "2 in Series"
          ],
          [
           "2 in Series"
          ],
          [
           "2 in Series"
          ],
          [
           "2 in Series"
          ],
          [
           "2 in Series"
          ],
          [
           "2 in Series"
          ],
          [
           "2 in Series"
          ],
          [
           "2 in Series"
          ],
          [
           "2 in Series"
          ],
          [
           "2 in Series"
          ],
          [
           "2 in Series"
          ],
          [
           "2 in Series"
          ],
          [
           "2 in Series"
          ],
          [
           "2 in Series"
          ],
          [
           "2 in Series"
          ],
          [
           "2 in Series"
          ],
          [
           "2 in Series"
          ],
          [
           "2 in Series"
          ]
         ],
         "hovertemplate": "Order Group=%{customdata[0]}<br>Year=%{x}<br>Number of Films=%{y}<extra></extra>",
         "legendgroup": "2 in Series",
         "marker": {
          "color": "blue",
          "pattern": {
           "shape": ""
          }
         },
         "name": "2 in Series",
         "offsetgroup": "2 in Series",
         "orientation": "v",
         "showlegend": true,
         "textposition": "auto",
         "type": "bar",
         "x": [
          1974,
          1975,
          1977,
          1979,
          1980,
          1981,
          1982,
          1983,
          1984,
          1985,
          1986,
          1987,
          1988,
          1989,
          1990,
          1991,
          1992,
          1993,
          1994,
          1995,
          1996,
          1997,
          1998,
          1999,
          2000,
          2001,
          2002,
          2003,
          2004,
          2005,
          2006,
          2007,
          2008,
          2009,
          2010,
          2011,
          2012,
          2013,
          2014,
          2015,
          2016,
          2017,
          2018,
          2019
         ],
         "xaxis": "x",
         "y": [
          1,
          2,
          1,
          1,
          2,
          4,
          1,
          2,
          1,
          2,
          3,
          2,
          5,
          6,
          8,
          2,
          5,
          2,
          3,
          5,
          2,
          3,
          3,
          4,
          7,
          5,
          8,
          11,
          13,
          10,
          9,
          9,
          10,
          11,
          6,
          11,
          7,
          15,
          15,
          9,
          12,
          8,
          5,
          7
         ],
         "yaxis": "y"
        },
        {
         "alignmentgroup": "True",
         "customdata": [
          [
           "3 in Series"
          ],
          [
           "3 in Series"
          ],
          [
           "3 in Series"
          ],
          [
           "3 in Series"
          ],
          [
           "3 in Series"
          ],
          [
           "3 in Series"
          ],
          [
           "3 in Series"
          ],
          [
           "3 in Series"
          ],
          [
           "3 in Series"
          ],
          [
           "3 in Series"
          ],
          [
           "3 in Series"
          ],
          [
           "3 in Series"
          ],
          [
           "3 in Series"
          ],
          [
           "3 in Series"
          ],
          [
           "3 in Series"
          ],
          [
           "3 in Series"
          ],
          [
           "3 in Series"
          ],
          [
           "3 in Series"
          ],
          [
           "3 in Series"
          ],
          [
           "3 in Series"
          ],
          [
           "3 in Series"
          ],
          [
           "3 in Series"
          ],
          [
           "3 in Series"
          ],
          [
           "3 in Series"
          ],
          [
           "3 in Series"
          ],
          [
           "3 in Series"
          ],
          [
           "3 in Series"
          ],
          [
           "3 in Series"
          ],
          [
           "3 in Series"
          ],
          [
           "3 in Series"
          ],
          [
           "3 in Series"
          ],
          [
           "3 in Series"
          ],
          [
           "3 in Series"
          ],
          [
           "3 in Series"
          ],
          [
           "3 in Series"
          ],
          [
           "3 in Series"
          ],
          [
           "3 in Series"
          ],
          [
           "3 in Series"
          ],
          [
           "3 in Series"
          ],
          [
           "3 in Series"
          ]
         ],
         "hovertemplate": "Order Group=%{customdata[0]}<br>Year=%{x}<br>Number of Films=%{y}<extra></extra>",
         "legendgroup": "3 in Series",
         "marker": {
          "color": "green",
          "pattern": {
           "shape": ""
          }
         },
         "name": "3 in Series",
         "offsetgroup": "3 in Series",
         "orientation": "v",
         "showlegend": true,
         "textposition": "auto",
         "type": "bar",
         "x": [
          1977,
          1982,
          1983,
          1984,
          1985,
          1986,
          1987,
          1988,
          1989,
          1990,
          1991,
          1992,
          1993,
          1994,
          1995,
          1996,
          1997,
          1998,
          2000,
          2001,
          2002,
          2003,
          2004,
          2005,
          2006,
          2007,
          2008,
          2009,
          2010,
          2011,
          2012,
          2013,
          2014,
          2015,
          2016,
          2017,
          2018,
          2019,
          2020,
          2023
         ],
         "xaxis": "x",
         "y": [
          1,
          3,
          2,
          2,
          1,
          1,
          1,
          1,
          1,
          3,
          2,
          2,
          2,
          3,
          2,
          1,
          1,
          1,
          2,
          1,
          1,
          7,
          3,
          1,
          7,
          7,
          4,
          6,
          3,
          6,
          3,
          3,
          5,
          1,
          4,
          4,
          4,
          3,
          2,
          1
         ],
         "yaxis": "y"
        },
        {
         "alignmentgroup": "True",
         "customdata": [
          [
           "4 in Series"
          ],
          [
           "4 in Series"
          ],
          [
           "4 in Series"
          ],
          [
           "4 in Series"
          ],
          [
           "4 in Series"
          ],
          [
           "4 in Series"
          ],
          [
           "4 in Series"
          ],
          [
           "4 in Series"
          ],
          [
           "4 in Series"
          ],
          [
           "4 in Series"
          ],
          [
           "4 in Series"
          ],
          [
           "4 in Series"
          ],
          [
           "4 in Series"
          ],
          [
           "4 in Series"
          ],
          [
           "4 in Series"
          ],
          [
           "4 in Series"
          ],
          [
           "4 in Series"
          ],
          [
           "4 in Series"
          ],
          [
           "4 in Series"
          ],
          [
           "4 in Series"
          ],
          [
           "4 in Series"
          ],
          [
           "4 in Series"
          ]
         ],
         "hovertemplate": "Order Group=%{customdata[0]}<br>Year=%{x}<br>Number of Films=%{y}<extra></extra>",
         "legendgroup": "4 in Series",
         "marker": {
          "color": "purple",
          "pattern": {
           "shape": ""
          }
         },
         "name": "4 in Series",
         "offsetgroup": "4 in Series",
         "orientation": "v",
         "showlegend": true,
         "textposition": "auto",
         "type": "bar",
         "x": [
          1984,
          1985,
          1986,
          1987,
          1988,
          1992,
          1997,
          1998,
          1999,
          2004,
          2005,
          2006,
          2007,
          2009,
          2010,
          2011,
          2012,
          2014,
          2015,
          2017,
          2019,
          2022
         ],
         "xaxis": "x",
         "y": [
          1,
          1,
          1,
          2,
          2,
          1,
          2,
          1,
          2,
          2,
          2,
          2,
          4,
          4,
          4,
          5,
          6,
          2,
          2,
          1,
          2,
          1
         ],
         "yaxis": "y"
        },
        {
         "alignmentgroup": "True",
         "customdata": [
          [
           "5+ in Series"
          ],
          [
           "5+ in Series"
          ],
          [
           "5+ in Series"
          ],
          [
           "5+ in Series"
          ],
          [
           "5+ in Series"
          ],
          [
           "5+ in Series"
          ],
          [
           "5+ in Series"
          ],
          [
           "5+ in Series"
          ],
          [
           "5+ in Series"
          ],
          [
           "5+ in Series"
          ],
          [
           "5+ in Series"
          ],
          [
           "5+ in Series"
          ],
          [
           "5+ in Series"
          ],
          [
           "5+ in Series"
          ],
          [
           "5+ in Series"
          ],
          [
           "5+ in Series"
          ],
          [
           "5+ in Series"
          ],
          [
           "5+ in Series"
          ],
          [
           "5+ in Series"
          ],
          [
           "5+ in Series"
          ],
          [
           "5+ in Series"
          ],
          [
           "5+ in Series"
          ],
          [
           "5+ in Series"
          ],
          [
           "5+ in Series"
          ],
          [
           "5+ in Series"
          ],
          [
           "5+ in Series"
          ],
          [
           "5+ in Series"
          ],
          [
           "5+ in Series"
          ],
          [
           "5+ in Series"
          ],
          [
           "5+ in Series"
          ],
          [
           "5+ in Series"
          ],
          [
           "5+ in Series"
          ],
          [
           "5+ in Series"
          ],
          [
           "5+ in Series"
          ],
          [
           "5+ in Series"
          ],
          [
           "5+ in Series"
          ],
          [
           "5+ in Series"
          ],
          [
           "5+ in Series"
          ],
          [
           "5+ in Series"
          ],
          [
           "5+ in Series"
          ],
          [
           "5+ in Series"
          ],
          [
           "5+ in Series"
          ],
          [
           "5+ in Series"
          ],
          [
           "5+ in Series"
          ],
          [
           "5+ in Series"
          ],
          [
           "5+ in Series"
          ],
          [
           "5+ in Series"
          ]
         ],
         "hovertemplate": "Order Group=%{customdata[0]}<br>Year=%{x}<br>Number of Films=%{y}<extra></extra>",
         "legendgroup": "5+ in Series",
         "marker": {
          "color": "orange",
          "pattern": {
           "shape": ""
          }
         },
         "name": "5+ in Series",
         "offsetgroup": "5+ in Series",
         "orientation": "v",
         "showlegend": true,
         "textposition": "auto",
         "type": "bar",
         "x": [
          1985,
          1986,
          1988,
          1988,
          1989,
          1989,
          1989,
          1990,
          1991,
          1994,
          1995,
          1996,
          1998,
          1998,
          2002,
          2002,
          2002,
          2005,
          2005,
          2006,
          2007,
          2007,
          2008,
          2008,
          2009,
          2009,
          2009,
          2009,
          2010,
          2010,
          2010,
          2011,
          2011,
          2012,
          2012,
          2012,
          2013,
          2013,
          2013,
          2014,
          2014,
          2015,
          2016,
          2017,
          2018,
          2018,
          2019
         ],
         "xaxis": "x",
         "y": [
          1,
          1,
          1,
          1,
          3,
          1,
          1,
          1,
          1,
          2,
          1,
          1,
          1,
          1,
          1,
          1,
          1,
          1,
          1,
          1,
          1,
          1,
          1,
          1,
          2,
          1,
          1,
          1,
          1,
          1,
          2,
          5,
          1,
          1,
          1,
          1,
          1,
          1,
          1,
          1,
          1,
          1,
          1,
          2,
          1,
          1,
          1
         ],
         "yaxis": "y"
        }
       ],
       "layout": {
        "autosize": true,
        "barmode": "relative",
        "legend": {
         "title": {
          "text": "Film Number in Series"
         },
         "tracegroupgap": 0
        },
        "template": {
         "data": {
          "bar": [
           {
            "error_x": {
             "color": "#2a3f5f"
            },
            "error_y": {
             "color": "#2a3f5f"
            },
            "marker": {
             "line": {
              "color": "#E5ECF6",
              "width": 0.5
             },
             "pattern": {
              "fillmode": "overlay",
              "size": 10,
              "solidity": 0.2
             }
            },
            "type": "bar"
           }
          ],
          "barpolar": [
           {
            "marker": {
             "line": {
              "color": "#E5ECF6",
              "width": 0.5
             },
             "pattern": {
              "fillmode": "overlay",
              "size": 10,
              "solidity": 0.2
             }
            },
            "type": "barpolar"
           }
          ],
          "carpet": [
           {
            "aaxis": {
             "endlinecolor": "#2a3f5f",
             "gridcolor": "white",
             "linecolor": "white",
             "minorgridcolor": "white",
             "startlinecolor": "#2a3f5f"
            },
            "baxis": {
             "endlinecolor": "#2a3f5f",
             "gridcolor": "white",
             "linecolor": "white",
             "minorgridcolor": "white",
             "startlinecolor": "#2a3f5f"
            },
            "type": "carpet"
           }
          ],
          "choropleth": [
           {
            "colorbar": {
             "outlinewidth": 0,
             "ticks": ""
            },
            "type": "choropleth"
           }
          ],
          "contour": [
           {
            "colorbar": {
             "outlinewidth": 0,
             "ticks": ""
            },
            "colorscale": [
             [
              0,
              "#0d0887"
             ],
             [
              0.1111111111111111,
              "#46039f"
             ],
             [
              0.2222222222222222,
              "#7201a8"
             ],
             [
              0.3333333333333333,
              "#9c179e"
             ],
             [
              0.4444444444444444,
              "#bd3786"
             ],
             [
              0.5555555555555556,
              "#d8576b"
             ],
             [
              0.6666666666666666,
              "#ed7953"
             ],
             [
              0.7777777777777778,
              "#fb9f3a"
             ],
             [
              0.8888888888888888,
              "#fdca26"
             ],
             [
              1,
              "#f0f921"
             ]
            ],
            "type": "contour"
           }
          ],
          "contourcarpet": [
           {
            "colorbar": {
             "outlinewidth": 0,
             "ticks": ""
            },
            "type": "contourcarpet"
           }
          ],
          "heatmap": [
           {
            "colorbar": {
             "outlinewidth": 0,
             "ticks": ""
            },
            "colorscale": [
             [
              0,
              "#0d0887"
             ],
             [
              0.1111111111111111,
              "#46039f"
             ],
             [
              0.2222222222222222,
              "#7201a8"
             ],
             [
              0.3333333333333333,
              "#9c179e"
             ],
             [
              0.4444444444444444,
              "#bd3786"
             ],
             [
              0.5555555555555556,
              "#d8576b"
             ],
             [
              0.6666666666666666,
              "#ed7953"
             ],
             [
              0.7777777777777778,
              "#fb9f3a"
             ],
             [
              0.8888888888888888,
              "#fdca26"
             ],
             [
              1,
              "#f0f921"
             ]
            ],
            "type": "heatmap"
           }
          ],
          "heatmapgl": [
           {
            "colorbar": {
             "outlinewidth": 0,
             "ticks": ""
            },
            "colorscale": [
             [
              0,
              "#0d0887"
             ],
             [
              0.1111111111111111,
              "#46039f"
             ],
             [
              0.2222222222222222,
              "#7201a8"
             ],
             [
              0.3333333333333333,
              "#9c179e"
             ],
             [
              0.4444444444444444,
              "#bd3786"
             ],
             [
              0.5555555555555556,
              "#d8576b"
             ],
             [
              0.6666666666666666,
              "#ed7953"
             ],
             [
              0.7777777777777778,
              "#fb9f3a"
             ],
             [
              0.8888888888888888,
              "#fdca26"
             ],
             [
              1,
              "#f0f921"
             ]
            ],
            "type": "heatmapgl"
           }
          ],
          "histogram": [
           {
            "marker": {
             "pattern": {
              "fillmode": "overlay",
              "size": 10,
              "solidity": 0.2
             }
            },
            "type": "histogram"
           }
          ],
          "histogram2d": [
           {
            "colorbar": {
             "outlinewidth": 0,
             "ticks": ""
            },
            "colorscale": [
             [
              0,
              "#0d0887"
             ],
             [
              0.1111111111111111,
              "#46039f"
             ],
             [
              0.2222222222222222,
              "#7201a8"
             ],
             [
              0.3333333333333333,
              "#9c179e"
             ],
             [
              0.4444444444444444,
              "#bd3786"
             ],
             [
              0.5555555555555556,
              "#d8576b"
             ],
             [
              0.6666666666666666,
              "#ed7953"
             ],
             [
              0.7777777777777778,
              "#fb9f3a"
             ],
             [
              0.8888888888888888,
              "#fdca26"
             ],
             [
              1,
              "#f0f921"
             ]
            ],
            "type": "histogram2d"
           }
          ],
          "histogram2dcontour": [
           {
            "colorbar": {
             "outlinewidth": 0,
             "ticks": ""
            },
            "colorscale": [
             [
              0,
              "#0d0887"
             ],
             [
              0.1111111111111111,
              "#46039f"
             ],
             [
              0.2222222222222222,
              "#7201a8"
             ],
             [
              0.3333333333333333,
              "#9c179e"
             ],
             [
              0.4444444444444444,
              "#bd3786"
             ],
             [
              0.5555555555555556,
              "#d8576b"
             ],
             [
              0.6666666666666666,
              "#ed7953"
             ],
             [
              0.7777777777777778,
              "#fb9f3a"
             ],
             [
              0.8888888888888888,
              "#fdca26"
             ],
             [
              1,
              "#f0f921"
             ]
            ],
            "type": "histogram2dcontour"
           }
          ],
          "mesh3d": [
           {
            "colorbar": {
             "outlinewidth": 0,
             "ticks": ""
            },
            "type": "mesh3d"
           }
          ],
          "parcoords": [
           {
            "line": {
             "colorbar": {
              "outlinewidth": 0,
              "ticks": ""
             }
            },
            "type": "parcoords"
           }
          ],
          "pie": [
           {
            "automargin": true,
            "type": "pie"
           }
          ],
          "scatter": [
           {
            "fillpattern": {
             "fillmode": "overlay",
             "size": 10,
             "solidity": 0.2
            },
            "type": "scatter"
           }
          ],
          "scatter3d": [
           {
            "line": {
             "colorbar": {
              "outlinewidth": 0,
              "ticks": ""
             }
            },
            "marker": {
             "colorbar": {
              "outlinewidth": 0,
              "ticks": ""
             }
            },
            "type": "scatter3d"
           }
          ],
          "scattercarpet": [
           {
            "marker": {
             "colorbar": {
              "outlinewidth": 0,
              "ticks": ""
             }
            },
            "type": "scattercarpet"
           }
          ],
          "scattergeo": [
           {
            "marker": {
             "colorbar": {
              "outlinewidth": 0,
              "ticks": ""
             }
            },
            "type": "scattergeo"
           }
          ],
          "scattergl": [
           {
            "marker": {
             "colorbar": {
              "outlinewidth": 0,
              "ticks": ""
             }
            },
            "type": "scattergl"
           }
          ],
          "scattermapbox": [
           {
            "marker": {
             "colorbar": {
              "outlinewidth": 0,
              "ticks": ""
             }
            },
            "type": "scattermapbox"
           }
          ],
          "scatterpolar": [
           {
            "marker": {
             "colorbar": {
              "outlinewidth": 0,
              "ticks": ""
             }
            },
            "type": "scatterpolar"
           }
          ],
          "scatterpolargl": [
           {
            "marker": {
             "colorbar": {
              "outlinewidth": 0,
              "ticks": ""
             }
            },
            "type": "scatterpolargl"
           }
          ],
          "scatterternary": [
           {
            "marker": {
             "colorbar": {
              "outlinewidth": 0,
              "ticks": ""
             }
            },
            "type": "scatterternary"
           }
          ],
          "surface": [
           {
            "colorbar": {
             "outlinewidth": 0,
             "ticks": ""
            },
            "colorscale": [
             [
              0,
              "#0d0887"
             ],
             [
              0.1111111111111111,
              "#46039f"
             ],
             [
              0.2222222222222222,
              "#7201a8"
             ],
             [
              0.3333333333333333,
              "#9c179e"
             ],
             [
              0.4444444444444444,
              "#bd3786"
             ],
             [
              0.5555555555555556,
              "#d8576b"
             ],
             [
              0.6666666666666666,
              "#ed7953"
             ],
             [
              0.7777777777777778,
              "#fb9f3a"
             ],
             [
              0.8888888888888888,
              "#fdca26"
             ],
             [
              1,
              "#f0f921"
             ]
            ],
            "type": "surface"
           }
          ],
          "table": [
           {
            "cells": {
             "fill": {
              "color": "#EBF0F8"
             },
             "line": {
              "color": "white"
             }
            },
            "header": {
             "fill": {
              "color": "#C8D4E3"
             },
             "line": {
              "color": "white"
             }
            },
            "type": "table"
           }
          ]
         },
         "layout": {
          "annotationdefaults": {
           "arrowcolor": "#2a3f5f",
           "arrowhead": 0,
           "arrowwidth": 1
          },
          "autotypenumbers": "strict",
          "coloraxis": {
           "colorbar": {
            "outlinewidth": 0,
            "ticks": ""
           }
          },
          "colorscale": {
           "diverging": [
            [
             0,
             "#8e0152"
            ],
            [
             0.1,
             "#c51b7d"
            ],
            [
             0.2,
             "#de77ae"
            ],
            [
             0.3,
             "#f1b6da"
            ],
            [
             0.4,
             "#fde0ef"
            ],
            [
             0.5,
             "#f7f7f7"
            ],
            [
             0.6,
             "#e6f5d0"
            ],
            [
             0.7,
             "#b8e186"
            ],
            [
             0.8,
             "#7fbc41"
            ],
            [
             0.9,
             "#4d9221"
            ],
            [
             1,
             "#276419"
            ]
           ],
           "sequential": [
            [
             0,
             "#0d0887"
            ],
            [
             0.1111111111111111,
             "#46039f"
            ],
            [
             0.2222222222222222,
             "#7201a8"
            ],
            [
             0.3333333333333333,
             "#9c179e"
            ],
            [
             0.4444444444444444,
             "#bd3786"
            ],
            [
             0.5555555555555556,
             "#d8576b"
            ],
            [
             0.6666666666666666,
             "#ed7953"
            ],
            [
             0.7777777777777778,
             "#fb9f3a"
            ],
            [
             0.8888888888888888,
             "#fdca26"
            ],
            [
             1,
             "#f0f921"
            ]
           ],
           "sequentialminus": [
            [
             0,
             "#0d0887"
            ],
            [
             0.1111111111111111,
             "#46039f"
            ],
            [
             0.2222222222222222,
             "#7201a8"
            ],
            [
             0.3333333333333333,
             "#9c179e"
            ],
            [
             0.4444444444444444,
             "#bd3786"
            ],
            [
             0.5555555555555556,
             "#d8576b"
            ],
            [
             0.6666666666666666,
             "#ed7953"
            ],
            [
             0.7777777777777778,
             "#fb9f3a"
            ],
            [
             0.8888888888888888,
             "#fdca26"
            ],
            [
             1,
             "#f0f921"
            ]
           ]
          },
          "colorway": [
           "#636efa",
           "#EF553B",
           "#00cc96",
           "#ab63fa",
           "#FFA15A",
           "#19d3f3",
           "#FF6692",
           "#B6E880",
           "#FF97FF",
           "#FECB52"
          ],
          "font": {
           "color": "#2a3f5f"
          },
          "geo": {
           "bgcolor": "white",
           "lakecolor": "white",
           "landcolor": "#E5ECF6",
           "showlakes": true,
           "showland": true,
           "subunitcolor": "white"
          },
          "hoverlabel": {
           "align": "left"
          },
          "hovermode": "closest",
          "mapbox": {
           "style": "light"
          },
          "paper_bgcolor": "white",
          "plot_bgcolor": "#E5ECF6",
          "polar": {
           "angularaxis": {
            "gridcolor": "white",
            "linecolor": "white",
            "ticks": ""
           },
           "bgcolor": "#E5ECF6",
           "radialaxis": {
            "gridcolor": "white",
            "linecolor": "white",
            "ticks": ""
           }
          },
          "scene": {
           "xaxis": {
            "backgroundcolor": "#E5ECF6",
            "gridcolor": "white",
            "gridwidth": 2,
            "linecolor": "white",
            "showbackground": true,
            "ticks": "",
            "zerolinecolor": "white"
           },
           "yaxis": {
            "backgroundcolor": "#E5ECF6",
            "gridcolor": "white",
            "gridwidth": 2,
            "linecolor": "white",
            "showbackground": true,
            "ticks": "",
            "zerolinecolor": "white"
           },
           "zaxis": {
            "backgroundcolor": "#E5ECF6",
            "gridcolor": "white",
            "gridwidth": 2,
            "linecolor": "white",
            "showbackground": true,
            "ticks": "",
            "zerolinecolor": "white"
           }
          },
          "shapedefaults": {
           "line": {
            "color": "#2a3f5f"
           }
          },
          "ternary": {
           "aaxis": {
            "gridcolor": "white",
            "linecolor": "white",
            "ticks": ""
           },
           "baxis": {
            "gridcolor": "white",
            "linecolor": "white",
            "ticks": ""
           },
           "bgcolor": "#E5ECF6",
           "caxis": {
            "gridcolor": "white",
            "linecolor": "white",
            "ticks": ""
           }
          },
          "title": {
           "x": 0.05
          },
          "xaxis": {
           "automargin": true,
           "gridcolor": "white",
           "linecolor": "white",
           "ticks": "",
           "title": {
            "standoff": 15
           },
           "zerolinecolor": "white",
           "zerolinewidth": 2
          },
          "yaxis": {
           "automargin": true,
           "gridcolor": "white",
           "linecolor": "white",
           "ticks": "",
           "title": {
            "standoff": 15
           },
           "zerolinecolor": "white",
           "zerolinewidth": 2
          }
         }
        },
        "title": {
         "text": "Amount of Sequels Released from 1960 to 2019"
        },
        "xaxis": {
         "anchor": "y",
         "autorange": true,
         "domain": [
          0,
          1
         ],
         "range": [
          1973.5,
          2023.5
         ],
         "title": {
          "text": "Year"
         },
         "type": "linear"
        },
        "yaxis": {
         "anchor": "x",
         "autorange": true,
         "domain": [
          0,
          1
         ],
         "range": [
          0,
          29.473684210526315
         ],
         "title": {
          "text": "Number of Films"
         },
         "type": "linear"
        }
       }
      },
      "image/png": "[encoded data removed]",
      "text/html": [
       "<div>                            <div id=\"08b5e15b-fcad-46d9-958b-c3cf88a5c35c\" class=\"plotly-graph-div\" style=\"height:525px; width:100%;\"></div>            <script type=\"text/javascript\">                require([\"plotly\"], function(Plotly) {                    window.PLOTLYENV=window.PLOTLYENV || {};                                    if (document.getElementById(\"08b5e15b-fcad-46d9-958b-c3cf88a5c35c\")) {                    Plotly.newPlot(                        \"08b5e15b-fcad-46d9-958b-c3cf88a5c35c\",                        [{\"alignmentgroup\":\"True\",\"customdata\":[[\"2 in Series\"],[\"2 in Series\"],[\"2 in Series\"],[\"2 in Series\"],[\"2 in Series\"],[\"2 in Series\"],[\"2 in Series\"],[\"2 in Series\"],[\"2 in Series\"],[\"2 in Series\"],[\"2 in Series\"],[\"2 in Series\"],[\"2 in Series\"],[\"2 in Series\"],[\"2 in Series\"],[\"2 in Series\"],[\"2 in Series\"],[\"2 in Series\"],[\"2 in Series\"],[\"2 in Series\"],[\"2 in Series\"],[\"2 in Series\"],[\"2 in Series\"],[\"2 in Series\"],[\"2 in Series\"],[\"2 in Series\"],[\"2 in Series\"],[\"2 in Series\"],[\"2 in Series\"],[\"2 in Series\"],[\"2 in Series\"],[\"2 in Series\"],[\"2 in Series\"],[\"2 in Series\"],[\"2 in Series\"],[\"2 in Series\"],[\"2 in Series\"],[\"2 in Series\"],[\"2 in Series\"],[\"2 in Series\"],[\"2 in Series\"],[\"2 in Series\"],[\"2 in Series\"],[\"2 in Series\"]],\"hovertemplate\":\"Order Group=%{customdata[0]}<br>Year=%{x}<br>Number of Films=%{y}<extra></extra>\",\"legendgroup\":\"2 in Series\",\"marker\":{\"color\":\"blue\",\"pattern\":{\"shape\":\"\"}},\"name\":\"2 in Series\",\"offsetgroup\":\"2 in Series\",\"orientation\":\"v\",\"showlegend\":true,\"textposition\":\"auto\",\"x\":[1974,1975,1977,1979,1980,1981,1982,1983,1984,1985,1986,1987,1988,1989,1990,1991,1992,1993,1994,1995,1996,1997,1998,1999,2000,2001,2002,2003,2004,2005,2006,2007,2008,2009,2010,2011,2012,2013,2014,2015,2016,2017,2018,2019],\"xaxis\":\"x\",\"y\":[1,2,1,1,2,4,1,2,1,2,3,2,5,6,8,2,5,2,3,5,2,3,3,4,7,5,8,11,13,10,9,9,10,11,6,11,7,15,15,9,12,8,5,7],\"yaxis\":\"y\",\"type\":\"bar\"},{\"alignmentgroup\":\"True\",\"customdata\":[[\"3 in Series\"],[\"3 in Series\"],[\"3 in Series\"],[\"3 in Series\"],[\"3 in Series\"],[\"3 in Series\"],[\"3 in Series\"],[\"3 in Series\"],[\"3 in Series\"],[\"3 in Series\"],[\"3 in Series\"],[\"3 in Series\"],[\"3 in Series\"],[\"3 in Series\"],[\"3 in Series\"],[\"3 in Series\"],[\"3 in Series\"],[\"3 in Series\"],[\"3 in Series\"],[\"3 in Series\"],[\"3 in Series\"],[\"3 in Series\"],[\"3 in Series\"],[\"3 in Series\"],[\"3 in Series\"],[\"3 in Series\"],[\"3 in Series\"],[\"3 in Series\"],[\"3 in Series\"],[\"3 in Series\"],[\"3 in Series\"],[\"3 in Series\"],[\"3 in Series\"],[\"3 in Series\"],[\"3 in Series\"],[\"3 in Series\"],[\"3 in Series\"],[\"3 in Series\"],[\"3 in Series\"],[\"3 in Series\"]],\"hovertemplate\":\"Order Group=%{customdata[0]}<br>Year=%{x}<br>Number of Films=%{y}<extra></extra>\",\"legendgroup\":\"3 in Series\",\"marker\":{\"color\":\"green\",\"pattern\":{\"shape\":\"\"}},\"name\":\"3 in Series\",\"offsetgroup\":\"3 in Series\",\"orientation\":\"v\",\"showlegend\":true,\"textposition\":\"auto\",\"x\":[1977,1982,1983,1984,1985,1986,1987,1988,1989,1990,1991,1992,1993,1994,1995,1996,1997,1998,2000,2001,2002,2003,2004,2005,2006,2007,2008,2009,2010,2011,2012,2013,2014,2015,2016,2017,2018,2019,2020,2023],\"xaxis\":\"x\",\"y\":[1,3,2,2,1,1,1,1,1,3,2,2,2,3,2,1,1,1,2,1,1,7,3,1,7,7,4,6,3,6,3,3,5,1,4,4,4,3,2,1],\"yaxis\":\"y\",\"type\":\"bar\"},{\"alignmentgroup\":\"True\",\"customdata\":[[\"4 in Series\"],[\"4 in Series\"],[\"4 in Series\"],[\"4 in Series\"],[\"4 in Series\"],[\"4 in Series\"],[\"4 in Series\"],[\"4 in Series\"],[\"4 in Series\"],[\"4 in Series\"],[\"4 in Series\"],[\"4 in Series\"],[\"4 in Series\"],[\"4 in Series\"],[\"4 in Series\"],[\"4 in Series\"],[\"4 in Series\"],[\"4 in Series\"],[\"4 in Series\"],[\"4 in Series\"],[\"4 in Series\"],[\"4 in Series\"]],\"hovertemplate\":\"Order Group=%{customdata[0]}<br>Year=%{x}<br>Number of Films=%{y}<extra></extra>\",\"legendgroup\":\"4 in Series\",\"marker\":{\"color\":\"purple\",\"pattern\":{\"shape\":\"\"}},\"name\":\"4 in Series\",\"offsetgroup\":\"4 in Series\",\"orientation\":\"v\",\"showlegend\":true,\"textposition\":\"auto\",\"x\":[1984,1985,1986,1987,1988,1992,1997,1998,1999,2004,2005,2006,2007,2009,2010,2011,2012,2014,2015,2017,2019,2022],\"xaxis\":\"x\",\"y\":[1,1,1,2,2,1,2,1,2,2,2,2,4,4,4,5,6,2,2,1,2,1],\"yaxis\":\"y\",\"type\":\"bar\"},{\"alignmentgroup\":\"True\",\"customdata\":[[\"5+ in Series\"],[\"5+ in Series\"],[\"5+ in Series\"],[\"5+ in Series\"],[\"5+ in Series\"],[\"5+ in Series\"],[\"5+ in Series\"],[\"5+ in Series\"],[\"5+ in Series\"],[\"5+ in Series\"],[\"5+ in Series\"],[\"5+ in Series\"],[\"5+ in Series\"],[\"5+ in Series\"],[\"5+ in Series\"],[\"5+ in Series\"],[\"5+ in Series\"],[\"5+ in Series\"],[\"5+ in Series\"],[\"5+ in Series\"],[\"5+ in Series\"],[\"5+ in Series\"],[\"5+ in Series\"],[\"5+ in Series\"],[\"5+ in Series\"],[\"5+ in Series\"],[\"5+ in Series\"],[\"5+ in Series\"],[\"5+ in Series\"],[\"5+ in Series\"],[\"5+ in Series\"],[\"5+ in Series\"],[\"5+ in Series\"],[\"5+ in Series\"],[\"5+ in Series\"],[\"5+ in Series\"],[\"5+ in Series\"],[\"5+ in Series\"],[\"5+ in Series\"],[\"5+ in Series\"],[\"5+ in Series\"],[\"5+ in Series\"],[\"5+ in Series\"],[\"5+ in Series\"],[\"5+ in Series\"],[\"5+ in Series\"],[\"5+ in Series\"]],\"hovertemplate\":\"Order Group=%{customdata[0]}<br>Year=%{x}<br>Number of Films=%{y}<extra></extra>\",\"legendgroup\":\"5+ in Series\",\"marker\":{\"color\":\"orange\",\"pattern\":{\"shape\":\"\"}},\"name\":\"5+ in Series\",\"offsetgroup\":\"5+ in Series\",\"orientation\":\"v\",\"showlegend\":true,\"textposition\":\"auto\",\"x\":[1985,1986,1988,1988,1989,1989,1989,1990,1991,1994,1995,1996,1998,1998,2002,2002,2002,2005,2005,2006,2007,2007,2008,2008,2009,2009,2009,2009,2010,2010,2010,2011,2011,2012,2012,2012,2013,2013,2013,2014,2014,2015,2016,2017,2018,2018,2019],\"xaxis\":\"x\",\"y\":[1,1,1,1,3,1,1,1,1,2,1,1,1,1,1,1,1,1,1,1,1,1,1,1,2,1,1,1,1,1,2,5,1,1,1,1,1,1,1,1,1,1,1,2,1,1,1],\"yaxis\":\"y\",\"type\":\"bar\"}],                        {\"template\":{\"data\":{\"histogram2dcontour\":[{\"type\":\"histogram2dcontour\",\"colorbar\":{\"outlinewidth\":0,\"ticks\":\"\"},\"colorscale\":[[0.0,\"#0d0887\"],[0.1111111111111111,\"#46039f\"],[0.2222222222222222,\"#7201a8\"],[0.3333333333333333,\"#9c179e\"],[0.4444444444444444,\"#bd3786\"],[0.5555555555555556,\"#d8576b\"],[0.6666666666666666,\"#ed7953\"],[0.7777777777777778,\"#fb9f3a\"],[0.8888888888888888,\"#fdca26\"],[1.0,\"#f0f921\"]]}],\"choropleth\":[{\"type\":\"choropleth\",\"colorbar\":{\"outlinewidth\":0,\"ticks\":\"\"}}],\"histogram2d\":[{\"type\":\"histogram2d\",\"colorbar\":{\"outlinewidth\":0,\"ticks\":\"\"},\"colorscale\":[[0.0,\"#0d0887\"],[0.1111111111111111,\"#46039f\"],[0.2222222222222222,\"#7201a8\"],[0.3333333333333333,\"#9c179e\"],[0.4444444444444444,\"#bd3786\"],[0.5555555555555556,\"#d8576b\"],[0.6666666666666666,\"#ed7953\"],[0.7777777777777778,\"#fb9f3a\"],[0.8888888888888888,\"#fdca26\"],[1.0,\"#f0f921\"]]}],\"heatmap\":[{\"type\":\"heatmap\",\"colorbar\":{\"outlinewidth\":0,\"ticks\":\"\"},\"colorscale\":[[0.0,\"#0d0887\"],[0.1111111111111111,\"#46039f\"],[0.2222222222222222,\"#7201a8\"],[0.3333333333333333,\"#9c179e\"],[0.4444444444444444,\"#bd3786\"],[0.5555555555555556,\"#d8576b\"],[0.6666666666666666,\"#ed7953\"],[0.7777777777777778,\"#fb9f3a\"],[0.8888888888888888,\"#fdca26\"],[1.0,\"#f0f921\"]]}],\"heatmapgl\":[{\"type\":\"heatmapgl\",\"colorbar\":{\"outlinewidth\":0,\"ticks\":\"\"},\"colorscale\":[[0.0,\"#0d0887\"],[0.1111111111111111,\"#46039f\"],[0.2222222222222222,\"#7201a8\"],[0.3333333333333333,\"#9c179e\"],[0.4444444444444444,\"#bd3786\"],[0.5555555555555556,\"#d8576b\"],[0.6666666666666666,\"#ed7953\"],[0.7777777777777778,\"#fb9f3a\"],[0.8888888888888888,\"#fdca26\"],[1.0,\"#f0f921\"]]}],\"contourcarpet\":[{\"type\":\"contourcarpet\",\"colorbar\":{\"outlinewidth\":0,\"ticks\":\"\"}}],\"contour\":[{\"type\":\"contour\",\"colorbar\":{\"outlinewidth\":0,\"ticks\":\"\"},\"colorscale\":[[0.0,\"#0d0887\"],[0.1111111111111111,\"#46039f\"],[0.2222222222222222,\"#7201a8\"],[0.3333333333333333,\"#9c179e\"],[0.4444444444444444,\"#bd3786\"],[0.5555555555555556,\"#d8576b\"],[0.6666666666666666,\"#ed7953\"],[0.7777777777777778,\"#fb9f3a\"],[0.8888888888888888,\"#fdca26\"],[1.0,\"#f0f921\"]]}],\"surface\":[{\"type\":\"surface\",\"colorbar\":{\"outlinewidth\":0,\"ticks\":\"\"},\"colorscale\":[[0.0,\"#0d0887\"],[0.1111111111111111,\"#46039f\"],[0.2222222222222222,\"#7201a8\"],[0.3333333333333333,\"#9c179e\"],[0.4444444444444444,\"#bd3786\"],[0.5555555555555556,\"#d8576b\"],[0.6666666666666666,\"#ed7953\"],[0.7777777777777778,\"#fb9f3a\"],[0.8888888888888888,\"#fdca26\"],[1.0,\"#f0f921\"]]}],\"mesh3d\":[{\"type\":\"mesh3d\",\"colorbar\":{\"outlinewidth\":0,\"ticks\":\"\"}}],\"scatter\":[{\"fillpattern\":{\"fillmode\":\"overlay\",\"size\":10,\"solidity\":0.2},\"type\":\"scatter\"}],\"parcoords\":[{\"type\":\"parcoords\",\"line\":{\"colorbar\":{\"outlinewidth\":0,\"ticks\":\"\"}}}],\"scatterpolargl\":[{\"type\":\"scatterpolargl\",\"marker\":{\"colorbar\":{\"outlinewidth\":0,\"ticks\":\"\"}}}],\"bar\":[{\"error_x\":{\"color\":\"#2a3f5f\"},\"error_y\":{\"color\":\"#2a3f5f\"},\"marker\":{\"line\":{\"color\":\"#E5ECF6\",\"width\":0.5},\"pattern\":{\"fillmode\":\"overlay\",\"size\":10,\"solidity\":0.2}},\"type\":\"bar\"}],\"scattergeo\":[{\"type\":\"scattergeo\",\"marker\":{\"colorbar\":{\"outlinewidth\":0,\"ticks\":\"\"}}}],\"scatterpolar\":[{\"type\":\"scatterpolar\",\"marker\":{\"colorbar\":{\"outlinewidth\":0,\"ticks\":\"\"}}}],\"histogram\":[{\"marker\":{\"pattern\":{\"fillmode\":\"overlay\",\"size\":10,\"solidity\":0.2}},\"type\":\"histogram\"}],\"scattergl\":[{\"type\":\"scattergl\",\"marker\":{\"colorbar\":{\"outlinewidth\":0,\"ticks\":\"\"}}}],\"scatter3d\":[{\"type\":\"scatter3d\",\"line\":{\"colorbar\":{\"outlinewidth\":0,\"ticks\":\"\"}},\"marker\":{\"colorbar\":{\"outlinewidth\":0,\"ticks\":\"\"}}}],\"scattermapbox\":[{\"type\":\"scattermapbox\",\"marker\":{\"colorbar\":{\"outlinewidth\":0,\"ticks\":\"\"}}}],\"scatterternary\":[{\"type\":\"scatterternary\",\"marker\":{\"colorbar\":{\"outlinewidth\":0,\"ticks\":\"\"}}}],\"scattercarpet\":[{\"type\":\"scattercarpet\",\"marker\":{\"colorbar\":{\"outlinewidth\":0,\"ticks\":\"\"}}}],\"carpet\":[{\"aaxis\":{\"endlinecolor\":\"#2a3f5f\",\"gridcolor\":\"white\",\"linecolor\":\"white\",\"minorgridcolor\":\"white\",\"startlinecolor\":\"#2a3f5f\"},\"baxis\":{\"endlinecolor\":\"#2a3f5f\",\"gridcolor\":\"white\",\"linecolor\":\"white\",\"minorgridcolor\":\"white\",\"startlinecolor\":\"#2a3f5f\"},\"type\":\"carpet\"}],\"table\":[{\"cells\":{\"fill\":{\"color\":\"#EBF0F8\"},\"line\":{\"color\":\"white\"}},\"header\":{\"fill\":{\"color\":\"#C8D4E3\"},\"line\":{\"color\":\"white\"}},\"type\":\"table\"}],\"barpolar\":[{\"marker\":{\"line\":{\"color\":\"#E5ECF6\",\"width\":0.5},\"pattern\":{\"fillmode\":\"overlay\",\"size\":10,\"solidity\":0.2}},\"type\":\"barpolar\"}],\"pie\":[{\"automargin\":true,\"type\":\"pie\"}]},\"layout\":{\"autotypenumbers\":\"strict\",\"colorway\":[\"#636efa\",\"#EF553B\",\"#00cc96\",\"#ab63fa\",\"#FFA15A\",\"#19d3f3\",\"#FF6692\",\"#B6E880\",\"#FF97FF\",\"#FECB52\"],\"font\":{\"color\":\"#2a3f5f\"},\"hovermode\":\"closest\",\"hoverlabel\":{\"align\":\"left\"},\"paper_bgcolor\":\"white\",\"plot_bgcolor\":\"#E5ECF6\",\"polar\":{\"bgcolor\":\"#E5ECF6\",\"angularaxis\":{\"gridcolor\":\"white\",\"linecolor\":\"white\",\"ticks\":\"\"},\"radialaxis\":{\"gridcolor\":\"white\",\"linecolor\":\"white\",\"ticks\":\"\"}},\"ternary\":{\"bgcolor\":\"#E5ECF6\",\"aaxis\":{\"gridcolor\":\"white\",\"linecolor\":\"white\",\"ticks\":\"\"},\"baxis\":{\"gridcolor\":\"white\",\"linecolor\":\"white\",\"ticks\":\"\"},\"caxis\":{\"gridcolor\":\"white\",\"linecolor\":\"white\",\"ticks\":\"\"}},\"coloraxis\":{\"colorbar\":{\"outlinewidth\":0,\"ticks\":\"\"}},\"colorscale\":{\"sequential\":[[0.0,\"#0d0887\"],[0.1111111111111111,\"#46039f\"],[0.2222222222222222,\"#7201a8\"],[0.3333333333333333,\"#9c179e\"],[0.4444444444444444,\"#bd3786\"],[0.5555555555555556,\"#d8576b\"],[0.6666666666666666,\"#ed7953\"],[0.7777777777777778,\"#fb9f3a\"],[0.8888888888888888,\"#fdca26\"],[1.0,\"#f0f921\"]],\"sequentialminus\":[[0.0,\"#0d0887\"],[0.1111111111111111,\"#46039f\"],[0.2222222222222222,\"#7201a8\"],[0.3333333333333333,\"#9c179e\"],[0.4444444444444444,\"#bd3786\"],[0.5555555555555556,\"#d8576b\"],[0.6666666666666666,\"#ed7953\"],[0.7777777777777778,\"#fb9f3a\"],[0.8888888888888888,\"#fdca26\"],[1.0,\"#f0f921\"]],\"diverging\":[[0,\"#8e0152\"],[0.1,\"#c51b7d\"],[0.2,\"#de77ae\"],[0.3,\"#f1b6da\"],[0.4,\"#fde0ef\"],[0.5,\"#f7f7f7\"],[0.6,\"#e6f5d0\"],[0.7,\"#b8e186\"],[0.8,\"#7fbc41\"],[0.9,\"#4d9221\"],[1,\"#276419\"]]},\"xaxis\":{\"gridcolor\":\"white\",\"linecolor\":\"white\",\"ticks\":\"\",\"title\":{\"standoff\":15},\"zerolinecolor\":\"white\",\"automargin\":true,\"zerolinewidth\":2},\"yaxis\":{\"gridcolor\":\"white\",\"linecolor\":\"white\",\"ticks\":\"\",\"title\":{\"standoff\":15},\"zerolinecolor\":\"white\",\"automargin\":true,\"zerolinewidth\":2},\"scene\":{\"xaxis\":{\"backgroundcolor\":\"#E5ECF6\",\"gridcolor\":\"white\",\"linecolor\":\"white\",\"showbackground\":true,\"ticks\":\"\",\"zerolinecolor\":\"white\",\"gridwidth\":2},\"yaxis\":{\"backgroundcolor\":\"#E5ECF6\",\"gridcolor\":\"white\",\"linecolor\":\"white\",\"showbackground\":true,\"ticks\":\"\",\"zerolinecolor\":\"white\",\"gridwidth\":2},\"zaxis\":{\"backgroundcolor\":\"#E5ECF6\",\"gridcolor\":\"white\",\"linecolor\":\"white\",\"showbackground\":true,\"ticks\":\"\",\"zerolinecolor\":\"white\",\"gridwidth\":2}},\"shapedefaults\":{\"line\":{\"color\":\"#2a3f5f\"}},\"annotationdefaults\":{\"arrowcolor\":\"#2a3f5f\",\"arrowhead\":0,\"arrowwidth\":1},\"geo\":{\"bgcolor\":\"white\",\"landcolor\":\"#E5ECF6\",\"subunitcolor\":\"white\",\"showland\":true,\"showlakes\":true,\"lakecolor\":\"white\"},\"title\":{\"x\":0.05},\"mapbox\":{\"style\":\"light\"}}},\"xaxis\":{\"anchor\":\"y\",\"domain\":[0.0,1.0],\"title\":{\"text\":\"Year\"}},\"yaxis\":{\"anchor\":\"x\",\"domain\":[0.0,1.0],\"title\":{\"text\":\"Number of Films\"}},\"legend\":{\"title\":{\"text\":\"Film Number in Series\"},\"tracegroupgap\":0},\"title\":{\"text\":\"Amount of Sequels Released from 1960 to 2019\"},\"barmode\":\"relative\"},                        {\"responsive\": true}                    ).then(function(){\n",
       "                            \n",
       "var gd = document.getElementById('08b5e15b-fcad-46d9-958b-c3cf88a5c35c');\n",
       "var x = new MutationObserver(function (mutations, observer) {{\n",
       "        var display = window.getComputedStyle(gd).display;\n",
       "        if (!display || display === 'none') {{\n",
       "            console.log([gd, 'removed!']);\n",
       "            Plotly.purge(gd);\n",
       "            observer.disconnect();\n",
       "        }}\n",
       "}});\n",
       "\n",
       "// Listen for the removal of the full notebook cells\n",
       "var notebookContainer = gd.closest('#notebook-container');\n",
       "if (notebookContainer) {{\n",
       "    x.observe(notebookContainer, {childList: true});\n",
       "}}\n",
       "\n",
       "// Listen for the clearing of the current output cell\n",
       "var outputEl = gd.closest('.output');\n",
       "if (outputEl) {{\n",
       "    x.observe(outputEl, {childList: true});\n",
       "}}\n",
       "\n",
       "                        })                };                });            </script>        </div>"
      ]
     },
     "metadata": {},
     "output_type": "display_data"
    }
   ],
   "source": [
    "color_map = {\n",
    "    '1 in Series': 'red',\n",
    "    '2 in Series': 'blue',\n",
    "    '3 in Series': 'green',\n",
    "    '4 in Series': 'purple',\n",
    "    '5+ in Series': 'orange'\n",
    "}\n",
    "\n",
    "# Group by 'Year' and 'Order', then count the occurrences\n",
    "groupedFilmOrderDF = sequals.groupby(['Year', 'Order']).size().reset_index(name='Film Count')\n",
    "\n",
    "# Create 'Order Group' based on conditions\n",
    "groupedFilmOrderDF['Order Group'] = groupedFilmOrderDF['Order'].apply(lambda x: '5+ in Series' if x >= 5 else f'{x} in Series')\n",
    "\n",
    "# Create a stacked bar graph\n",
    "fig = px.bar(groupedFilmOrderDF, \n",
    "             x='Year', \n",
    "             y='Film Count', \n",
    "             color='Order Group',\n",
    "             color_discrete_map=color_map, \n",
    "             title='Amount of Sequels Released from 1960 to 2019',\n",
    "             labels={'Film Count': 'Number of Films'},\n",
    "             hover_data={'Film Count': True, 'Order Group': True, 'Year': True},\n",
    "            )\n",
    "\n",
    "# Name the legend\n",
    "fig.update_layout(legend_title_text='Film Number in Series')\n",
    "\n",
    "# Show the plot\n",
    "fig.show()"
   ]
  },
  {
   "cell_type": "code",
   "execution_count": 108,
   "id": "098809b4-0296-4c3a-933c-9c51ad7dec23",
   "metadata": {
    "tags": []
   },
   "outputs": [
    {
     "data": {
      "application/vnd.plotly.v1+json": {
       "config": {
        "plotlyServerURL": "https://plot.ly"
       },
       "data": [
        {
         "hovertemplate": "Year=%{x}<br>Average Rating=%{y}<extra></extra>",
         "legendgroup": "",
         "marker": {
          "color": "#636efa",
          "symbol": "circle"
         },
         "mode": "lines+markers",
         "name": "",
         "orientation": "v",
         "showlegend": false,
         "type": "scatter",
         "x": [
          1974,
          1975,
          1977,
          1979,
          1980,
          1981,
          1982,
          1983,
          1984,
          1985,
          1986,
          1987,
          1988,
          1989,
          1990,
          1991,
          1992,
          1993,
          1994,
          1995,
          1996,
          1997,
          1998,
          1999,
          2000,
          2001,
          2002,
          2003,
          2004,
          2005,
          2006,
          2007,
          2008,
          2009,
          2010,
          2011,
          2012,
          2013,
          2014,
          2015,
          2016,
          2017,
          2018,
          2019,
          2020,
          2022,
          2023
         ],
         "xaxis": "x",
         "y": [
          9,
          6.5,
          4.85,
          7.3,
          7.75,
          6.85,
          6.275,
          5.45,
          5.85,
          5.86,
          6.45,
          5.92,
          5.470000000000001,
          5.933333333333334,
          6.2749999999999995,
          6.42,
          5.7875,
          5.325,
          6,
          5.55,
          5,
          5.183333333333334,
          5.185714285714285,
          5.95,
          5.455555555555556,
          5.866666666666667,
          6.191666666666666,
          5.972222222222222,
          6.333333333333333,
          5.52,
          5.915789473684211,
          6.236363636363635,
          6.28125,
          6.046153846153846,
          6.252941176470588,
          5.742857142857143,
          5.963157894736842,
          6.476190476190476,
          6.216666666666666,
          6.3076923076923075,
          6.241176470588235,
          6.7266666666666675,
          7.027272727272727,
          7.007692307692308,
          6.5,
          7.7,
          7.9
         ],
         "yaxis": "y"
        }
       ],
       "layout": {
        "autosize": true,
        "legend": {
         "tracegroupgap": 0
        },
        "template": {
         "data": {
          "bar": [
           {
            "error_x": {
             "color": "#2a3f5f"
            },
            "error_y": {
             "color": "#2a3f5f"
            },
            "marker": {
             "line": {
              "color": "#E5ECF6",
              "width": 0.5
             },
             "pattern": {
              "fillmode": "overlay",
              "size": 10,
              "solidity": 0.2
             }
            },
            "type": "bar"
           }
          ],
          "barpolar": [
           {
            "marker": {
             "line": {
              "color": "#E5ECF6",
              "width": 0.5
             },
             "pattern": {
              "fillmode": "overlay",
              "size": 10,
              "solidity": 0.2
             }
            },
            "type": "barpolar"
           }
          ],
          "carpet": [
           {
            "aaxis": {
             "endlinecolor": "#2a3f5f",
             "gridcolor": "white",
             "linecolor": "white",
             "minorgridcolor": "white",
             "startlinecolor": "#2a3f5f"
            },
            "baxis": {
             "endlinecolor": "#2a3f5f",
             "gridcolor": "white",
             "linecolor": "white",
             "minorgridcolor": "white",
             "startlinecolor": "#2a3f5f"
            },
            "type": "carpet"
           }
          ],
          "choropleth": [
           {
            "colorbar": {
             "outlinewidth": 0,
             "ticks": ""
            },
            "type": "choropleth"
           }
          ],
          "contour": [
           {
            "colorbar": {
             "outlinewidth": 0,
             "ticks": ""
            },
            "colorscale": [
             [
              0,
              "#0d0887"
             ],
             [
              0.1111111111111111,
              "#46039f"
             ],
             [
              0.2222222222222222,
              "#7201a8"
             ],
             [
              0.3333333333333333,
              "#9c179e"
             ],
             [
              0.4444444444444444,
              "#bd3786"
             ],
             [
              0.5555555555555556,
              "#d8576b"
             ],
             [
              0.6666666666666666,
              "#ed7953"
             ],
             [
              0.7777777777777778,
              "#fb9f3a"
             ],
             [
              0.8888888888888888,
              "#fdca26"
             ],
             [
              1,
              "#f0f921"
             ]
            ],
            "type": "contour"
           }
          ],
          "contourcarpet": [
           {
            "colorbar": {
             "outlinewidth": 0,
             "ticks": ""
            },
            "type": "contourcarpet"
           }
          ],
          "heatmap": [
           {
            "colorbar": {
             "outlinewidth": 0,
             "ticks": ""
            },
            "colorscale": [
             [
              0,
              "#0d0887"
             ],
             [
              0.1111111111111111,
              "#46039f"
             ],
             [
              0.2222222222222222,
              "#7201a8"
             ],
             [
              0.3333333333333333,
              "#9c179e"
             ],
             [
              0.4444444444444444,
              "#bd3786"
             ],
             [
              0.5555555555555556,
              "#d8576b"
             ],
             [
              0.6666666666666666,
              "#ed7953"
             ],
             [
              0.7777777777777778,
              "#fb9f3a"
             ],
             [
              0.8888888888888888,
              "#fdca26"
             ],
             [
              1,
              "#f0f921"
             ]
            ],
            "type": "heatmap"
           }
          ],
          "heatmapgl": [
           {
            "colorbar": {
             "outlinewidth": 0,
             "ticks": ""
            },
            "colorscale": [
             [
              0,
              "#0d0887"
             ],
             [
              0.1111111111111111,
              "#46039f"
             ],
             [
              0.2222222222222222,
              "#7201a8"
             ],
             [
              0.3333333333333333,
              "#9c179e"
             ],
             [
              0.4444444444444444,
              "#bd3786"
             ],
             [
              0.5555555555555556,
              "#d8576b"
             ],
             [
              0.6666666666666666,
              "#ed7953"
             ],
             [
              0.7777777777777778,
              "#fb9f3a"
             ],
             [
              0.8888888888888888,
              "#fdca26"
             ],
             [
              1,
              "#f0f921"
             ]
            ],
            "type": "heatmapgl"
           }
          ],
          "histogram": [
           {
            "marker": {
             "pattern": {
              "fillmode": "overlay",
              "size": 10,
              "solidity": 0.2
             }
            },
            "type": "histogram"
           }
          ],
          "histogram2d": [
           {
            "colorbar": {
             "outlinewidth": 0,
             "ticks": ""
            },
            "colorscale": [
             [
              0,
              "#0d0887"
             ],
             [
              0.1111111111111111,
              "#46039f"
             ],
             [
              0.2222222222222222,
              "#7201a8"
             ],
             [
              0.3333333333333333,
              "#9c179e"
             ],
             [
              0.4444444444444444,
              "#bd3786"
             ],
             [
              0.5555555555555556,
              "#d8576b"
             ],
             [
              0.6666666666666666,
              "#ed7953"
             ],
             [
              0.7777777777777778,
              "#fb9f3a"
             ],
             [
              0.8888888888888888,
              "#fdca26"
             ],
             [
              1,
              "#f0f921"
             ]
            ],
            "type": "histogram2d"
           }
          ],
          "histogram2dcontour": [
           {
            "colorbar": {
             "outlinewidth": 0,
             "ticks": ""
            },
            "colorscale": [
             [
              0,
              "#0d0887"
             ],
             [
              0.1111111111111111,
              "#46039f"
             ],
             [
              0.2222222222222222,
              "#7201a8"
             ],
             [
              0.3333333333333333,
              "#9c179e"
             ],
             [
              0.4444444444444444,
              "#bd3786"
             ],
             [
              0.5555555555555556,
              "#d8576b"
             ],
             [
              0.6666666666666666,
              "#ed7953"
             ],
             [
              0.7777777777777778,
              "#fb9f3a"
             ],
             [
              0.8888888888888888,
              "#fdca26"
             ],
             [
              1,
              "#f0f921"
             ]
            ],
            "type": "histogram2dcontour"
           }
          ],
          "mesh3d": [
           {
            "colorbar": {
             "outlinewidth": 0,
             "ticks": ""
            },
            "type": "mesh3d"
           }
          ],
          "parcoords": [
           {
            "line": {
             "colorbar": {
              "outlinewidth": 0,
              "ticks": ""
             }
            },
            "type": "parcoords"
           }
          ],
          "pie": [
           {
            "automargin": true,
            "type": "pie"
           }
          ],
          "scatter": [
           {
            "fillpattern": {
             "fillmode": "overlay",
             "size": 10,
             "solidity": 0.2
            },
            "type": "scatter"
           }
          ],
          "scatter3d": [
           {
            "line": {
             "colorbar": {
              "outlinewidth": 0,
              "ticks": ""
             }
            },
            "marker": {
             "colorbar": {
              "outlinewidth": 0,
              "ticks": ""
             }
            },
            "type": "scatter3d"
           }
          ],
          "scattercarpet": [
           {
            "marker": {
             "colorbar": {
              "outlinewidth": 0,
              "ticks": ""
             }
            },
            "type": "scattercarpet"
           }
          ],
          "scattergeo": [
           {
            "marker": {
             "colorbar": {
              "outlinewidth": 0,
              "ticks": ""
             }
            },
            "type": "scattergeo"
           }
          ],
          "scattergl": [
           {
            "marker": {
             "colorbar": {
              "outlinewidth": 0,
              "ticks": ""
             }
            },
            "type": "scattergl"
           }
          ],
          "scattermapbox": [
           {
            "marker": {
             "colorbar": {
              "outlinewidth": 0,
              "ticks": ""
             }
            },
            "type": "scattermapbox"
           }
          ],
          "scatterpolar": [
           {
            "marker": {
             "colorbar": {
              "outlinewidth": 0,
              "ticks": ""
             }
            },
            "type": "scatterpolar"
           }
          ],
          "scatterpolargl": [
           {
            "marker": {
             "colorbar": {
              "outlinewidth": 0,
              "ticks": ""
             }
            },
            "type": "scatterpolargl"
           }
          ],
          "scatterternary": [
           {
            "marker": {
             "colorbar": {
              "outlinewidth": 0,
              "ticks": ""
             }
            },
            "type": "scatterternary"
           }
          ],
          "surface": [
           {
            "colorbar": {
             "outlinewidth": 0,
             "ticks": ""
            },
            "colorscale": [
             [
              0,
              "#0d0887"
             ],
             [
              0.1111111111111111,
              "#46039f"
             ],
             [
              0.2222222222222222,
              "#7201a8"
             ],
             [
              0.3333333333333333,
              "#9c179e"
             ],
             [
              0.4444444444444444,
              "#bd3786"
             ],
             [
              0.5555555555555556,
              "#d8576b"
             ],
             [
              0.6666666666666666,
              "#ed7953"
             ],
             [
              0.7777777777777778,
              "#fb9f3a"
             ],
             [
              0.8888888888888888,
              "#fdca26"
             ],
             [
              1,
              "#f0f921"
             ]
            ],
            "type": "surface"
           }
          ],
          "table": [
           {
            "cells": {
             "fill": {
              "color": "#EBF0F8"
             },
             "line": {
              "color": "white"
             }
            },
            "header": {
             "fill": {
              "color": "#C8D4E3"
             },
             "line": {
              "color": "white"
             }
            },
            "type": "table"
           }
          ]
         },
         "layout": {
          "annotationdefaults": {
           "arrowcolor": "#2a3f5f",
           "arrowhead": 0,
           "arrowwidth": 1
          },
          "autotypenumbers": "strict",
          "coloraxis": {
           "colorbar": {
            "outlinewidth": 0,
            "ticks": ""
           }
          },
          "colorscale": {
           "diverging": [
            [
             0,
             "#8e0152"
            ],
            [
             0.1,
             "#c51b7d"
            ],
            [
             0.2,
             "#de77ae"
            ],
            [
             0.3,
             "#f1b6da"
            ],
            [
             0.4,
             "#fde0ef"
            ],
            [
             0.5,
             "#f7f7f7"
            ],
            [
             0.6,
             "#e6f5d0"
            ],
            [
             0.7,
             "#b8e186"
            ],
            [
             0.8,
             "#7fbc41"
            ],
            [
             0.9,
             "#4d9221"
            ],
            [
             1,
             "#276419"
            ]
           ],
           "sequential": [
            [
             0,
             "#0d0887"
            ],
            [
             0.1111111111111111,
             "#46039f"
            ],
            [
             0.2222222222222222,
             "#7201a8"
            ],
            [
             0.3333333333333333,
             "#9c179e"
            ],
            [
             0.4444444444444444,
             "#bd3786"
            ],
            [
             0.5555555555555556,
             "#d8576b"
            ],
            [
             0.6666666666666666,
             "#ed7953"
            ],
            [
             0.7777777777777778,
             "#fb9f3a"
            ],
            [
             0.8888888888888888,
             "#fdca26"
            ],
            [
             1,
             "#f0f921"
            ]
           ],
           "sequentialminus": [
            [
             0,
             "#0d0887"
            ],
            [
             0.1111111111111111,
             "#46039f"
            ],
            [
             0.2222222222222222,
             "#7201a8"
            ],
            [
             0.3333333333333333,
             "#9c179e"
            ],
            [
             0.4444444444444444,
             "#bd3786"
            ],
            [
             0.5555555555555556,
             "#d8576b"
            ],
            [
             0.6666666666666666,
             "#ed7953"
            ],
            [
             0.7777777777777778,
             "#fb9f3a"
            ],
            [
             0.8888888888888888,
             "#fdca26"
            ],
            [
             1,
             "#f0f921"
            ]
           ]
          },
          "colorway": [
           "#636efa",
           "#EF553B",
           "#00cc96",
           "#ab63fa",
           "#FFA15A",
           "#19d3f3",
           "#FF6692",
           "#B6E880",
           "#FF97FF",
           "#FECB52"
          ],
          "font": {
           "color": "#2a3f5f"
          },
          "geo": {
           "bgcolor": "white",
           "lakecolor": "white",
           "landcolor": "#E5ECF6",
           "showlakes": true,
           "showland": true,
           "subunitcolor": "white"
          },
          "hoverlabel": {
           "align": "left"
          },
          "hovermode": "closest",
          "mapbox": {
           "style": "light"
          },
          "paper_bgcolor": "white",
          "plot_bgcolor": "#E5ECF6",
          "polar": {
           "angularaxis": {
            "gridcolor": "white",
            "linecolor": "white",
            "ticks": ""
           },
           "bgcolor": "#E5ECF6",
           "radialaxis": {
            "gridcolor": "white",
            "linecolor": "white",
            "ticks": ""
           }
          },
          "scene": {
           "xaxis": {
            "backgroundcolor": "#E5ECF6",
            "gridcolor": "white",
            "gridwidth": 2,
            "linecolor": "white",
            "showbackground": true,
            "ticks": "",
            "zerolinecolor": "white"
           },
           "yaxis": {
            "backgroundcolor": "#E5ECF6",
            "gridcolor": "white",
            "gridwidth": 2,
            "linecolor": "white",
            "showbackground": true,
            "ticks": "",
            "zerolinecolor": "white"
           },
           "zaxis": {
            "backgroundcolor": "#E5ECF6",
            "gridcolor": "white",
            "gridwidth": 2,
            "linecolor": "white",
            "showbackground": true,
            "ticks": "",
            "zerolinecolor": "white"
           }
          },
          "shapedefaults": {
           "line": {
            "color": "#2a3f5f"
           }
          },
          "ternary": {
           "aaxis": {
            "gridcolor": "white",
            "linecolor": "white",
            "ticks": ""
           },
           "baxis": {
            "gridcolor": "white",
            "linecolor": "white",
            "ticks": ""
           },
           "bgcolor": "#E5ECF6",
           "caxis": {
            "gridcolor": "white",
            "linecolor": "white",
            "ticks": ""
           }
          },
          "title": {
           "x": 0.05
          },
          "xaxis": {
           "automargin": true,
           "gridcolor": "white",
           "linecolor": "white",
           "ticks": "",
           "title": {
            "standoff": 15
           },
           "zerolinecolor": "white",
           "zerolinewidth": 2
          },
          "yaxis": {
           "automargin": true,
           "gridcolor": "white",
           "linecolor": "white",
           "ticks": "",
           "title": {
            "standoff": 15
           },
           "zerolinecolor": "white",
           "zerolinewidth": 2
          }
         }
        },
        "title": {
         "text": "Average Rating Over Years"
        },
        "xaxis": {
         "anchor": "y",
         "autorange": true,
         "domain": [
          0,
          1
         ],
         "range": [
          1970.935961828227,
          2026.064038171773
         ],
         "title": {
          "text": "Year"
         },
         "type": "linear"
        },
        "yaxis": {
         "anchor": "x",
         "autorange": true,
         "domain": [
          0,
          1
         ],
         "range": [
          4.50752427184466,
          9.342475728155339
         ],
         "title": {
          "text": "Average Rating"
         },
         "type": "linear"
        }
       }
      },
      "image/png": "[encoded data removed]",
      "text/html": [
       "<div>                            <div id=\"ce83bf73-4fec-4324-94a1-81440451e05f\" class=\"plotly-graph-div\" style=\"height:525px; width:100%;\"></div>            <script type=\"text/javascript\">                require([\"plotly\"], function(Plotly) {                    window.PLOTLYENV=window.PLOTLYENV || {};                                    if (document.getElementById(\"ce83bf73-4fec-4324-94a1-81440451e05f\")) {                    Plotly.newPlot(                        \"ce83bf73-4fec-4324-94a1-81440451e05f\",                        [{\"hovertemplate\":\"Year=%{x}<br>Average Rating=%{y}<extra></extra>\",\"legendgroup\":\"\",\"marker\":{\"color\":\"#636efa\",\"symbol\":\"circle\"},\"mode\":\"lines+markers\",\"name\":\"\",\"orientation\":\"v\",\"showlegend\":false,\"x\":[1974,1975,1977,1979,1980,1981,1982,1983,1984,1985,1986,1987,1988,1989,1990,1991,1992,1993,1994,1995,1996,1997,1998,1999,2000,2001,2002,2003,2004,2005,2006,2007,2008,2009,2010,2011,2012,2013,2014,2015,2016,2017,2018,2019,2020,2022,2023],\"xaxis\":\"x\",\"y\":[9.0,6.5,4.85,7.3,7.75,6.85,6.275,5.45,5.85,5.86,6.45,5.92,5.470000000000001,5.933333333333334,6.2749999999999995,6.42,5.7875,5.325,6.0,5.55,5.0,5.183333333333334,5.185714285714285,5.95,5.455555555555556,5.866666666666667,6.191666666666666,5.972222222222222,6.333333333333333,5.52,5.915789473684211,6.236363636363635,6.28125,6.046153846153846,6.252941176470588,5.742857142857143,5.963157894736842,6.476190476190476,6.216666666666666,6.3076923076923075,6.241176470588235,6.7266666666666675,7.027272727272727,7.007692307692308,6.5,7.7,7.9],\"yaxis\":\"y\",\"type\":\"scatter\"}],                        {\"template\":{\"data\":{\"histogram2dcontour\":[{\"type\":\"histogram2dcontour\",\"colorbar\":{\"outlinewidth\":0,\"ticks\":\"\"},\"colorscale\":[[0.0,\"#0d0887\"],[0.1111111111111111,\"#46039f\"],[0.2222222222222222,\"#7201a8\"],[0.3333333333333333,\"#9c179e\"],[0.4444444444444444,\"#bd3786\"],[0.5555555555555556,\"#d8576b\"],[0.6666666666666666,\"#ed7953\"],[0.7777777777777778,\"#fb9f3a\"],[0.8888888888888888,\"#fdca26\"],[1.0,\"#f0f921\"]]}],\"choropleth\":[{\"type\":\"choropleth\",\"colorbar\":{\"outlinewidth\":0,\"ticks\":\"\"}}],\"histogram2d\":[{\"type\":\"histogram2d\",\"colorbar\":{\"outlinewidth\":0,\"ticks\":\"\"},\"colorscale\":[[0.0,\"#0d0887\"],[0.1111111111111111,\"#46039f\"],[0.2222222222222222,\"#7201a8\"],[0.3333333333333333,\"#9c179e\"],[0.4444444444444444,\"#bd3786\"],[0.5555555555555556,\"#d8576b\"],[0.6666666666666666,\"#ed7953\"],[0.7777777777777778,\"#fb9f3a\"],[0.8888888888888888,\"#fdca26\"],[1.0,\"#f0f921\"]]}],\"heatmap\":[{\"type\":\"heatmap\",\"colorbar\":{\"outlinewidth\":0,\"ticks\":\"\"},\"colorscale\":[[0.0,\"#0d0887\"],[0.1111111111111111,\"#46039f\"],[0.2222222222222222,\"#7201a8\"],[0.3333333333333333,\"#9c179e\"],[0.4444444444444444,\"#bd3786\"],[0.5555555555555556,\"#d8576b\"],[0.6666666666666666,\"#ed7953\"],[0.7777777777777778,\"#fb9f3a\"],[0.8888888888888888,\"#fdca26\"],[1.0,\"#f0f921\"]]}],\"heatmapgl\":[{\"type\":\"heatmapgl\",\"colorbar\":{\"outlinewidth\":0,\"ticks\":\"\"},\"colorscale\":[[0.0,\"#0d0887\"],[0.1111111111111111,\"#46039f\"],[0.2222222222222222,\"#7201a8\"],[0.3333333333333333,\"#9c179e\"],[0.4444444444444444,\"#bd3786\"],[0.5555555555555556,\"#d8576b\"],[0.6666666666666666,\"#ed7953\"],[0.7777777777777778,\"#fb9f3a\"],[0.8888888888888888,\"#fdca26\"],[1.0,\"#f0f921\"]]}],\"contourcarpet\":[{\"type\":\"contourcarpet\",\"colorbar\":{\"outlinewidth\":0,\"ticks\":\"\"}}],\"contour\":[{\"type\":\"contour\",\"colorbar\":{\"outlinewidth\":0,\"ticks\":\"\"},\"colorscale\":[[0.0,\"#0d0887\"],[0.1111111111111111,\"#46039f\"],[0.2222222222222222,\"#7201a8\"],[0.3333333333333333,\"#9c179e\"],[0.4444444444444444,\"#bd3786\"],[0.5555555555555556,\"#d8576b\"],[0.6666666666666666,\"#ed7953\"],[0.7777777777777778,\"#fb9f3a\"],[0.8888888888888888,\"#fdca26\"],[1.0,\"#f0f921\"]]}],\"surface\":[{\"type\":\"surface\",\"colorbar\":{\"outlinewidth\":0,\"ticks\":\"\"},\"colorscale\":[[0.0,\"#0d0887\"],[0.1111111111111111,\"#46039f\"],[0.2222222222222222,\"#7201a8\"],[0.3333333333333333,\"#9c179e\"],[0.4444444444444444,\"#bd3786\"],[0.5555555555555556,\"#d8576b\"],[0.6666666666666666,\"#ed7953\"],[0.7777777777777778,\"#fb9f3a\"],[0.8888888888888888,\"#fdca26\"],[1.0,\"#f0f921\"]]}],\"mesh3d\":[{\"type\":\"mesh3d\",\"colorbar\":{\"outlinewidth\":0,\"ticks\":\"\"}}],\"scatter\":[{\"fillpattern\":{\"fillmode\":\"overlay\",\"size\":10,\"solidity\":0.2},\"type\":\"scatter\"}],\"parcoords\":[{\"type\":\"parcoords\",\"line\":{\"colorbar\":{\"outlinewidth\":0,\"ticks\":\"\"}}}],\"scatterpolargl\":[{\"type\":\"scatterpolargl\",\"marker\":{\"colorbar\":{\"outlinewidth\":0,\"ticks\":\"\"}}}],\"bar\":[{\"error_x\":{\"color\":\"#2a3f5f\"},\"error_y\":{\"color\":\"#2a3f5f\"},\"marker\":{\"line\":{\"color\":\"#E5ECF6\",\"width\":0.5},\"pattern\":{\"fillmode\":\"overlay\",\"size\":10,\"solidity\":0.2}},\"type\":\"bar\"}],\"scattergeo\":[{\"type\":\"scattergeo\",\"marker\":{\"colorbar\":{\"outlinewidth\":0,\"ticks\":\"\"}}}],\"scatterpolar\":[{\"type\":\"scatterpolar\",\"marker\":{\"colorbar\":{\"outlinewidth\":0,\"ticks\":\"\"}}}],\"histogram\":[{\"marker\":{\"pattern\":{\"fillmode\":\"overlay\",\"size\":10,\"solidity\":0.2}},\"type\":\"histogram\"}],\"scattergl\":[{\"type\":\"scattergl\",\"marker\":{\"colorbar\":{\"outlinewidth\":0,\"ticks\":\"\"}}}],\"scatter3d\":[{\"type\":\"scatter3d\",\"line\":{\"colorbar\":{\"outlinewidth\":0,\"ticks\":\"\"}},\"marker\":{\"colorbar\":{\"outlinewidth\":0,\"ticks\":\"\"}}}],\"scattermapbox\":[{\"type\":\"scattermapbox\",\"marker\":{\"colorbar\":{\"outlinewidth\":0,\"ticks\":\"\"}}}],\"scatterternary\":[{\"type\":\"scatterternary\",\"marker\":{\"colorbar\":{\"outlinewidth\":0,\"ticks\":\"\"}}}],\"scattercarpet\":[{\"type\":\"scattercarpet\",\"marker\":{\"colorbar\":{\"outlinewidth\":0,\"ticks\":\"\"}}}],\"carpet\":[{\"aaxis\":{\"endlinecolor\":\"#2a3f5f\",\"gridcolor\":\"white\",\"linecolor\":\"white\",\"minorgridcolor\":\"white\",\"startlinecolor\":\"#2a3f5f\"},\"baxis\":{\"endlinecolor\":\"#2a3f5f\",\"gridcolor\":\"white\",\"linecolor\":\"white\",\"minorgridcolor\":\"white\",\"startlinecolor\":\"#2a3f5f\"},\"type\":\"carpet\"}],\"table\":[{\"cells\":{\"fill\":{\"color\":\"#EBF0F8\"},\"line\":{\"color\":\"white\"}},\"header\":{\"fill\":{\"color\":\"#C8D4E3\"},\"line\":{\"color\":\"white\"}},\"type\":\"table\"}],\"barpolar\":[{\"marker\":{\"line\":{\"color\":\"#E5ECF6\",\"width\":0.5},\"pattern\":{\"fillmode\":\"overlay\",\"size\":10,\"solidity\":0.2}},\"type\":\"barpolar\"}],\"pie\":[{\"automargin\":true,\"type\":\"pie\"}]},\"layout\":{\"autotypenumbers\":\"strict\",\"colorway\":[\"#636efa\",\"#EF553B\",\"#00cc96\",\"#ab63fa\",\"#FFA15A\",\"#19d3f3\",\"#FF6692\",\"#B6E880\",\"#FF97FF\",\"#FECB52\"],\"font\":{\"color\":\"#2a3f5f\"},\"hovermode\":\"closest\",\"hoverlabel\":{\"align\":\"left\"},\"paper_bgcolor\":\"white\",\"plot_bgcolor\":\"#E5ECF6\",\"polar\":{\"bgcolor\":\"#E5ECF6\",\"angularaxis\":{\"gridcolor\":\"white\",\"linecolor\":\"white\",\"ticks\":\"\"},\"radialaxis\":{\"gridcolor\":\"white\",\"linecolor\":\"white\",\"ticks\":\"\"}},\"ternary\":{\"bgcolor\":\"#E5ECF6\",\"aaxis\":{\"gridcolor\":\"white\",\"linecolor\":\"white\",\"ticks\":\"\"},\"baxis\":{\"gridcolor\":\"white\",\"linecolor\":\"white\",\"ticks\":\"\"},\"caxis\":{\"gridcolor\":\"white\",\"linecolor\":\"white\",\"ticks\":\"\"}},\"coloraxis\":{\"colorbar\":{\"outlinewidth\":0,\"ticks\":\"\"}},\"colorscale\":{\"sequential\":[[0.0,\"#0d0887\"],[0.1111111111111111,\"#46039f\"],[0.2222222222222222,\"#7201a8\"],[0.3333333333333333,\"#9c179e\"],[0.4444444444444444,\"#bd3786\"],[0.5555555555555556,\"#d8576b\"],[0.6666666666666666,\"#ed7953\"],[0.7777777777777778,\"#fb9f3a\"],[0.8888888888888888,\"#fdca26\"],[1.0,\"#f0f921\"]],\"sequentialminus\":[[0.0,\"#0d0887\"],[0.1111111111111111,\"#46039f\"],[0.2222222222222222,\"#7201a8\"],[0.3333333333333333,\"#9c179e\"],[0.4444444444444444,\"#bd3786\"],[0.5555555555555556,\"#d8576b\"],[0.6666666666666666,\"#ed7953\"],[0.7777777777777778,\"#fb9f3a\"],[0.8888888888888888,\"#fdca26\"],[1.0,\"#f0f921\"]],\"diverging\":[[0,\"#8e0152\"],[0.1,\"#c51b7d\"],[0.2,\"#de77ae\"],[0.3,\"#f1b6da\"],[0.4,\"#fde0ef\"],[0.5,\"#f7f7f7\"],[0.6,\"#e6f5d0\"],[0.7,\"#b8e186\"],[0.8,\"#7fbc41\"],[0.9,\"#4d9221\"],[1,\"#276419\"]]},\"xaxis\":{\"gridcolor\":\"white\",\"linecolor\":\"white\",\"ticks\":\"\",\"title\":{\"standoff\":15},\"zerolinecolor\":\"white\",\"automargin\":true,\"zerolinewidth\":2},\"yaxis\":{\"gridcolor\":\"white\",\"linecolor\":\"white\",\"ticks\":\"\",\"title\":{\"standoff\":15},\"zerolinecolor\":\"white\",\"automargin\":true,\"zerolinewidth\":2},\"scene\":{\"xaxis\":{\"backgroundcolor\":\"#E5ECF6\",\"gridcolor\":\"white\",\"linecolor\":\"white\",\"showbackground\":true,\"ticks\":\"\",\"zerolinecolor\":\"white\",\"gridwidth\":2},\"yaxis\":{\"backgroundcolor\":\"#E5ECF6\",\"gridcolor\":\"white\",\"linecolor\":\"white\",\"showbackground\":true,\"ticks\":\"\",\"zerolinecolor\":\"white\",\"gridwidth\":2},\"zaxis\":{\"backgroundcolor\":\"#E5ECF6\",\"gridcolor\":\"white\",\"linecolor\":\"white\",\"showbackground\":true,\"ticks\":\"\",\"zerolinecolor\":\"white\",\"gridwidth\":2}},\"shapedefaults\":{\"line\":{\"color\":\"#2a3f5f\"}},\"annotationdefaults\":{\"arrowcolor\":\"#2a3f5f\",\"arrowhead\":0,\"arrowwidth\":1},\"geo\":{\"bgcolor\":\"white\",\"landcolor\":\"#E5ECF6\",\"subunitcolor\":\"white\",\"showland\":true,\"showlakes\":true,\"lakecolor\":\"white\"},\"title\":{\"x\":0.05},\"mapbox\":{\"style\":\"light\"}}},\"xaxis\":{\"anchor\":\"y\",\"domain\":[0.0,1.0],\"title\":{\"text\":\"Year\"}},\"yaxis\":{\"anchor\":\"x\",\"domain\":[0.0,1.0],\"title\":{\"text\":\"Average Rating\"}},\"legend\":{\"tracegroupgap\":0},\"title\":{\"text\":\"Average Rating Over Years\"}},                        {\"responsive\": true}                    ).then(function(){\n",
       "                            \n",
       "var gd = document.getElementById('ce83bf73-4fec-4324-94a1-81440451e05f');\n",
       "var x = new MutationObserver(function (mutations, observer) {{\n",
       "        var display = window.getComputedStyle(gd).display;\n",
       "        if (!display || display === 'none') {{\n",
       "            console.log([gd, 'removed!']);\n",
       "            Plotly.purge(gd);\n",
       "            observer.disconnect();\n",
       "        }}\n",
       "}});\n",
       "\n",
       "// Listen for the removal of the full notebook cells\n",
       "var notebookContainer = gd.closest('#notebook-container');\n",
       "if (notebookContainer) {{\n",
       "    x.observe(notebookContainer, {childList: true});\n",
       "}}\n",
       "\n",
       "// Listen for the clearing of the current output cell\n",
       "var outputEl = gd.closest('.output');\n",
       "if (outputEl) {{\n",
       "    x.observe(outputEl, {childList: true});\n",
       "}}\n",
       "\n",
       "                        })                };                });            </script>        </div>"
      ]
     },
     "metadata": {},
     "output_type": "display_data"
    }
   ],
   "source": [
    "groupedRatingDF = sequals.groupby(['Year'])['IMDb Rating'].mean().reset_index(name='Average Rating')\n",
    "\n",
    "fig = px.scatter(groupedRatingDF, \n",
    "                 x='Year', \n",
    "                 y='Average Rating', \n",
    "                 title='Average Rating Over Years',\n",
    "                 labels={'Average Rating': 'Average Rating'},\n",
    "                 hover_data={'Year': True, 'Average Rating': True})\n",
    "\n",
    "# Connect points with lines\n",
    "fig.update_traces(mode='lines+markers')\n",
    "\n",
    "# Show the plot\n",
    "fig.show()"
   ]
  },
  {
   "cell_type": "code",
   "execution_count": 129,
   "id": "26ce144a-c2bf-42d7-96d0-730f7bf61f3a",
   "metadata": {
    "tags": []
   },
   "outputs": [
    {
     "data": {
      "application/vnd.plotly.v1+json": {
       "config": {
        "plotlyServerURL": "https://plot.ly"
       },
       "data": [
        {
         "marker": {
          "color": [
           "blue",
           "blue",
           "blue",
           "green",
           "blue",
           "blue",
           "blue",
           "blue",
           "green",
           "blue",
           "green",
           "blue",
           "green",
           "purple",
           "blue",
           "green",
           "purple",
           "orange",
           "blue",
           "green",
           "purple",
           "orange",
           "blue",
           "green",
           "purple",
           "blue",
           "green",
           "purple",
           "orange",
           "orange",
           "blue",
           "green",
           "orange",
           "orange",
           "orange",
           "blue",
           "green",
           "orange",
           "blue",
           "green",
           "orange",
           "blue",
           "green",
           "purple",
           "blue",
           "green",
           "blue",
           "green",
           "orange",
           "blue",
           "green",
           "orange",
           "blue",
           "green",
           "orange",
           "blue",
           "green",
           "purple",
           "blue",
           "green",
           "purple",
           "orange",
           "orange",
           "blue",
           "purple",
           "blue",
           "green",
           "blue",
           "green",
           "blue",
           "green",
           "orange",
           "orange",
           "orange",
           "blue",
           "green",
           "blue",
           "green",
           "purple",
           "blue",
           "green",
           "purple",
           "orange",
           "orange",
           "blue",
           "green",
           "purple",
           "orange",
           "blue",
           "green",
           "purple",
           "orange",
           "orange",
           "blue",
           "green",
           "orange",
           "orange",
           "blue",
           "green",
           "purple",
           "orange",
           "orange",
           "orange",
           "orange",
           "blue",
           "green",
           "purple",
           "orange",
           "orange",
           "orange",
           "blue",
           "green",
           "purple",
           "orange",
           "orange",
           "blue",
           "green",
           "purple",
           "orange",
           "orange",
           "orange",
           "blue",
           "green",
           "orange",
           "orange",
           "orange",
           "blue",
           "green",
           "purple",
           "orange",
           "orange",
           "blue",
           "green",
           "purple",
           "orange",
           "blue",
           "green",
           "orange",
           "blue",
           "green",
           "purple",
           "orange",
           "blue",
           "green",
           "orange",
           "orange",
           "blue",
           "green",
           "purple",
           "orange",
           "green",
           "purple",
           "green"
          ]
         },
         "name": "Film Count",
         "type": "bar",
         "visible": true,
         "x": [
          1974,
          1975,
          1977,
          1977,
          1979,
          1980,
          1981,
          1982,
          1982,
          1983,
          1983,
          1984,
          1984,
          1984,
          1985,
          1985,
          1985,
          1985,
          1986,
          1986,
          1986,
          1986,
          1987,
          1987,
          1987,
          1988,
          1988,
          1988,
          1988,
          1988,
          1989,
          1989,
          1989,
          1989,
          1989,
          1990,
          1990,
          1990,
          1991,
          1991,
          1991,
          1992,
          1992,
          1992,
          1993,
          1993,
          1994,
          1994,
          1994,
          1995,
          1995,
          1995,
          1996,
          1996,
          1996,
          1997,
          1997,
          1997,
          1998,
          1998,
          1998,
          1998,
          1998,
          1999,
          1999,
          2000,
          2000,
          2001,
          2001,
          2002,
          2002,
          2002,
          2002,
          2002,
          2003,
          2003,
          2004,
          2004,
          2004,
          2005,
          2005,
          2005,
          2005,
          2005,
          2006,
          2006,
          2006,
          2006,
          2007,
          2007,
          2007,
          2007,
          2007,
          2008,
          2008,
          2008,
          2008,
          2009,
          2009,
          2009,
          2009,
          2009,
          2009,
          2009,
          2010,
          2010,
          2010,
          2010,
          2010,
          2010,
          2011,
          2011,
          2011,
          2011,
          2011,
          2012,
          2012,
          2012,
          2012,
          2012,
          2012,
          2013,
          2013,
          2013,
          2013,
          2013,
          2014,
          2014,
          2014,
          2014,
          2014,
          2015,
          2015,
          2015,
          2015,
          2016,
          2016,
          2016,
          2017,
          2017,
          2017,
          2017,
          2018,
          2018,
          2018,
          2018,
          2019,
          2019,
          2019,
          2019,
          2020,
          2022,
          2023
         ],
         "y": [
          1,
          2,
          1,
          1,
          1,
          2,
          4,
          1,
          3,
          2,
          2,
          1,
          2,
          1,
          2,
          1,
          1,
          1,
          3,
          1,
          1,
          1,
          2,
          1,
          2,
          5,
          1,
          2,
          1,
          1,
          6,
          1,
          3,
          1,
          1,
          8,
          3,
          1,
          2,
          2,
          1,
          5,
          2,
          1,
          2,
          2,
          3,
          3,
          2,
          5,
          2,
          1,
          2,
          1,
          1,
          3,
          1,
          2,
          3,
          1,
          1,
          1,
          1,
          4,
          2,
          7,
          2,
          5,
          1,
          8,
          1,
          1,
          1,
          1,
          11,
          7,
          13,
          3,
          2,
          10,
          1,
          2,
          1,
          1,
          9,
          7,
          2,
          1,
          9,
          7,
          4,
          1,
          1,
          10,
          4,
          1,
          1,
          11,
          6,
          4,
          2,
          1,
          1,
          1,
          6,
          3,
          4,
          1,
          1,
          2,
          11,
          6,
          5,
          5,
          1,
          7,
          3,
          6,
          1,
          1,
          1,
          15,
          3,
          1,
          1,
          1,
          15,
          5,
          2,
          1,
          1,
          9,
          1,
          2,
          1,
          12,
          4,
          1,
          8,
          4,
          1,
          2,
          5,
          4,
          1,
          1,
          7,
          3,
          2,
          1,
          2,
          1,
          1
         ]
        },
        {
         "mode": "lines+markers",
         "name": "Average Rating",
         "text": [
          9,
          6.5,
          4.85,
          7.3,
          7.75,
          6.85,
          6.275,
          5.45,
          5.85,
          5.86,
          6.45,
          5.92,
          5.470000000000001,
          5.933333333333334,
          6.2749999999999995,
          6.42,
          5.7875,
          5.325,
          6,
          5.55,
          5,
          5.183333333333334,
          5.185714285714285,
          5.95,
          5.455555555555556,
          5.866666666666667,
          6.191666666666666,
          5.972222222222222,
          6.333333333333333,
          5.52,
          5.915789473684211,
          6.236363636363635,
          6.28125,
          6.046153846153846,
          6.252941176470588,
          5.742857142857143,
          5.963157894736842,
          6.476190476190476,
          6.216666666666666,
          6.3076923076923075,
          6.241176470588235,
          6.7266666666666675,
          7.027272727272727,
          7.007692307692308,
          6.5,
          7.7,
          7.9
         ],
         "type": "scatter",
         "visible": true,
         "x": [
          1974,
          1975,
          1977,
          1979,
          1980,
          1981,
          1982,
          1983,
          1984,
          1985,
          1986,
          1987,
          1988,
          1989,
          1990,
          1991,
          1992,
          1993,
          1994,
          1995,
          1996,
          1997,
          1998,
          1999,
          2000,
          2001,
          2002,
          2003,
          2004,
          2005,
          2006,
          2007,
          2008,
          2009,
          2010,
          2011,
          2012,
          2013,
          2014,
          2015,
          2016,
          2017,
          2018,
          2019,
          2020,
          2022,
          2023
         ],
         "y": [
          9,
          6.5,
          4.85,
          7.3,
          7.75,
          6.85,
          6.275,
          5.45,
          5.85,
          5.86,
          6.45,
          5.92,
          5.470000000000001,
          5.933333333333334,
          6.2749999999999995,
          6.42,
          5.7875,
          5.325,
          6,
          5.55,
          5,
          5.183333333333334,
          5.185714285714285,
          5.95,
          5.455555555555556,
          5.866666666666667,
          6.191666666666666,
          5.972222222222222,
          6.333333333333333,
          5.52,
          5.915789473684211,
          6.236363636363635,
          6.28125,
          6.046153846153846,
          6.252941176470588,
          5.742857142857143,
          5.963157894736842,
          6.476190476190476,
          6.216666666666666,
          6.3076923076923075,
          6.241176470588235,
          6.7266666666666675,
          7.027272727272727,
          7.007692307692308,
          6.5,
          7.7,
          7.9
         ],
         "yaxis": "y2"
        }
       ],
       "layout": {
        "autosize": true,
        "legend": {
         "title": {
          "text": "Film Number in Series"
         }
        },
        "template": {
         "data": {
          "bar": [
           {
            "error_x": {
             "color": "#2a3f5f"
            },
            "error_y": {
             "color": "#2a3f5f"
            },
            "marker": {
             "line": {
              "color": "#E5ECF6",
              "width": 0.5
             },
             "pattern": {
              "fillmode": "overlay",
              "size": 10,
              "solidity": 0.2
             }
            },
            "type": "bar"
           }
          ],
          "barpolar": [
           {
            "marker": {
             "line": {
              "color": "#E5ECF6",
              "width": 0.5
             },
             "pattern": {
              "fillmode": "overlay",
              "size": 10,
              "solidity": 0.2
             }
            },
            "type": "barpolar"
           }
          ],
          "carpet": [
           {
            "aaxis": {
             "endlinecolor": "#2a3f5f",
             "gridcolor": "white",
             "linecolor": "white",
             "minorgridcolor": "white",
             "startlinecolor": "#2a3f5f"
            },
            "baxis": {
             "endlinecolor": "#2a3f5f",
             "gridcolor": "white",
             "linecolor": "white",
             "minorgridcolor": "white",
             "startlinecolor": "#2a3f5f"
            },
            "type": "carpet"
           }
          ],
          "choropleth": [
           {
            "colorbar": {
             "outlinewidth": 0,
             "ticks": ""
            },
            "type": "choropleth"
           }
          ],
          "contour": [
           {
            "colorbar": {
             "outlinewidth": 0,
             "ticks": ""
            },
            "colorscale": [
             [
              0,
              "#0d0887"
             ],
             [
              0.1111111111111111,
              "#46039f"
             ],
             [
              0.2222222222222222,
              "#7201a8"
             ],
             [
              0.3333333333333333,
              "#9c179e"
             ],
             [
              0.4444444444444444,
              "#bd3786"
             ],
             [
              0.5555555555555556,
              "#d8576b"
             ],
             [
              0.6666666666666666,
              "#ed7953"
             ],
             [
              0.7777777777777778,
              "#fb9f3a"
             ],
             [
              0.8888888888888888,
              "#fdca26"
             ],
             [
              1,
              "#f0f921"
             ]
            ],
            "type": "contour"
           }
          ],
          "contourcarpet": [
           {
            "colorbar": {
             "outlinewidth": 0,
             "ticks": ""
            },
            "type": "contourcarpet"
           }
          ],
          "heatmap": [
           {
            "colorbar": {
             "outlinewidth": 0,
             "ticks": ""
            },
            "colorscale": [
             [
              0,
              "#0d0887"
             ],
             [
              0.1111111111111111,
              "#46039f"
             ],
             [
              0.2222222222222222,
              "#7201a8"
             ],
             [
              0.3333333333333333,
              "#9c179e"
             ],
             [
              0.4444444444444444,
              "#bd3786"
             ],
             [
              0.5555555555555556,
              "#d8576b"
             ],
             [
              0.6666666666666666,
              "#ed7953"
             ],
             [
              0.7777777777777778,
              "#fb9f3a"
             ],
             [
              0.8888888888888888,
              "#fdca26"
             ],
             [
              1,
              "#f0f921"
             ]
            ],
            "type": "heatmap"
           }
          ],
          "heatmapgl": [
           {
            "colorbar": {
             "outlinewidth": 0,
             "ticks": ""
            },
            "colorscale": [
             [
              0,
              "#0d0887"
             ],
             [
              0.1111111111111111,
              "#46039f"
             ],
             [
              0.2222222222222222,
              "#7201a8"
             ],
             [
              0.3333333333333333,
              "#9c179e"
             ],
             [
              0.4444444444444444,
              "#bd3786"
             ],
             [
              0.5555555555555556,
              "#d8576b"
             ],
             [
              0.6666666666666666,
              "#ed7953"
             ],
             [
              0.7777777777777778,
              "#fb9f3a"
             ],
             [
              0.8888888888888888,
              "#fdca26"
             ],
             [
              1,
              "#f0f921"
             ]
            ],
            "type": "heatmapgl"
           }
          ],
          "histogram": [
           {
            "marker": {
             "pattern": {
              "fillmode": "overlay",
              "size": 10,
              "solidity": 0.2
             }
            },
            "type": "histogram"
           }
          ],
          "histogram2d": [
           {
            "colorbar": {
             "outlinewidth": 0,
             "ticks": ""
            },
            "colorscale": [
             [
              0,
              "#0d0887"
             ],
             [
              0.1111111111111111,
              "#46039f"
             ],
             [
              0.2222222222222222,
              "#7201a8"
             ],
             [
              0.3333333333333333,
              "#9c179e"
             ],
             [
              0.4444444444444444,
              "#bd3786"
             ],
             [
              0.5555555555555556,
              "#d8576b"
             ],
             [
              0.6666666666666666,
              "#ed7953"
             ],
             [
              0.7777777777777778,
              "#fb9f3a"
             ],
             [
              0.8888888888888888,
              "#fdca26"
             ],
             [
              1,
              "#f0f921"
             ]
            ],
            "type": "histogram2d"
           }
          ],
          "histogram2dcontour": [
           {
            "colorbar": {
             "outlinewidth": 0,
             "ticks": ""
            },
            "colorscale": [
             [
              0,
              "#0d0887"
             ],
             [
              0.1111111111111111,
              "#46039f"
             ],
             [
              0.2222222222222222,
              "#7201a8"
             ],
             [
              0.3333333333333333,
              "#9c179e"
             ],
             [
              0.4444444444444444,
              "#bd3786"
             ],
             [
              0.5555555555555556,
              "#d8576b"
             ],
             [
              0.6666666666666666,
              "#ed7953"
             ],
             [
              0.7777777777777778,
              "#fb9f3a"
             ],
             [
              0.8888888888888888,
              "#fdca26"
             ],
             [
              1,
              "#f0f921"
             ]
            ],
            "type": "histogram2dcontour"
           }
          ],
          "mesh3d": [
           {
            "colorbar": {
             "outlinewidth": 0,
             "ticks": ""
            },
            "type": "mesh3d"
           }
          ],
          "parcoords": [
           {
            "line": {
             "colorbar": {
              "outlinewidth": 0,
              "ticks": ""
             }
            },
            "type": "parcoords"
           }
          ],
          "pie": [
           {
            "automargin": true,
            "type": "pie"
           }
          ],
          "scatter": [
           {
            "fillpattern": {
             "fillmode": "overlay",
             "size": 10,
             "solidity": 0.2
            },
            "type": "scatter"
           }
          ],
          "scatter3d": [
           {
            "line": {
             "colorbar": {
              "outlinewidth": 0,
              "ticks": ""
             }
            },
            "marker": {
             "colorbar": {
              "outlinewidth": 0,
              "ticks": ""
             }
            },
            "type": "scatter3d"
           }
          ],
          "scattercarpet": [
           {
            "marker": {
             "colorbar": {
              "outlinewidth": 0,
              "ticks": ""
             }
            },
            "type": "scattercarpet"
           }
          ],
          "scattergeo": [
           {
            "marker": {
             "colorbar": {
              "outlinewidth": 0,
              "ticks": ""
             }
            },
            "type": "scattergeo"
           }
          ],
          "scattergl": [
           {
            "marker": {
             "colorbar": {
              "outlinewidth": 0,
              "ticks": ""
             }
            },
            "type": "scattergl"
           }
          ],
          "scattermapbox": [
           {
            "marker": {
             "colorbar": {
              "outlinewidth": 0,
              "ticks": ""
             }
            },
            "type": "scattermapbox"
           }
          ],
          "scatterpolar": [
           {
            "marker": {
             "colorbar": {
              "outlinewidth": 0,
              "ticks": ""
             }
            },
            "type": "scatterpolar"
           }
          ],
          "scatterpolargl": [
           {
            "marker": {
             "colorbar": {
              "outlinewidth": 0,
              "ticks": ""
             }
            },
            "type": "scatterpolargl"
           }
          ],
          "scatterternary": [
           {
            "marker": {
             "colorbar": {
              "outlinewidth": 0,
              "ticks": ""
             }
            },
            "type": "scatterternary"
           }
          ],
          "surface": [
           {
            "colorbar": {
             "outlinewidth": 0,
             "ticks": ""
            },
            "colorscale": [
             [
              0,
              "#0d0887"
             ],
             [
              0.1111111111111111,
              "#46039f"
             ],
             [
              0.2222222222222222,
              "#7201a8"
             ],
             [
              0.3333333333333333,
              "#9c179e"
             ],
             [
              0.4444444444444444,
              "#bd3786"
             ],
             [
              0.5555555555555556,
              "#d8576b"
             ],
             [
              0.6666666666666666,
              "#ed7953"
             ],
             [
              0.7777777777777778,
              "#fb9f3a"
             ],
             [
              0.8888888888888888,
              "#fdca26"
             ],
             [
              1,
              "#f0f921"
             ]
            ],
            "type": "surface"
           }
          ],
          "table": [
           {
            "cells": {
             "fill": {
              "color": "#EBF0F8"
             },
             "line": {
              "color": "white"
             }
            },
            "header": {
             "fill": {
              "color": "#C8D4E3"
             },
             "line": {
              "color": "white"
             }
            },
            "type": "table"
           }
          ]
         },
         "layout": {
          "annotationdefaults": {
           "arrowcolor": "#2a3f5f",
           "arrowhead": 0,
           "arrowwidth": 1
          },
          "autotypenumbers": "strict",
          "coloraxis": {
           "colorbar": {
            "outlinewidth": 0,
            "ticks": ""
           }
          },
          "colorscale": {
           "diverging": [
            [
             0,
             "#8e0152"
            ],
            [
             0.1,
             "#c51b7d"
            ],
            [
             0.2,
             "#de77ae"
            ],
            [
             0.3,
             "#f1b6da"
            ],
            [
             0.4,
             "#fde0ef"
            ],
            [
             0.5,
             "#f7f7f7"
            ],
            [
             0.6,
             "#e6f5d0"
            ],
            [
             0.7,
             "#b8e186"
            ],
            [
             0.8,
             "#7fbc41"
            ],
            [
             0.9,
             "#4d9221"
            ],
            [
             1,
             "#276419"
            ]
           ],
           "sequential": [
            [
             0,
             "#0d0887"
            ],
            [
             0.1111111111111111,
             "#46039f"
            ],
            [
             0.2222222222222222,
             "#7201a8"
            ],
            [
             0.3333333333333333,
             "#9c179e"
            ],
            [
             0.4444444444444444,
             "#bd3786"
            ],
            [
             0.5555555555555556,
             "#d8576b"
            ],
            [
             0.6666666666666666,
             "#ed7953"
            ],
            [
             0.7777777777777778,
             "#fb9f3a"
            ],
            [
             0.8888888888888888,
             "#fdca26"
            ],
            [
             1,
             "#f0f921"
            ]
           ],
           "sequentialminus": [
            [
             0,
             "#0d0887"
            ],
            [
             0.1111111111111111,
             "#46039f"
            ],
            [
             0.2222222222222222,
             "#7201a8"
            ],
            [
             0.3333333333333333,
             "#9c179e"
            ],
            [
             0.4444444444444444,
             "#bd3786"
            ],
            [
             0.5555555555555556,
             "#d8576b"
            ],
            [
             0.6666666666666666,
             "#ed7953"
            ],
            [
             0.7777777777777778,
             "#fb9f3a"
            ],
            [
             0.8888888888888888,
             "#fdca26"
            ],
            [
             1,
             "#f0f921"
            ]
           ]
          },
          "colorway": [
           "#636efa",
           "#EF553B",
           "#00cc96",
           "#ab63fa",
           "#FFA15A",
           "#19d3f3",
           "#FF6692",
           "#B6E880",
           "#FF97FF",
           "#FECB52"
          ],
          "font": {
           "color": "#2a3f5f"
          },
          "geo": {
           "bgcolor": "white",
           "lakecolor": "white",
           "landcolor": "#E5ECF6",
           "showlakes": true,
           "showland": true,
           "subunitcolor": "white"
          },
          "hoverlabel": {
           "align": "left"
          },
          "hovermode": "closest",
          "mapbox": {
           "style": "light"
          },
          "paper_bgcolor": "white",
          "plot_bgcolor": "#E5ECF6",
          "polar": {
           "angularaxis": {
            "gridcolor": "white",
            "linecolor": "white",
            "ticks": ""
           },
           "bgcolor": "#E5ECF6",
           "radialaxis": {
            "gridcolor": "white",
            "linecolor": "white",
            "ticks": ""
           }
          },
          "scene": {
           "xaxis": {
            "backgroundcolor": "#E5ECF6",
            "gridcolor": "white",
            "gridwidth": 2,
            "linecolor": "white",
            "showbackground": true,
            "ticks": "",
            "zerolinecolor": "white"
           },
           "yaxis": {
            "backgroundcolor": "#E5ECF6",
            "gridcolor": "white",
            "gridwidth": 2,
            "linecolor": "white",
            "showbackground": true,
            "ticks": "",
            "zerolinecolor": "white"
           },
           "zaxis": {
            "backgroundcolor": "#E5ECF6",
            "gridcolor": "white",
            "gridwidth": 2,
            "linecolor": "white",
            "showbackground": true,
            "ticks": "",
            "zerolinecolor": "white"
           }
          },
          "shapedefaults": {
           "line": {
            "color": "#2a3f5f"
           }
          },
          "ternary": {
           "aaxis": {
            "gridcolor": "white",
            "linecolor": "white",
            "ticks": ""
           },
           "baxis": {
            "gridcolor": "white",
            "linecolor": "white",
            "ticks": ""
           },
           "bgcolor": "#E5ECF6",
           "caxis": {
            "gridcolor": "white",
            "linecolor": "white",
            "ticks": ""
           }
          },
          "title": {
           "x": 0.05
          },
          "xaxis": {
           "automargin": true,
           "gridcolor": "white",
           "linecolor": "white",
           "ticks": "",
           "title": {
            "standoff": 15
           },
           "zerolinecolor": "white",
           "zerolinewidth": 2
          },
          "yaxis": {
           "automargin": true,
           "gridcolor": "white",
           "linecolor": "white",
           "ticks": "",
           "title": {
            "standoff": 15
           },
           "zerolinecolor": "white",
           "zerolinewidth": 2
          }
         }
        },
        "title": {
         "text": "Amount of Sequels Released and Average Rating Over Years"
        },
        "xaxis": {
         "autorange": true,
         "range": [
          1970.8724439150287,
          2026.1275560849713
         ],
         "title": {
          "text": "Year"
         },
         "type": "linear"
        },
        "yaxis": {
         "autorange": true,
         "range": [
          0,
          29.473684210526315
         ],
         "title": {
          "text": "Number of Films"
         },
         "type": "linear"
        },
        "yaxis2": {
         "autorange": true,
         "overlaying": "y",
         "range": [
          4.50752427184466,
          9.342475728155339
         ],
         "side": "right",
         "title": {
          "text": "Average Rating"
         },
         "type": "linear"
        }
       }
      },
      "image/png": "[encoded data removed]",
      "text/html": [
       "<div>                            <div id=\"21abbb48-11b6-491e-8f33-e1fb6f94601a\" class=\"plotly-graph-div\" style=\"height:525px; width:100%;\"></div>            <script type=\"text/javascript\">                require([\"plotly\"], function(Plotly) {                    window.PLOTLYENV=window.PLOTLYENV || {};                                    if (document.getElementById(\"21abbb48-11b6-491e-8f33-e1fb6f94601a\")) {                    Plotly.newPlot(                        \"21abbb48-11b6-491e-8f33-e1fb6f94601a\",                        [{\"marker\":{\"color\":[\"blue\",\"blue\",\"blue\",\"green\",\"blue\",\"blue\",\"blue\",\"blue\",\"green\",\"blue\",\"green\",\"blue\",\"green\",\"purple\",\"blue\",\"green\",\"purple\",\"orange\",\"blue\",\"green\",\"purple\",\"orange\",\"blue\",\"green\",\"purple\",\"blue\",\"green\",\"purple\",\"orange\",\"orange\",\"blue\",\"green\",\"orange\",\"orange\",\"orange\",\"blue\",\"green\",\"orange\",\"blue\",\"green\",\"orange\",\"blue\",\"green\",\"purple\",\"blue\",\"green\",\"blue\",\"green\",\"orange\",\"blue\",\"green\",\"orange\",\"blue\",\"green\",\"orange\",\"blue\",\"green\",\"purple\",\"blue\",\"green\",\"purple\",\"orange\",\"orange\",\"blue\",\"purple\",\"blue\",\"green\",\"blue\",\"green\",\"blue\",\"green\",\"orange\",\"orange\",\"orange\",\"blue\",\"green\",\"blue\",\"green\",\"purple\",\"blue\",\"green\",\"purple\",\"orange\",\"orange\",\"blue\",\"green\",\"purple\",\"orange\",\"blue\",\"green\",\"purple\",\"orange\",\"orange\",\"blue\",\"green\",\"orange\",\"orange\",\"blue\",\"green\",\"purple\",\"orange\",\"orange\",\"orange\",\"orange\",\"blue\",\"green\",\"purple\",\"orange\",\"orange\",\"orange\",\"blue\",\"green\",\"purple\",\"orange\",\"orange\",\"blue\",\"green\",\"purple\",\"orange\",\"orange\",\"orange\",\"blue\",\"green\",\"orange\",\"orange\",\"orange\",\"blue\",\"green\",\"purple\",\"orange\",\"orange\",\"blue\",\"green\",\"purple\",\"orange\",\"blue\",\"green\",\"orange\",\"blue\",\"green\",\"purple\",\"orange\",\"blue\",\"green\",\"orange\",\"orange\",\"blue\",\"green\",\"purple\",\"orange\",\"green\",\"purple\",\"green\"]},\"name\":\"Film Count\",\"x\":[1974,1975,1977,1977,1979,1980,1981,1982,1982,1983,1983,1984,1984,1984,1985,1985,1985,1985,1986,1986,1986,1986,1987,1987,1987,1988,1988,1988,1988,1988,1989,1989,1989,1989,1989,1990,1990,1990,1991,1991,1991,1992,1992,1992,1993,1993,1994,1994,1994,1995,1995,1995,1996,1996,1996,1997,1997,1997,1998,1998,1998,1998,1998,1999,1999,2000,2000,2001,2001,2002,2002,2002,2002,2002,2003,2003,2004,2004,2004,2005,2005,2005,2005,2005,2006,2006,2006,2006,2007,2007,2007,2007,2007,2008,2008,2008,2008,2009,2009,2009,2009,2009,2009,2009,2010,2010,2010,2010,2010,2010,2011,2011,2011,2011,2011,2012,2012,2012,2012,2012,2012,2013,2013,2013,2013,2013,2014,2014,2014,2014,2014,2015,2015,2015,2015,2016,2016,2016,2017,2017,2017,2017,2018,2018,2018,2018,2019,2019,2019,2019,2020,2022,2023],\"y\":[1,2,1,1,1,2,4,1,3,2,2,1,2,1,2,1,1,1,3,1,1,1,2,1,2,5,1,2,1,1,6,1,3,1,1,8,3,1,2,2,1,5,2,1,2,2,3,3,2,5,2,1,2,1,1,3,1,2,3,1,1,1,1,4,2,7,2,5,1,8,1,1,1,1,11,7,13,3,2,10,1,2,1,1,9,7,2,1,9,7,4,1,1,10,4,1,1,11,6,4,2,1,1,1,6,3,4,1,1,2,11,6,5,5,1,7,3,6,1,1,1,15,3,1,1,1,15,5,2,1,1,9,1,2,1,12,4,1,8,4,1,2,5,4,1,1,7,3,2,1,2,1,1],\"type\":\"bar\"},{\"mode\":\"lines+markers\",\"name\":\"Average Rating\",\"text\":[9.0,6.5,4.85,7.3,7.75,6.85,6.275,5.45,5.85,5.86,6.45,5.92,5.470000000000001,5.933333333333334,6.2749999999999995,6.42,5.7875,5.325,6.0,5.55,5.0,5.183333333333334,5.185714285714285,5.95,5.455555555555556,5.866666666666667,6.191666666666666,5.972222222222222,6.333333333333333,5.52,5.915789473684211,6.236363636363635,6.28125,6.046153846153846,6.252941176470588,5.742857142857143,5.963157894736842,6.476190476190476,6.216666666666666,6.3076923076923075,6.241176470588235,6.7266666666666675,7.027272727272727,7.007692307692308,6.5,7.7,7.9],\"x\":[1974,1975,1977,1979,1980,1981,1982,1983,1984,1985,1986,1987,1988,1989,1990,1991,1992,1993,1994,1995,1996,1997,1998,1999,2000,2001,2002,2003,2004,2005,2006,2007,2008,2009,2010,2011,2012,2013,2014,2015,2016,2017,2018,2019,2020,2022,2023],\"y\":[9.0,6.5,4.85,7.3,7.75,6.85,6.275,5.45,5.85,5.86,6.45,5.92,5.470000000000001,5.933333333333334,6.2749999999999995,6.42,5.7875,5.325,6.0,5.55,5.0,5.183333333333334,5.185714285714285,5.95,5.455555555555556,5.866666666666667,6.191666666666666,5.972222222222222,6.333333333333333,5.52,5.915789473684211,6.236363636363635,6.28125,6.046153846153846,6.252941176470588,5.742857142857143,5.963157894736842,6.476190476190476,6.216666666666666,6.3076923076923075,6.241176470588235,6.7266666666666675,7.027272727272727,7.007692307692308,6.5,7.7,7.9],\"yaxis\":\"y2\",\"type\":\"scatter\"}],                        {\"legend\":{\"title\":{\"text\":\"Film Number in Series\"}},\"title\":{\"text\":\"Amount of Sequels Released and Average Rating Over Years\"},\"xaxis\":{\"title\":{\"text\":\"Year\"}},\"yaxis\":{\"title\":{\"text\":\"Number of Films\"}},\"yaxis2\":{\"overlaying\":\"y\",\"side\":\"right\",\"title\":{\"text\":\"Average Rating\"}},\"template\":{\"data\":{\"histogram2dcontour\":[{\"type\":\"histogram2dcontour\",\"colorbar\":{\"outlinewidth\":0,\"ticks\":\"\"},\"colorscale\":[[0.0,\"#0d0887\"],[0.1111111111111111,\"#46039f\"],[0.2222222222222222,\"#7201a8\"],[0.3333333333333333,\"#9c179e\"],[0.4444444444444444,\"#bd3786\"],[0.5555555555555556,\"#d8576b\"],[0.6666666666666666,\"#ed7953\"],[0.7777777777777778,\"#fb9f3a\"],[0.8888888888888888,\"#fdca26\"],[1.0,\"#f0f921\"]]}],\"choropleth\":[{\"type\":\"choropleth\",\"colorbar\":{\"outlinewidth\":0,\"ticks\":\"\"}}],\"histogram2d\":[{\"type\":\"histogram2d\",\"colorbar\":{\"outlinewidth\":0,\"ticks\":\"\"},\"colorscale\":[[0.0,\"#0d0887\"],[0.1111111111111111,\"#46039f\"],[0.2222222222222222,\"#7201a8\"],[0.3333333333333333,\"#9c179e\"],[0.4444444444444444,\"#bd3786\"],[0.5555555555555556,\"#d8576b\"],[0.6666666666666666,\"#ed7953\"],[0.7777777777777778,\"#fb9f3a\"],[0.8888888888888888,\"#fdca26\"],[1.0,\"#f0f921\"]]}],\"heatmap\":[{\"type\":\"heatmap\",\"colorbar\":{\"outlinewidth\":0,\"ticks\":\"\"},\"colorscale\":[[0.0,\"#0d0887\"],[0.1111111111111111,\"#46039f\"],[0.2222222222222222,\"#7201a8\"],[0.3333333333333333,\"#9c179e\"],[0.4444444444444444,\"#bd3786\"],[0.5555555555555556,\"#d8576b\"],[0.6666666666666666,\"#ed7953\"],[0.7777777777777778,\"#fb9f3a\"],[0.8888888888888888,\"#fdca26\"],[1.0,\"#f0f921\"]]}],\"heatmapgl\":[{\"type\":\"heatmapgl\",\"colorbar\":{\"outlinewidth\":0,\"ticks\":\"\"},\"colorscale\":[[0.0,\"#0d0887\"],[0.1111111111111111,\"#46039f\"],[0.2222222222222222,\"#7201a8\"],[0.3333333333333333,\"#9c179e\"],[0.4444444444444444,\"#bd3786\"],[0.5555555555555556,\"#d8576b\"],[0.6666666666666666,\"#ed7953\"],[0.7777777777777778,\"#fb9f3a\"],[0.8888888888888888,\"#fdca26\"],[1.0,\"#f0f921\"]]}],\"contourcarpet\":[{\"type\":\"contourcarpet\",\"colorbar\":{\"outlinewidth\":0,\"ticks\":\"\"}}],\"contour\":[{\"type\":\"contour\",\"colorbar\":{\"outlinewidth\":0,\"ticks\":\"\"},\"colorscale\":[[0.0,\"#0d0887\"],[0.1111111111111111,\"#46039f\"],[0.2222222222222222,\"#7201a8\"],[0.3333333333333333,\"#9c179e\"],[0.4444444444444444,\"#bd3786\"],[0.5555555555555556,\"#d8576b\"],[0.6666666666666666,\"#ed7953\"],[0.7777777777777778,\"#fb9f3a\"],[0.8888888888888888,\"#fdca26\"],[1.0,\"#f0f921\"]]}],\"surface\":[{\"type\":\"surface\",\"colorbar\":{\"outlinewidth\":0,\"ticks\":\"\"},\"colorscale\":[[0.0,\"#0d0887\"],[0.1111111111111111,\"#46039f\"],[0.2222222222222222,\"#7201a8\"],[0.3333333333333333,\"#9c179e\"],[0.4444444444444444,\"#bd3786\"],[0.5555555555555556,\"#d8576b\"],[0.6666666666666666,\"#ed7953\"],[0.7777777777777778,\"#fb9f3a\"],[0.8888888888888888,\"#fdca26\"],[1.0,\"#f0f921\"]]}],\"mesh3d\":[{\"type\":\"mesh3d\",\"colorbar\":{\"outlinewidth\":0,\"ticks\":\"\"}}],\"scatter\":[{\"fillpattern\":{\"fillmode\":\"overlay\",\"size\":10,\"solidity\":0.2},\"type\":\"scatter\"}],\"parcoords\":[{\"type\":\"parcoords\",\"line\":{\"colorbar\":{\"outlinewidth\":0,\"ticks\":\"\"}}}],\"scatterpolargl\":[{\"type\":\"scatterpolargl\",\"marker\":{\"colorbar\":{\"outlinewidth\":0,\"ticks\":\"\"}}}],\"bar\":[{\"error_x\":{\"color\":\"#2a3f5f\"},\"error_y\":{\"color\":\"#2a3f5f\"},\"marker\":{\"line\":{\"color\":\"#E5ECF6\",\"width\":0.5},\"pattern\":{\"fillmode\":\"overlay\",\"size\":10,\"solidity\":0.2}},\"type\":\"bar\"}],\"scattergeo\":[{\"type\":\"scattergeo\",\"marker\":{\"colorbar\":{\"outlinewidth\":0,\"ticks\":\"\"}}}],\"scatterpolar\":[{\"type\":\"scatterpolar\",\"marker\":{\"colorbar\":{\"outlinewidth\":0,\"ticks\":\"\"}}}],\"histogram\":[{\"marker\":{\"pattern\":{\"fillmode\":\"overlay\",\"size\":10,\"solidity\":0.2}},\"type\":\"histogram\"}],\"scattergl\":[{\"type\":\"scattergl\",\"marker\":{\"colorbar\":{\"outlinewidth\":0,\"ticks\":\"\"}}}],\"scatter3d\":[{\"type\":\"scatter3d\",\"line\":{\"colorbar\":{\"outlinewidth\":0,\"ticks\":\"\"}},\"marker\":{\"colorbar\":{\"outlinewidth\":0,\"ticks\":\"\"}}}],\"scattermapbox\":[{\"type\":\"scattermapbox\",\"marker\":{\"colorbar\":{\"outlinewidth\":0,\"ticks\":\"\"}}}],\"scatterternary\":[{\"type\":\"scatterternary\",\"marker\":{\"colorbar\":{\"outlinewidth\":0,\"ticks\":\"\"}}}],\"scattercarpet\":[{\"type\":\"scattercarpet\",\"marker\":{\"colorbar\":{\"outlinewidth\":0,\"ticks\":\"\"}}}],\"carpet\":[{\"aaxis\":{\"endlinecolor\":\"#2a3f5f\",\"gridcolor\":\"white\",\"linecolor\":\"white\",\"minorgridcolor\":\"white\",\"startlinecolor\":\"#2a3f5f\"},\"baxis\":{\"endlinecolor\":\"#2a3f5f\",\"gridcolor\":\"white\",\"linecolor\":\"white\",\"minorgridcolor\":\"white\",\"startlinecolor\":\"#2a3f5f\"},\"type\":\"carpet\"}],\"table\":[{\"cells\":{\"fill\":{\"color\":\"#EBF0F8\"},\"line\":{\"color\":\"white\"}},\"header\":{\"fill\":{\"color\":\"#C8D4E3\"},\"line\":{\"color\":\"white\"}},\"type\":\"table\"}],\"barpolar\":[{\"marker\":{\"line\":{\"color\":\"#E5ECF6\",\"width\":0.5},\"pattern\":{\"fillmode\":\"overlay\",\"size\":10,\"solidity\":0.2}},\"type\":\"barpolar\"}],\"pie\":[{\"automargin\":true,\"type\":\"pie\"}]},\"layout\":{\"autotypenumbers\":\"strict\",\"colorway\":[\"#636efa\",\"#EF553B\",\"#00cc96\",\"#ab63fa\",\"#FFA15A\",\"#19d3f3\",\"#FF6692\",\"#B6E880\",\"#FF97FF\",\"#FECB52\"],\"font\":{\"color\":\"#2a3f5f\"},\"hovermode\":\"closest\",\"hoverlabel\":{\"align\":\"left\"},\"paper_bgcolor\":\"white\",\"plot_bgcolor\":\"#E5ECF6\",\"polar\":{\"bgcolor\":\"#E5ECF6\",\"angularaxis\":{\"gridcolor\":\"white\",\"linecolor\":\"white\",\"ticks\":\"\"},\"radialaxis\":{\"gridcolor\":\"white\",\"linecolor\":\"white\",\"ticks\":\"\"}},\"ternary\":{\"bgcolor\":\"#E5ECF6\",\"aaxis\":{\"gridcolor\":\"white\",\"linecolor\":\"white\",\"ticks\":\"\"},\"baxis\":{\"gridcolor\":\"white\",\"linecolor\":\"white\",\"ticks\":\"\"},\"caxis\":{\"gridcolor\":\"white\",\"linecolor\":\"white\",\"ticks\":\"\"}},\"coloraxis\":{\"colorbar\":{\"outlinewidth\":0,\"ticks\":\"\"}},\"colorscale\":{\"sequential\":[[0.0,\"#0d0887\"],[0.1111111111111111,\"#46039f\"],[0.2222222222222222,\"#7201a8\"],[0.3333333333333333,\"#9c179e\"],[0.4444444444444444,\"#bd3786\"],[0.5555555555555556,\"#d8576b\"],[0.6666666666666666,\"#ed7953\"],[0.7777777777777778,\"#fb9f3a\"],[0.8888888888888888,\"#fdca26\"],[1.0,\"#f0f921\"]],\"sequentialminus\":[[0.0,\"#0d0887\"],[0.1111111111111111,\"#46039f\"],[0.2222222222222222,\"#7201a8\"],[0.3333333333333333,\"#9c179e\"],[0.4444444444444444,\"#bd3786\"],[0.5555555555555556,\"#d8576b\"],[0.6666666666666666,\"#ed7953\"],[0.7777777777777778,\"#fb9f3a\"],[0.8888888888888888,\"#fdca26\"],[1.0,\"#f0f921\"]],\"diverging\":[[0,\"#8e0152\"],[0.1,\"#c51b7d\"],[0.2,\"#de77ae\"],[0.3,\"#f1b6da\"],[0.4,\"#fde0ef\"],[0.5,\"#f7f7f7\"],[0.6,\"#e6f5d0\"],[0.7,\"#b8e186\"],[0.8,\"#7fbc41\"],[0.9,\"#4d9221\"],[1,\"#276419\"]]},\"xaxis\":{\"gridcolor\":\"white\",\"linecolor\":\"white\",\"ticks\":\"\",\"title\":{\"standoff\":15},\"zerolinecolor\":\"white\",\"automargin\":true,\"zerolinewidth\":2},\"yaxis\":{\"gridcolor\":\"white\",\"linecolor\":\"white\",\"ticks\":\"\",\"title\":{\"standoff\":15},\"zerolinecolor\":\"white\",\"automargin\":true,\"zerolinewidth\":2},\"scene\":{\"xaxis\":{\"backgroundcolor\":\"#E5ECF6\",\"gridcolor\":\"white\",\"linecolor\":\"white\",\"showbackground\":true,\"ticks\":\"\",\"zerolinecolor\":\"white\",\"gridwidth\":2},\"yaxis\":{\"backgroundcolor\":\"#E5ECF6\",\"gridcolor\":\"white\",\"linecolor\":\"white\",\"showbackground\":true,\"ticks\":\"\",\"zerolinecolor\":\"white\",\"gridwidth\":2},\"zaxis\":{\"backgroundcolor\":\"#E5ECF6\",\"gridcolor\":\"white\",\"linecolor\":\"white\",\"showbackground\":true,\"ticks\":\"\",\"zerolinecolor\":\"white\",\"gridwidth\":2}},\"shapedefaults\":{\"line\":{\"color\":\"#2a3f5f\"}},\"annotationdefaults\":{\"arrowcolor\":\"#2a3f5f\",\"arrowhead\":0,\"arrowwidth\":1},\"geo\":{\"bgcolor\":\"white\",\"landcolor\":\"#E5ECF6\",\"subunitcolor\":\"white\",\"showland\":true,\"showlakes\":true,\"lakecolor\":\"white\"},\"title\":{\"x\":0.05},\"mapbox\":{\"style\":\"light\"}}}},                        {\"responsive\": true}                    ).then(function(){\n",
       "                            \n",
       "var gd = document.getElementById('21abbb48-11b6-491e-8f33-e1fb6f94601a');\n",
       "var x = new MutationObserver(function (mutations, observer) {{\n",
       "        var display = window.getComputedStyle(gd).display;\n",
       "        if (!display || display === 'none') {{\n",
       "            console.log([gd, 'removed!']);\n",
       "            Plotly.purge(gd);\n",
       "            observer.disconnect();\n",
       "        }}\n",
       "}});\n",
       "\n",
       "// Listen for the removal of the full notebook cells\n",
       "var notebookContainer = gd.closest('#notebook-container');\n",
       "if (notebookContainer) {{\n",
       "    x.observe(notebookContainer, {childList: true});\n",
       "}}\n",
       "\n",
       "// Listen for the clearing of the current output cell\n",
       "var outputEl = gd.closest('.output');\n",
       "if (outputEl) {{\n",
       "    x.observe(outputEl, {childList: true});\n",
       "}}\n",
       "\n",
       "                        })                };                });            </script>        </div>"
      ]
     },
     "metadata": {},
     "output_type": "display_data"
    }
   ],
   "source": [
    "# Create a bar trace with Plotly Graph Objects\n",
    "bar_trace = go.Bar(\n",
    "    x=groupedFilmOrderDF['Year'],\n",
    "    y=groupedFilmOrderDF['Film Count'],\n",
    "    marker_color=groupedFilmOrderDF['Order Group'].map(color_map),\n",
    "    name='Film Count',\n",
    ")\n",
    "\n",
    "scatter_trace = go.Scatter(\n",
    "    x=groupedRatingDF['Year'],\n",
    "    y=groupedRatingDF['Average Rating'],\n",
    "    mode='lines+markers',\n",
    "    name='Average Rating',\n",
    "    text=groupedRatingDF['Average Rating'],\n",
    "    yaxis='y2'\n",
    ")\n",
    "\n",
    "layout = go.Layout(\n",
    "    title='Amount of Sequels Released and Average Rating Over Years',\n",
    "    xaxis=dict(title='Year'),\n",
    "    yaxis=dict(title='Number of Films'),\n",
    "    yaxis2=dict(\n",
    "        title='Average Rating',\n",
    "        overlaying='y',\n",
    "        side='right'\n",
    "    ),\n",
    "    legend_title_text='Film Number in Series',\n",
    ")\n",
    "\n",
    "fig = go.Figure(data=[bar_trace, scatter_trace], layout=layout)\n",
    "\n",
    "# Step 9: Show the plot\n",
    "fig.show()"
   ]
  },
  {
   "cell_type": "code",
   "execution_count": null,
   "id": "d7c00fb1-f7e0-4ebb-b910-c07a1a7b68cf",
   "metadata": {},
   "outputs": [],
   "source": []
  }
 ],
 "metadata": {
  "kernelspec": {
   "display_name": "Python 3 (ipykernel)",
   "language": "python",
   "name": "python3"
  },
  "language_info": {
   "codemirror_mode": {
    "name": "ipython",
    "version": 3
   },
   "file_extension": ".py",
   "mimetype": "text/x-python",
   "name": "python",
   "nbconvert_exporter": "python",
   "pygments_lexer": "ipython3",
   "version": "3.11.5"
  }
 },
 "nbformat": 4,
 "nbformat_minor": 5
}
